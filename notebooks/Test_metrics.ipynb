{
 "cells": [
  {
   "cell_type": "markdown",
   "metadata": {},
   "source": [
    "https://arxiv.org/pdf/2211.10295.pdf"
   ]
  },
  {
   "attachments": {},
   "cell_type": "markdown",
   "metadata": {},
   "source": [
    "# 1 Initialize"
   ]
  },
  {
   "cell_type": "code",
   "execution_count": null,
   "metadata": {},
   "outputs": [
    {
     "ename": "",
     "evalue": "",
     "output_type": "error",
     "traceback": [
      "\u001b[1;31mJupyter cannot be started. Error attempting to locate Jupyter: Running cells with 'tf2_12' requires the notebook package.\n",
      "\u001b[1;31mRun the following command to install 'jupyter and notebook' into the Python environment. \n",
      "\u001b[1;31mCommand: 'python -m pip install jupyter notebook -U\n",
      "\u001b[1;31mor\n",
      "\u001b[1;31mconda install jupyter notebook -U'\n",
      "\u001b[1;31mClick <a href='https://aka.ms/installJupyterForVSCode'>here</a> for more info."
     ]
    }
   ],
   "source": [
    "visible_devices = [1]\n",
    "import datetime\n",
    "print(datetime.datetime.now().strftime(\"%Y-%m-%d %H:%M:%S.%f\")+\":\", \"Importing os...\")\n",
    "import os\n",
    "print(datetime.datetime.now().strftime(\"%Y-%m-%d %H:%M:%S.%f\")+\":\", \"Importing sys...\")\n",
    "import sys\n",
    "if not any(\"ipykernel\" in arg for arg in sys.argv):\n",
    "    print(datetime.datetime.now().strftime(\"%Y-%m-%d %H:%M:%S.%f\")+\":\", \"Importing and initializing argparse...\")\n",
    "    import argparse\n",
    "    parser = argparse.ArgumentParser()\n",
    "    parser.add_argument(\"-v\", \"--visible_devices\", help=\"Set visible devices\", nargs='*', type=list, default=visible_devices)\n",
    "    args = parser.parse_args()\n",
    "    visible_devices = args.visible_devices if args.visible_devices else visible_devices\n",
    "    if len(visible_devices) == 0:\n",
    "        visible_devices = int(visible_devices) # type: ignore\n",
    "    elif len(visible_devices) == 1:\n",
    "        if len(visible_devices[0]) == 0: # type: ignore\n",
    "            visible_devices = int(visible_devices[0])\n",
    "        else:\n",
    "            visible_devices = [int(i) for i in visible_devices[0]] # type: ignore\n",
    "    else:\n",
    "        visible_devices = [int(i) for i in visible_devices]\n",
    "print(\"Visible devices:\", visible_devices)\n",
    "print(datetime.datetime.now().strftime(\"%Y-%m-%d %H:%M:%S.%f\")+\":\", \"Importing timer from timeit...\")\n",
    "from timeit import default_timer as timer\n",
    "print(datetime.datetime.now().strftime(\"%Y-%m-%d %H:%M:%S.%f\")+\":\", \"Setting env variables for tf import (only device\", visible_devices, \"will be available)...\")\n",
    "os.environ[\"CUDA_VISIBLE_DEVICES\"] = ','.join([str(i) for i in visible_devices]) # type: ignore\n",
    "os.environ['TF_CPP_MIN_LOG_LEVEL'] = '2'\n",
    "#os.environ['TF_XLA_FLAGS'] = '--tf_xla_enable_xla_devices'\n",
    "#os.environ['TF_XLA_FLAGS'] = '--tf_xla_auto_jit=2'\n",
    "print(datetime.datetime.now().strftime(\"%Y-%m-%d %H:%M:%S.%f\")+\":\", \"Importing numpy...\")\n",
    "import numpy as np\n",
    "print(datetime.datetime.now().strftime(\"%Y-%m-%d %H:%M:%S.%f\")+\":\", \"Importing matplotlib...\")\n",
    "from matplotlib import pyplot as plt\n",
    "print(datetime.datetime.now().strftime(\"%Y-%m-%d %H:%M:%S.%f\")+\":\", \"Importing h5py...\")\n",
    "import h5py\n",
    "print(datetime.datetime.now().strftime(\"%Y-%m-%d %H:%M:%S.%f\")+\":\", \"Importing importlib.util...\")\n",
    "import importlib.util\n",
    "print(datetime.datetime.now().strftime(\"%Y-%m-%d %H:%M:%S.%f\")+\":\", \"Importing json...\")\n",
    "import json\n",
    "print(datetime.datetime.now().strftime(\"%Y-%m-%d %H:%M:%S.%f\")+\":\", \"Importing pandas...\")\n",
    "import pandas as pd\n",
    "print(datetime.datetime.now().strftime(\"%Y-%m-%d %H:%M:%S.%f\")+\":\", \"Importing random...\")\n",
    "import random\n",
    "print(datetime.datetime.now().strftime(\"%Y-%m-%d %H:%M:%S.%f\")+\":\", \"Importing scipy utils...\")\n",
    "from scipy.stats import norm, lognorm, chi2, kstwo, kstwobign, ks_2samp, moment\n",
    "from scipy.special import kolmogorov\n",
    "from scipy.optimize import minimize, curve_fit, root, bisect\n",
    "print(datetime.datetime.now().strftime(\"%Y-%m-%d %H:%M:%S.%f\")+\":\", \"Importing subprocess...\")\n",
    "import subprocess\n",
    "print(datetime.datetime.now().strftime(\"%Y-%m-%d %H:%M:%S.%f\")+\":\", \"Importing tensorflow...\")\n",
    "import tensorflow as tf # type: ignore\n",
    "print(\"Tensorflow version:\", tf.__version__)\n",
    "print(datetime.datetime.now().strftime(\"%Y-%m-%d %H:%M:%S.%f\")+\":\", \"Importing tensorflow_probability...\")\n",
    "import tensorflow_probability as tfp # type: ignore\n",
    "tfd = tfp.distributions\n",
    "print(\"Tensorflow probability version:\", tfp.__version__)\n",
    "print(datetime.datetime.now().strftime(\"%Y-%m-%d %H:%M:%S.%f\")+\":\", \"Importing timeit...\")\n",
    "from timeit import default_timer as timer\n",
    "print(datetime.datetime.now().strftime(\"%Y-%m-%d %H:%M:%S.%f\")+\":\", \"Importing tqdm...\")\n",
    "from tqdm import tqdm\n",
    "print(datetime.datetime.now().strftime(\"%Y-%m-%d %H:%M:%S.%f\")+\":\", \"Importing typing...\")\n",
    "from typing import List, Tuple, Dict, Callable, Union, Optional, Any, Type\n",
    "print(datetime.datetime.now().strftime(\"%Y-%m-%d %H:%M:%S.%f\")+\":\", \"Setting tf configs...\")\n",
    "gpu_devices = tf.config.experimental.list_physical_devices('GPU')\n",
    "for gpu_device in gpu_devices:\n",
    "    tf.config.experimental.set_memory_growth(gpu_device, True)\n",
    "\n",
    "print(datetime.datetime.now().strftime(\"%Y-%m-%d %H:%M:%S.%f\")+\":\", \"Importing GMetrics module...\")\n",
    "\n",
    "sys.path.insert(0,'../utils_func/')\n",
    "import MixtureDistributions # type: ignore\n",
    "\n",
    "sys.path.insert(0,'../')\n",
    "import GMetrics # type: ignore\n",
    "from GMetrics.utils import se_mean, se_std # type: ignore\n",
    "\n",
    "print(datetime.datetime.now().strftime(\"%Y-%m-%d %H:%M:%S.%f\")+\":\", \"Importing jetnet.evaluation.gen_metrics module...\")\n",
    "from jetnet.evaluation import gen_metrics as JMetrics # type: ignore\n",
    "\n",
    "def get_gpu_info():\n",
    "    try:\n",
    "        gpu_info = subprocess.check_output([\"nvidia-smi\", \"--query-gpu=gpu_name\", \"--format=csv,noheader\"]).decode('utf-8')\n",
    "        return gpu_info.strip().split('\\n')\n",
    "    except Exception as e:\n",
    "        print(e)\n",
    "        return None\n",
    "gpu_models = get_gpu_info()\n",
    "if gpu_models:\n",
    "    training_device = gpu_models[eval(os.environ[\"CUDA_VISIBLE_DEVICES\"])]\n",
    "    print(\"Successfully loaded GPU model: {}\".format(training_device))\n",
    "else:\n",
    "    training_device = 'undetermined'\n",
    "    print(\"Failed to load GPU model. Defaulting to 'undetermined'.\")\n",
    "    \n",
    "print(datetime.datetime.now().strftime(\"%Y-%m-%d %H:%M:%S.%f\")+\":\", \"All done.\")"
   ]
  },
  {
   "attachments": {},
   "cell_type": "markdown",
   "metadata": {},
   "source": [
    "# 2.1 Define distribution"
   ]
  },
  {
   "cell_type": "code",
   "execution_count": 2,
   "metadata": {},
   "outputs": [
    {
     "name": "stdout",
     "output_type": "stream",
     "text": [
      "<dtype: 'float64'> <dtype: 'float64'>\n",
      "Types of distributions:  <class 'tensorflow_probability.python.distributions.independent.Independent'> <class 'tensorflow_probability.python.distributions.independent.Independent'>\n",
      "Dtypes of distributions:  <dtype: 'float64'> <dtype: 'float64'>\n",
      "Batch shapes of distributions:  () ()\n",
      "Event shapes of distributions:  (10,) (10,)\n"
     ]
    }
   ],
   "source": [
    "seed = 0\n",
    "ndims = 10\n",
    "epsilon = 0.005\n",
    "GMetrics.utils.reset_random_seeds(seed)\n",
    "loc1 = np.array(np.zeros(ndims,dtype=np.float64),dtype=np.float64)\n",
    "scale1 = np.array(np.ones(ndims,dtype=np.float64),dtype=np.float64)\n",
    "loc2 = np.array(np.random.uniform(-epsilon,epsilon,ndims),dtype=np.float64)\n",
    "scale2 = np.array(np.random.uniform(1-epsilon,1+epsilon,ndims),dtype=np.float64)\n",
    "dist_1 = tfd.Independent(tfp.distributions.Normal(loc=loc1, scale=scale1), reinterpreted_batch_ndims=1)\n",
    "dist_2 = tfd.Independent(tfp.distributions.Normal(loc=loc2, scale=scale2), reinterpreted_batch_ndims=1)\n",
    "print(dist_1.dtype, dist_2.dtype)\n",
    "print('Types of distributions: ', type(dist_1), type(dist_2))\n",
    "print('Dtypes of distributions: ', dist_1.dtype, dist_2.dtype)\n",
    "print('Batch shapes of distributions: ', dist_1.batch_shape, dist_2.batch_shape)\n",
    "print('Event shapes of distributions: ', dist_1.event_shape, dist_2.event_shape)"
   ]
  },
  {
   "cell_type": "code",
   "execution_count": 3,
   "metadata": {},
   "outputs": [],
   "source": [
    "#ncomp = 3\n",
    "#ndims = 10\n",
    "#seed = 0\n",
    "#epsilon = 0.005\n",
    "#loc1 = np.array(np.zeros([ncomp,ndims],dtype=np.float64),dtype=np.float64)\n",
    "#scale1 = np.array(np.ones([ncomp,ndims],dtype=np.float64),dtype=np.float64)\n",
    "#loc2 = np.array(np.random.uniform(-epsilon,epsilon,[ncomp,ndims]),dtype=np.float64)\n",
    "#scale2 = np.array(np.random.uniform(-epsilon,epsilon,[ncomp,ndims]),dtype=np.float64)\n",
    "#comp1 = []\n",
    "#for i in range(ncomp):\n",
    "#    comp1.append(tfd.MultivariateNormalDiag(loc=loc1[i],scale_diag=scale1[i]))\n",
    "#comp2 = []\n",
    "#for i in range(ncomp):\n",
    "#    comp2.append(tfd.MultivariateNormalDiag(loc=loc2[i],scale_diag=scale2[i]))\n",
    "#probs = np.random.sample(ncomp)\n",
    "#dist_1 = tfd.Mixture(\n",
    "#            cat=tfd.Categorical(probs = probs),\n",
    "#            components = comp1,\n",
    "#            validate_args = True)\n",
    "#dist_2 = tfd.Mixture(\n",
    "#            cat=tfd.Categorical(probs = probs),\n",
    "#            components = comp2,\n",
    "#            validate_args = True)\n",
    "#print('Types of distributions: ', type(dist_1), type(dist_2))\n",
    "#print('Dtypes of distributions: ', dist_1.dtype, dist_2.dtype)\n",
    "#print('Batch shapes of distributions: ', dist_1.batch_shape, dist_2.batch_shape)\n",
    "#print('Event shapes of distributions: ', dist_1.event_shape, dist_2.event_shape)"
   ]
  },
  {
   "cell_type": "markdown",
   "metadata": {},
   "source": [
    "# Small samples"
   ]
  },
  {
   "cell_type": "markdown",
   "metadata": {},
   "source": [
    "## Numpy backend\n"
   ]
  },
  {
   "cell_type": "code",
   "execution_count": 4,
   "metadata": {},
   "outputs": [
    {
     "name": "stdout",
     "output_type": "stream",
     "text": [
      "Using numpy mode with TensorFlow inputs.\n",
      "Parsing input distribution...\n",
      "Input distribution is a tfp.distributions.Distribution object.\n",
      "Using numpy mode with TensorFlow inputs.\n",
      "Parsing input distribution...\n",
      "Input distribution is a tfp.distributions.Distribution object.\n",
      "Generating dist_1_num and dist_2_num with tensorflow function.\n",
      "Checking and setting numerical distributions.\n",
      "Setting dist_num from dist_symb.\n"
     ]
    },
    {
     "name": "stdout",
     "output_type": "stream",
     "text": [
      "Setting dist_num from dist_symb.\n",
      "nsamples 600000\n",
      "batch_size 10000\n",
      "niter 60\n",
      "niter * batch_size 600000\n",
      "small_sample True\n"
     ]
    }
   ],
   "source": [
    "TwoSampleTestInputs = GMetrics.TwoSampleTestInputs(dist_1_input = dist_1,\n",
    "                                                   dist_2_input = dist_2,\n",
    "                                                   niter = 60,\n",
    "                                                   batch_size_test = 10_000,\n",
    "                                                   batch_size_gen = 100,\n",
    "                                                   small_sample_threshold = 1e7,\n",
    "                                                   dtype_input = tf.float64,\n",
    "                                                   seed_input = 0,\n",
    "                                                   use_tf = False,\n",
    "                                                   mirror_strategy = False,\n",
    "                                                   verbose = True)\n",
    "print(\"nsamples\",TwoSampleTestInputs.nsamples)\n",
    "print(\"batch_size\",TwoSampleTestInputs.batch_size_test)\n",
    "print(\"niter\",TwoSampleTestInputs.niter)\n",
    "print(\"niter * batch_size\",TwoSampleTestInputs.niter*TwoSampleTestInputs.batch_size_test)\n",
    "print(\"small_sample\",TwoSampleTestInputs.small_sample)"
   ]
  },
  {
   "cell_type": "code",
   "execution_count": 5,
   "metadata": {},
   "outputs": [
    {
     "name": "stdout",
     "output_type": "stream",
     "text": [
      "(600000, 10)\n"
     ]
    },
    {
     "data": {
      "text/plain": [
       "array([[ 0.71485183, -0.10265659, -1.12653662, ...,  0.6962647 ,\n",
       "        -0.74560825, -0.7065898 ],\n",
       "       [ 0.32988316, -1.84786602, -1.87617434, ...,  1.87718347,\n",
       "         1.38581521, -0.27485721],\n",
       "       [-0.74501223,  0.0191554 , -0.60663805, ..., -0.07774937,\n",
       "         1.19084498,  0.86549381],\n",
       "       ...,\n",
       "       [-1.0699562 ,  0.60049175,  1.63871531, ...,  0.053571  ,\n",
       "         1.33265117, -0.05276866],\n",
       "       [-2.06407605, -0.79017413, -0.71623493, ..., -0.04752441,\n",
       "        -1.47180028,  1.18506031],\n",
       "       [-0.97621714,  1.18458474,  1.82076853, ...,  1.0020589 ,\n",
       "        -1.03226671, -0.36630076]])"
      ]
     },
     "execution_count": 5,
     "metadata": {},
     "output_type": "execute_result"
    }
   ],
   "source": [
    "print(TwoSampleTestInputs.dist_1_num.shape)\n",
    "TwoSampleTestInputs.dist_1_num"
   ]
  },
  {
   "cell_type": "code",
   "execution_count": 6,
   "metadata": {},
   "outputs": [
    {
     "name": "stdout",
     "output_type": "stream",
     "text": [
      "(600000, 10)\n"
     ]
    },
    {
     "data": {
      "text/plain": [
       "array([[-0.45894135, -0.32174056,  0.29579242, ..., -0.70901914,\n",
       "         1.09032615, -1.18610042],\n",
       "       [-0.50577605, -1.52055153, -1.08597157, ...,  0.43633271,\n",
       "         0.63975573,  0.82485925],\n",
       "       [ 0.43219534, -0.24758369, -0.14955405, ..., -1.18868113,\n",
       "        -2.09346679,  0.86868804],\n",
       "       ...,\n",
       "       [ 0.64125135, -2.38851535, -1.199628  , ..., -1.38971729,\n",
       "        -1.73347557,  0.8119281 ],\n",
       "       [-1.6085841 ,  0.29055242,  0.81564289, ...,  2.07250986,\n",
       "         0.55235748, -0.67259737],\n",
       "       [ 0.92237169, -0.79592814, -0.30106083, ..., -2.56219424,\n",
       "         0.30464456,  0.67375019]])"
      ]
     },
     "execution_count": 6,
     "metadata": {},
     "output_type": "execute_result"
    }
   ],
   "source": [
    "print(TwoSampleTestInputs.dist_2_num.shape)\n",
    "TwoSampleTestInputs.dist_2_num"
   ]
  },
  {
   "cell_type": "code",
   "execution_count": 7,
   "metadata": {},
   "outputs": [
    {
     "name": "stdout",
     "output_type": "stream",
     "text": [
      "Generating random directions based on nslices, ndims, and seed_slicing.\n",
      "Generating random directions based on nslices, ndims, and seed_slicing.\n"
     ]
    }
   ],
   "source": [
    "FNMetric = GMetrics.FNMetric(TwoSampleTestInputs,\n",
    "                             progress_bar = True,\n",
    "                             verbose = True)\n",
    "FPDMetric = GMetrics.FPDMetric(TwoSampleTestInputs,\n",
    "                               progress_bar = True,\n",
    "                               verbose = True)\n",
    "KPDMetric = GMetrics.KPDMetric(TwoSampleTestInputs,\n",
    "                               progress_bar = True,\n",
    "                               verbose = True)\n",
    "KSTest = GMetrics.KSTest(TwoSampleTestInputs,\n",
    "                         progress_bar = True,\n",
    "                         verbose = True)\n",
    "LRMetric = GMetrics.LRMetric(TwoSampleTestInputs,\n",
    "                             progress_bar = True,\n",
    "                             verbose = True)\n",
    "MultiKSTest = GMetrics.MultiKSTest(TwoSampleTestInputs,\n",
    "                                   progress_bar = True,\n",
    "                                   verbose = True)\n",
    "SKSTest = GMetrics.SKSTest(TwoSampleTestInputs,\n",
    "                           nslices = 100,\n",
    "                           seed_slicing = 0,\n",
    "                           progress_bar = True,\n",
    "                           verbose = True)\n",
    "SWDMetric = GMetrics.SWDMetric(TwoSampleTestInputs,\n",
    "                               nslices = 100,\n",
    "                               seed_slicing = 0,\n",
    "                               progress_bar = True,\n",
    "                               verbose = True)"
   ]
  },
  {
   "cell_type": "markdown",
   "metadata": {},
   "source": [
    "### FN Test"
   ]
  },
  {
   "cell_type": "code",
   "execution_count": 8,
   "metadata": {},
   "outputs": [
    {
     "name": "stdout",
     "output_type": "stream",
     "text": [
      "\n",
      "------------------------------------------\n",
      "Starting FN metric calculation...\n",
      "niter = 10\n",
      "batch_size = 10000\n"
     ]
    },
    {
     "name": "stderr",
     "output_type": "stream",
     "text": [
      "Iterations: 100%|██████████| 10/10 [00:00<00:00, 644.10it/s]"
     ]
    },
    {
     "name": "stdout",
     "output_type": "stream",
     "text": [
      "Running numpy FN calculation...\n",
      "Two-sample test calculation completed in 0.019357786048203707 seconds.\n"
     ]
    },
    {
     "name": "stderr",
     "output_type": "stream",
     "text": [
      "\n"
     ]
    },
    {
     "data": {
      "text/plain": [
       "{'metric_list': array([0.06381937, 0.08351717, 0.06816056, 0.0653649 , 0.06554995,\n",
       "        0.04301747, 0.08694649, 0.06473251, 0.03918382, 0.05991245])}"
      ]
     },
     "execution_count": 8,
     "metadata": {},
     "output_type": "execute_result"
    }
   ],
   "source": [
    "FNMetric.Test_np()\n",
    "FNMetric.Results[-1].result_value"
   ]
  },
  {
   "cell_type": "markdown",
   "metadata": {},
   "source": [
    "### FPD Test"
   ]
  },
  {
   "cell_type": "code",
   "execution_count": 14,
   "metadata": {},
   "outputs": [
    {
     "name": "stdout",
     "output_type": "stream",
     "text": [
      "\n",
      "------------------------------------------\n",
      "Starting FPD metric calculation...\n",
      "niter = 50\n",
      "batch_size = 10000\n"
     ]
    },
    {
     "name": "stderr",
     "output_type": "stream",
     "text": [
      "Iterations:   0%|          | 0/50 [00:00<?, ?it/s]"
     ]
    },
    {
     "name": "stdout",
     "output_type": "stream",
     "text": [
      "Running numpy FPD calculation...\n"
     ]
    },
    {
     "name": "stderr",
     "output_type": "stream",
     "text": [
      "/local_data/scratch/rtorre/anaconda3/envs/tf2_12/lib/python3.10/site-packages/jetnet/evaluation/gen_metrics.py:692: RuntimeWarning: Recommended number of samples for FPD estimation is 50,000\n",
      "  warnings.warn(\"Recommended number of samples for FPD estimation is 50,000\", RuntimeWarning)\n",
      "Iterations: 100%|██████████| 50/50 [01:13<00:00,  1.48s/it]"
     ]
    },
    {
     "name": "stdout",
     "output_type": "stream",
     "text": [
      "Two-sample test calculation completed in 73.96762272622436 seconds.\n"
     ]
    },
    {
     "name": "stderr",
     "output_type": "stream",
     "text": [
      "\n"
     ]
    },
    {
     "data": {
      "text/plain": [
       "{'metric_list': array([0.00059462, 0.00053794, 0.00040956, 0.00064115, 0.00080315,\n",
       "        0.00070297, 0.00049225, 0.00053261, 0.00047138, 0.00053657,\n",
       "        0.00052496, 0.00056957, 0.00052007, 0.00058059, 0.00051315,\n",
       "        0.00053657, 0.0005367 , 0.00048323, 0.00064603, 0.00047729,\n",
       "        0.00046198, 0.00067001, 0.00052703, 0.00064577, 0.00060665,\n",
       "        0.00051659, 0.00061184, 0.00068384, 0.00068339, 0.00070991,\n",
       "        0.00081032, 0.0005947 , 0.00060446, 0.00087497, 0.00083115,\n",
       "        0.00055821, 0.00067274, 0.00058977, 0.00070849, 0.00054938,\n",
       "        0.00057666, 0.00063016, 0.00055271, 0.00054565, 0.00063727,\n",
       "        0.00049313, 0.00051098, 0.00059691, 0.00063618, 0.00070682]),\n",
       " 'metric_error_list': array([3.56198377e-05, 5.39869287e-05, 6.74936681e-05, 5.50909118e-05,\n",
       "        5.87129561e-05, 3.60945411e-05, 4.31497924e-05, 4.32694541e-05,\n",
       "        3.18269884e-05, 4.41094123e-05, 4.84271857e-05, 4.92312631e-05,\n",
       "        4.43241476e-05, 3.20262903e-05, 4.68172734e-05, 4.96849608e-05,\n",
       "        5.19523587e-05, 3.63340460e-05, 5.39470997e-05, 4.24793286e-05,\n",
       "        3.53126243e-05, 4.48063928e-05, 5.82953200e-05, 4.91648863e-05,\n",
       "        4.69335238e-05, 4.23185037e-05, 3.66722207e-05, 4.72826854e-05,\n",
       "        4.75247258e-05, 3.52605776e-05, 7.40015731e-05, 4.73602948e-05,\n",
       "        5.73608219e-05, 7.31147287e-05, 5.20708117e-05, 5.08989967e-05,\n",
       "        3.13953777e-05, 4.07650987e-05, 5.76985708e-05, 4.07834001e-05,\n",
       "        4.01218313e-05, 3.78447263e-05, 3.55976979e-05, 3.51567689e-05,\n",
       "        4.95266802e-05, 6.07017124e-05, 4.24271765e-05, 5.17352373e-05,\n",
       "        6.03116564e-05, 4.89153020e-05])}"
      ]
     },
     "execution_count": 14,
     "metadata": {},
     "output_type": "execute_result"
    }
   ],
   "source": [
    "FPDMetric.Test_np()\n",
    "FPDMetric.Results[-1].result_value"
   ]
  },
  {
   "cell_type": "markdown",
   "metadata": {},
   "source": [
    "### KPD Test"
   ]
  },
  {
   "cell_type": "code",
   "execution_count": 15,
   "metadata": {},
   "outputs": [
    {
     "name": "stdout",
     "output_type": "stream",
     "text": [
      "\n",
      "------------------------------------------\n",
      "Starting KPD metric calculation...\n",
      "niter = 50\n",
      "batch_size = 10000\n"
     ]
    },
    {
     "name": "stderr",
     "output_type": "stream",
     "text": [
      "Iterations:   0%|          | 0/50 [00:00<?, ?it/s]"
     ]
    },
    {
     "name": "stdout",
     "output_type": "stream",
     "text": [
      "Running numpy KPD calculation...\n"
     ]
    },
    {
     "name": "stderr",
     "output_type": "stream",
     "text": [
      "Iterations: 100%|██████████| 50/50 [06:24<00:00,  7.69s/it]"
     ]
    },
    {
     "name": "stdout",
     "output_type": "stream",
     "text": [
      "Two-sample test calculation completed in 384.6957740802318 seconds.\n"
     ]
    },
    {
     "name": "stderr",
     "output_type": "stream",
     "text": [
      "\n"
     ]
    },
    {
     "data": {
      "text/plain": [
       "{'metric_list': array([ 4.32031227e-05,  8.26072666e-05,  1.22972332e-05,  3.64633557e-05,\n",
       "         5.02345938e-05,  9.18118753e-05,  1.56355114e-05,  2.10206197e-05,\n",
       "         6.38994689e-05,  3.49118030e-05,  3.37585205e-05,  7.53087457e-05,\n",
       "         1.10760533e-05,  1.30421198e-05,  1.60110365e-05,  5.22596257e-05,\n",
       "         5.81810802e-05,  5.12988683e-05, -3.38207461e-07,  4.17953762e-05,\n",
       "         5.86508462e-06,  1.90541722e-05,  2.98514123e-05,  1.75193364e-05,\n",
       "         6.02353326e-05,  2.06102627e-05,  2.07162696e-05,  2.15602384e-05,\n",
       "         6.72583692e-05,  7.37307378e-05,  3.30799464e-05,  6.07437586e-05,\n",
       "         1.17971418e-06,  1.16706598e-04,  1.11684587e-04,  1.44129106e-04,\n",
       "         7.37898218e-05,  3.37431195e-05,  8.02723360e-05,  2.67154935e-05,\n",
       "         2.03227416e-05,  8.15390440e-05,  3.93504484e-05,  6.10074052e-05,\n",
       "         2.29975252e-05,  1.64389315e-05,  3.14678058e-05,  6.47265832e-05,\n",
       "         6.13400822e-05,  8.60206652e-05]),\n",
       " 'metric_error_list': array([4.75822108e-05, 3.48552985e-05, 4.10245606e-05, 4.76506904e-05,\n",
       "        4.06613533e-05, 8.98146393e-05, 3.38700650e-05, 4.79328624e-05,\n",
       "        5.64489334e-05, 5.68858150e-05, 3.06898278e-05, 5.53857212e-05,\n",
       "        4.92035066e-05, 7.01614762e-05, 2.64398965e-05, 4.07835453e-05,\n",
       "        5.23972952e-05, 5.63048645e-05, 5.34947961e-05, 5.00865594e-05,\n",
       "        6.11090291e-05, 5.80476532e-05, 4.85060403e-05, 6.75765633e-05,\n",
       "        6.50762846e-05, 3.42051835e-05, 5.84135203e-05, 5.22566986e-05,\n",
       "        8.51105236e-05, 3.20073716e-05, 5.13377287e-05, 2.53033978e-05,\n",
       "        6.75180552e-05, 5.55384827e-05, 6.46073130e-05, 7.17753835e-05,\n",
       "        6.82801639e-05, 5.08132058e-05, 5.94873070e-05, 4.19310721e-05,\n",
       "        3.99926503e-05, 3.74953788e-05, 7.39741504e-05, 2.67463278e-05,\n",
       "        4.74145539e-05, 4.84246609e-05, 5.20519013e-05, 3.82349785e-05,\n",
       "        4.62681895e-05, 5.87007793e-05])}"
      ]
     },
     "execution_count": 15,
     "metadata": {},
     "output_type": "execute_result"
    }
   ],
   "source": [
    "KPDMetric.Test_np()\n",
    "KPDMetric.Results[-1].result_value"
   ]
  },
  {
   "cell_type": "markdown",
   "metadata": {},
   "source": [
    "### KS Test"
   ]
  },
  {
   "cell_type": "code",
   "execution_count": 9,
   "metadata": {},
   "outputs": [
    {
     "name": "stdout",
     "output_type": "stream",
     "text": [
      "\n",
      "------------------------------------------\n",
      "Starting KS tests calculation...\n",
      "niter = 10\n",
      "batch_size = 10000\n"
     ]
    },
    {
     "name": "stderr",
     "output_type": "stream",
     "text": [
      "Iterations:   0%|          | 0/10 [00:00<?, ?it/s]"
     ]
    },
    {
     "name": "stdout",
     "output_type": "stream",
     "text": [
      "Running numpy KS tests...\n"
     ]
    },
    {
     "name": "stderr",
     "output_type": "stream",
     "text": [
      "Iterations: 100%|██████████| 10/10 [00:00<00:00, 45.58it/s]"
     ]
    },
    {
     "name": "stdout",
     "output_type": "stream",
     "text": [
      "Two-sample test calculation completed in 0.22124550910666585 seconds.\n"
     ]
    },
    {
     "name": "stderr",
     "output_type": "stream",
     "text": [
      "\n"
     ]
    },
    {
     "data": {
      "text/plain": [
       "{'statistic_lists': array([[0.0134, 0.0132, 0.0187, 0.0096, 0.013 ],\n",
       "        [0.0096, 0.007 , 0.0207, 0.0158, 0.0141],\n",
       "        [0.0074, 0.0114, 0.0119, 0.0207, 0.0136],\n",
       "        [0.0076, 0.0155, 0.0091, 0.02  , 0.0156],\n",
       "        [0.0053, 0.0104, 0.009 , 0.0077, 0.0094],\n",
       "        [0.0168, 0.0079, 0.009 , 0.0088, 0.0144],\n",
       "        [0.0122, 0.0154, 0.0121, 0.0083, 0.0149],\n",
       "        [0.0136, 0.0076, 0.0099, 0.014 , 0.0148],\n",
       "        [0.0087, 0.0117, 0.0093, 0.0137, 0.0142],\n",
       "        [0.0082, 0.0123, 0.013 , 0.0085, 0.0174]]),\n",
       " 'statistic_means': array([0.01358, 0.01344, 0.013  , 0.01356, 0.00836, 0.01138, 0.01258,\n",
       "        0.01198, 0.01152, 0.01188]),\n",
       " 'statistic_stds': array([0.00291781, 0.00479441, 0.00435385, 0.00457847, 0.00175795,\n",
       "        0.00354762, 0.00253093, 0.0027629 , 0.00222926, 0.00337248]),\n",
       " 'pvalue_lists': array([[0.33054885, 0.34833322, 0.06057885, 0.74616591, 0.36673568],\n",
       "        [0.74616591, 0.967082  , 0.0275474 , 0.16467352, 0.27321683],\n",
       "        [0.94711071, 0.53426967, 0.47840834, 0.0275474 , 0.31338762],\n",
       "        [0.93492137, 0.18085325, 0.80208267, 0.03662861, 0.17532668],\n",
       "        [0.99897678, 0.65181935, 0.81277492, 0.92827958, 0.76896157],\n",
       "        [0.11890215, 0.91392605, 0.81277492, 0.83354351, 0.25097327],\n",
       "        [0.44629562, 0.18651559, 0.45687177, 0.88116427, 0.21692483],\n",
       "        [0.31338762, 0.93492137, 0.71120264, 0.28093962, 0.2234376 ],\n",
       "        [0.84358893, 0.50042756, 0.78016037, 0.30504141, 0.2656487 ],\n",
       "        [0.88983681, 0.43585275, 0.36673568, 0.86292662, 0.09685235]]),\n",
       " 'pvalue_means': array([0.3704725 , 0.43573713, 0.46014475, 0.42596251, 0.83216244,\n",
       "        0.58602398, 0.43755442, 0.49277777, 0.5389734 , 0.53044084]),\n",
       " 'pvalue_stds': array([0.21875905, 0.35922154, 0.30054684, 0.3674189 , 0.12162186,\n",
       "        0.33186246, 0.24857078, 0.28028583, 0.23743552, 0.30445279])}"
      ]
     },
     "execution_count": 9,
     "metadata": {},
     "output_type": "execute_result"
    }
   ],
   "source": [
    "KSTest.Test_np()\n",
    "KSTest.Results[-1].result_value"
   ]
  },
  {
   "cell_type": "markdown",
   "metadata": {},
   "source": [
    "### LR Test"
   ]
  },
  {
   "cell_type": "code",
   "execution_count": 9,
   "metadata": {},
   "outputs": [
    {
     "name": "stdout",
     "output_type": "stream",
     "text": [
      "\n",
      "------------------------------------------\n",
      "Starting LR metric calculation...\n",
      "niter = 60\n",
      "batch_size = 10000\n"
     ]
    },
    {
     "name": "stderr",
     "output_type": "stream",
     "text": [
      "Iterations:  10%|█         | 6/60 [00:00<00:00, 56.08it/s]"
     ]
    },
    {
     "name": "stdout",
     "output_type": "stream",
     "text": [
      "Running numpy LR calculation...\n"
     ]
    },
    {
     "name": "stderr",
     "output_type": "stream",
     "text": [
      "Iterations: 100%|██████████| 60/60 [00:00<00:00, 141.40it/s]"
     ]
    },
    {
     "name": "stdout",
     "output_type": "stream",
     "text": [
      "Two-sample test calculation completed in 0.4295038692653179 seconds.\n"
     ]
    },
    {
     "name": "stderr",
     "output_type": "stream",
     "text": [
      "\n"
     ]
    },
    {
     "data": {
      "text/plain": [
       "{'logprob_ref_ref_sum_list': array([-142103.78968538, -142074.16451306, -141806.1244319 ,\n",
       "        -141814.13429209, -141827.50692153, -141914.78736572,\n",
       "        -141784.2595698 , -141927.90295817, -141960.80694134,\n",
       "        -142077.3922252 , -141675.53663609, -141568.6383356 ,\n",
       "        -142260.01001469, -141755.84508368, -142220.49963952,\n",
       "        -141848.96993428, -142088.05443493, -141508.33800807,\n",
       "        -141852.8478124 , -141840.17635951, -142117.5500106 ,\n",
       "        -141986.83058921, -141409.66825005, -141474.55550333,\n",
       "        -141580.45816865, -141908.57730732, -142184.56845857,\n",
       "        -142391.04309727, -141852.1139745 , -141494.573108  ,\n",
       "        -141669.07523676, -141655.01412501, -141517.79222369,\n",
       "        -141200.48071813, -141869.82391378, -141907.13832742,\n",
       "        -142279.49082403, -141513.65514788, -141703.89865503,\n",
       "        -141731.94133253, -142041.34782309, -141991.17144497,\n",
       "        -141485.39676367, -142040.2481992 , -141473.24553477,\n",
       "        -142194.35748645, -141740.18153291, -141977.61042053,\n",
       "        -141647.8552071 , -141918.96091873, -141705.25409652,\n",
       "        -141769.82476783, -141892.96923367, -142275.45937686,\n",
       "        -142303.9505257 , -141924.87765926, -141771.47507883,\n",
       "        -142224.84651728, -141900.38130996, -141853.71092004]),\n",
       " 'logprob_ref_alt_sum_list': array([-141870.9371078 , -142446.45845472, -141577.8101415 ,\n",
       "        -142044.78559403, -141826.71710063, -142430.65083709,\n",
       "        -141738.27547521, -141884.81061094, -142100.99404603,\n",
       "        -141829.38917863, -141593.29485666, -142080.29314451,\n",
       "        -141685.98086022, -141897.48197559, -142247.55467876,\n",
       "        -141643.83838727, -142027.6890966 , -142072.79503843,\n",
       "        -142088.74464415, -142079.22271505, -141974.13359979,\n",
       "        -141967.09377935, -142148.18588395, -141932.83045398,\n",
       "        -141625.43882227, -142061.91745557, -141643.70318744,\n",
       "        -142089.83595241, -141628.23428559, -142099.26977222,\n",
       "        -141907.40447569, -141964.85424382, -142418.31198481,\n",
       "        -142038.57674171, -141851.28129803, -141663.11157288,\n",
       "        -142234.15534766, -141944.71563135, -142105.58819374,\n",
       "        -142006.25278493, -141980.40733544, -141915.19305341,\n",
       "        -142438.16024973, -142371.46936717, -142087.30329741,\n",
       "        -141785.65164859, -141913.7549263 , -141877.07541025,\n",
       "        -141703.98836547, -141857.85925143, -142121.17555698,\n",
       "        -141618.00327728, -141857.34640256, -142141.57516154,\n",
       "        -142049.14150241, -142102.93856966, -141657.58382392,\n",
       "        -141748.44117087, -141828.55115532, -141649.33852899]),\n",
       " 'logprob_alt_alt_sum_list': array([-141867.97028249, -142442.77183497, -141577.6347046 ,\n",
       "        -142044.01081384, -141826.34386574, -142428.77113798,\n",
       "        -141738.14749561, -141883.91752222, -142100.91476565,\n",
       "        -141826.87623665, -141589.3611126 , -142076.72630933,\n",
       "        -141681.8639302 , -141894.71137308, -142249.13611894,\n",
       "        -141640.80796449, -142027.97335616, -142069.76076159,\n",
       "        -142088.31256308, -142077.15162365, -141974.2282508 ,\n",
       "        -141964.81885257, -142142.6846382 , -141931.210623  ,\n",
       "        -141625.70604787, -142061.6248782 , -141643.39778395,\n",
       "        -142089.70253488, -141626.43568512, -142096.67210063,\n",
       "        -141905.39662147, -141963.21166708, -142414.5076635 ,\n",
       "        -142035.7448925 , -141849.05188984, -141664.35840907,\n",
       "        -142235.24261882, -141944.33547772, -142104.53230363,\n",
       "        -142005.69769902, -141978.25898572, -141914.0368118 ,\n",
       "        -142434.78196259, -142368.85754297, -142088.71277054,\n",
       "        -141784.49132651, -141912.19236349, -141874.1385    ,\n",
       "        -141700.46249291, -141857.32332198, -142120.2775791 ,\n",
       "        -141616.10238938, -141856.15949882, -142137.24411795,\n",
       "        -142047.88109434, -142104.10709977, -141656.83479523,\n",
       "        -141746.54747724, -141827.87422296, -141648.08047052]),\n",
       " 'lik_ratio_list': array([ 5.93365062,  7.3732395 ,  0.35087379,  1.54956038,  0.74646977,\n",
       "         3.75939823,  0.25595919,  1.78617744,  0.15856077,  5.02588396,\n",
       "         7.86748811,  7.13367037,  8.23386005,  5.541205  , -3.16288037,\n",
       "         6.06084557, -0.56851914,  6.06855368,  0.86416214,  4.14218279,\n",
       "        -0.18930203,  4.54985356, 11.00249149,  3.23966195, -0.5344512 ,\n",
       "         0.58515474,  0.61080697,  0.26683505,  3.59720095,  5.19534318,\n",
       "         4.01570845,  3.28515348,  7.60864262,  5.66369842,  4.45881638,\n",
       "        -2.49367238, -2.17454232,  0.76030727,  2.11178022,  1.11017181,\n",
       "         4.29669945,  2.31248322,  6.75657428,  5.2236484 , -2.81894626,\n",
       "         2.32064415,  3.12512562,  5.87382051,  7.05174512,  1.07185891,\n",
       "         1.79595576,  3.80177579,  2.37380749,  8.66208717,  2.52081614,\n",
       "        -2.33706023,  1.49805737,  3.78738726,  1.35386471,  2.51611693]),\n",
       " 'lik_ratio_norm_list': array([ 0.05933651,  0.07373239,  0.00350874,  0.0154956 ,  0.0074647 ,\n",
       "         0.03759398,  0.00255959,  0.01786177,  0.00158561,  0.05025884,\n",
       "         0.07867488,  0.0713367 ,  0.0823386 ,  0.05541205, -0.0316288 ,\n",
       "         0.06060846, -0.00568519,  0.06068554,  0.00864162,  0.04142183,\n",
       "        -0.00189302,  0.04549854,  0.11002491,  0.03239662, -0.00534451,\n",
       "         0.00585155,  0.00610807,  0.00266835,  0.03597201,  0.05195343,\n",
       "         0.04015708,  0.03285153,  0.07608643,  0.05663698,  0.04458816,\n",
       "        -0.02493672, -0.02174542,  0.00760307,  0.0211178 ,  0.01110172,\n",
       "         0.04296699,  0.02312483,  0.06756574,  0.05223648, -0.02818946,\n",
       "         0.02320644,  0.03125126,  0.05873821,  0.07051745,  0.01071859,\n",
       "         0.01795956,  0.03801776,  0.02373807,  0.08662087,  0.02520816,\n",
       "        -0.0233706 ,  0.01498057,  0.03787387,  0.01353865,  0.02516117])}"
      ]
     },
     "execution_count": 9,
     "metadata": {},
     "output_type": "execute_result"
    }
   ],
   "source": [
    "LRMetric.Test_np()\n",
    "LRMetric.Results[-1].result_value"
   ]
  },
  {
   "cell_type": "markdown",
   "metadata": {},
   "source": [
    "### MultiKS Test"
   ]
  },
  {
   "cell_type": "code",
   "execution_count": 11,
   "metadata": {},
   "outputs": [
    {
     "name": "stdout",
     "output_type": "stream",
     "text": [
      "\n",
      "------------------------------------------\n",
      "Starting MultiKS tests calculation...\n",
      "niter = 10\n",
      "batch_size = 10000\n"
     ]
    },
    {
     "name": "stderr",
     "output_type": "stream",
     "text": [
      "Iterations:   0%|          | 0/10 [00:00<?, ?it/s]"
     ]
    },
    {
     "name": "stdout",
     "output_type": "stream",
     "text": [
      "Running numpy MultiKS tests...\n"
     ]
    },
    {
     "name": "stderr",
     "output_type": "stream",
     "text": [
      "Iterations: 100%|██████████| 10/10 [02:03<00:00, 12.36s/it]"
     ]
    },
    {
     "name": "stdout",
     "output_type": "stream",
     "text": [
      "Two-sample test calculation completed in 123.55370635166764 seconds.\n"
     ]
    },
    {
     "name": "stderr",
     "output_type": "stream",
     "text": [
      "\n"
     ]
    },
    {
     "data": {
      "text/plain": [
       "{'metric_list': array([0.0163, 0.0186, 0.0203, 0.0233, 0.0152, 0.0154, 0.0199, 0.0168,\n",
       "        0.0188, 0.0132])}"
      ]
     },
     "execution_count": 11,
     "metadata": {},
     "output_type": "execute_result"
    }
   ],
   "source": [
    "MultiKSTest.Test_np()\n",
    "MultiKSTest.Results[-1].result_value"
   ]
  },
  {
   "cell_type": "markdown",
   "metadata": {},
   "source": [
    "### SKS Test"
   ]
  },
  {
   "cell_type": "code",
   "execution_count": 24,
   "metadata": {},
   "outputs": [
    {
     "name": "stdout",
     "output_type": "stream",
     "text": [
      "\n",
      "------------------------------------------\n",
      "Starting SKS metric calculation...\n",
      "niter = 10\n",
      "batch_size = 10000\n"
     ]
    },
    {
     "name": "stderr",
     "output_type": "stream",
     "text": [
      "Iterations:   0%|          | 0/10 [00:00<?, ?it/s]"
     ]
    },
    {
     "name": "stdout",
     "output_type": "stream",
     "text": [
      "Running numpy SKS calculation...\n"
     ]
    },
    {
     "name": "stderr",
     "output_type": "stream",
     "text": [
      "Iterations: 100%|██████████| 10/10 [00:05<00:00,  1.73it/s]"
     ]
    },
    {
     "name": "stdout",
     "output_type": "stream",
     "text": [
      "Two-sample test calculation completed in 5.788840969093144 seconds.\n"
     ]
    },
    {
     "name": "stderr",
     "output_type": "stream",
     "text": [
      "\n"
     ]
    },
    {
     "data": {
      "text/plain": [
       "{'metric_lists': array([[0.0151, 0.0117, 0.0156, 0.009 , 0.0122, 0.0081, 0.009 , 0.0193,\n",
       "         0.013 , 0.009 , 0.0074, 0.0105, 0.0096, 0.0134, 0.0123, 0.0153,\n",
       "         0.0148, 0.0148, 0.0145, 0.0142, 0.0154, 0.0087, 0.0081, 0.0184,\n",
       "         0.0139, 0.0119, 0.0124, 0.0085, 0.0119, 0.0095, 0.0101, 0.0083,\n",
       "         0.0135, 0.0167, 0.0139, 0.0132, 0.0137, 0.0086, 0.0057, 0.0128,\n",
       "         0.0148, 0.0127, 0.012 , 0.0081, 0.017 , 0.011 , 0.0133, 0.0074,\n",
       "         0.0236, 0.013 , 0.0088, 0.0107, 0.0208, 0.0145, 0.0123, 0.0147,\n",
       "         0.0084, 0.0083, 0.0113, 0.0113, 0.0128, 0.0137, 0.0093, 0.0255,\n",
       "         0.0147, 0.0176, 0.012 , 0.0082, 0.0109, 0.0077, 0.0095, 0.0159,\n",
       "         0.0126, 0.0171, 0.0087, 0.0065, 0.0101, 0.0115, 0.01  , 0.0148,\n",
       "         0.0175, 0.0076, 0.0099, 0.0141, 0.0129, 0.0077, 0.0141, 0.0128,\n",
       "         0.0093, 0.01  , 0.0116, 0.0143, 0.0165, 0.009 , 0.0066, 0.0151,\n",
       "         0.0136, 0.0095, 0.0116, 0.0132],\n",
       "        [0.013 , 0.0091, 0.016 , 0.0083, 0.0087, 0.0095, 0.0159, 0.0146,\n",
       "         0.0116, 0.0102, 0.0222, 0.0086, 0.0201, 0.0102, 0.0109, 0.0184,\n",
       "         0.0088, 0.0094, 0.0164, 0.02  , 0.014 , 0.0095, 0.0112, 0.0104,\n",
       "         0.0178, 0.0177, 0.0173, 0.0135, 0.0125, 0.0088, 0.0137, 0.0178,\n",
       "         0.0153, 0.0132, 0.0097, 0.0174, 0.0234, 0.0104, 0.0186, 0.0125,\n",
       "         0.0154, 0.0149, 0.0114, 0.0172, 0.0108, 0.0091, 0.013 , 0.0135,\n",
       "         0.0128, 0.0132, 0.0083, 0.0257, 0.0116, 0.0056, 0.0153, 0.0173,\n",
       "         0.0092, 0.016 , 0.0156, 0.0178, 0.0148, 0.0124, 0.0149, 0.0161,\n",
       "         0.0092, 0.0157, 0.0087, 0.0092, 0.0151, 0.0116, 0.0153, 0.0161,\n",
       "         0.021 , 0.01  , 0.0127, 0.0163, 0.0197, 0.0111, 0.0131, 0.0149,\n",
       "         0.0137, 0.0075, 0.01  , 0.0116, 0.0154, 0.0187, 0.0165, 0.0158,\n",
       "         0.0092, 0.0209, 0.013 , 0.0155, 0.0137, 0.0114, 0.0156, 0.0154,\n",
       "         0.0156, 0.0091, 0.0089, 0.0209],\n",
       "        [0.0121, 0.0134, 0.011 , 0.0135, 0.0116, 0.014 , 0.0185, 0.0086,\n",
       "         0.0129, 0.0169, 0.0127, 0.0164, 0.0169, 0.0158, 0.0161, 0.0108,\n",
       "         0.0123, 0.0137, 0.0143, 0.0132, 0.0096, 0.0091, 0.0162, 0.0105,\n",
       "         0.0136, 0.012 , 0.0131, 0.0189, 0.0071, 0.019 , 0.011 , 0.01  ,\n",
       "         0.0134, 0.0144, 0.0085, 0.0144, 0.0182, 0.0143, 0.015 , 0.0165,\n",
       "         0.0179, 0.0113, 0.0077, 0.0214, 0.012 , 0.0166, 0.0183, 0.0125,\n",
       "         0.0093, 0.0095, 0.0175, 0.0203, 0.0092, 0.011 , 0.0103, 0.0176,\n",
       "         0.0193, 0.011 , 0.0128, 0.0124, 0.0154, 0.0111, 0.0095, 0.0131,\n",
       "         0.014 , 0.0156, 0.01  , 0.0156, 0.0164, 0.0145, 0.012 , 0.0135,\n",
       "         0.0092, 0.0098, 0.0144, 0.0087, 0.0095, 0.0157, 0.0213, 0.0187,\n",
       "         0.0098, 0.011 , 0.008 , 0.0093, 0.015 , 0.0086, 0.007 , 0.0129,\n",
       "         0.0102, 0.0167, 0.0181, 0.0112, 0.0073, 0.0168, 0.0106, 0.0132,\n",
       "         0.0106, 0.0136, 0.0155, 0.0145],\n",
       "        [0.0098, 0.016 , 0.0183, 0.0137, 0.0107, 0.0122, 0.0146, 0.0161,\n",
       "         0.0181, 0.0107, 0.0102, 0.0175, 0.0154, 0.0162, 0.0141, 0.0171,\n",
       "         0.0106, 0.0145, 0.0121, 0.0117, 0.0104, 0.0114, 0.0101, 0.0146,\n",
       "         0.0133, 0.0077, 0.0099, 0.0122, 0.0067, 0.0109, 0.0188, 0.0163,\n",
       "         0.0164, 0.0149, 0.0118, 0.0092, 0.0129, 0.0108, 0.0096, 0.013 ,\n",
       "         0.01  , 0.0112, 0.011 , 0.0143, 0.0145, 0.0172, 0.0143, 0.0102,\n",
       "         0.0129, 0.0135, 0.0155, 0.0103, 0.0125, 0.023 , 0.0146, 0.0099,\n",
       "         0.0093, 0.0172, 0.0091, 0.0109, 0.0169, 0.0208, 0.0154, 0.0116,\n",
       "         0.0098, 0.0148, 0.0064, 0.0135, 0.011 , 0.0171, 0.0116, 0.0136,\n",
       "         0.0054, 0.0065, 0.012 , 0.0099, 0.0069, 0.018 , 0.0196, 0.0082,\n",
       "         0.007 , 0.0152, 0.0096, 0.0105, 0.007 , 0.0073, 0.0155, 0.009 ,\n",
       "         0.0161, 0.0125, 0.0086, 0.0071, 0.0186, 0.0113, 0.0092, 0.0079,\n",
       "         0.015 , 0.0105, 0.0123, 0.0098],\n",
       "        [0.0081, 0.0089, 0.0072, 0.0172, 0.0083, 0.0081, 0.0105, 0.011 ,\n",
       "         0.0099, 0.0125, 0.0089, 0.0083, 0.0104, 0.0128, 0.0121, 0.0131,\n",
       "         0.01  , 0.0106, 0.014 , 0.0083, 0.0129, 0.0109, 0.0143, 0.0086,\n",
       "         0.0095, 0.0093, 0.0123, 0.015 , 0.0079, 0.0125, 0.0085, 0.0103,\n",
       "         0.0058, 0.0127, 0.0082, 0.0093, 0.0091, 0.013 , 0.0108, 0.011 ,\n",
       "         0.0094, 0.0106, 0.0069, 0.0068, 0.0107, 0.0092, 0.0152, 0.0147,\n",
       "         0.0077, 0.0126, 0.0114, 0.0084, 0.0145, 0.0076, 0.0117, 0.0085,\n",
       "         0.0129, 0.015 , 0.0135, 0.0129, 0.0068, 0.0127, 0.009 , 0.0059,\n",
       "         0.0098, 0.0105, 0.0118, 0.0108, 0.009 , 0.0063, 0.0143, 0.0108,\n",
       "         0.0126, 0.0111, 0.013 , 0.015 , 0.0078, 0.0115, 0.0101, 0.0112,\n",
       "         0.0138, 0.0144, 0.0062, 0.0094, 0.0139, 0.0123, 0.0139, 0.0113,\n",
       "         0.0141, 0.0076, 0.0069, 0.0093, 0.008 , 0.0097, 0.0097, 0.0135,\n",
       "         0.0124, 0.007 , 0.0077, 0.0071],\n",
       "        [0.009 , 0.013 , 0.0141, 0.011 , 0.0178, 0.0194, 0.0119, 0.0143,\n",
       "         0.0119, 0.0103, 0.0095, 0.0151, 0.009 , 0.0083, 0.0116, 0.0183,\n",
       "         0.0135, 0.0114, 0.0104, 0.0127, 0.0149, 0.0113, 0.0178, 0.0113,\n",
       "         0.0116, 0.0088, 0.0143, 0.0198, 0.0242, 0.0132, 0.0106, 0.0073,\n",
       "         0.0079, 0.0084, 0.0178, 0.0105, 0.0098, 0.0172, 0.0136, 0.0105,\n",
       "         0.0109, 0.0222, 0.0169, 0.0108, 0.0115, 0.0171, 0.0123, 0.0103,\n",
       "         0.0117, 0.0069, 0.0087, 0.006 , 0.0098, 0.0111, 0.0112, 0.0166,\n",
       "         0.0111, 0.0074, 0.0073, 0.0165, 0.018 , 0.0145, 0.0062, 0.0118,\n",
       "         0.0116, 0.0097, 0.0165, 0.0067, 0.0117, 0.0177, 0.0096, 0.0105,\n",
       "         0.0163, 0.0131, 0.0109, 0.0089, 0.0158, 0.0154, 0.0107, 0.0133,\n",
       "         0.0152, 0.0157, 0.0193, 0.0092, 0.0098, 0.0077, 0.0087, 0.0071,\n",
       "         0.0137, 0.0065, 0.0136, 0.0105, 0.011 , 0.0103, 0.0198, 0.0076,\n",
       "         0.009 , 0.0152, 0.0177, 0.0061],\n",
       "        [0.0074, 0.0216, 0.017 , 0.012 , 0.0182, 0.0088, 0.0069, 0.0176,\n",
       "         0.0091, 0.0104, 0.0131, 0.0074, 0.0108, 0.0168, 0.0094, 0.0147,\n",
       "         0.0155, 0.0087, 0.0144, 0.0129, 0.0216, 0.0123, 0.0125, 0.0122,\n",
       "         0.0175, 0.0095, 0.0121, 0.0099, 0.0088, 0.0081, 0.0177, 0.0119,\n",
       "         0.0206, 0.0185, 0.0103, 0.017 , 0.0186, 0.0107, 0.0137, 0.0101,\n",
       "         0.0091, 0.0093, 0.0066, 0.007 , 0.008 , 0.0084, 0.0101, 0.0076,\n",
       "         0.0117, 0.0152, 0.0158, 0.0152, 0.0088, 0.012 , 0.0156, 0.0171,\n",
       "         0.0116, 0.0099, 0.016 , 0.0097, 0.0201, 0.0156, 0.0109, 0.0099,\n",
       "         0.0088, 0.0119, 0.0085, 0.0146, 0.0094, 0.0127, 0.0106, 0.0176,\n",
       "         0.0097, 0.0088, 0.0107, 0.0107, 0.01  , 0.0102, 0.0095, 0.0094,\n",
       "         0.0094, 0.0097, 0.0141, 0.0077, 0.0127, 0.0084, 0.0076, 0.0181,\n",
       "         0.0119, 0.0089, 0.0194, 0.0165, 0.0112, 0.0158, 0.0136, 0.0063,\n",
       "         0.0085, 0.017 , 0.0098, 0.0193],\n",
       "        [0.0092, 0.0101, 0.0083, 0.0118, 0.0093, 0.0089, 0.0201, 0.012 ,\n",
       "         0.0104, 0.0152, 0.0184, 0.0114, 0.0175, 0.0096, 0.0077, 0.011 ,\n",
       "         0.0113, 0.0132, 0.01  , 0.0119, 0.0097, 0.0063, 0.0129, 0.0081,\n",
       "         0.0157, 0.014 , 0.0089, 0.0163, 0.0106, 0.0095, 0.016 , 0.0183,\n",
       "         0.0126, 0.0074, 0.0111, 0.0128, 0.0181, 0.0173, 0.019 , 0.0115,\n",
       "         0.0117, 0.0109, 0.0106, 0.0159, 0.0096, 0.0111, 0.0097, 0.0113,\n",
       "         0.0103, 0.0088, 0.0151, 0.0196, 0.0072, 0.0094, 0.0175, 0.0155,\n",
       "         0.0134, 0.0082, 0.0095, 0.0085, 0.0103, 0.0129, 0.0175, 0.0106,\n",
       "         0.0076, 0.0118, 0.0103, 0.0143, 0.0114, 0.0112, 0.0096, 0.0095,\n",
       "         0.0139, 0.0067, 0.0096, 0.0146, 0.0146, 0.0113, 0.0167, 0.014 ,\n",
       "         0.0156, 0.0151, 0.0114, 0.0072, 0.0104, 0.0157, 0.0148, 0.0152,\n",
       "         0.0127, 0.024 , 0.0104, 0.0117, 0.0098, 0.0157, 0.0191, 0.009 ,\n",
       "         0.0129, 0.0106, 0.0107, 0.0133],\n",
       "        [0.0106, 0.0097, 0.0122, 0.0146, 0.0104, 0.0094, 0.0141, 0.0117,\n",
       "         0.0138, 0.0126, 0.0086, 0.0135, 0.0081, 0.0073, 0.0109, 0.009 ,\n",
       "         0.0153, 0.0167, 0.0083, 0.0077, 0.0127, 0.0145, 0.0081, 0.012 ,\n",
       "         0.0152, 0.0093, 0.0098, 0.0087, 0.0099, 0.0144, 0.0153, 0.0103,\n",
       "         0.0153, 0.0125, 0.0126, 0.011 , 0.01  , 0.0105, 0.0088, 0.0065,\n",
       "         0.0149, 0.0117, 0.0128, 0.0115, 0.0117, 0.0181, 0.0086, 0.0077,\n",
       "         0.0085, 0.0119, 0.0097, 0.0081, 0.011 , 0.0141, 0.0162, 0.0134,\n",
       "         0.0114, 0.0103, 0.0096, 0.0155, 0.0116, 0.0134, 0.0152, 0.0092,\n",
       "         0.0123, 0.0094, 0.0096, 0.0098, 0.0111, 0.0163, 0.0078, 0.0119,\n",
       "         0.0073, 0.0109, 0.0115, 0.007 , 0.0089, 0.0111, 0.0155, 0.009 ,\n",
       "         0.0154, 0.0146, 0.0129, 0.0142, 0.0091, 0.0056, 0.0117, 0.0085,\n",
       "         0.0157, 0.0099, 0.0096, 0.0088, 0.0139, 0.01  , 0.0099, 0.0129,\n",
       "         0.0137, 0.0114, 0.0095, 0.0062],\n",
       "        [0.0089, 0.0131, 0.0115, 0.0204, 0.012 , 0.0101, 0.0106, 0.0134,\n",
       "         0.01  , 0.0087, 0.0097, 0.0096, 0.0081, 0.0119, 0.0158, 0.0074,\n",
       "         0.0117, 0.0091, 0.0108, 0.0103, 0.0085, 0.0165, 0.0106, 0.0121,\n",
       "         0.0072, 0.0104, 0.0168, 0.0148, 0.0125, 0.0135, 0.0124, 0.0133,\n",
       "         0.0193, 0.0103, 0.0131, 0.0166, 0.0129, 0.0151, 0.0082, 0.0085,\n",
       "         0.0104, 0.0093, 0.0138, 0.0091, 0.016 , 0.0091, 0.0133, 0.0079,\n",
       "         0.011 , 0.0133, 0.0183, 0.0123, 0.0174, 0.0079, 0.013 , 0.013 ,\n",
       "         0.0106, 0.0162, 0.0087, 0.0119, 0.0097, 0.0078, 0.0123, 0.0116,\n",
       "         0.0111, 0.0137, 0.0116, 0.0233, 0.0074, 0.0157, 0.011 , 0.0136,\n",
       "         0.011 , 0.011 , 0.0162, 0.0068, 0.0112, 0.008 , 0.0115, 0.0095,\n",
       "         0.0089, 0.0164, 0.012 , 0.0121, 0.0089, 0.0134, 0.0062, 0.0088,\n",
       "         0.0161, 0.0079, 0.0131, 0.0087, 0.0139, 0.009 , 0.0153, 0.0108,\n",
       "         0.0111, 0.0121, 0.0151, 0.0112]]),\n",
       " 'metric_means': array([0.01224 , 0.013766, 0.013253, 0.012509, 0.010605, 0.012322,\n",
       "        0.012265, 0.012309, 0.011309, 0.011832]),\n",
       " 'metric_stds': array([0.00356617, 0.00391482, 0.00341472, 0.00357461, 0.0025712 ,\n",
       "        0.00385838, 0.00385532, 0.0034624 , 0.00271098, 0.00316442])}"
      ]
     },
     "execution_count": 24,
     "metadata": {},
     "output_type": "execute_result"
    }
   ],
   "source": [
    "SKSTest.Test_np()\n",
    "SKSTest.Results[-1].result_value"
   ]
  },
  {
   "cell_type": "markdown",
   "metadata": {},
   "source": [
    "### SWD Test"
   ]
  },
  {
   "cell_type": "code",
   "execution_count": 25,
   "metadata": {},
   "outputs": [
    {
     "name": "stdout",
     "output_type": "stream",
     "text": [
      "\n",
      "------------------------------------------\n",
      "Starting SWD metric calculation...\n",
      "niter = 10\n",
      "batch_size = 10000\n"
     ]
    },
    {
     "name": "stderr",
     "output_type": "stream",
     "text": [
      "Iterations:   0%|          | 0/10 [00:00<?, ?it/s]"
     ]
    },
    {
     "name": "stdout",
     "output_type": "stream",
     "text": [
      "Running numpy SKS calculation...\n"
     ]
    },
    {
     "name": "stderr",
     "output_type": "stream",
     "text": [
      "Iterations: 100%|██████████| 10/10 [00:04<00:00,  2.07it/s]"
     ]
    },
    {
     "name": "stdout",
     "output_type": "stream",
     "text": [
      "Two-sample test calculation completed in 4.841813870705664 seconds.\n"
     ]
    },
    {
     "name": "stderr",
     "output_type": "stream",
     "text": [
      "\n"
     ]
    },
    {
     "data": {
      "text/plain": [
       "{'metric_lists': array([[0.02363572, 0.01778114, 0.03721979, 0.01453548, 0.0176564 ,\n",
       "         0.01242296, 0.01365917, 0.03079287, 0.02820471, 0.01399335,\n",
       "         0.01232701, 0.01355767, 0.01639389, 0.0180303 , 0.02227506,\n",
       "         0.03149092, 0.02306976, 0.02112056, 0.02431377, 0.02881641,\n",
       "         0.02416798, 0.0173205 , 0.01376633, 0.02714727, 0.02002151,\n",
       "         0.02100586, 0.02024613, 0.01345072, 0.01771629, 0.01240926,\n",
       "         0.01556627, 0.01639523, 0.02091818, 0.02445809, 0.02060513,\n",
       "         0.02695098, 0.01682308, 0.01051256, 0.00874865, 0.02386782,\n",
       "         0.02231159, 0.02121507, 0.02003033, 0.01176143, 0.02732846,\n",
       "         0.01379079, 0.02724597, 0.01055707, 0.02948412, 0.01831216,\n",
       "         0.01017712, 0.01802657, 0.02978577, 0.02704747, 0.01705482,\n",
       "         0.01874518, 0.01104865, 0.01697128, 0.01687628, 0.02262043,\n",
       "         0.0203879 , 0.03390408, 0.01666692, 0.03007666, 0.02520135,\n",
       "         0.02702504, 0.01754665, 0.0092804 , 0.01746313, 0.00949472,\n",
       "         0.01587805, 0.02407411, 0.02449633, 0.0278234 , 0.01271985,\n",
       "         0.00729031, 0.02314984, 0.0238173 , 0.0146163 , 0.02728293,\n",
       "         0.02012051, 0.01293034, 0.01594117, 0.0234051 , 0.01726742,\n",
       "         0.0146286 , 0.01769432, 0.02159403, 0.0153175 , 0.01684118,\n",
       "         0.02184332, 0.0202229 , 0.03609651, 0.01379046, 0.00889071,\n",
       "         0.01979997, 0.01561464, 0.013565  , 0.01931274, 0.02489793],\n",
       "        [0.02267598, 0.01594681, 0.02252888, 0.01359957, 0.01640742,\n",
       "         0.01044842, 0.03156264, 0.02922443, 0.01398576, 0.01768599,\n",
       "         0.02786462, 0.01171569, 0.0318224 , 0.02044308, 0.01337791,\n",
       "         0.02634413, 0.01790975, 0.01557335, 0.01986612, 0.03716541,\n",
       "         0.02090223, 0.01594561, 0.01767775, 0.01840458, 0.02483347,\n",
       "         0.04073826, 0.02345808, 0.01411258, 0.01482363, 0.01568325,\n",
       "         0.02280523, 0.03122194, 0.02181974, 0.01842014, 0.01597678,\n",
       "         0.02975551, 0.02856967, 0.01486298, 0.02092907, 0.02432322,\n",
       "         0.03534534, 0.01972936, 0.01731816, 0.02426019, 0.01349011,\n",
       "         0.01409436, 0.01737601, 0.0281641 , 0.01927147, 0.01812192,\n",
       "         0.01144285, 0.03658889, 0.01654248, 0.00921308, 0.02789792,\n",
       "         0.02501004, 0.01641574, 0.02692316, 0.02777555, 0.01822677,\n",
       "         0.01668403, 0.02411187, 0.03262829, 0.03633682, 0.01386154,\n",
       "         0.02840966, 0.01652459, 0.01050578, 0.02479174, 0.02135493,\n",
       "         0.02131527, 0.02005618, 0.03692849, 0.01551145, 0.02255063,\n",
       "         0.03639314, 0.03677028, 0.0146563 , 0.02379249, 0.02897943,\n",
       "         0.02555406, 0.01103948, 0.02165762, 0.01449148, 0.03305299,\n",
       "         0.0403538 , 0.02865824, 0.02158031, 0.01257805, 0.0390969 ,\n",
       "         0.01825661, 0.02670883, 0.01793959, 0.01994318, 0.01862626,\n",
       "         0.02146383, 0.02863008, 0.01221369, 0.01801626, 0.03091467],\n",
       "        [0.01666335, 0.02220007, 0.01958215, 0.02399812, 0.01387379,\n",
       "         0.01982406, 0.02704078, 0.01791778, 0.02525708, 0.03172036,\n",
       "         0.01802084, 0.02349102, 0.02536648, 0.02693232, 0.03104432,\n",
       "         0.01560158, 0.02256126, 0.0203469 , 0.02589297, 0.02101594,\n",
       "         0.01465093, 0.0161269 , 0.02579195, 0.01327864, 0.01934116,\n",
       "         0.01972084, 0.02018885, 0.02490151, 0.0134878 , 0.02955561,\n",
       "         0.01562553, 0.01392777, 0.02143137, 0.01790168, 0.01208889,\n",
       "         0.0207606 , 0.0317079 , 0.02091991, 0.02309579, 0.02522021,\n",
       "         0.02519908, 0.01682237, 0.00929846, 0.03300836, 0.02637809,\n",
       "         0.02694168, 0.02131555, 0.01821806, 0.01276852, 0.01592694,\n",
       "         0.03214482, 0.02841881, 0.01663255, 0.01468053, 0.01423663,\n",
       "         0.03314652, 0.03377944, 0.01528877, 0.02605917, 0.02239435,\n",
       "         0.01993902, 0.0191131 , 0.01597273, 0.02061375, 0.01622015,\n",
       "         0.02496756, 0.0132615 , 0.02907011, 0.02476958, 0.02070233,\n",
       "         0.02277935, 0.01923648, 0.01536904, 0.01493482, 0.0233372 ,\n",
       "         0.01468499, 0.01480253, 0.02232232, 0.03078086, 0.02619072,\n",
       "         0.01928607, 0.01846264, 0.01273305, 0.01797874, 0.01837675,\n",
       "         0.01626834, 0.01246188, 0.02778394, 0.01880059, 0.02052174,\n",
       "         0.02052762, 0.0157135 , 0.0134385 , 0.02757105, 0.01712368,\n",
       "         0.02558459, 0.0143523 , 0.01955928, 0.02000441, 0.02701925],\n",
       "        [0.01310542, 0.0193902 , 0.03240738, 0.02626151, 0.0129    ,\n",
       "         0.01673645, 0.02187239, 0.02715484, 0.02848992, 0.01333905,\n",
       "         0.01493118, 0.02287843, 0.01449257, 0.02089825, 0.02095085,\n",
       "         0.02721445, 0.01308949, 0.0213433 , 0.01639499, 0.01276552,\n",
       "         0.0153847 , 0.01540251, 0.01797624, 0.01811181, 0.02263457,\n",
       "         0.01299199, 0.01331792, 0.01862397, 0.01121272, 0.01187208,\n",
       "         0.03042384, 0.02153466, 0.02617087, 0.01941258, 0.01910446,\n",
       "         0.01451596, 0.0182908 , 0.01844783, 0.01625684, 0.01514363,\n",
       "         0.01547304, 0.01357378, 0.01887308, 0.02392689, 0.01824477,\n",
       "         0.0242373 , 0.01891621, 0.01347931, 0.01842309, 0.01969373,\n",
       "         0.01660217, 0.01418588, 0.0198803 , 0.03393777, 0.02206714,\n",
       "         0.01703907, 0.01353799, 0.02037332, 0.01471846, 0.01580509,\n",
       "         0.02106591, 0.029675  , 0.02392344, 0.01495645, 0.01307219,\n",
       "         0.01644242, 0.0087851 , 0.01985216, 0.01210363, 0.02910144,\n",
       "         0.01503744, 0.02707804, 0.00847368, 0.01016574, 0.01632936,\n",
       "         0.01459399, 0.00928485, 0.02838408, 0.02043287, 0.01374192,\n",
       "         0.01242169, 0.02840033, 0.01230604, 0.0116188 , 0.01410691,\n",
       "         0.01230917, 0.02073643, 0.01568284, 0.02972532, 0.01972064,\n",
       "         0.0137657 , 0.01171486, 0.03475902, 0.01089297, 0.01681792,\n",
       "         0.01435477, 0.01919207, 0.01385884, 0.01595719, 0.01850019],\n",
       "        [0.01983383, 0.01000894, 0.0122338 , 0.01701601, 0.01049946,\n",
       "         0.00983535, 0.01169014, 0.01479035, 0.01600562, 0.02101259,\n",
       "         0.01285995, 0.01175683, 0.01103614, 0.01997334, 0.01484317,\n",
       "         0.01210356, 0.0112116 , 0.01774018, 0.01982385, 0.0125079 ,\n",
       "         0.0128055 , 0.01780886, 0.01877522, 0.01754102, 0.01238521,\n",
       "         0.01224796, 0.02476598, 0.01849746, 0.01026469, 0.01905089,\n",
       "         0.01177947, 0.01562872, 0.0106534 , 0.01753236, 0.01144537,\n",
       "         0.01379463, 0.01453821, 0.01938566, 0.01447154, 0.01436808,\n",
       "         0.01491134, 0.014267  , 0.0105151 , 0.01257583, 0.02262654,\n",
       "         0.01275474, 0.02394096, 0.02214671, 0.01482084, 0.0192661 ,\n",
       "         0.01982128, 0.01385735, 0.02746547, 0.01585445, 0.01667983,\n",
       "         0.01346571, 0.02063055, 0.02594769, 0.01962473, 0.01957441,\n",
       "         0.00889226, 0.01787185, 0.01131311, 0.00762266, 0.01660474,\n",
       "         0.01505742, 0.01672519, 0.017946  , 0.01010975, 0.00893497,\n",
       "         0.02089083, 0.01540524, 0.01715886, 0.01826898, 0.01877226,\n",
       "         0.0190702 , 0.01402049, 0.01271159, 0.01344603, 0.01516336,\n",
       "         0.01481265, 0.01398877, 0.00972927, 0.01747362, 0.0187338 ,\n",
       "         0.0151955 , 0.02295243, 0.01898716, 0.01319554, 0.01222596,\n",
       "         0.00767835, 0.01572141, 0.01184552, 0.00999604, 0.0152865 ,\n",
       "         0.01983834, 0.01996851, 0.00761944, 0.01359624, 0.01344897],\n",
       "        [0.01334229, 0.02140727, 0.02038623, 0.01835575, 0.03009035,\n",
       "         0.0258997 , 0.01531015, 0.01406528, 0.012761  , 0.01449707,\n",
       "         0.01874078, 0.02517638, 0.0170518 , 0.01351983, 0.0168178 ,\n",
       "         0.02307921, 0.02480987, 0.01712002, 0.01120003, 0.0158295 ,\n",
       "         0.02124962, 0.01814447, 0.02232159, 0.01882625, 0.01728664,\n",
       "         0.00941714, 0.01516686, 0.02831597, 0.02905577, 0.02203018,\n",
       "         0.01263545, 0.01072066, 0.01283747, 0.01037851, 0.02861557,\n",
       "         0.01172795, 0.01923247, 0.03043818, 0.02640017, 0.01468492,\n",
       "         0.01612251, 0.02958964, 0.02993743, 0.01453697, 0.01198392,\n",
       "         0.01854514, 0.01392235, 0.01284769, 0.02123758, 0.01273886,\n",
       "         0.01062362, 0.01052919, 0.01375646, 0.01651575, 0.01681868,\n",
       "         0.02133168, 0.01509742, 0.00787768, 0.00982238, 0.02428479,\n",
       "         0.01964757, 0.01748017, 0.00925165, 0.01264235, 0.01465758,\n",
       "         0.01330487, 0.02299498, 0.01076998, 0.01553524, 0.02676547,\n",
       "         0.01424952, 0.01835911, 0.02243496, 0.01772382, 0.01532824,\n",
       "         0.01120799, 0.02235638, 0.02184485, 0.01525432, 0.01209502,\n",
       "         0.01739579, 0.02518641, 0.02999162, 0.01324841, 0.01343981,\n",
       "         0.01034266, 0.01457153, 0.01374843, 0.02252754, 0.00977583,\n",
       "         0.01833092, 0.01686395, 0.01940835, 0.01488253, 0.03310112,\n",
       "         0.01431776, 0.01331429, 0.02130206, 0.02195622, 0.01390312],\n",
       "        [0.01246668, 0.02905834, 0.02762603, 0.01860815, 0.02551832,\n",
       "         0.01457265, 0.01280971, 0.0273262 , 0.01285643, 0.01515502,\n",
       "         0.01712736, 0.01116517, 0.01593681, 0.02248169, 0.01114034,\n",
       "         0.02372116, 0.02715415, 0.01205102, 0.0238921 , 0.0136475 ,\n",
       "         0.03082272, 0.01953623, 0.01699193, 0.01316964, 0.0206656 ,\n",
       "         0.01189835, 0.02026469, 0.01981501, 0.01611171, 0.01016612,\n",
       "         0.0180124 , 0.01261595, 0.03549597, 0.0298989 , 0.00917498,\n",
       "         0.03525317, 0.02657529, 0.01898201, 0.02635525, 0.01607858,\n",
       "         0.01721293, 0.01429384, 0.00985012, 0.00938596, 0.01814914,\n",
       "         0.01378611, 0.0145751 , 0.01246563, 0.01882329, 0.0300452 ,\n",
       "         0.03418583, 0.02825548, 0.01234072, 0.01730126, 0.01559221,\n",
       "         0.02493178, 0.01401451, 0.01449903, 0.01842218, 0.01451346,\n",
       "         0.02755862, 0.02250784, 0.01252433, 0.02019072, 0.0111486 ,\n",
       "         0.01879919, 0.01132967, 0.02816001, 0.01990218, 0.01848789,\n",
       "         0.01363722, 0.02562411, 0.01382277, 0.01387984, 0.01282841,\n",
       "         0.01257136, 0.01358076, 0.01065807, 0.01330053, 0.01836623,\n",
       "         0.01218797, 0.01592367, 0.02475364, 0.01130148, 0.01794197,\n",
       "         0.01172675, 0.01324905, 0.02365559, 0.01661509, 0.01379711,\n",
       "         0.03096037, 0.02677436, 0.01986227, 0.02474156, 0.02443916,\n",
       "         0.01221899, 0.01168684, 0.03404933, 0.01292288, 0.02261532],\n",
       "        [0.01508891, 0.01430645, 0.01241516, 0.01707788, 0.01737265,\n",
       "         0.01607741, 0.0279951 , 0.01489494, 0.0162049 , 0.01984673,\n",
       "         0.02850734, 0.01377324, 0.03248112, 0.01276204, 0.01410257,\n",
       "         0.0201809 , 0.02313136, 0.01997457, 0.01938265, 0.01922166,\n",
       "         0.01176167, 0.00712371, 0.01882302, 0.01261008, 0.02972583,\n",
       "         0.02288026, 0.01081933, 0.02182534, 0.01769736, 0.01636019,\n",
       "         0.02123953, 0.02346796, 0.01893374, 0.00940319, 0.01679717,\n",
       "         0.02032306, 0.02941948, 0.02222945, 0.02563853, 0.01626905,\n",
       "         0.02118535, 0.01576749, 0.0174881 , 0.0266313 , 0.018513  ,\n",
       "         0.01359537, 0.01611298, 0.01746429, 0.01393403, 0.01136766,\n",
       "         0.01583593, 0.03089924, 0.01409777, 0.01639243, 0.0196396 ,\n",
       "         0.03181813, 0.01547755, 0.01217071, 0.01194108, 0.01641807,\n",
       "         0.01707338, 0.01858513, 0.02258712, 0.01701573, 0.01003274,\n",
       "         0.01193611, 0.01771775, 0.01580185, 0.01999202, 0.01692343,\n",
       "         0.01352852, 0.01727711, 0.02540804, 0.01263802, 0.01172386,\n",
       "         0.02633719, 0.02675795, 0.015161  , 0.0237724 , 0.02076099,\n",
       "         0.02344181, 0.01817392, 0.02121002, 0.01098496, 0.01751145,\n",
       "         0.02557195, 0.0218132 , 0.0177362 , 0.01540871, 0.02828654,\n",
       "         0.01835066, 0.01493696, 0.01782513, 0.01956511, 0.02376346,\n",
       "         0.01108438, 0.02303481, 0.01202404, 0.01826917, 0.02599174],\n",
       "        [0.01262002, 0.01996065, 0.02109071, 0.02210544, 0.01681426,\n",
       "         0.01732988, 0.01851412, 0.02019681, 0.01898278, 0.02061569,\n",
       "         0.01025234, 0.02083733, 0.01241216, 0.01144658, 0.01927783,\n",
       "         0.01337081, 0.02148978, 0.0176358 , 0.01150426, 0.00958361,\n",
       "         0.01857012, 0.01281289, 0.01274878, 0.01537616, 0.01966624,\n",
       "         0.01069041, 0.01306553, 0.0171817 , 0.01434853, 0.0171312 ,\n",
       "         0.02450512, 0.01384465, 0.02701344, 0.01448746, 0.01795903,\n",
       "         0.01320901, 0.00894923, 0.01375052, 0.01282047, 0.00997582,\n",
       "         0.01300357, 0.01690208, 0.01867737, 0.02309996, 0.01875667,\n",
       "         0.02377185, 0.01586212, 0.01192577, 0.01206951, 0.01688516,\n",
       "         0.01701577, 0.01179211, 0.01720199, 0.02397774, 0.01865133,\n",
       "         0.01581777, 0.01972169, 0.01606394, 0.01597855, 0.01639554,\n",
       "         0.01994496, 0.0170681 , 0.01736302, 0.01382287, 0.01616035,\n",
       "         0.01049134, 0.01525732, 0.01715577, 0.0157468 , 0.02436874,\n",
       "         0.00978775, 0.02124588, 0.01125794, 0.01953515, 0.01477928,\n",
       "         0.01027536, 0.01288549, 0.02093006, 0.02014261, 0.01296306,\n",
       "         0.02023716, 0.02565442, 0.01858094, 0.01764498, 0.01343229,\n",
       "         0.00781894, 0.0192443 , 0.0126302 , 0.02747874, 0.01259655,\n",
       "         0.01399597, 0.01208913, 0.01848354, 0.01642667, 0.0145584 ,\n",
       "         0.01872078, 0.017195  , 0.01566857, 0.01113049, 0.0088593 ],\n",
       "        [0.01636025, 0.0184714 , 0.01570565, 0.02724042, 0.01726474,\n",
       "         0.01429113, 0.01337415, 0.01659799, 0.01312774, 0.01375556,\n",
       "         0.01272859, 0.01234769, 0.01164188, 0.0185948 , 0.02210088,\n",
       "         0.00863087, 0.01425083, 0.01337027, 0.01472487, 0.01644808,\n",
       "         0.01412559, 0.0190233 , 0.0147473 , 0.0131027 , 0.00779575,\n",
       "         0.01521858, 0.02922269, 0.02446834, 0.01713588, 0.01574832,\n",
       "         0.01722196, 0.02030158, 0.02742411, 0.01607202, 0.01199909,\n",
       "         0.0244067 , 0.01864958, 0.01821445, 0.00894909, 0.00926145,\n",
       "         0.01574288, 0.01756794, 0.01151695, 0.0097581 , 0.026197  ,\n",
       "         0.01490996, 0.02115301, 0.01116941, 0.01222907, 0.023052  ,\n",
       "         0.03168531, 0.01660729, 0.02511304, 0.0077711 , 0.01939131,\n",
       "         0.01926031, 0.01276956, 0.02801254, 0.0140186 , 0.02148055,\n",
       "         0.01304231, 0.0116114 , 0.02000483, 0.01405425, 0.01567471,\n",
       "         0.01990508, 0.01618576, 0.03305451, 0.01271597, 0.01791433,\n",
       "         0.01318529, 0.02109032, 0.01304339, 0.0223447 , 0.02637889,\n",
       "         0.01181466, 0.01475798, 0.011311  , 0.01386825, 0.01287587,\n",
       "         0.01561982, 0.02746465, 0.01463819, 0.01643371, 0.01449737,\n",
       "         0.01654881, 0.00987352, 0.01480629, 0.02719477, 0.01408966,\n",
       "         0.01752148, 0.01437085, 0.01650589, 0.01495925, 0.01708476,\n",
       "         0.01520085, 0.01419735, 0.01653964, 0.02059473, 0.01206988]]),\n",
       " 'metric_means': array([0.01961755, 0.02217558, 0.0208337 , 0.01825776, 0.01543549,\n",
       "        0.01768578, 0.01855145, 0.0185091 , 0.01631346, 0.01678567]),\n",
       " 'metric_stds': array([0.00637411, 0.00768078, 0.00565973, 0.00584704, 0.0041809 ,\n",
       "        0.00581637, 0.00669707, 0.00540048, 0.00424366, 0.00527933])}"
      ]
     },
     "execution_count": 25,
     "metadata": {},
     "output_type": "execute_result"
    }
   ],
   "source": [
    "SWDMetric.Test_np()\n",
    "SWDMetric.Results[-1].result_value"
   ]
  },
  {
   "cell_type": "markdown",
   "metadata": {},
   "source": [
    "## TensorFlow backend"
   ]
  },
  {
   "cell_type": "code",
   "execution_count": 8,
   "metadata": {},
   "outputs": [
    {
     "name": "stdout",
     "output_type": "stream",
     "text": [
      "Parsing input distribution...\n",
      "Input distribution is a tfp.distributions.Distribution object.\n",
      "Parsing input distribution...\n",
      "Input distribution is a tfp.distributions.Distribution object.\n",
      "Checking and setting numerical distributions.\n",
      "Setting dist_num from dist_symb.\n",
      "Setting dist_num from dist_symb.\n",
      "nsamples 100000\n",
      "batch_size 10000\n",
      "niter 10\n",
      "niter * batch_size 100000\n",
      "small_sample True\n"
     ]
    }
   ],
   "source": [
    "TwoSampleTestInputs = GMetrics.TwoSampleTestInputs(dist_1_input = dist_1,\n",
    "                                                   dist_2_input = dist_2,\n",
    "                                                   niter = 10,\n",
    "                                                   batch_size_test = 10_000,\n",
    "                                                   batch_size_gen = 100,\n",
    "                                                   small_sample_threshold = 1e7,\n",
    "                                                   dtype_input = tf.float64,\n",
    "                                                   seed_input = 0,\n",
    "                                                   use_tf = True,\n",
    "                                                   mirror_strategy = False,\n",
    "                                                   verbose = True)\n",
    "print(\"nsamples\",TwoSampleTestInputs.nsamples)\n",
    "print(\"batch_size\",TwoSampleTestInputs.batch_size_test)\n",
    "print(\"niter\",TwoSampleTestInputs.niter)\n",
    "print(\"niter * batch_size\",TwoSampleTestInputs.niter*TwoSampleTestInputs.batch_size_test)\n",
    "print(\"small_sample\",TwoSampleTestInputs.small_sample)"
   ]
  },
  {
   "cell_type": "code",
   "execution_count": 9,
   "metadata": {},
   "outputs": [
    {
     "data": {
      "text/plain": [
       "<tf.Tensor: shape=(100000, 5), dtype=float64, numpy=\n",
       "array([[-2.39967043e-01, -7.94030696e-01,  1.63931164e+00,\n",
       "         2.71145073e+00, -9.07905520e-01],\n",
       "       [-7.49834554e-01,  1.67172440e+00,  1.44974904e+00,\n",
       "        -6.94427146e-01,  1.17355384e-03],\n",
       "       [ 1.83389833e+00,  2.52622299e-01,  3.59498695e-01,\n",
       "        -1.24928754e+00, -1.63937696e-01],\n",
       "       ...,\n",
       "       [-6.28533146e-01, -1.41448744e+00, -7.68336895e-01,\n",
       "        -4.48321981e-01,  6.12030513e-01],\n",
       "       [ 9.82681046e-01, -3.37737389e-01,  8.52866748e-01,\n",
       "         3.21081079e-01,  1.86262820e+00],\n",
       "       [-2.65037126e-01, -3.79492339e-01, -5.53834889e-01,\n",
       "        -5.30263518e-01,  3.42790748e-01]])>"
      ]
     },
     "execution_count": 9,
     "metadata": {},
     "output_type": "execute_result"
    }
   ],
   "source": [
    "TwoSampleTestInputs.dist_1_num"
   ]
  },
  {
   "cell_type": "code",
   "execution_count": 10,
   "metadata": {},
   "outputs": [
    {
     "data": {
      "text/plain": [
       "<tf.Tensor: shape=(100000, 5), dtype=float64, numpy=\n",
       "array([[-0.5684531 , -2.14725651,  0.06054185, -0.85779686,  1.25558408],\n",
       "       [ 0.79600364, -0.76710372, -0.79686639,  0.48956836,  0.96199375],\n",
       "       [-1.11891339, -0.61410463, -0.23228104,  0.18698397, -0.25451839],\n",
       "       ...,\n",
       "       [ 1.00934301,  1.83634807,  0.5726704 ,  0.65641066,  0.91162459],\n",
       "       [ 0.49943041,  1.66088214, -1.06514028,  0.20156471,  0.73097525],\n",
       "       [-0.92956391, -0.53233223, -0.72287902,  0.46154649, -0.72525675]])>"
      ]
     },
     "execution_count": 10,
     "metadata": {},
     "output_type": "execute_result"
    }
   ],
   "source": [
    "TwoSampleTestInputs.dist_2_num"
   ]
  },
  {
   "cell_type": "code",
   "execution_count": 11,
   "metadata": {},
   "outputs": [
    {
     "name": "stdout",
     "output_type": "stream",
     "text": [
      "Generating random directions based on nslices, ndims, and seed_slicing.\n",
      "Generating random directions based on nslices, ndims, and seed_slicing.\n"
     ]
    }
   ],
   "source": [
    "FNMetric = GMetrics.FNMetric(TwoSampleTestInputs,\n",
    "                             progress_bar = True,\n",
    "                             verbose = True)\n",
    "FPDMetric = GMetrics.FPDMetric(TwoSampleTestInputs,\n",
    "                               progress_bar = True,\n",
    "                               verbose = True)\n",
    "KPDMetric = GMetrics.KPDMetric(TwoSampleTestInputs,\n",
    "                               progress_bar = True,\n",
    "                               verbose = True)\n",
    "KSTest = GMetrics.KSTest(TwoSampleTestInputs,\n",
    "                         progress_bar = True,\n",
    "                         verbose = True)\n",
    "LRMetric = GMetrics.LRMetric(TwoSampleTestInputs,\n",
    "                             progress_bar = True,\n",
    "                             verbose = True)\n",
    "MultiKSTest = GMetrics.MultiKSTest(TwoSampleTestInputs,\n",
    "                                   progress_bar = True,\n",
    "                                   verbose = True)\n",
    "SKSTest = GMetrics.SKSTest(TwoSampleTestInputs,\n",
    "                           nslices = 100,\n",
    "                           seed_slicing = 0,\n",
    "                           progress_bar = True,\n",
    "                           verbose = True)\n",
    "SWDMetric = GMetrics.SWDMetric(TwoSampleTestInputs,\n",
    "                               nslices = 100,\n",
    "                               seed_slicing = 0,\n",
    "                               progress_bar = True,\n",
    "                               verbose = True)"
   ]
  },
  {
   "cell_type": "markdown",
   "metadata": {},
   "source": [
    "### FN Test"
   ]
  },
  {
   "cell_type": "code",
   "execution_count": 30,
   "metadata": {},
   "outputs": [
    {
     "name": "stdout",
     "output_type": "stream",
     "text": [
      "\n",
      "------------------------------------------\n",
      "Starting FN metric calculation...\n",
      "Running TF FN calculation...\n",
      "niter = 10\n",
      "batch_size = 10000\n",
      "WARNING:tensorflow:Using a while_loop for converting StridedSlice\n",
      "WARNING:tensorflow:Using a while_loop for converting StridedSlice\n",
      "WARNING:tensorflow:5 out of the last 5 calls to <function pfor.<locals>.f at 0x7f2e4406d280> triggered tf.function retracing. Tracing is expensive and the excessive number of tracings could be due to (1) creating @tf.function repeatedly in a loop, (2) passing tensors with different shapes, (3) passing Python objects instead of tensors. For (1), please define your @tf.function outside of the loop. For (2), @tf.function has reduce_retracing=True option that can avoid unnecessary retracing. For (3), please refer to https://www.tensorflow.org/guide/function#controlling_retracing and https://www.tensorflow.org/api_docs/python/tf/function for  more details.\n",
      "FN metric calculation completed in 0.7167088030837476 seconds.\n"
     ]
    },
    {
     "data": {
      "text/plain": [
       "{'metric_list': array([0.06381937, 0.08351717, 0.06816056, 0.0653649 , 0.06554995,\n",
       "        0.04301747, 0.08694649, 0.06473251, 0.03918382, 0.05991245])}"
      ]
     },
     "execution_count": 30,
     "metadata": {},
     "output_type": "execute_result"
    }
   ],
   "source": [
    "FNMetric.Test_tf(max_vectorize = 2500)\n",
    "FNMetric.Results[-1].result_value"
   ]
  },
  {
   "cell_type": "markdown",
   "metadata": {},
   "source": [
    "### FPD Test"
   ]
  },
  {
   "cell_type": "code",
   "execution_count": 8,
   "metadata": {},
   "outputs": [
    {
     "name": "stdout",
     "output_type": "stream",
     "text": [
      "\n",
      "------------------------------------------\n",
      "Starting FPD metric calculation...\n",
      "Running TF FPD calculation...\n",
      "niter = 60\n",
      "batch_size = 10000\n",
      "nchunks = 3\n",
      "Iterating from 0 to 20 out of 60 .\n"
     ]
    },
    {
     "name": "stdout",
     "output_type": "stream",
     "text": [
      "Iterating from 20 to 40 out of 60 .\n",
      "Iterating from 40 to 60 out of 60 .\n",
      "vals_list: vals_list=<tf.Tensor: shape=(60, 10), dtype=float64, numpy=\n",
      "array([[0.00079078, 0.00080683, 0.00080519, 0.00074324, 0.00074207,\n",
      "        0.00071875, 0.00072294, 0.00071152, 0.00068066, 0.00066755],\n",
      "       [0.00057942, 0.00050667, 0.00049048, 0.00048334, 0.00045301,\n",
      "        0.00045257, 0.00042706, 0.00041753, 0.00039084, 0.00038313],\n",
      "       [0.0005807 , 0.00053657, 0.00053243, 0.00049185, 0.00048038,\n",
      "        0.00046144, 0.00043615, 0.00043623, 0.00043802, 0.00040788],\n",
      "       [0.00082954, 0.00075434, 0.00076994, 0.00073501, 0.00072766,\n",
      "        0.00072561, 0.0006996 , 0.00067678, 0.00068334, 0.00065911],\n",
      "       [0.0007409 , 0.00068377, 0.00067378, 0.00065856, 0.00065545,\n",
      "        0.00063149, 0.00066576, 0.00060167, 0.00058003, 0.00057536],\n",
      "       [0.00073474, 0.00066599, 0.00066843, 0.00062979, 0.00063702,\n",
      "        0.00061999, 0.00059907, 0.00060262, 0.00053964, 0.00056502],\n",
      "       [0.0006467 , 0.0006439 , 0.0006441 , 0.00060086, 0.00061638,\n",
      "        0.00059445, 0.00055633, 0.00055137, 0.00052265, 0.00049471],\n",
      "       [0.00058071, 0.00052079, 0.00052494, 0.00050391, 0.00048097,\n",
      "        0.00046169, 0.00046829, 0.00045188, 0.00043692, 0.00042072],\n",
      "       [0.00087074, 0.00086091, 0.00083604, 0.00085487, 0.0008056 ,\n",
      "        0.00082301, 0.00080548, 0.00079644, 0.00077309, 0.00076882],\n",
      "       [0.00067364, 0.00067705, 0.00066925, 0.00064096, 0.00065602,\n",
      "        0.00064465, 0.00058015, 0.0005948 , 0.0005645 , 0.00054155],\n",
      "       [0.00067795, 0.00070759, 0.00063646, 0.00063689, 0.000593  ,\n",
      "        0.00060675, 0.00060329, 0.00056473, 0.00056986, 0.00050721],\n",
      "       [0.00073275, 0.00070766, 0.00071263, 0.00066862, 0.00066464,\n",
      "        0.00068306, 0.00063786, 0.00063921, 0.00060335, 0.00059162],\n",
      "       [0.00055316, 0.00054215, 0.00055131, 0.00052127, 0.00051092,\n",
      "        0.00048238, 0.00050604, 0.00047538, 0.00046244, 0.00043092],\n",
      "       [0.00067363, 0.00067672, 0.0006681 , 0.0006422 , 0.00061884,\n",
      "        0.00059052, 0.00060266, 0.00056617, 0.0005816 , 0.00057752],\n",
      "       [0.0006087 , 0.00059234, 0.00060312, 0.00054913, 0.00056474,\n",
      "        0.00053596, 0.00052967, 0.00050109, 0.00050573, 0.00049392],\n",
      "       [0.00065982, 0.00065442, 0.00060969, 0.00059897, 0.00058466,\n",
      "        0.00056422, 0.00056897, 0.0005287 , 0.00052908, 0.00049289],\n",
      "       [0.00084034, 0.00086228, 0.00081716, 0.00076149, 0.00074621,\n",
      "        0.00073231, 0.00071663, 0.00075736, 0.00069838, 0.00070316],\n",
      "       [0.00075291, 0.00072647, 0.00069956, 0.00068198, 0.0006745 ,\n",
      "        0.0006626 , 0.00064234, 0.00065204, 0.00065048, 0.00063478],\n",
      "       [0.00068927, 0.000722  , 0.00073867, 0.00068877, 0.00068541,\n",
      "        0.00064434, 0.00061382, 0.00060276, 0.00063063, 0.00060049],\n",
      "       [0.00074222, 0.00070227, 0.00072143, 0.00072669, 0.00070444,\n",
      "        0.00067786, 0.00063887, 0.00062278, 0.00060765, 0.00058966],\n",
      "       [0.00070878, 0.00072892, 0.00065801, 0.00064409, 0.00064088,\n",
      "        0.00066678, 0.00063737, 0.00061121, 0.0005832 , 0.00056159],\n",
      "       [0.00076241, 0.00074209, 0.00074882, 0.00072531, 0.00071538,\n",
      "        0.00067243, 0.00063599, 0.00063666, 0.00062252, 0.00061283],\n",
      "       [0.00071822, 0.00069348, 0.00065355, 0.00069257, 0.00066492,\n",
      "        0.00064135, 0.00061307, 0.00061687, 0.00058609, 0.00058332],\n",
      "       [0.00084081, 0.00083814, 0.0007731 , 0.00076125, 0.00074127,\n",
      "        0.00074609, 0.00072599, 0.00073646, 0.00071527, 0.00069537],\n",
      "       [0.00072024, 0.00067909, 0.00065542, 0.00065315, 0.00062598,\n",
      "        0.00060759, 0.00060436, 0.00057984, 0.00059561, 0.00057328],\n",
      "       [0.00066022, 0.00067454, 0.00060451, 0.00060923, 0.00058514,\n",
      "        0.00057054, 0.00058685, 0.00052725, 0.00055262, 0.00049426],\n",
      "       [0.00069935, 0.00075438, 0.00071833, 0.00067972, 0.00067792,\n",
      "        0.00064509, 0.00065138, 0.00062686, 0.00062261, 0.00059778],\n",
      "       [0.0008178 , 0.00084571, 0.00074998, 0.00076166, 0.00076161,\n",
      "        0.00072514, 0.00073002, 0.00069982, 0.00069632, 0.00067437],\n",
      "       [0.00096417, 0.00093613, 0.00092458, 0.00090712, 0.00089282,\n",
      "        0.00087181, 0.00090098, 0.00085691, 0.00085922, 0.00082404],\n",
      "       [0.00073315, 0.00073311, 0.00068816, 0.00067805, 0.00067335,\n",
      "        0.00065571, 0.00064634, 0.00063373, 0.00059252, 0.0005835 ],\n",
      "       [0.0007    , 0.00070622, 0.00065314, 0.000661  , 0.00064375,\n",
      "        0.00060127, 0.00062275, 0.00059327, 0.00057487, 0.00056213],\n",
      "       [0.00074633, 0.00069353, 0.00071717, 0.00068659, 0.00069418,\n",
      "        0.0006498 , 0.00064   , 0.00062729, 0.00061843, 0.00059909],\n",
      "       [0.00080818, 0.00076255, 0.00075086, 0.00075105, 0.0007032 ,\n",
      "        0.00073695, 0.00065707, 0.00070706, 0.00067248, 0.00066103],\n",
      "       [0.00090031, 0.00087391, 0.00081783, 0.00085799, 0.00082411,\n",
      "        0.00081662, 0.00080751, 0.0007869 , 0.0007275 , 0.00073494],\n",
      "       [0.00084859, 0.0009015 , 0.00084726, 0.00082245, 0.00081276,\n",
      "        0.00080148, 0.0007664 , 0.00076335, 0.00074825, 0.00070311],\n",
      "       [0.00066777, 0.000661  , 0.00061617, 0.00060854, 0.00056249,\n",
      "        0.00057658, 0.00058413, 0.00054422, 0.00053238, 0.00051383],\n",
      "       [0.00065273, 0.00062829, 0.00061661, 0.00056812, 0.00057764,\n",
      "        0.00057901, 0.00057934, 0.00053882, 0.00054613, 0.00052318],\n",
      "       [0.00059326, 0.00056036, 0.00053558, 0.00050205, 0.00049463,\n",
      "        0.00045213, 0.00044843, 0.00044246, 0.00045197, 0.00041431],\n",
      "       [0.0009228 , 0.00085211, 0.00088417, 0.00087392, 0.00081167,\n",
      "        0.0007962 , 0.00078248, 0.00077675, 0.00080392, 0.00074864],\n",
      "       [0.00070912, 0.00071814, 0.0006775 , 0.00065584, 0.00064343,\n",
      "        0.0006653 , 0.00059154, 0.00059457, 0.00058952, 0.00059358],\n",
      "       [0.00051197, 0.00051329, 0.00049289, 0.00047803, 0.00048867,\n",
      "        0.00046845, 0.00044368, 0.00043828, 0.00042318, 0.00039576],\n",
      "       [0.00070908, 0.00061675, 0.00064893, 0.00062044, 0.00058548,\n",
      "        0.00060694, 0.00056763, 0.00053656, 0.00052815, 0.0005156 ],\n",
      "       [0.00080873, 0.00074148, 0.00073297, 0.00072244, 0.00067148,\n",
      "        0.00066816, 0.00067405, 0.0006278 , 0.0006167 , 0.00062246],\n",
      "       [0.00065425, 0.00062723, 0.00062825, 0.00058408, 0.00060367,\n",
      "        0.00058188, 0.00056772, 0.00053985, 0.00057064, 0.00054489],\n",
      "       [0.00061444, 0.00060302, 0.00060659, 0.00057697, 0.00055602,\n",
      "        0.00053576, 0.00051571, 0.00050946, 0.00050104, 0.0004669 ],\n",
      "       [0.00071208, 0.00065657, 0.00066998, 0.000677  , 0.00062729,\n",
      "        0.00065837, 0.00059431, 0.00061429, 0.00056993, 0.00054774],\n",
      "       [0.00067751, 0.00062687, 0.00065596, 0.00062509, 0.00062423,\n",
      "        0.00060063, 0.00058478, 0.00059875, 0.00053638, 0.0005102 ],\n",
      "       [0.00073027, 0.00069603, 0.00066503, 0.00067349, 0.00067766,\n",
      "        0.00063434, 0.00064717, 0.00061733, 0.00058209, 0.00056138],\n",
      "       [0.00080265, 0.00074285, 0.00073949, 0.00074785, 0.00065267,\n",
      "        0.00068043, 0.00067066, 0.00063385, 0.00064239, 0.00064049],\n",
      "       [0.00082736, 0.00082875, 0.00079301, 0.00075417, 0.00074378,\n",
      "        0.00073408, 0.00075306, 0.00069628, 0.00069086, 0.00066021],\n",
      "       [0.00100062, 0.00094882, 0.0009617 , 0.00093415, 0.00091517,\n",
      "        0.00089189, 0.00088207, 0.00085676, 0.00080055, 0.00082789],\n",
      "       [0.00092042, 0.00089248, 0.0008783 , 0.00093904, 0.00087925,\n",
      "        0.00086904, 0.00083852, 0.00079167, 0.00080455, 0.00078063],\n",
      "       [0.00062778, 0.0006444 , 0.00063464, 0.00058234, 0.00058554,\n",
      "        0.00059484, 0.00058587, 0.0005459 , 0.00050215, 0.0005293 ],\n",
      "       [0.00075678, 0.00072706, 0.00074369, 0.00067094, 0.00065699,\n",
      "        0.00068463, 0.00062728, 0.00061333, 0.00060482, 0.00059497],\n",
      "       [0.00064015, 0.00062287, 0.00061609, 0.00057148, 0.00055552,\n",
      "        0.00052864, 0.00054068, 0.00054422, 0.00051739, 0.00049634],\n",
      "       [0.00097388, 0.00096727, 0.00088355, 0.00090031, 0.00088937,\n",
      "        0.00089348, 0.00086552, 0.00083543, 0.00080197, 0.00080699],\n",
      "       [0.00074469, 0.00072382, 0.00072353, 0.00072571, 0.00071218,\n",
      "        0.00065644, 0.00061737, 0.00060676, 0.00060386, 0.00058839],\n",
      "       [0.00078654, 0.00072595, 0.00072178, 0.00071208, 0.0006763 ,\n",
      "        0.00065937, 0.00065953, 0.00062564, 0.00063322, 0.00061774],\n",
      "       [0.00077832, 0.00073656, 0.0007408 , 0.00069743, 0.00069601,\n",
      "        0.00067439, 0.00066871, 0.00065294, 0.00064073, 0.0005951 ],\n",
      "       [0.00069239, 0.00067579, 0.00067147, 0.00064571, 0.00065272,\n",
      "        0.00062178, 0.00058837, 0.00056415, 0.00057307, 0.00055532]])>\n",
      "batches_list: batches_list=<tf.Tensor: shape=(60, 10), dtype=float64, numpy=\n",
      "array([[20000., 21428., 23076., 25000., 27272., 30000., 33333., 37500.,\n",
      "        42857., 50000.],\n",
      "       [20000., 21428., 23076., 25000., 27272., 30000., 33333., 37500.,\n",
      "        42857., 50000.],\n",
      "       [20000., 21428., 23076., 25000., 27272., 30000., 33333., 37500.,\n",
      "        42857., 50000.],\n",
      "       [20000., 21428., 23076., 25000., 27272., 30000., 33333., 37500.,\n",
      "        42857., 50000.],\n",
      "       [20000., 21428., 23076., 25000., 27272., 30000., 33333., 37500.,\n",
      "        42857., 50000.],\n",
      "       [20000., 21428., 23076., 25000., 27272., 30000., 33333., 37500.,\n",
      "        42857., 50000.],\n",
      "       [20000., 21428., 23076., 25000., 27272., 30000., 33333., 37500.,\n",
      "        42857., 50000.],\n",
      "       [20000., 21428., 23076., 25000., 27272., 30000., 33333., 37500.,\n",
      "        42857., 50000.],\n",
      "       [20000., 21428., 23076., 25000., 27272., 30000., 33333., 37500.,\n",
      "        42857., 50000.],\n",
      "       [20000., 21428., 23076., 25000., 27272., 30000., 33333., 37500.,\n",
      "        42857., 50000.],\n",
      "       [20000., 21428., 23076., 25000., 27272., 30000., 33333., 37500.,\n",
      "        42857., 50000.],\n",
      "       [20000., 21428., 23076., 25000., 27272., 30000., 33333., 37500.,\n",
      "        42857., 50000.],\n",
      "       [20000., 21428., 23076., 25000., 27272., 30000., 33333., 37500.,\n",
      "        42857., 50000.],\n",
      "       [20000., 21428., 23076., 25000., 27272., 30000., 33333., 37500.,\n",
      "        42857., 50000.],\n",
      "       [20000., 21428., 23076., 25000., 27272., 30000., 33333., 37500.,\n",
      "        42857., 50000.],\n",
      "       [20000., 21428., 23076., 25000., 27272., 30000., 33333., 37500.,\n",
      "        42857., 50000.],\n",
      "       [20000., 21428., 23076., 25000., 27272., 30000., 33333., 37500.,\n",
      "        42857., 50000.],\n",
      "       [20000., 21428., 23076., 25000., 27272., 30000., 33333., 37500.,\n",
      "        42857., 50000.],\n",
      "       [20000., 21428., 23076., 25000., 27272., 30000., 33333., 37500.,\n",
      "        42857., 50000.],\n",
      "       [20000., 21428., 23076., 25000., 27272., 30000., 33333., 37500.,\n",
      "        42857., 50000.],\n",
      "       [20000., 21428., 23076., 25000., 27272., 30000., 33333., 37500.,\n",
      "        42857., 50000.],\n",
      "       [20000., 21428., 23076., 25000., 27272., 30000., 33333., 37500.,\n",
      "        42857., 50000.],\n",
      "       [20000., 21428., 23076., 25000., 27272., 30000., 33333., 37500.,\n",
      "        42857., 50000.],\n",
      "       [20000., 21428., 23076., 25000., 27272., 30000., 33333., 37500.,\n",
      "        42857., 50000.],\n",
      "       [20000., 21428., 23076., 25000., 27272., 30000., 33333., 37500.,\n",
      "        42857., 50000.],\n",
      "       [20000., 21428., 23076., 25000., 27272., 30000., 33333., 37500.,\n",
      "        42857., 50000.],\n",
      "       [20000., 21428., 23076., 25000., 27272., 30000., 33333., 37500.,\n",
      "        42857., 50000.],\n",
      "       [20000., 21428., 23076., 25000., 27272., 30000., 33333., 37500.,\n",
      "        42857., 50000.],\n",
      "       [20000., 21428., 23076., 25000., 27272., 30000., 33333., 37500.,\n",
      "        42857., 50000.],\n",
      "       [20000., 21428., 23076., 25000., 27272., 30000., 33333., 37500.,\n",
      "        42857., 50000.],\n",
      "       [20000., 21428., 23076., 25000., 27272., 30000., 33333., 37500.,\n",
      "        42857., 50000.],\n",
      "       [20000., 21428., 23076., 25000., 27272., 30000., 33333., 37500.,\n",
      "        42857., 50000.],\n",
      "       [20000., 21428., 23076., 25000., 27272., 30000., 33333., 37500.,\n",
      "        42857., 50000.],\n",
      "       [20000., 21428., 23076., 25000., 27272., 30000., 33333., 37500.,\n",
      "        42857., 50000.],\n",
      "       [20000., 21428., 23076., 25000., 27272., 30000., 33333., 37500.,\n",
      "        42857., 50000.],\n",
      "       [20000., 21428., 23076., 25000., 27272., 30000., 33333., 37500.,\n",
      "        42857., 50000.],\n",
      "       [20000., 21428., 23076., 25000., 27272., 30000., 33333., 37500.,\n",
      "        42857., 50000.],\n",
      "       [20000., 21428., 23076., 25000., 27272., 30000., 33333., 37500.,\n",
      "        42857., 50000.],\n",
      "       [20000., 21428., 23076., 25000., 27272., 30000., 33333., 37500.,\n",
      "        42857., 50000.],\n",
      "       [20000., 21428., 23076., 25000., 27272., 30000., 33333., 37500.,\n",
      "        42857., 50000.],\n",
      "       [20000., 21428., 23076., 25000., 27272., 30000., 33333., 37500.,\n",
      "        42857., 50000.],\n",
      "       [20000., 21428., 23076., 25000., 27272., 30000., 33333., 37500.,\n",
      "        42857., 50000.],\n",
      "       [20000., 21428., 23076., 25000., 27272., 30000., 33333., 37500.,\n",
      "        42857., 50000.],\n",
      "       [20000., 21428., 23076., 25000., 27272., 30000., 33333., 37500.,\n",
      "        42857., 50000.],\n",
      "       [20000., 21428., 23076., 25000., 27272., 30000., 33333., 37500.,\n",
      "        42857., 50000.],\n",
      "       [20000., 21428., 23076., 25000., 27272., 30000., 33333., 37500.,\n",
      "        42857., 50000.],\n",
      "       [20000., 21428., 23076., 25000., 27272., 30000., 33333., 37500.,\n",
      "        42857., 50000.],\n",
      "       [20000., 21428., 23076., 25000., 27272., 30000., 33333., 37500.,\n",
      "        42857., 50000.],\n",
      "       [20000., 21428., 23076., 25000., 27272., 30000., 33333., 37500.,\n",
      "        42857., 50000.],\n",
      "       [20000., 21428., 23076., 25000., 27272., 30000., 33333., 37500.,\n",
      "        42857., 50000.],\n",
      "       [20000., 21428., 23076., 25000., 27272., 30000., 33333., 37500.,\n",
      "        42857., 50000.],\n",
      "       [20000., 21428., 23076., 25000., 27272., 30000., 33333., 37500.,\n",
      "        42857., 50000.],\n",
      "       [20000., 21428., 23076., 25000., 27272., 30000., 33333., 37500.,\n",
      "        42857., 50000.],\n",
      "       [20000., 21428., 23076., 25000., 27272., 30000., 33333., 37500.,\n",
      "        42857., 50000.],\n",
      "       [20000., 21428., 23076., 25000., 27272., 30000., 33333., 37500.,\n",
      "        42857., 50000.],\n",
      "       [20000., 21428., 23076., 25000., 27272., 30000., 33333., 37500.,\n",
      "        42857., 50000.],\n",
      "       [20000., 21428., 23076., 25000., 27272., 30000., 33333., 37500.,\n",
      "        42857., 50000.],\n",
      "       [20000., 21428., 23076., 25000., 27272., 30000., 33333., 37500.,\n",
      "        42857., 50000.],\n",
      "       [20000., 21428., 23076., 25000., 27272., 30000., 33333., 37500.,\n",
      "        42857., 50000.],\n",
      "       [20000., 21428., 23076., 25000., 27272., 30000., 33333., 37500.,\n",
      "        42857., 50000.]])>\n",
      "FPD metric calculation completed in 31.243937867693603 seconds.\n"
     ]
    },
    {
     "data": {
      "text/plain": [
       "{'metric_list': array([0.00068953, 0.00041027, 0.00043178, 0.00067669, 0.00059741,\n",
       "        0.00057701, 0.00053805, 0.00043665, 0.00082045, 0.00057505,\n",
       "        0.0005612 , 0.00061483, 0.000455  , 0.0005706 , 0.00049953,\n",
       "        0.00053008, 0.00071408, 0.00062844, 0.00061231, 0.00062406,\n",
       "        0.00059482, 0.00063809, 0.00059708, 0.00070794, 0.00058023,\n",
       "        0.00053743, 0.00061803, 0.00069681, 0.00089431, 0.00061246,\n",
       "        0.00058261, 0.00061793, 0.00067165, 0.00081573, 0.00080259,\n",
       "        0.00053762, 0.00053193, 0.00044104, 0.00082616, 0.00059459,\n",
       "        0.00046533, 0.00054444, 0.00063927, 0.00054115, 0.00049968,\n",
       "        0.00058352, 0.00055489, 0.0005992 , 0.00064597, 0.00069872,\n",
       "        0.0009024 , 0.00086008, 0.0005342 , 0.00061873, 0.00051435,\n",
       "        0.00088234, 0.00062095, 0.00063247, 0.00063875, 0.00057487]),\n",
       " 'metric_error_list': array([4.53413391e-05, 5.80229676e-05, 5.27344259e-05, 4.73683286e-05,\n",
       "        4.83596227e-05, 5.39889139e-05, 5.10255942e-05, 4.39177440e-05,\n",
       "        4.54851398e-05, 4.64560213e-05, 5.69594984e-05, 4.21989373e-05,\n",
       "        3.46737164e-05, 3.73374982e-05, 3.70641367e-05, 5.10751907e-05,\n",
       "        5.75049200e-05, 3.23662734e-05, 4.82836637e-05, 5.24599392e-05,\n",
       "        4.91219939e-05, 5.56436427e-05, 4.23458673e-05, 4.53115085e-05,\n",
       "        4.25965351e-05, 5.36114450e-05, 4.47491886e-05, 5.19494546e-05,\n",
       "        5.32937737e-05, 4.69699976e-05, 4.58832627e-05, 4.30548697e-05,\n",
       "        4.70559630e-05, 7.03903467e-05, 7.34838696e-05, 4.88253985e-05,\n",
       "        3.57743515e-05, 5.67993109e-05, 7.03981896e-05, 4.65700265e-05,\n",
       "        4.96038261e-05, 5.93110519e-05, 6.15931251e-05, 3.16886328e-05,\n",
       "        4.67815674e-05, 4.93123579e-05, 4.82667783e-05, 4.84387265e-05,\n",
       "        5.82607393e-05, 5.46038863e-05, 7.92550592e-05, 6.86262713e-05,\n",
       "        4.31158709e-05, 5.81657462e-05, 4.45020847e-05, 7.42274431e-05,\n",
       "        6.12521626e-05, 5.11937825e-05, 5.08800331e-05, 4.68255828e-05])}"
      ]
     },
     "execution_count": 8,
     "metadata": {},
     "output_type": "execute_result"
    }
   ],
   "source": [
    "FPDMetric.Test_tf(max_vectorize = 20)\n",
    "FPDMetric.Results[-1].result_value"
   ]
  },
  {
   "cell_type": "markdown",
   "metadata": {},
   "source": [
    "### KPD Test"
   ]
  },
  {
   "cell_type": "code",
   "execution_count": 15,
   "metadata": {},
   "outputs": [
    {
     "name": "stdout",
     "output_type": "stream",
     "text": [
      "\n",
      "------------------------------------------\n",
      "Starting KPD metric calculation...\n",
      "Running TF KPD calculation...\n",
      "niter = 60\n",
      "batch_size = 10000\n",
      "nchunks = 15\n",
      "Iterating from 0 to 4 out of 60 .\n"
     ]
    },
    {
     "name": "stdout",
     "output_type": "stream",
     "text": [
      "Iterating from 4 to 8 out of 60 .\n",
      "Iterating from 8 to 12 out of 60 .\n",
      "Iterating from 12 to 16 out of 60 .\n",
      "Iterating from 16 to 20 out of 60 .\n",
      "Iterating from 20 to 24 out of 60 .\n",
      "Iterating from 24 to 28 out of 60 .\n",
      "Iterating from 28 to 32 out of 60 .\n",
      "Iterating from 32 to 36 out of 60 .\n",
      "Iterating from 36 to 40 out of 60 .\n",
      "Iterating from 40 to 44 out of 60 .\n",
      "Iterating from 44 to 48 out of 60 .\n",
      "Iterating from 48 to 52 out of 60 .\n",
      "Iterating from 52 to 56 out of 60 .\n",
      "Iterating from 56 to 60 out of 60 .\n",
      "KPD metric calculation completed in 95.6026419410482 seconds.\n"
     ]
    },
    {
     "data": {
      "text/plain": [
       "{'metric_list': array([ 2.29612695e-05,  1.60385911e-05,  4.48163663e-05,  3.29504022e-05,\n",
       "         2.08645182e-05,  7.17790097e-05,  3.48015172e-05,  3.61646553e-05,\n",
       "         1.60612321e-05,  2.20566604e-05,  5.44936862e-05,  7.65324938e-06,\n",
       "         3.41626924e-05, -2.39888718e-06,  3.34587473e-05,  5.40463178e-05,\n",
       "         8.02993226e-06, -5.97207557e-06,  4.11701912e-05,  2.01983434e-05,\n",
       "         7.70303220e-05,  5.98207927e-05,  1.90381188e-05,  3.57092538e-05,\n",
       "         1.45812784e-05,  6.04014548e-05,  5.73120671e-05,  3.89119511e-05,\n",
       "         1.33158566e-04,  4.27633793e-05,  4.70900405e-05,  5.39423928e-05,\n",
       "         2.69892310e-05,  7.25475299e-05,  6.37669137e-05,  6.26878711e-05,\n",
       "         6.08109782e-05, -2.89705477e-06,  9.03608013e-05, -2.70447736e-06,\n",
       "         1.01104238e-04,  2.71794759e-05,  3.47233971e-06,  5.38470304e-05,\n",
       "         2.07921167e-06,  6.57391275e-05,  3.18562188e-05,  1.04847371e-04,\n",
       "         7.08465478e-05,  1.74792240e-04,  4.07526792e-05,  9.77657025e-05,\n",
       "         5.31240635e-05,  3.83390321e-05, -2.54967095e-07,  2.24215077e-05,\n",
       "         3.66144283e-05,  2.00634494e-05,  7.51730299e-05,  3.30514162e-05]),\n",
       " 'metric_error_list': array([4.31314491e-05, 3.94758411e-05, 4.15172446e-05, 4.75738332e-05,\n",
       "        4.81926237e-05, 5.86105448e-05, 4.96268997e-05, 3.48700625e-05,\n",
       "        5.60127346e-05, 1.34245148e-05, 9.02309152e-05, 4.76687780e-05,\n",
       "        3.35082249e-05, 3.87964303e-05, 6.25551541e-05, 4.88271128e-05,\n",
       "        3.89998914e-05, 1.35618507e-05, 4.97273636e-05, 2.51241430e-05,\n",
       "        2.55340227e-05, 6.54184265e-05, 4.25053676e-05, 3.85012985e-05,\n",
       "        3.32821340e-05, 2.72668886e-05, 5.88248091e-05, 4.29380133e-05,\n",
       "        6.26973292e-05, 4.21306341e-05, 4.32222439e-05, 6.06554636e-05,\n",
       "        4.35220755e-05, 4.79553867e-05, 3.08578428e-05, 6.45112618e-05,\n",
       "        7.20817093e-05, 5.04497361e-05, 4.48864978e-05, 3.56334417e-05,\n",
       "        6.17138146e-05, 4.06361790e-05, 6.79330702e-05, 5.15299629e-05,\n",
       "        4.69861176e-05, 5.18578724e-05, 6.22229194e-05, 7.25818531e-05,\n",
       "        5.81604268e-05, 1.10644403e-04, 4.71884375e-05, 7.70380619e-05,\n",
       "        1.88710334e-05, 9.63770989e-05, 2.30224260e-05, 4.81679276e-05,\n",
       "        5.71685396e-05, 4.23638337e-05, 6.53232016e-05, 6.20211609e-05])}"
      ]
     },
     "execution_count": 15,
     "metadata": {},
     "output_type": "execute_result"
    }
   ],
   "source": [
    "KPDMetric.Test_tf(max_vectorize = 4)\n",
    "KPDMetric.Results[-1].result_value"
   ]
  },
  {
   "cell_type": "code",
   "execution_count": 10,
   "metadata": {},
   "outputs": [],
   "source": [
    "def _poly_kernel_pairwise(X, Y, degree: int) -> np.ndarray:\n",
    "    \"\"\"Pairwise polynomial kernel of degree ``degree`` between X and Y\"\"\"\n",
    "    gamma = 1.0 / X.shape[-1]\n",
    "    return (X @ Y.T * gamma + 1.0) ** degree\n",
    "def _mmd_quadratic_unbiased(XX, YY, XY):\n",
    "    \"\"\"Calculate quadratic estimate for MMD given pairwise distances between X and Y\"\"\"\n",
    "    m, n = XX.shape[0], YY.shape[0]\n",
    "    # subtract diagonal 1s\n",
    "    return (\n",
    "        (XX.sum() - np.trace(XX)) / (m * (m - 1))\n",
    "        + (YY.sum() - np.trace(YY)) / (n * (n - 1))\n",
    "        - 2 * np.mean(XY)\n",
    "    )\n",
    "def _mmd_poly_quadratic_unbiased(X, Y, degree: int = 4) -> float:\n",
    "    \"\"\"Calculate quadratic estimate for MMD with a polynomial kernel of degree ``degree``\"\"\"\n",
    "    XX = _poly_kernel_pairwise(X, X, degree=degree)\n",
    "    YY = _poly_kernel_pairwise(Y, Y, degree=degree)\n",
    "    XY = _poly_kernel_pairwise(X, Y, degree=degree)\n",
    "    return _mmd_quadratic_unbiased(XX, YY, XY)\n",
    "def _kpd_batches(X, Y, num_batches, batch_size, seed):\n",
    "    vals_point = []\n",
    "    for i in range(num_batches):\n",
    "        np.random.seed(seed + i * 1_000)\n",
    "        rand1 = np.random.choice(len(X), size=batch_size)\n",
    "        rand2 = np.random.choice(len(Y), size=batch_size)\n",
    "\n",
    "        rand_sample1 = X[rand1]\n",
    "        rand_sample2 = Y[rand2]\n",
    "\n",
    "        val = _mmd_poly_quadratic_unbiased(rand_sample1, rand_sample2)\n",
    "        vals_point.append(val)\n",
    "\n",
    "    return vals_point"
   ]
  },
  {
   "cell_type": "code",
   "execution_count": 12,
   "metadata": {},
   "outputs": [
    {
     "data": {
      "text/plain": [
       "[0.0006625389398742243,\n",
       " 0.0004542983084911967,\n",
       " 6.240272517743506e-05,\n",
       " -0.0021642069024063737,\n",
       " -0.0002327492733860126,\n",
       " -1.4299913873916381e-05,\n",
       " 0.00021013482630083402,\n",
       " 0.0004080223367259883,\n",
       " -0.0015613096410813654,\n",
       " 5.987234147664111e-05]"
      ]
     },
     "execution_count": 12,
     "metadata": {},
     "output_type": "execute_result"
    }
   ],
   "source": [
    "v0 = _kpd_batches(TwoSampleTestInputs.dist_1_num[:10000],TwoSampleTestInputs.dist_1_num[:10000],10,5000,42)\n",
    "v0"
   ]
  },
  {
   "cell_type": "code",
   "execution_count": 15,
   "metadata": {},
   "outputs": [
    {
     "data": {
      "text/plain": [
       "6.113753332703808e-05"
      ]
     },
     "execution_count": 15,
     "metadata": {},
     "output_type": "execute_result"
    }
   ],
   "source": [
    "np.median(v0)"
   ]
  },
  {
   "cell_type": "code",
   "execution_count": 13,
   "metadata": {},
   "outputs": [
    {
     "data": {
      "text/plain": [
       "<tf.Tensor: shape=(10,), dtype=float64, numpy=\n",
       "array([ 0.00118308,  0.00050608,  0.00104617, -0.00125501,  0.00183562,\n",
       "       -0.00025354, -0.00082835, -0.00084631, -0.00035772,  0.00028389])>"
      ]
     },
     "execution_count": 13,
     "metadata": {},
     "output_type": "execute_result"
    }
   ],
   "source": [
    "v1 = GMetrics.kpd_metrics.kpd_tf(TwoSampleTestInputs.dist_1_num[:10000],TwoSampleTestInputs.dist_1_num[:10000])\n",
    "v1"
   ]
  },
  {
   "cell_type": "code",
   "execution_count": 16,
   "metadata": {},
   "outputs": [
    {
     "data": {
      "text/plain": [
       "1.5174629029113262e-05"
      ]
     },
     "execution_count": 16,
     "metadata": {},
     "output_type": "execute_result"
    }
   ],
   "source": [
    "np.median(v1)"
   ]
  },
  {
   "cell_type": "code",
   "execution_count": 17,
   "metadata": {},
   "outputs": [
    {
     "data": {
      "text/plain": [
       "(-9.067594746836605e-06, 1.4070109379338336e-05)"
      ]
     },
     "execution_count": 17,
     "metadata": {},
     "output_type": "execute_result"
    }
   ],
   "source": [
    "JMetrics.kpd(TwoSampleTestInputs.dist_1_num[:10000],TwoSampleTestInputs.dist_1_num[:10000])"
   ]
  },
  {
   "cell_type": "code",
   "execution_count": 18,
   "metadata": {},
   "outputs": [
    {
     "data": {
      "text/plain": [
       "<tf.Tensor: shape=(10,), dtype=float64, numpy=\n",
       "array([ 0.00024269,  0.00012458, -0.00116677,  0.00086813, -0.00092716,\n",
       "        0.00047338, -0.00156504, -0.00087922, -0.00024123,  0.00119969])>"
      ]
     },
     "execution_count": 18,
     "metadata": {},
     "output_type": "execute_result"
    }
   ],
   "source": [
    "v = GMetrics.kpd_metrics.kpd_tf(TwoSampleTestInputs.dist_1_num[:10000],TwoSampleTestInputs.dist_1_num[:10000])\n",
    "v"
   ]
  },
  {
   "cell_type": "code",
   "execution_count": 19,
   "metadata": {},
   "outputs": [
    {
     "data": {
      "text/plain": [
       "(array([-5.8325262e-05]), array([0.00087004]))"
      ]
     },
     "execution_count": 19,
     "metadata": {},
     "output_type": "execute_result"
    }
   ],
   "source": [
    "GMetrics.kpd_metrics.kpd_tf_output(v)"
   ]
  },
  {
   "cell_type": "markdown",
   "metadata": {},
   "source": [
    "### KS Test"
   ]
  },
  {
   "cell_type": "code",
   "execution_count": 31,
   "metadata": {},
   "outputs": [
    {
     "name": "stdout",
     "output_type": "stream",
     "text": [
      "\n",
      "------------------------------------------\n",
      "Starting KS tests calculation...\n",
      "Running TF KS tests...\n",
      "niter = 10\n",
      "batch_size = 10000\n",
      "WARNING:tensorflow:Using a while_loop for converting StridedSlice\n",
      "WARNING:tensorflow:Using a while_loop for converting StridedSlice\n",
      "WARNING:tensorflow:Using a while_loop for converting TopKV2\n",
      "WARNING:tensorflow:Using a while_loop for converting TopKV2\n",
      "WARNING:tensorflow:Using a while_loop for converting StridedSlice\n",
      "WARNING:tensorflow:Using a while_loop for converting StridedSlice\n",
      "WARNING:tensorflow:Using a while_loop for converting StridedSlice\n",
      "WARNING:tensorflow:Using a while_loop for converting StridedSlice\n",
      "WARNING:tensorflow:6 out of the last 6 calls to <function pfor.<locals>.f at 0x7f30804f4820> triggered tf.function retracing. Tracing is expensive and the excessive number of tracings could be due to (1) creating @tf.function repeatedly in a loop, (2) passing tensors with different shapes, (3) passing Python objects instead of tensors. For (1), please define your @tf.function outside of the loop. For (2), @tf.function has reduce_retracing=True option that can avoid unnecessary retracing. For (3), please refer to https://www.tensorflow.org/guide/function#controlling_retracing and https://www.tensorflow.org/api_docs/python/tf/function for  more details.\n",
      "KS tests calculation completed in 1.6252719331532717 seconds.\n"
     ]
    },
    {
     "data": {
      "text/plain": [
       "{'statistic_lists': array([[0.01339999, 0.01319999, 0.0187    , 0.00960004, 0.01300001],\n",
       "        [0.0096    , 0.00700003, 0.02070004, 0.0158    , 0.01409996],\n",
       "        [0.00740004, 0.01140001, 0.01190001, 0.02070004, 0.01360002],\n",
       "        [0.00760001, 0.01549999, 0.00909996, 0.02000001, 0.01559997],\n",
       "        [0.00529999, 0.0104    , 0.009     , 0.00770003, 0.0094    ],\n",
       "        [0.01680002, 0.0079    , 0.009     , 0.00880003, 0.01440001],\n",
       "        [0.0122    , 0.01540002, 0.01209998, 0.00830001, 0.01489997],\n",
       "        [0.01359999, 0.00760001, 0.00990003, 0.014     , 0.01480001],\n",
       "        [0.00870001, 0.0117    , 0.00930005, 0.01370001, 0.01420003],\n",
       "        [0.00819999, 0.01230001, 0.01300001, 0.00850004, 0.01740003]]),\n",
       " 'statistic_means': array([0.01358001, 0.01344   , 0.01300002, 0.01355999, 0.00836   ,\n",
       "        0.01138001, 0.01258   , 0.01198001, 0.01152002, 0.01188002]),\n",
       " 'statistic_stds': array([0.0029178 , 0.00479442, 0.00435385, 0.00457848, 0.00175796,\n",
       "        0.00354762, 0.00253093, 0.00276289, 0.00222926, 0.00337248]),\n",
       " 'pvalue_lists': array([[0.33053708, 0.3483209 , 0.06058049, 0.7461338 , 0.36671996],\n",
       "        [0.74613893, 0.9670673 , 0.02754951, 0.16466999, 0.27321053],\n",
       "        [0.9470914 , 0.53424585, 0.47838771, 0.02754951, 0.31337404],\n",
       "        [0.93490171, 0.18084908, 0.80206013, 0.03663087, 0.17532438],\n",
       "        [0.99897546, 0.65179384, 0.81274796, 0.928258  , 0.76893413],\n",
       "        [0.11890054, 0.91390467, 0.81274796, 0.83351439, 0.25096452],\n",
       "        [0.44627738, 0.18650949, 0.45685488, 0.8811397 , 0.21692026],\n",
       "        [0.31337655, 0.93490171, 0.71117187, 0.28092968, 0.22342992],\n",
       "        [0.84356195, 0.50040638, 0.78012741, 0.30502933, 0.2656371 ],\n",
       "        [0.88981426, 0.43583322, 0.36671996, 0.86289787, 0.09685159]]),\n",
       " 'pvalue_means': array([0.37045845, 0.43572725, 0.4601297 , 0.42595323, 0.83214188,\n",
       "        0.58600641, 0.43754034, 0.49276195, 0.53895243, 0.53042338]),\n",
       " 'pvalue_stds': array([0.2187483 , 0.35921316, 0.30053988, 0.36740923, 0.12162936,\n",
       "        0.33185242, 0.24856367, 0.28027923, 0.23742764, 0.30444431])}"
      ]
     },
     "execution_count": 31,
     "metadata": {},
     "output_type": "execute_result"
    }
   ],
   "source": [
    "KSTest.Test_tf(max_vectorize=100)\n",
    "KSTest.Results[-1].result_value"
   ]
  },
  {
   "cell_type": "markdown",
   "metadata": {},
   "source": [
    "### LR Test"
   ]
  },
  {
   "cell_type": "code",
   "execution_count": 8,
   "metadata": {},
   "outputs": [
    {
     "name": "stdout",
     "output_type": "stream",
     "text": [
      "\n",
      "------------------------------------------\n",
      "Starting LR metric calculation...\n",
      "Running TF LR calculation...\n",
      "niter = 60\n",
      "batch_size = 10000\n"
     ]
    },
    {
     "name": "stdout",
     "output_type": "stream",
     "text": [
      "LR metric calculation completed in 1.7027080776169896 seconds.\n"
     ]
    },
    {
     "data": {
      "text/plain": [
       "{'logprob_ref_ref_sum_list': array([-142103.78968538, -142074.16451306, -141806.1244319 ,\n",
       "        -141814.13429209, -141827.50692153, -141914.78736572,\n",
       "        -141784.2595698 , -141927.90295817, -141960.80694134,\n",
       "        -142077.3922252 , -141675.53663609, -141568.6383356 ,\n",
       "        -142260.01001469, -141755.84508368, -142220.49963952,\n",
       "        -141848.96993428, -142088.05443493, -141508.33800807,\n",
       "        -141852.8478124 , -141840.17635951, -142117.5500106 ,\n",
       "        -141986.83058921, -141409.66825005, -141474.55550333,\n",
       "        -141580.45816865, -141908.57730732, -142184.56845857,\n",
       "        -142391.04309727, -141852.1139745 , -141494.573108  ,\n",
       "        -141669.07523676, -141655.01412501, -141517.79222369,\n",
       "        -141200.48071813, -141869.82391378, -141907.13832742,\n",
       "        -142279.49082403, -141513.65514788, -141703.89865503,\n",
       "        -141731.94133253, -142041.34782309, -141991.17144497,\n",
       "        -141485.39676367, -142040.2481992 , -141473.24553477,\n",
       "        -142194.35748645, -141740.18153291, -141977.61042053,\n",
       "        -141647.8552071 , -141918.96091873, -141705.25409652,\n",
       "        -141769.82476783, -141892.96923367, -142275.45937686,\n",
       "        -142303.9505257 , -141924.87765926, -141771.47507883,\n",
       "        -142224.84651728, -141900.38130996, -141853.71092004]),\n",
       " 'logprob_ref_alt_sum_list': array([-141870.9371078 , -142446.45845472, -141577.8101415 ,\n",
       "        -142044.78559403, -141826.71710063, -142430.65083709,\n",
       "        -141738.27547521, -141884.81061094, -142100.99404603,\n",
       "        -141829.38917863, -141593.29485666, -142080.29314451,\n",
       "        -141685.98086022, -141897.48197559, -142247.55467876,\n",
       "        -141643.83838727, -142027.6890966 , -142072.79503843,\n",
       "        -142088.74464415, -142079.22271505, -141974.13359979,\n",
       "        -141967.09377935, -142148.18588395, -141932.83045398,\n",
       "        -141625.43882227, -142061.91745557, -141643.70318744,\n",
       "        -142089.83595241, -141628.23428559, -142099.26977222,\n",
       "        -141907.40447569, -141964.85424382, -142418.31198481,\n",
       "        -142038.57674171, -141851.28129803, -141663.11157288,\n",
       "        -142234.15534766, -141944.71563135, -142105.58819374,\n",
       "        -142006.25278493, -141980.40733544, -141915.19305341,\n",
       "        -142438.16024973, -142371.46936717, -142087.30329741,\n",
       "        -141785.65164859, -141913.7549263 , -141877.07541025,\n",
       "        -141703.98836547, -141857.85925143, -142121.17555698,\n",
       "        -141618.00327728, -141857.34640256, -142141.57516154,\n",
       "        -142049.14150241, -142102.93856966, -141657.58382392,\n",
       "        -141748.44117087, -141828.55115532, -141649.33852899]),\n",
       " 'logprob_alt_alt_sum_list': array([-141867.97028249, -142442.77183497, -141577.6347046 ,\n",
       "        -142044.01081384, -141826.34386574, -142428.77113798,\n",
       "        -141738.14749561, -141883.91752222, -142100.91476565,\n",
       "        -141826.87623665, -141589.3611126 , -142076.72630933,\n",
       "        -141681.8639302 , -141894.71137308, -142249.13611894,\n",
       "        -141640.80796449, -142027.97335616, -142069.76076159,\n",
       "        -142088.31256308, -142077.15162365, -141974.2282508 ,\n",
       "        -141964.81885257, -142142.6846382 , -141931.210623  ,\n",
       "        -141625.70604787, -142061.6248782 , -141643.39778395,\n",
       "        -142089.70253488, -141626.43568512, -142096.67210063,\n",
       "        -141905.39662147, -141963.21166708, -142414.5076635 ,\n",
       "        -142035.7448925 , -141849.05188984, -141664.35840907,\n",
       "        -142235.24261882, -141944.33547772, -142104.53230363,\n",
       "        -142005.69769902, -141978.25898572, -141914.0368118 ,\n",
       "        -142434.78196259, -142368.85754297, -142088.71277054,\n",
       "        -141784.49132651, -141912.19236349, -141874.1385    ,\n",
       "        -141700.46249291, -141857.32332198, -142120.2775791 ,\n",
       "        -141616.10238938, -141856.15949882, -142137.24411795,\n",
       "        -142047.88109434, -142104.10709977, -141656.83479523,\n",
       "        -141746.54747724, -141827.87422296, -141648.08047052]),\n",
       " 'lik_ratio_list': array([ 5.93365062,  7.3732395 ,  0.35087379,  1.54956038,  0.74646977,\n",
       "         3.75939823,  0.25595919,  1.78617744,  0.15856077,  5.02588396,\n",
       "         7.86748811,  7.13367037,  8.23386005,  5.541205  , -3.16288037,\n",
       "         6.06084557, -0.56851914,  6.06855368,  0.86416214,  4.14218279,\n",
       "        -0.18930203,  4.54985356, 11.00249149,  3.23966195, -0.5344512 ,\n",
       "         0.58515474,  0.61080697,  0.26683505,  3.59720095,  5.19534318,\n",
       "         4.01570845,  3.28515348,  7.60864262,  5.66369842,  4.45881638,\n",
       "        -2.49367238, -2.17454232,  0.76030727,  2.11178022,  1.11017181,\n",
       "         4.29669945,  2.31248322,  6.75657428,  5.2236484 , -2.81894626,\n",
       "         2.32064415,  3.12512562,  5.87382051,  7.05174512,  1.07185891,\n",
       "         1.79595576,  3.80177579,  2.37380749,  8.66208717,  2.52081614,\n",
       "        -2.33706023,  1.49805737,  3.78738726,  1.35386471,  2.51611693]),\n",
       " 'lik_ratio_norm_list': array([ 0.05933651,  0.07373239,  0.00350874,  0.0154956 ,  0.0074647 ,\n",
       "         0.03759398,  0.00255959,  0.01786177,  0.00158561,  0.05025884,\n",
       "         0.07867488,  0.0713367 ,  0.0823386 ,  0.05541205, -0.0316288 ,\n",
       "         0.06060846, -0.00568519,  0.06068554,  0.00864162,  0.04142183,\n",
       "        -0.00189302,  0.04549854,  0.11002491,  0.03239662, -0.00534451,\n",
       "         0.00585155,  0.00610807,  0.00266835,  0.03597201,  0.05195343,\n",
       "         0.04015708,  0.03285153,  0.07608643,  0.05663698,  0.04458816,\n",
       "        -0.02493672, -0.02174542,  0.00760307,  0.0211178 ,  0.01110172,\n",
       "         0.04296699,  0.02312483,  0.06756574,  0.05223648, -0.02818946,\n",
       "         0.02320644,  0.03125126,  0.05873821,  0.07051745,  0.01071859,\n",
       "         0.01795956,  0.03801776,  0.02373807,  0.08662087,  0.02520816,\n",
       "        -0.0233706 ,  0.01498057,  0.03787387,  0.01353865,  0.02516117])}"
      ]
     },
     "execution_count": 8,
     "metadata": {},
     "output_type": "execute_result"
    }
   ],
   "source": [
    "LRMetric.Test_tf()\n",
    "LRMetric.Results[-1].result_value"
   ]
  },
  {
   "cell_type": "code",
   "execution_count": 32,
   "metadata": {},
   "outputs": [
    {
     "name": "stdout",
     "output_type": "stream",
     "text": [
      "\n",
      "------------------------------------------\n",
      "Starting LR metric calculation...\n",
      "Running TF LR calculation...\n",
      "niter = 10\n",
      "batch_size = 10000\n",
      "LR metric calculation completed in 0.09723280929028988 seconds.\n"
     ]
    },
    {
     "data": {
      "text/plain": [
       "{'logprob_ref_ref_sum_list': array([-71267.65991775, -71192.02693632, -71015.9538473 , -71049.52038285,\n",
       "        -71260.45818174, -70981.29497924, -70692.02048531, -71049.26794388,\n",
       "        -71273.8043376 , -70932.77140699]),\n",
       " 'logprob_ref_alt_sum_list': array([-71093.45584759, -70841.35525502, -70819.6362258 , -70968.46116243,\n",
       "        -71320.70543361, -71073.89962366, -71212.70552291, -71072.31388476,\n",
       "        -70944.72723919, -70979.56628662]),\n",
       " 'logprob_alt_alt_sum_list': array([-71093.13595355, -70840.52723153, -70820.77781157, -70967.01129272,\n",
       "        -71319.50163863, -71074.22162046, -71213.22432555, -71071.87870667,\n",
       "        -70943.10785056, -70977.98318687]),\n",
       " 'lik_ratio_list': array([ 0.63978809,  1.65604698, -2.28317155,  2.89973941,  2.40758997,\n",
       "        -0.6439936 , -1.03760528,  0.87035618,  3.23877727,  3.1661995 ]),\n",
       " 'lik_ratio_norm_list': array([ 0.00639788,  0.01656047, -0.02283172,  0.02899739,  0.0240759 ,\n",
       "        -0.00643994, -0.01037605,  0.00870356,  0.03238777,  0.031662  ])}"
      ]
     },
     "execution_count": 32,
     "metadata": {},
     "output_type": "execute_result"
    }
   ],
   "source": [
    "LRMetric.Test_tf()\n",
    "LRMetric.Results[-1].result_value"
   ]
  },
  {
   "cell_type": "markdown",
   "metadata": {},
   "source": [
    "### MultiKS Test"
   ]
  },
  {
   "cell_type": "code",
   "execution_count": 33,
   "metadata": {},
   "outputs": [
    {
     "name": "stdout",
     "output_type": "stream",
     "text": [
      "\n",
      "------------------------------------------\n",
      "Starting MultiKS tests calculation...\n",
      "Running TF MultiKS tests...\n",
      "niter = 10\n",
      "batch_size = 10000\n",
      "MultiKS tests calculation completed in 0.01761605031788349 seconds.\n"
     ]
    },
    {
     "data": {
      "text/plain": [
       "{'metric_list': array([0.01630002, 0.0186    , 0.0203    , 0.02329999, 0.0152    ,\n",
       "        0.01540002, 0.01990002, 0.01679999, 0.01879999, 0.0132    ])}"
      ]
     },
     "execution_count": 33,
     "metadata": {},
     "output_type": "execute_result"
    }
   ],
   "source": [
    "MultiKSTest.Test_tf()\n",
    "MultiKSTest.Results[-1].result_value"
   ]
  },
  {
   "cell_type": "markdown",
   "metadata": {},
   "source": [
    "### SKS Test"
   ]
  },
  {
   "cell_type": "code",
   "execution_count": 34,
   "metadata": {},
   "outputs": [
    {
     "name": "stdout",
     "output_type": "stream",
     "text": [
      "\n",
      "------------------------------------------\n",
      "Starting SKS metric calculation...\n",
      "Running TF SKS calculation...\n",
      "niter = 10\n",
      "batch_size = 10000\n",
      "WARNING:tensorflow:Using a while_loop for converting StridedSlice\n",
      "WARNING:tensorflow:Using a while_loop for converting StridedSlice\n",
      "WARNING:tensorflow:Using a while_loop for converting TopKV2\n",
      "WARNING:tensorflow:Using a while_loop for converting TopKV2\n",
      "WARNING:tensorflow:Using a while_loop for converting StridedSlice\n",
      "WARNING:tensorflow:Using a while_loop for converting StridedSlice\n",
      "WARNING:tensorflow:Using a while_loop for converting StridedSlice\n",
      "WARNING:tensorflow:Using a while_loop for converting StridedSlice\n",
      "SKS metric calculation completed in 5.812992017250508 seconds.\n"
     ]
    },
    {
     "data": {
      "text/plain": [
       "{'metric_lists': array([[0.0151    , 0.0117    , 0.01559997, 0.009     , 0.0122    ,\n",
       "         0.00810003, 0.009     , 0.01929998, 0.01300001, 0.009     ,\n",
       "         0.00740004, 0.01050001, 0.00959998, 0.01340002, 0.01230001,\n",
       "         0.01530001, 0.01480001, 0.01480001, 0.01450002, 0.01420003,\n",
       "         0.01539999, 0.00870001, 0.00810003, 0.01840001, 0.01390004,\n",
       "         0.01190001, 0.0124    , 0.00850001, 0.01190001, 0.00949997,\n",
       "         0.01010001, 0.00830001, 0.01350001, 0.0167    , 0.01389998,\n",
       "         0.01320004, 0.01370001, 0.0086    , 0.00570001, 0.01279998,\n",
       "         0.01480001, 0.01269999, 0.01200002, 0.00810003, 0.01700002,\n",
       "         0.01100004, 0.0133    , 0.00740001, 0.02360001, 0.01300001,\n",
       "         0.00879997, 0.01069999, 0.02080002, 0.0145    , 0.01230001,\n",
       "         0.0147    , 0.00839996, 0.00830001, 0.01130003, 0.0113    ,\n",
       "         0.01280001, 0.0137    , 0.00929999, 0.0255    , 0.01470001,\n",
       "         0.0176    , 0.01199999, 0.00820002, 0.01090002, 0.00770003,\n",
       "         0.0095    , 0.01590002, 0.0126    , 0.01710001, 0.00870001,\n",
       "         0.00650001, 0.01010001, 0.0115    , 0.00999999, 0.01480001,\n",
       "         0.01750001, 0.00760001, 0.0099    , 0.01410002, 0.01290001,\n",
       "         0.0077    , 0.01409999, 0.01279998, 0.00930001, 0.00999999,\n",
       "         0.01160002, 0.01429999, 0.0165    , 0.009     , 0.00659999,\n",
       "         0.0151    , 0.01359999, 0.0095    , 0.01160002, 0.01319999],\n",
       "        [0.01300001, 0.00910002, 0.016     , 0.00830001, 0.0087    ,\n",
       "         0.0095    , 0.01590002, 0.01460004, 0.01160002, 0.01020002,\n",
       "         0.02219999, 0.0086    , 0.0201    , 0.01020002, 0.01090002,\n",
       "         0.01840001, 0.00879997, 0.00940001, 0.01639999, 0.01999998,\n",
       "         0.014     , 0.00950003, 0.01120001, 0.01040001, 0.0178    ,\n",
       "         0.01770002, 0.01730001, 0.01350001, 0.01250002, 0.00879997,\n",
       "         0.01370001, 0.01780003, 0.01529998, 0.0132    , 0.0097    ,\n",
       "         0.01740003, 0.02340001, 0.0104    , 0.01859999, 0.01250002,\n",
       "         0.01540001, 0.01489997, 0.01140004, 0.01719999, 0.0108    ,\n",
       "         0.00910002, 0.01300001, 0.01350003, 0.01279998, 0.01319999,\n",
       "         0.00830001, 0.02569997, 0.01160002, 0.00560001, 0.01530001,\n",
       "         0.01729995, 0.00919999, 0.01600003, 0.0156    , 0.0178    ,\n",
       "         0.01479998, 0.01239997, 0.01490003, 0.01610002, 0.00919998,\n",
       "         0.01569998, 0.00870001, 0.00920004, 0.0151    , 0.01160002,\n",
       "         0.01530001, 0.01609999, 0.02100003, 0.00999999, 0.01270002,\n",
       "         0.01630002, 0.01969999, 0.01110002, 0.01309997, 0.01489997,\n",
       "         0.01370001, 0.00749999, 0.00999999, 0.01159996, 0.01539999,\n",
       "         0.0187    , 0.0165    , 0.01579998, 0.00920001, 0.02090001,\n",
       "         0.01299995, 0.01550001, 0.01370001, 0.01139998, 0.01560003,\n",
       "         0.01540005, 0.01560003, 0.00910002, 0.0089    , 0.02090001],\n",
       "        [0.01209998, 0.01340002, 0.01100004, 0.01349998, 0.01160002,\n",
       "         0.014     , 0.01850003, 0.0086    , 0.01290001, 0.0169    ,\n",
       "         0.01270002, 0.01640001, 0.0169    , 0.0158    , 0.01610005,\n",
       "         0.0108    , 0.01230001, 0.01370001, 0.01429999, 0.01320004,\n",
       "         0.0096    , 0.00910002, 0.01620001, 0.01049995, 0.01360002,\n",
       "         0.01199996, 0.0131    , 0.01889998, 0.0071    , 0.01900002,\n",
       "         0.01100004, 0.00999999, 0.01340002, 0.01439999, 0.00850001,\n",
       "         0.01440001, 0.01820001, 0.01429999, 0.015     , 0.01650006,\n",
       "         0.01789999, 0.0113    , 0.0077    , 0.02140003, 0.01199999,\n",
       "         0.01660001, 0.0183    , 0.01250002, 0.0093    , 0.00950003,\n",
       "         0.01750001, 0.0203    , 0.00920001, 0.01100004, 0.01029998,\n",
       "         0.0176    , 0.01930004, 0.01100004, 0.01280004, 0.01240003,\n",
       "         0.01539999, 0.01109999, 0.00950003, 0.0131    , 0.014     ,\n",
       "         0.01559997, 0.01000005, 0.0156    , 0.01640004, 0.01450001,\n",
       "         0.01200002, 0.01349998, 0.00919998, 0.00980002, 0.01440001,\n",
       "         0.00870001, 0.0095    , 0.01570001, 0.02130002, 0.0187    ,\n",
       "         0.00980002, 0.01099998, 0.00800002, 0.00929999, 0.01499999,\n",
       "         0.0086    , 0.00699997, 0.01290001, 0.01020002, 0.01670003,\n",
       "         0.01809999, 0.01119998, 0.00729999, 0.01680002, 0.01059999,\n",
       "         0.01320004, 0.0106    , 0.01360002, 0.01550001, 0.01450002],\n",
       "        [0.00980002, 0.01600003, 0.0183    , 0.01370001, 0.01070005,\n",
       "         0.01219998, 0.01460004, 0.01610002, 0.01809996, 0.01069999,\n",
       "         0.01020002, 0.01750001, 0.01539999, 0.01620001, 0.01410002,\n",
       "         0.01709998, 0.0106    , 0.01450002, 0.0121    , 0.0117    ,\n",
       "         0.0104    , 0.01140001, 0.01010001, 0.01459999, 0.0133    ,\n",
       "         0.0077    , 0.00990003, 0.0122    , 0.00670004, 0.01090002,\n",
       "         0.01879996, 0.01630002, 0.01640001, 0.01490003, 0.01180001,\n",
       "         0.00919998, 0.01289999, 0.0108    , 0.00959998, 0.01300001,\n",
       "         0.00999999, 0.01120001, 0.01100001, 0.01430002, 0.01450002,\n",
       "         0.01719999, 0.01429999, 0.01019999, 0.01289999, 0.01350001,\n",
       "         0.01550001, 0.01030001, 0.01249999, 0.023     , 0.01460001,\n",
       "         0.00989997, 0.00930005, 0.01720002, 0.00909999, 0.01089999,\n",
       "         0.0169    , 0.02080005, 0.01539999, 0.0116    , 0.00980002,\n",
       "         0.01480001, 0.00640002, 0.01350003, 0.01100001, 0.01710001,\n",
       "         0.0116    , 0.01359999, 0.0054    , 0.00650001, 0.01200001,\n",
       "         0.00989997, 0.00690001, 0.01800001, 0.01959997, 0.00819999,\n",
       "         0.007     , 0.01520002, 0.00959998, 0.01050001, 0.00700001,\n",
       "         0.00730002, 0.01550001, 0.009     , 0.01609999, 0.01249999,\n",
       "         0.0086    , 0.00710005, 0.01859999, 0.01130003, 0.0092    ,\n",
       "         0.0079    , 0.01500002, 0.01050001, 0.01230001, 0.00980002],\n",
       "        [0.00809997, 0.0089    , 0.0072    , 0.01719999, 0.00830001,\n",
       "         0.00810003, 0.01050001, 0.01100004, 0.00990003, 0.01249999,\n",
       "         0.00890005, 0.00830001, 0.0104    , 0.01279998, 0.01210004,\n",
       "         0.01309997, 0.00999999, 0.01059997, 0.014     , 0.00830001,\n",
       "         0.01290001, 0.01090002, 0.01429999, 0.0086    , 0.00950003,\n",
       "         0.00930001, 0.01230001, 0.01499999, 0.0079    , 0.01249999,\n",
       "         0.00850004, 0.01029998, 0.00580001, 0.0127    , 0.0082    ,\n",
       "         0.00930001, 0.00910001, 0.01300001, 0.0108    , 0.01099998,\n",
       "         0.0094    , 0.01060003, 0.00690001, 0.0068    , 0.01069999,\n",
       "         0.00920004, 0.01520002, 0.01470003, 0.00770003, 0.0126    ,\n",
       "         0.0114    , 0.00839996, 0.01450002, 0.00760001, 0.01170003,\n",
       "         0.00850004, 0.01289999, 0.015     , 0.01350003, 0.01290002,\n",
       "         0.0068    , 0.01270001, 0.009     , 0.0059    , 0.0098    ,\n",
       "         0.0105    , 0.01180001, 0.0108    , 0.009     , 0.00630003,\n",
       "         0.01429999, 0.0108    , 0.0126    , 0.01110002, 0.01300001,\n",
       "         0.01500002, 0.00780001, 0.0115    , 0.01010001, 0.01120001,\n",
       "         0.0138    , 0.01440001, 0.00620002, 0.00940001, 0.01389998,\n",
       "         0.01229998, 0.01390001, 0.01130003, 0.01410002, 0.00760001,\n",
       "         0.00690001, 0.00929999, 0.00800002, 0.0097    , 0.0097    ,\n",
       "         0.01349998, 0.01239997, 0.007     , 0.00770003, 0.0071    ],\n",
       "        [0.009     , 0.01300001, 0.01410002, 0.01100001, 0.01780003,\n",
       "         0.01939997, 0.01190001, 0.01429999, 0.01190001, 0.01030001,\n",
       "         0.00950003, 0.0151    , 0.009     , 0.00830001, 0.01159999,\n",
       "         0.0183    , 0.01349998, 0.01139998, 0.0104    , 0.01270002,\n",
       "         0.01490003, 0.0113    , 0.0178    , 0.01130003, 0.01160002,\n",
       "         0.00880003, 0.01430002, 0.01980001, 0.02420002, 0.01319999,\n",
       "         0.01060003, 0.00730002, 0.0079    , 0.00839999, 0.0178    ,\n",
       "         0.01050001, 0.00979996, 0.01719999, 0.01360001, 0.01050001,\n",
       "         0.01090002, 0.02220005, 0.0169    , 0.0108    , 0.0115    ,\n",
       "         0.01710004, 0.0123    , 0.01029998, 0.0117    , 0.00690001,\n",
       "         0.00869995, 0.00599998, 0.00980002, 0.01109999, 0.01119995,\n",
       "         0.01660001, 0.01110002, 0.00739998, 0.00730002, 0.01650003,\n",
       "         0.01799998, 0.01450002, 0.00620002, 0.01179999, 0.01160002,\n",
       "         0.0097    , 0.0165    , 0.00670001, 0.01169997, 0.01770002,\n",
       "         0.00959998, 0.01049998, 0.01630002, 0.0131    , 0.01090002,\n",
       "         0.00889999, 0.0158    , 0.01540002, 0.01070005, 0.0133    ,\n",
       "         0.01520002, 0.01570001, 0.01929998, 0.00920001, 0.00980002,\n",
       "         0.00770003, 0.0087    , 0.00710005, 0.01370001, 0.00650001,\n",
       "         0.01360005, 0.0105    , 0.01099998, 0.0103    , 0.01980001,\n",
       "         0.0076    , 0.009     , 0.01519999, 0.01770002, 0.00610001],\n",
       "        [0.00740001, 0.02159999, 0.01699999, 0.01200002, 0.0182    ,\n",
       "         0.00879997, 0.0069    , 0.0176    , 0.00909996, 0.0104    ,\n",
       "         0.0131    , 0.00740001, 0.0108    , 0.01680002, 0.00940001,\n",
       "         0.0147    , 0.01550001, 0.00870001, 0.01439998, 0.01289999,\n",
       "         0.02160001, 0.01230001, 0.01249999, 0.0122    , 0.01749998,\n",
       "         0.00950003, 0.01210001, 0.0099    , 0.0088    , 0.0081    ,\n",
       "         0.01770002, 0.01190001, 0.02059999, 0.01850003, 0.01030004,\n",
       "         0.01699996, 0.01859999, 0.01069999, 0.01370001, 0.01010001,\n",
       "         0.00910002, 0.0093    , 0.00660002, 0.007     , 0.00799996,\n",
       "         0.00840002, 0.01010001, 0.00760001, 0.01169997, 0.01519999,\n",
       "         0.0158    , 0.01520002, 0.00880003, 0.01199999, 0.01560003,\n",
       "         0.01710001, 0.01159996, 0.0099    , 0.016     , 0.0097    ,\n",
       "         0.02010001, 0.01559997, 0.01090002, 0.00989997, 0.00879997,\n",
       "         0.01190001, 0.00850004, 0.01460004, 0.00940001, 0.01269999,\n",
       "         0.0106    , 0.0176    , 0.00970003, 0.00880003, 0.01070002,\n",
       "         0.01069999, 0.00999999, 0.01020001, 0.00950003, 0.00940001,\n",
       "         0.00940001, 0.0097    , 0.01409999, 0.0077    , 0.01269999,\n",
       "         0.00840002, 0.00760001, 0.01810002, 0.01190001, 0.00889999,\n",
       "         0.0194    , 0.0165    , 0.0112    , 0.0158    , 0.01359999,\n",
       "         0.0063    , 0.00850004, 0.01700002, 0.00979996, 0.01929998],\n",
       "        [0.00920001, 0.01010001, 0.00829999, 0.01179999, 0.00929999,\n",
       "         0.00889999, 0.0201    , 0.01199999, 0.0104    , 0.01520002,\n",
       "         0.01840001, 0.01139998, 0.01750004, 0.00959998, 0.00770003,\n",
       "         0.01100004, 0.01130003, 0.01319999, 0.00999999, 0.01190001,\n",
       "         0.0097    , 0.0063    , 0.01289999, 0.0081    , 0.0157    ,\n",
       "         0.014     , 0.00890005, 0.01630002, 0.0106    , 0.0095    ,\n",
       "         0.016     , 0.0183    , 0.0126    , 0.00740001, 0.01109999,\n",
       "         0.01280001, 0.01810002, 0.01730001, 0.01899999, 0.0115    ,\n",
       "         0.0117    , 0.01089996, 0.0106    , 0.01590002, 0.00960001,\n",
       "         0.01109999, 0.0097    , 0.0113    , 0.01029998, 0.00880003,\n",
       "         0.0151    , 0.0196    , 0.0072    , 0.00940001, 0.01749998,\n",
       "         0.01550001, 0.01339999, 0.00819999, 0.0095    , 0.00850004,\n",
       "         0.01030004, 0.01289999, 0.01750001, 0.01060002, 0.00760001,\n",
       "         0.01179999, 0.01029998, 0.01430002, 0.0114    , 0.01120001,\n",
       "         0.00959998, 0.00950003, 0.0139    , 0.00670004, 0.00960004,\n",
       "         0.01459998, 0.01460004, 0.01130003, 0.01669997, 0.014     ,\n",
       "         0.01559997, 0.0151    , 0.01140004, 0.0072    , 0.0104    ,\n",
       "         0.01569998, 0.01480001, 0.01519999, 0.01269999, 0.02399999,\n",
       "         0.0104    , 0.0117    , 0.00980001, 0.01570001, 0.01910001,\n",
       "         0.00899994, 0.01289999, 0.0106    , 0.01069999, 0.0133    ],\n",
       "        [0.01059997, 0.0097    , 0.01220001, 0.01460001, 0.01040006,\n",
       "         0.0094    , 0.01410002, 0.0117    , 0.0138    , 0.0126    ,\n",
       "         0.00860001, 0.01349998, 0.0081    , 0.00730002, 0.01090001,\n",
       "         0.009     , 0.01530001, 0.0167    , 0.00829995, 0.00770001,\n",
       "         0.01270002, 0.01450002, 0.00810003, 0.01199999, 0.01519996,\n",
       "         0.00929999, 0.00980002, 0.00870001, 0.0099    , 0.01440001,\n",
       "         0.01530004, 0.01030001, 0.01530001, 0.01249999, 0.0126    ,\n",
       "         0.01100004, 0.01000002, 0.01050001, 0.0088    , 0.0065    ,\n",
       "         0.0149    , 0.01170003, 0.01279998, 0.0115    , 0.01169997,\n",
       "         0.01809999, 0.0086    , 0.00770003, 0.00850004, 0.01190001,\n",
       "         0.0097    , 0.0081    , 0.01100004, 0.01410002, 0.01620001,\n",
       "         0.01340002, 0.01139998, 0.01030001, 0.00960001, 0.01550001,\n",
       "         0.01160002, 0.01339996, 0.01520002, 0.00920004, 0.01229995,\n",
       "         0.00940001, 0.00959998, 0.0098    , 0.01109999, 0.01630002,\n",
       "         0.00780004, 0.01190001, 0.0073    , 0.01089999, 0.0115    ,\n",
       "         0.00700003, 0.00889999, 0.01110002, 0.01550001, 0.009     ,\n",
       "         0.01539999, 0.01460001, 0.01289999, 0.01420003, 0.00910001,\n",
       "         0.00560001, 0.01170003, 0.00850001, 0.01569998, 0.0099    ,\n",
       "         0.00960004, 0.00880003, 0.01389998, 0.00999999, 0.00990003,\n",
       "         0.01289999, 0.01370001, 0.01139998, 0.00949997, 0.00620002],\n",
       "        [0.0089    , 0.01310003, 0.0115    , 0.02040002, 0.01199999,\n",
       "         0.01010001, 0.01060003, 0.01340002, 0.01000002, 0.00870001,\n",
       "         0.0097    , 0.00960001, 0.0081    , 0.01190001, 0.0158    ,\n",
       "         0.00740001, 0.01169997, 0.00909999, 0.0108    , 0.01030004,\n",
       "         0.00849998, 0.0165    , 0.01060003, 0.01210004, 0.0072    ,\n",
       "         0.0104    , 0.01680002, 0.01480001, 0.01249999, 0.01349998,\n",
       "         0.01239997, 0.0133    , 0.01929998, 0.0103    , 0.01310003,\n",
       "         0.01660001, 0.01290002, 0.0151    , 0.00819999, 0.00850001,\n",
       "         0.0104    , 0.00929999, 0.01380002, 0.00910002, 0.016     ,\n",
       "         0.00909996, 0.0133    , 0.0079    , 0.01100001, 0.0133    ,\n",
       "         0.01830006, 0.01230001, 0.01740001, 0.0079    , 0.01300001,\n",
       "         0.013     , 0.0106    , 0.01620001, 0.00870001, 0.01190001,\n",
       "         0.0097    , 0.00780001, 0.01230001, 0.01160002, 0.01109999,\n",
       "         0.01369998, 0.01159999, 0.02329999, 0.00739999, 0.01570001,\n",
       "         0.01099998, 0.01359999, 0.01100004, 0.01100001, 0.01620001,\n",
       "         0.0068    , 0.01120001, 0.00799999, 0.0115    , 0.00950003,\n",
       "         0.00890002, 0.01640004, 0.01200002, 0.01210001, 0.00889999,\n",
       "         0.01339999, 0.0062    , 0.00880003, 0.01610002, 0.0079    ,\n",
       "         0.01310003, 0.00870001, 0.0139    , 0.009     , 0.01530001,\n",
       "         0.0108    , 0.01110005, 0.01209998, 0.0151    , 0.0112    ]]),\n",
       " 'metric_means': array([0.01224001, 0.013766  , 0.01325301, 0.01250901, 0.01060501,\n",
       "        0.01232201, 0.012265  , 0.012309  , 0.01130901, 0.01183201]),\n",
       " 'metric_stds': array([0.00356617, 0.00391482, 0.00341472, 0.00357461, 0.0025712 ,\n",
       "        0.00385838, 0.00385532, 0.0034624 , 0.00271098, 0.00316443])}"
      ]
     },
     "execution_count": 34,
     "metadata": {},
     "output_type": "execute_result"
    }
   ],
   "source": [
    "#tf.config.run_functions_eagerly(True)#\n",
    "SKSTest.Test_tf(max_vectorize=250)\n",
    "SKSTest.Results[-1].result_value"
   ]
  },
  {
   "cell_type": "markdown",
   "metadata": {},
   "source": [
    "### SWD Test"
   ]
  },
  {
   "cell_type": "code",
   "execution_count": 35,
   "metadata": {},
   "outputs": [
    {
     "name": "stdout",
     "output_type": "stream",
     "text": [
      "\n",
      "------------------------------------------\n",
      "Starting SWD metric calculation...\n",
      "Running TF SWD calculation...\n",
      "niter = 10\n",
      "batch_size = 10000\n",
      "WARNING:tensorflow:Using a while_loop for converting StridedSlice\n",
      "WARNING:tensorflow:Using a while_loop for converting StridedSlice\n",
      "WARNING:tensorflow:Using a while_loop for converting TopKV2\n",
      "WARNING:tensorflow:Using a while_loop for converting TopKV2\n",
      "SWD metric calculation completed in 1.7945000790059566 seconds.\n"
     ]
    },
    {
     "data": {
      "text/plain": [
       "{'metric_lists': array([[0.02363572, 0.01778114, 0.03721979, 0.01453548, 0.0176564 ,\n",
       "         0.01242296, 0.01365917, 0.03079287, 0.02820471, 0.01399335,\n",
       "         0.01232701, 0.01355767, 0.01639389, 0.0180303 , 0.02227506,\n",
       "         0.03149092, 0.02306976, 0.02112056, 0.02431377, 0.02881641,\n",
       "         0.02416798, 0.0173205 , 0.01376633, 0.02714727, 0.02002151,\n",
       "         0.02100586, 0.02024613, 0.01345072, 0.01771629, 0.01240926,\n",
       "         0.01556627, 0.01639523, 0.02091818, 0.02445809, 0.02060513,\n",
       "         0.02695098, 0.01682308, 0.01051256, 0.00874865, 0.02386782,\n",
       "         0.02231159, 0.02121507, 0.02003033, 0.01176143, 0.02732846,\n",
       "         0.01379079, 0.02724597, 0.01055707, 0.02948412, 0.01831216,\n",
       "         0.01017712, 0.01802657, 0.02978577, 0.02704747, 0.01705482,\n",
       "         0.01874518, 0.01104865, 0.01697128, 0.01687628, 0.02262043,\n",
       "         0.0203879 , 0.03390408, 0.01666692, 0.03007666, 0.02520135,\n",
       "         0.02702504, 0.01754665, 0.0092804 , 0.01746313, 0.00949472,\n",
       "         0.01587805, 0.02407411, 0.02449633, 0.0278234 , 0.01271985,\n",
       "         0.00729031, 0.02314984, 0.0238173 , 0.0146163 , 0.02728293,\n",
       "         0.02012051, 0.01293034, 0.01594117, 0.0234051 , 0.01726742,\n",
       "         0.0146286 , 0.01769432, 0.02159403, 0.0153175 , 0.01684118,\n",
       "         0.02184332, 0.0202229 , 0.03609651, 0.01379046, 0.00889071,\n",
       "         0.01979997, 0.01561464, 0.013565  , 0.01931274, 0.02489793],\n",
       "        [0.02267598, 0.01594681, 0.02252888, 0.01359957, 0.01640742,\n",
       "         0.01044842, 0.03156264, 0.02922443, 0.01398576, 0.01768599,\n",
       "         0.02786462, 0.01171569, 0.0318224 , 0.02044308, 0.01337791,\n",
       "         0.02634413, 0.01790975, 0.01557335, 0.01986612, 0.03716541,\n",
       "         0.02090223, 0.01594561, 0.01767775, 0.01840458, 0.02483347,\n",
       "         0.04073826, 0.02345808, 0.01411258, 0.01482363, 0.01568325,\n",
       "         0.02280523, 0.03122194, 0.02181974, 0.01842014, 0.01597678,\n",
       "         0.02975551, 0.02856967, 0.01486298, 0.02092907, 0.02432322,\n",
       "         0.03534534, 0.01972936, 0.01731816, 0.02426019, 0.01349011,\n",
       "         0.01409436, 0.01737601, 0.0281641 , 0.01927147, 0.01812192,\n",
       "         0.01144285, 0.03658889, 0.01654248, 0.00921308, 0.02789792,\n",
       "         0.02501004, 0.01641574, 0.02692316, 0.02777555, 0.01822677,\n",
       "         0.01668403, 0.02411187, 0.03262829, 0.03633682, 0.01386154,\n",
       "         0.02840966, 0.01652459, 0.01050578, 0.02479174, 0.02135493,\n",
       "         0.02131527, 0.02005618, 0.03692849, 0.01551145, 0.02255063,\n",
       "         0.03639314, 0.03677028, 0.0146563 , 0.02379249, 0.02897943,\n",
       "         0.02555406, 0.01103948, 0.02165762, 0.01449148, 0.03305299,\n",
       "         0.0403538 , 0.02865824, 0.02158031, 0.01257805, 0.0390969 ,\n",
       "         0.01825661, 0.02670883, 0.01793959, 0.01994318, 0.01862626,\n",
       "         0.02146383, 0.02863008, 0.01221369, 0.01801626, 0.03091467],\n",
       "        [0.01666335, 0.02220007, 0.01958215, 0.02399812, 0.01387379,\n",
       "         0.01982406, 0.02704078, 0.01791778, 0.02525708, 0.03172036,\n",
       "         0.01802084, 0.02349102, 0.02536648, 0.02693232, 0.03104432,\n",
       "         0.01560158, 0.02256126, 0.0203469 , 0.02589297, 0.02101594,\n",
       "         0.01465093, 0.0161269 , 0.02579195, 0.01327864, 0.01934116,\n",
       "         0.01972084, 0.02018885, 0.02490151, 0.0134878 , 0.02955561,\n",
       "         0.01562553, 0.01392777, 0.02143137, 0.01790168, 0.01208889,\n",
       "         0.0207606 , 0.0317079 , 0.02091991, 0.02309579, 0.02522021,\n",
       "         0.02519908, 0.01682237, 0.00929846, 0.03300836, 0.02637809,\n",
       "         0.02694168, 0.02131555, 0.01821806, 0.01276852, 0.01592694,\n",
       "         0.03214482, 0.02841881, 0.01663255, 0.01468053, 0.01423663,\n",
       "         0.03314652, 0.03377944, 0.01528877, 0.02605917, 0.02239435,\n",
       "         0.01993902, 0.0191131 , 0.01597273, 0.02061375, 0.01622015,\n",
       "         0.02496756, 0.0132615 , 0.02907011, 0.02476958, 0.02070233,\n",
       "         0.02277935, 0.01923648, 0.01536904, 0.01493482, 0.0233372 ,\n",
       "         0.01468499, 0.01480253, 0.02232232, 0.03078086, 0.02619072,\n",
       "         0.01928607, 0.01846264, 0.01273305, 0.01797874, 0.01837675,\n",
       "         0.01626834, 0.01246188, 0.02778394, 0.01880059, 0.02052174,\n",
       "         0.02052762, 0.0157135 , 0.0134385 , 0.02757105, 0.01712368,\n",
       "         0.02558459, 0.0143523 , 0.01955928, 0.02000441, 0.02701925],\n",
       "        [0.01310542, 0.0193902 , 0.03240738, 0.02626151, 0.0129    ,\n",
       "         0.01673645, 0.02187239, 0.02715484, 0.02848992, 0.01333905,\n",
       "         0.01493118, 0.02287843, 0.01449257, 0.02089825, 0.02095085,\n",
       "         0.02721445, 0.01308949, 0.0213433 , 0.01639499, 0.01276552,\n",
       "         0.0153847 , 0.01540251, 0.01797624, 0.01811181, 0.02263457,\n",
       "         0.01299199, 0.01331792, 0.01862397, 0.01121272, 0.01187208,\n",
       "         0.03042384, 0.02153466, 0.02617087, 0.01941258, 0.01910446,\n",
       "         0.01451596, 0.0182908 , 0.01844783, 0.01625684, 0.01514363,\n",
       "         0.01547304, 0.01357378, 0.01887308, 0.02392689, 0.01824477,\n",
       "         0.0242373 , 0.01891621, 0.01347931, 0.01842309, 0.01969373,\n",
       "         0.01660217, 0.01418588, 0.0198803 , 0.03393777, 0.02206714,\n",
       "         0.01703907, 0.01353799, 0.02037332, 0.01471846, 0.01580509,\n",
       "         0.02106591, 0.029675  , 0.02392344, 0.01495645, 0.01307219,\n",
       "         0.01644242, 0.0087851 , 0.01985216, 0.01210363, 0.02910144,\n",
       "         0.01503744, 0.02707804, 0.00847368, 0.01016574, 0.01632936,\n",
       "         0.01459399, 0.00928485, 0.02838408, 0.02043287, 0.01374192,\n",
       "         0.01242169, 0.02840033, 0.01230604, 0.0116188 , 0.01410691,\n",
       "         0.01230917, 0.02073643, 0.01568284, 0.02972532, 0.01972064,\n",
       "         0.0137657 , 0.01171486, 0.03475902, 0.01089297, 0.01681792,\n",
       "         0.01435477, 0.01919207, 0.01385884, 0.01595719, 0.01850019],\n",
       "        [0.01983383, 0.01000894, 0.0122338 , 0.01701601, 0.01049946,\n",
       "         0.00983535, 0.01169014, 0.01479035, 0.01600562, 0.02101259,\n",
       "         0.01285995, 0.01175683, 0.01103614, 0.01997334, 0.01484317,\n",
       "         0.01210356, 0.0112116 , 0.01774018, 0.01982385, 0.0125079 ,\n",
       "         0.0128055 , 0.01780886, 0.01877522, 0.01754102, 0.01238521,\n",
       "         0.01224796, 0.02476598, 0.01849746, 0.01026469, 0.01905089,\n",
       "         0.01177947, 0.01562872, 0.0106534 , 0.01753236, 0.01144537,\n",
       "         0.01379463, 0.01453821, 0.01938566, 0.01447154, 0.01436808,\n",
       "         0.01491134, 0.014267  , 0.0105151 , 0.01257583, 0.02262654,\n",
       "         0.01275474, 0.02394096, 0.02214671, 0.01482084, 0.0192661 ,\n",
       "         0.01982128, 0.01385735, 0.02746547, 0.01585445, 0.01667983,\n",
       "         0.01346571, 0.02063055, 0.02594769, 0.01962473, 0.01957441,\n",
       "         0.00889226, 0.01787185, 0.01131311, 0.00762266, 0.01660474,\n",
       "         0.01505742, 0.01672519, 0.017946  , 0.01010975, 0.00893497,\n",
       "         0.02089083, 0.01540524, 0.01715886, 0.01826898, 0.01877226,\n",
       "         0.0190702 , 0.01402049, 0.01271159, 0.01344603, 0.01516336,\n",
       "         0.01481265, 0.01398877, 0.00972927, 0.01747362, 0.0187338 ,\n",
       "         0.0151955 , 0.02295243, 0.01898716, 0.01319554, 0.01222596,\n",
       "         0.00767835, 0.01572141, 0.01184552, 0.00999604, 0.0152865 ,\n",
       "         0.01983834, 0.01996851, 0.00761944, 0.01359624, 0.01344897],\n",
       "        [0.01334229, 0.02140727, 0.02038623, 0.01835575, 0.03009035,\n",
       "         0.0258997 , 0.01531015, 0.01406528, 0.012761  , 0.01449707,\n",
       "         0.01874078, 0.02517638, 0.0170518 , 0.01351983, 0.0168178 ,\n",
       "         0.02307921, 0.02480987, 0.01712002, 0.01120003, 0.0158295 ,\n",
       "         0.02124962, 0.01814447, 0.02232159, 0.01882625, 0.01728664,\n",
       "         0.00941714, 0.01516686, 0.02831597, 0.02905577, 0.02203018,\n",
       "         0.01263545, 0.01072066, 0.01283747, 0.01037851, 0.02861557,\n",
       "         0.01172795, 0.01923247, 0.03043818, 0.02640017, 0.01468492,\n",
       "         0.01612251, 0.02958964, 0.02993743, 0.01453697, 0.01198392,\n",
       "         0.01854514, 0.01392235, 0.01284769, 0.02123758, 0.01273886,\n",
       "         0.01062362, 0.01052919, 0.01375646, 0.01651575, 0.01681868,\n",
       "         0.02133168, 0.01509742, 0.00787768, 0.00982238, 0.02428479,\n",
       "         0.01964757, 0.01748017, 0.00925165, 0.01264235, 0.01465758,\n",
       "         0.01330487, 0.02299498, 0.01076998, 0.01553524, 0.02676547,\n",
       "         0.01424952, 0.01835911, 0.02243496, 0.01772382, 0.01532824,\n",
       "         0.01120799, 0.02235638, 0.02184485, 0.01525432, 0.01209502,\n",
       "         0.01739579, 0.02518641, 0.02999162, 0.01324841, 0.01343981,\n",
       "         0.01034266, 0.01457153, 0.01374843, 0.02252754, 0.00977583,\n",
       "         0.01833092, 0.01686395, 0.01940835, 0.01488253, 0.03310112,\n",
       "         0.01431776, 0.01331429, 0.02130206, 0.02195622, 0.01390312],\n",
       "        [0.01246668, 0.02905834, 0.02762603, 0.01860815, 0.02551832,\n",
       "         0.01457265, 0.01280971, 0.0273262 , 0.01285643, 0.01515502,\n",
       "         0.01712736, 0.01116517, 0.01593681, 0.02248169, 0.01114034,\n",
       "         0.02372116, 0.02715415, 0.01205102, 0.0238921 , 0.0136475 ,\n",
       "         0.03082272, 0.01953623, 0.01699193, 0.01316964, 0.0206656 ,\n",
       "         0.01189835, 0.02026469, 0.01981501, 0.01611171, 0.01016612,\n",
       "         0.0180124 , 0.01261595, 0.03549597, 0.0298989 , 0.00917498,\n",
       "         0.03525317, 0.02657529, 0.01898201, 0.02635525, 0.01607858,\n",
       "         0.01721293, 0.01429384, 0.00985012, 0.00938596, 0.01814914,\n",
       "         0.01378611, 0.0145751 , 0.01246563, 0.01882329, 0.0300452 ,\n",
       "         0.03418583, 0.02825548, 0.01234072, 0.01730126, 0.01559221,\n",
       "         0.02493178, 0.01401451, 0.01449903, 0.01842218, 0.01451346,\n",
       "         0.02755862, 0.02250784, 0.01252433, 0.02019072, 0.0111486 ,\n",
       "         0.01879919, 0.01132967, 0.02816001, 0.01990218, 0.01848789,\n",
       "         0.01363722, 0.02562411, 0.01382277, 0.01387984, 0.01282841,\n",
       "         0.01257136, 0.01358076, 0.01065807, 0.01330053, 0.01836623,\n",
       "         0.01218797, 0.01592367, 0.02475364, 0.01130148, 0.01794197,\n",
       "         0.01172675, 0.01324905, 0.02365559, 0.01661509, 0.01379711,\n",
       "         0.03096037, 0.02677436, 0.01986227, 0.02474156, 0.02443916,\n",
       "         0.01221899, 0.01168684, 0.03404933, 0.01292288, 0.02261532],\n",
       "        [0.01508891, 0.01430645, 0.01241516, 0.01707788, 0.01737265,\n",
       "         0.01607741, 0.0279951 , 0.01489494, 0.0162049 , 0.01984673,\n",
       "         0.02850734, 0.01377324, 0.03248112, 0.01276204, 0.01410257,\n",
       "         0.0201809 , 0.02313136, 0.01997457, 0.01938265, 0.01922166,\n",
       "         0.01176167, 0.00712371, 0.01882302, 0.01261008, 0.02972583,\n",
       "         0.02288026, 0.01081933, 0.02182534, 0.01769736, 0.01636019,\n",
       "         0.02123953, 0.02346796, 0.01893374, 0.00940319, 0.01679717,\n",
       "         0.02032306, 0.02941948, 0.02222945, 0.02563853, 0.01626905,\n",
       "         0.02118535, 0.01576749, 0.0174881 , 0.0266313 , 0.018513  ,\n",
       "         0.01359537, 0.01611298, 0.01746429, 0.01393403, 0.01136766,\n",
       "         0.01583593, 0.03089924, 0.01409777, 0.01639243, 0.0196396 ,\n",
       "         0.03181813, 0.01547755, 0.01217071, 0.01194108, 0.01641807,\n",
       "         0.01707338, 0.01858513, 0.02258712, 0.01701573, 0.01003274,\n",
       "         0.01193611, 0.01771775, 0.01580185, 0.01999202, 0.01692343,\n",
       "         0.01352852, 0.01727711, 0.02540804, 0.01263802, 0.01172386,\n",
       "         0.02633719, 0.02675795, 0.015161  , 0.0237724 , 0.02076099,\n",
       "         0.02344181, 0.01817392, 0.02121002, 0.01098496, 0.01751145,\n",
       "         0.02557195, 0.0218132 , 0.0177362 , 0.01540871, 0.02828654,\n",
       "         0.01835066, 0.01493696, 0.01782513, 0.01956511, 0.02376346,\n",
       "         0.01108438, 0.02303481, 0.01202404, 0.01826917, 0.02599174],\n",
       "        [0.01262002, 0.01996065, 0.02109071, 0.02210544, 0.01681426,\n",
       "         0.01732988, 0.01851412, 0.02019681, 0.01898278, 0.02061569,\n",
       "         0.01025234, 0.02083733, 0.01241216, 0.01144658, 0.01927783,\n",
       "         0.01337081, 0.02148978, 0.0176358 , 0.01150426, 0.00958361,\n",
       "         0.01857012, 0.01281289, 0.01274878, 0.01537616, 0.01966624,\n",
       "         0.01069041, 0.01306553, 0.0171817 , 0.01434853, 0.0171312 ,\n",
       "         0.02450512, 0.01384465, 0.02701344, 0.01448746, 0.01795903,\n",
       "         0.01320901, 0.00894923, 0.01375052, 0.01282047, 0.00997582,\n",
       "         0.01300357, 0.01690208, 0.01867737, 0.02309996, 0.01875667,\n",
       "         0.02377185, 0.01586212, 0.01192577, 0.01206951, 0.01688516,\n",
       "         0.01701577, 0.01179211, 0.01720199, 0.02397774, 0.01865133,\n",
       "         0.01581777, 0.01972169, 0.01606394, 0.01597855, 0.01639554,\n",
       "         0.01994496, 0.0170681 , 0.01736302, 0.01382287, 0.01616035,\n",
       "         0.01049134, 0.01525732, 0.01715577, 0.0157468 , 0.02436874,\n",
       "         0.00978775, 0.02124588, 0.01125794, 0.01953515, 0.01477928,\n",
       "         0.01027536, 0.01288549, 0.02093006, 0.02014261, 0.01296306,\n",
       "         0.02023716, 0.02565442, 0.01858094, 0.01764498, 0.01343229,\n",
       "         0.00781894, 0.0192443 , 0.0126302 , 0.02747874, 0.01259655,\n",
       "         0.01399597, 0.01208913, 0.01848354, 0.01642667, 0.0145584 ,\n",
       "         0.01872078, 0.017195  , 0.01566857, 0.01113049, 0.0088593 ],\n",
       "        [0.01636025, 0.0184714 , 0.01570565, 0.02724042, 0.01726474,\n",
       "         0.01429113, 0.01337415, 0.01659799, 0.01312774, 0.01375556,\n",
       "         0.01272859, 0.01234769, 0.01164188, 0.0185948 , 0.02210088,\n",
       "         0.00863087, 0.01425083, 0.01337027, 0.01472487, 0.01644808,\n",
       "         0.01412559, 0.0190233 , 0.0147473 , 0.0131027 , 0.00779575,\n",
       "         0.01521858, 0.02922269, 0.02446834, 0.01713588, 0.01574832,\n",
       "         0.01722196, 0.02030158, 0.02742411, 0.01607202, 0.01199909,\n",
       "         0.0244067 , 0.01864958, 0.01821445, 0.00894909, 0.00926145,\n",
       "         0.01574288, 0.01756794, 0.01151695, 0.0097581 , 0.026197  ,\n",
       "         0.01490996, 0.02115301, 0.01116941, 0.01222907, 0.023052  ,\n",
       "         0.03168531, 0.01660729, 0.02511304, 0.0077711 , 0.01939131,\n",
       "         0.01926031, 0.01276956, 0.02801254, 0.0140186 , 0.02148055,\n",
       "         0.01304231, 0.0116114 , 0.02000483, 0.01405425, 0.01567471,\n",
       "         0.01990508, 0.01618576, 0.03305451, 0.01271597, 0.01791433,\n",
       "         0.01318529, 0.02109032, 0.01304339, 0.0223447 , 0.02637889,\n",
       "         0.01181466, 0.01475798, 0.011311  , 0.01386825, 0.01287587,\n",
       "         0.01561982, 0.02746465, 0.01463819, 0.01643371, 0.01449737,\n",
       "         0.01654881, 0.00987352, 0.01480629, 0.02719477, 0.01408966,\n",
       "         0.01752148, 0.01437085, 0.01650589, 0.01495925, 0.01708476,\n",
       "         0.01520085, 0.01419735, 0.01653964, 0.02059473, 0.01206988]]),\n",
       " 'metric_means': array([0.01961755, 0.02217558, 0.0208337 , 0.01825776, 0.01543549,\n",
       "        0.01768578, 0.01855145, 0.0185091 , 0.01631346, 0.01678567]),\n",
       " 'metric_stds': array([0.00637411, 0.00768078, 0.00565973, 0.00584704, 0.0041809 ,\n",
       "        0.00581637, 0.00669707, 0.00540048, 0.00424366, 0.00527933])}"
      ]
     },
     "execution_count": 35,
     "metadata": {},
     "output_type": "execute_result"
    }
   ],
   "source": [
    "SWDMetric.Test_tf(max_vectorize=250)\n",
    "SWDMetric.Results[-1].result_value"
   ]
  },
  {
   "cell_type": "markdown",
   "metadata": {},
   "source": [
    "## Jetnet tests"
   ]
  },
  {
   "cell_type": "markdown",
   "metadata": {},
   "source": [
    "### FPD Test"
   ]
  },
  {
   "cell_type": "code",
   "execution_count": 24,
   "metadata": {},
   "outputs": [
    {
     "name": "stdout",
     "output_type": "stream",
     "text": [
      "Using numpy mode with TensorFlow inputs.\n",
      "Parsing input distribution...\n",
      "Input distribution is a tfp.distributions.Distribution object.\n",
      "Using numpy mode with TensorFlow inputs.\n",
      "Parsing input distribution...\n",
      "Input distribution is a tfp.distributions.Distribution object.\n",
      "Generating dist_1_num and dist_2_num with tensorflow function.\n",
      "Checking and setting numerical distributions.\n",
      "Setting dist_num from dist_symb.\n",
      "WARNING:tensorflow:5 out of the last 5 calls to <function generate_and_clean_data_simple_1 at 0x7f6632474b80> triggered tf.function retracing. Tracing is expensive and the excessive number of tracings could be due to (1) creating @tf.function repeatedly in a loop, (2) passing tensors with different shapes, (3) passing Python objects instead of tensors. For (1), please define your @tf.function outside of the loop. For (2), @tf.function has reduce_retracing=True option that can avoid unnecessary retracing. For (3), please refer to https://www.tensorflow.org/guide/function#controlling_retracing and https://www.tensorflow.org/api_docs/python/tf/function for  more details.\n",
      "Setting dist_num from dist_symb.\n",
      "WARNING:tensorflow:6 out of the last 6 calls to <function generate_and_clean_data_simple_1 at 0x7f6632474b80> triggered tf.function retracing. Tracing is expensive and the excessive number of tracings could be due to (1) creating @tf.function repeatedly in a loop, (2) passing tensors with different shapes, (3) passing Python objects instead of tensors. For (1), please define your @tf.function outside of the loop. For (2), @tf.function has reduce_retracing=True option that can avoid unnecessary retracing. For (3), please refer to https://www.tensorflow.org/guide/function#controlling_retracing and https://www.tensorflow.org/api_docs/python/tf/function for  more details.\n",
      "nsamples 100000\n",
      "batch_size 10000\n",
      "niter 10\n",
      "niter * batch_size 100000\n",
      "small_sample True\n"
     ]
    }
   ],
   "source": [
    "TwoSampleTestInputs = GMetrics.TwoSampleTestInputs(dist_1_input = dist_1,\n",
    "                                                   dist_2_input = dist_2,\n",
    "                                                   niter = 10,\n",
    "                                                   batch_size_test = 10_000,\n",
    "                                                   batch_size_gen = 100,\n",
    "                                                   small_sample_threshold = 1e7,\n",
    "                                                   dtype_input = tf.float64,\n",
    "                                                   seed_input = 0,\n",
    "                                                   use_tf = False,\n",
    "                                                   mirror_strategy = False,\n",
    "                                                   verbose = True)\n",
    "print(\"nsamples\",TwoSampleTestInputs.nsamples)\n",
    "print(\"batch_size\",TwoSampleTestInputs.batch_size_test)\n",
    "print(\"niter\",TwoSampleTestInputs.niter)\n",
    "print(\"niter * batch_size\",TwoSampleTestInputs.niter*TwoSampleTestInputs.batch_size_test)\n",
    "print(\"small_sample\",TwoSampleTestInputs.small_sample)"
   ]
  },
  {
   "cell_type": "code",
   "execution_count": 27,
   "metadata": {},
   "outputs": [
    {
     "name": "stdout",
     "output_type": "stream",
     "text": [
      "------------------------------------------\n",
      "Starting FPD metric calculation...\n",
      "Running Jetnet FPD calculation...\n",
      "niter = 10\n",
      "batch_size = 10000\n"
     ]
    },
    {
     "name": "stderr",
     "output_type": "stream",
     "text": [
      "/local_data/scratch/rtorre/anaconda3/envs/tf2_9/lib/python3.8/site-packages/jetnet/evaluation/gen_metrics.py:698: RuntimeWarning: Recommended number of samples for FPD estimation is 50,000\n",
      "  warnings.warn(\"Recommended number of samples for FPD estimation is 50,000\", RuntimeWarning)\n"
     ]
    },
    {
     "name": "stdout",
     "output_type": "stream",
     "text": [
      "FPD metric calculation completed in 11.65384515421465 seconds.\n"
     ]
    }
   ],
   "source": [
    "d1 = np.array(TwoSampleTestInputs.dist_1_num).reshape(TwoSampleTestInputs.niter,TwoSampleTestInputs.batch_size_test,-1)\n",
    "d2 = np.array(TwoSampleTestInputs.dist_2_num).reshape(TwoSampleTestInputs.niter,TwoSampleTestInputs.batch_size_test,-1)\n",
    "print(\"------------------------------------------\")\n",
    "print(\"Starting FPD metric calculation...\")\n",
    "print(\"Running Jetnet FPD calculation...\")\n",
    "print(\"niter = 10\")\n",
    "print(\"batch_size = 10000\")\n",
    "start = timer()\n",
    "FPDResult = [JMetrics.fpd(s1,s2)[0] for s1,s2 in zip(d1,d2)]\n",
    "end = timer()\n",
    "print(f\"FPD metric calculation completed in {end-start} seconds.\")"
   ]
  },
  {
   "cell_type": "code",
   "execution_count": 29,
   "metadata": {},
   "outputs": [
    {
     "data": {
      "text/plain": [
       "[0.00021711883420494262,\n",
       " 0.0003158271980843811,\n",
       " 0.00027361061888014936,\n",
       " 0.00023580432171927144,\n",
       " 0.00017307851172206515,\n",
       " 0.00019975293044208664,\n",
       " 0.000291297030758978,\n",
       " 0.00023017760328604512,\n",
       " 0.00018852383969245127,\n",
       " 0.00017794826133951485]"
      ]
     },
     "execution_count": 29,
     "metadata": {},
     "output_type": "execute_result"
    }
   ],
   "source": [
    "FPDResult"
   ]
  },
  {
   "cell_type": "markdown",
   "metadata": {},
   "source": [
    "### KPD Test"
   ]
  },
  {
   "cell_type": "code",
   "execution_count": 28,
   "metadata": {},
   "outputs": [
    {
     "name": "stdout",
     "output_type": "stream",
     "text": [
      "------------------------------------------\n",
      "Starting KPD metric calculation...\n",
      "Running Jetnet KPD calculation...\n",
      "niter = 10\n",
      "batch_size = 10000\n",
      "KPD metric calculation completed in 158.39126108726487 seconds.\n"
     ]
    }
   ],
   "source": [
    "d1 = np.array(TwoSampleTestInputs.dist_1_num).reshape(TwoSampleTestInputs.niter,TwoSampleTestInputs.batch_size_test,-1)\n",
    "d2 = np.array(TwoSampleTestInputs.dist_2_num).reshape(TwoSampleTestInputs.niter,TwoSampleTestInputs.batch_size_test,-1)\n",
    "print(\"------------------------------------------\")\n",
    "print(\"Starting KPD metric calculation...\")\n",
    "print(\"Running Jetnet KPD calculation...\")\n",
    "print(\"niter = 10\")\n",
    "print(\"batch_size = 10000\")\n",
    "start = timer()\n",
    "KPDResult = [JMetrics.kpd(s1,s2)[0] for s1,s2 in zip(d1,d2)]\n",
    "end = timer()\n",
    "print(f\"KPD metric calculation completed in {end-start} seconds.\")"
   ]
  },
  {
   "cell_type": "code",
   "execution_count": 30,
   "metadata": {},
   "outputs": [
    {
     "data": {
      "text/plain": [
       "[0.10191366092886689,\n",
       " 0.0799296299077179,\n",
       " 0.11171410289918526,\n",
       " 0.1536952109961831,\n",
       " -0.17934906441234943,\n",
       " -0.1042554083730014,\n",
       " 0.09455262272575826,\n",
       " -0.12348942207734659,\n",
       " 0.19918233408035757,\n",
       " 0.15004449810881493]"
      ]
     },
     "execution_count": 30,
     "metadata": {},
     "output_type": "execute_result"
    }
   ],
   "source": [
    "KPDResult"
   ]
  },
  {
   "cell_type": "markdown",
   "metadata": {},
   "source": [
    "# Large samples"
   ]
  },
  {
   "cell_type": "markdown",
   "metadata": {},
   "source": [
    "## Numpy backend\n"
   ]
  },
  {
   "cell_type": "code",
   "execution_count": 3,
   "metadata": {},
   "outputs": [
    {
     "name": "stdout",
     "output_type": "stream",
     "text": [
      "Using numpy mode with TensorFlow inputs.\n",
      "Parsing input distribution...\n"
     ]
    },
    {
     "name": "stdout",
     "output_type": "stream",
     "text": [
      "Input distribution is a tfp.distributions.Distribution object.\n",
      "Using numpy mode with TensorFlow inputs.\n",
      "Parsing input distribution...\n",
      "Input distribution is a tfp.distributions.Distribution object.\n",
      "nsamples 10000000\n",
      "batch_size 100000\n",
      "niter 100\n",
      "niter * batch_size 10000000\n",
      "small_sample False\n"
     ]
    }
   ],
   "source": [
    "TwoSampleTestInputs = GMetrics.TwoSampleTestInputs(dist_1_input = dist_1,\n",
    "                                                   dist_2_input = dist_2,\n",
    "                                                   niter = 100,\n",
    "                                                   batch_size_test = 10_000,\n",
    "                                                   batch_size_gen = 100,\n",
    "                                                   small_sample_threshold = 1e6,\n",
    "                                                   dtype_input = tf.float64,\n",
    "                                                   seed_input = 0,\n",
    "                                                   use_tf = False,\n",
    "                                                   mirror_strategy = False,\n",
    "                                                   verbose = True)\n",
    "print(\"nsamples\",TwoSampleTestInputs.nsamples)\n",
    "print(\"batch_size\",TwoSampleTestInputs.batch_size_test)\n",
    "print(\"niter\",TwoSampleTestInputs.niter)\n",
    "print(\"niter * batch_size\",TwoSampleTestInputs.niter*TwoSampleTestInputs.batch_size_test)\n",
    "print(\"small_sample\",TwoSampleTestInputs.small_sample)"
   ]
  },
  {
   "cell_type": "code",
   "execution_count": 6,
   "metadata": {},
   "outputs": [
    {
     "name": "stdout",
     "output_type": "stream",
     "text": [
      "(1, 0)\n"
     ]
    },
    {
     "data": {
      "text/plain": [
       "<tf.Tensor: shape=(1, 0), dtype=float64, numpy=array([], shape=(1, 0), dtype=float64)>"
      ]
     },
     "execution_count": 6,
     "metadata": {},
     "output_type": "execute_result"
    }
   ],
   "source": [
    "print(TwoSampleTestInputs.dist_1_num.shape)\n",
    "TwoSampleTestInputs.dist_1_num"
   ]
  },
  {
   "cell_type": "code",
   "execution_count": 7,
   "metadata": {},
   "outputs": [
    {
     "name": "stdout",
     "output_type": "stream",
     "text": [
      "(1, 0)\n"
     ]
    },
    {
     "data": {
      "text/plain": [
       "<tf.Tensor: shape=(1, 0), dtype=float64, numpy=array([], shape=(1, 0), dtype=float64)>"
      ]
     },
     "execution_count": 7,
     "metadata": {},
     "output_type": "execute_result"
    }
   ],
   "source": [
    "print(TwoSampleTestInputs.dist_2_num.shape)\n",
    "TwoSampleTestInputs.dist_2_num"
   ]
  },
  {
   "cell_type": "code",
   "execution_count": 4,
   "metadata": {},
   "outputs": [
    {
     "name": "stdout",
     "output_type": "stream",
     "text": [
      "Generating random directions based on nslices, ndims, and seed_slicing.\n",
      "Generating random directions based on nslices, ndims, and seed_slicing.\n"
     ]
    }
   ],
   "source": [
    "FNMetric = GMetrics.FNMetric(TwoSampleTestInputs,\n",
    "                             progress_bar = True,\n",
    "                             verbose = True)\n",
    "KSTest = GMetrics.KSTest(TwoSampleTestInputs,\n",
    "                         progress_bar = True,\n",
    "                         verbose = True)\n",
    "LRMetric = GMetrics.LRMetric(TwoSampleTestInputs,\n",
    "                             progress_bar = True,\n",
    "                             verbose = True)\n",
    "MultiKSTest = GMetrics.MultiKSTest(TwoSampleTestInputs,\n",
    "                                   progress_bar = True,\n",
    "                                   verbose = True)\n",
    "SKSTest = GMetrics.SKSTest(TwoSampleTestInputs,\n",
    "                           nslices = 100,\n",
    "                           seed_slicing = 0,\n",
    "                           progress_bar = True,\n",
    "                           verbose = True)\n",
    "SWDMetric = GMetrics.SWDMetric(TwoSampleTestInputs,\n",
    "                               nslices = 100,\n",
    "                               seed_slicing = 0,\n",
    "                               progress_bar = True,\n",
    "                               verbose = True)"
   ]
  },
  {
   "cell_type": "markdown",
   "metadata": {},
   "source": [
    "### FN Test"
   ]
  },
  {
   "cell_type": "code",
   "execution_count": 9,
   "metadata": {},
   "outputs": [
    {
     "name": "stdout",
     "output_type": "stream",
     "text": [
      "\n",
      "------------------------------------------\n",
      "Starting FN metric calculation...\n",
      "niter = 100\n",
      "batch_size = 10000\n"
     ]
    },
    {
     "name": "stderr",
     "output_type": "stream",
     "text": [
      "Iterations:   0%|          | 0/100 [00:00<?, ?it/s]"
     ]
    },
    {
     "name": "stdout",
     "output_type": "stream",
     "text": [
      "Running numpy FN calculation...\n"
     ]
    },
    {
     "name": "stderr",
     "output_type": "stream",
     "text": [
      "Iterations: 100%|██████████| 100/100 [00:04<00:00, 21.23it/s]"
     ]
    },
    {
     "name": "stdout",
     "output_type": "stream",
     "text": [
      "Two-sample test calculation completed in 4.714197907131165 seconds.\n"
     ]
    },
    {
     "name": "stderr",
     "output_type": "stream",
     "text": [
      "\n"
     ]
    },
    {
     "data": {
      "text/plain": [
       "{'metric_list': array([0.0712928 , 0.05034113, 0.0468337 , 0.06929792, 0.03731483,\n",
       "        0.06610887, 0.04393168, 0.0760839 , 0.06789648, 0.07777696,\n",
       "        0.0717098 , 0.07346497, 0.06765082, 0.05748732, 0.04861635,\n",
       "        0.0477092 , 0.04121139, 0.05390275, 0.0675732 , 0.03806667,\n",
       "        0.05139705, 0.06818685, 0.0612675 , 0.07689565, 0.06280929,\n",
       "        0.05998614, 0.03973218, 0.05506624, 0.05436367, 0.04745789,\n",
       "        0.06840861, 0.06633603, 0.04886654, 0.05787439, 0.05166639,\n",
       "        0.05432914, 0.06535938, 0.06245599, 0.04503586, 0.06246507,\n",
       "        0.05691757, 0.07007181, 0.03513689, 0.06259432, 0.0600962 ,\n",
       "        0.08274385, 0.05851748, 0.0622261 , 0.04831098, 0.06480682,\n",
       "        0.07433571, 0.04824319, 0.049485  , 0.05374954, 0.08539418,\n",
       "        0.05705423, 0.08577949, 0.0693876 , 0.07621036, 0.04625582,\n",
       "        0.04177584, 0.04041414, 0.0780998 , 0.04188333, 0.06920131,\n",
       "        0.07086429, 0.04239374, 0.07426549, 0.07664664, 0.09179375,\n",
       "        0.0442734 , 0.07431389, 0.06245512, 0.02828581, 0.06928996,\n",
       "        0.05738982, 0.06072568, 0.04605682, 0.07618209, 0.03499813,\n",
       "        0.05449674, 0.05165594, 0.06575008, 0.06230608, 0.04049376,\n",
       "        0.05275184, 0.05523936, 0.06547392, 0.0724913 , 0.06526272,\n",
       "        0.06592079, 0.0652693 , 0.04184686, 0.07881949, 0.05810486,\n",
       "        0.07222864, 0.0502644 , 0.0454052 , 0.08594054, 0.0643582 ])}"
      ]
     },
     "execution_count": 9,
     "metadata": {},
     "output_type": "execute_result"
    }
   ],
   "source": [
    "FNMetric.Test_np()\n",
    "FNMetric.Results[-1].result_value"
   ]
  },
  {
   "cell_type": "markdown",
   "metadata": {},
   "source": [
    "### KS Test"
   ]
  },
  {
   "cell_type": "code",
   "execution_count": 36,
   "metadata": {},
   "outputs": [
    {
     "name": "stdout",
     "output_type": "stream",
     "text": [
      "\n",
      "------------------------------------------\n",
      "Starting KS tests calculation...\n",
      "niter = 100\n",
      "batch_size = 10000\n"
     ]
    },
    {
     "name": "stderr",
     "output_type": "stream",
     "text": [
      "Iterations:   3%|▎         | 3/100 [00:00<00:03, 26.59it/s]"
     ]
    },
    {
     "name": "stdout",
     "output_type": "stream",
     "text": [
      "Running numpy KS tests...\n"
     ]
    },
    {
     "name": "stderr",
     "output_type": "stream",
     "text": [
      "Iterations: 100%|██████████| 100/100 [00:03<00:00, 26.93it/s]"
     ]
    },
    {
     "name": "stdout",
     "output_type": "stream",
     "text": [
      "Two-sample test calculation completed in 3.7165549281053245 seconds.\n"
     ]
    },
    {
     "name": "stderr",
     "output_type": "stream",
     "text": [
      "\n"
     ]
    },
    {
     "data": {
      "text/plain": [
       "{'statistic_lists': array([[0.0121, 0.0096, 0.0133, 0.0085, 0.0174],\n",
       "        [0.0104, 0.0078, 0.0098, 0.0101, 0.0169],\n",
       "        [0.0139, 0.0073, 0.0076, 0.0136, 0.0139],\n",
       "        [0.0204, 0.0095, 0.0137, 0.0123, 0.0137],\n",
       "        [0.0129, 0.0092, 0.0085, 0.0163, 0.013 ],\n",
       "        [0.0201, 0.0095, 0.0134, 0.0151, 0.009 ],\n",
       "        [0.0085, 0.0106, 0.0169, 0.0075, 0.016 ],\n",
       "        [0.0149, 0.0144, 0.0122, 0.0125, 0.0089],\n",
       "        [0.01  , 0.0101, 0.0092, 0.0129, 0.0134],\n",
       "        [0.0115, 0.0092, 0.0136, 0.0132, 0.0223],\n",
       "        [0.0119, 0.009 , 0.0153, 0.0107, 0.0111],\n",
       "        [0.0094, 0.009 , 0.0107, 0.0138, 0.0125],\n",
       "        [0.0129, 0.0159, 0.009 , 0.0178, 0.0084],\n",
       "        [0.0141, 0.007 , 0.0124, 0.0177, 0.0098],\n",
       "        [0.0112, 0.0178, 0.0202, 0.0104, 0.0109],\n",
       "        [0.0195, 0.0166, 0.0148, 0.0094, 0.011 ],\n",
       "        [0.0143, 0.0164, 0.0172, 0.0132, 0.0162],\n",
       "        [0.0097, 0.0131, 0.005 , 0.0087, 0.0151],\n",
       "        [0.008 , 0.0231, 0.0151, 0.0142, 0.0075],\n",
       "        [0.0176, 0.0134, 0.0165, 0.0093, 0.008 ],\n",
       "        [0.0082, 0.0137, 0.0127, 0.0134, 0.0096],\n",
       "        [0.0161, 0.0096, 0.0122, 0.0082, 0.0136],\n",
       "        [0.0211, 0.0127, 0.0147, 0.0089, 0.0165],\n",
       "        [0.0085, 0.0119, 0.0125, 0.0238, 0.0105],\n",
       "        [0.0083, 0.0106, 0.0082, 0.0135, 0.0217],\n",
       "        [0.0077, 0.01  , 0.0063, 0.0151, 0.0107],\n",
       "        [0.0119, 0.0121, 0.0114, 0.0115, 0.0091],\n",
       "        [0.0145, 0.0131, 0.012 , 0.0282, 0.009 ],\n",
       "        [0.0091, 0.0121, 0.0093, 0.0132, 0.0124],\n",
       "        [0.0137, 0.0123, 0.0162, 0.0104, 0.0122],\n",
       "        [0.0126, 0.0123, 0.0154, 0.0157, 0.0123],\n",
       "        [0.0144, 0.0124, 0.0109, 0.0106, 0.0126],\n",
       "        [0.0199, 0.0108, 0.0127, 0.0133, 0.0092],\n",
       "        [0.0075, 0.0114, 0.0139, 0.0126, 0.0143],\n",
       "        [0.0125, 0.0163, 0.0111, 0.0127, 0.0072],\n",
       "        [0.0128, 0.0065, 0.0121, 0.0082, 0.0137],\n",
       "        [0.0076, 0.0154, 0.0089, 0.0152, 0.0147],\n",
       "        [0.0074, 0.0118, 0.0205, 0.0135, 0.0078],\n",
       "        [0.0197, 0.0118, 0.0233, 0.0144, 0.006 ],\n",
       "        [0.0145, 0.0113, 0.0079, 0.0149, 0.0117],\n",
       "        [0.0169, 0.0084, 0.0087, 0.0139, 0.0158],\n",
       "        [0.0101, 0.0083, 0.0159, 0.0093, 0.0119],\n",
       "        [0.008 , 0.0081, 0.01  , 0.0069, 0.0075],\n",
       "        [0.0092, 0.0117, 0.0109, 0.0135, 0.0127],\n",
       "        [0.0097, 0.008 , 0.0166, 0.0096, 0.0081],\n",
       "        [0.014 , 0.0107, 0.011 , 0.0112, 0.0129],\n",
       "        [0.0105, 0.0132, 0.0126, 0.0137, 0.0122],\n",
       "        [0.0174, 0.0066, 0.0149, 0.0238, 0.012 ],\n",
       "        [0.0181, 0.0126, 0.0122, 0.0173, 0.011 ],\n",
       "        [0.0118, 0.0143, 0.0153, 0.0147, 0.0148],\n",
       "        [0.0086, 0.0103, 0.0062, 0.0168, 0.0213],\n",
       "        [0.0181, 0.0136, 0.0057, 0.0136, 0.0132],\n",
       "        [0.0077, 0.0107, 0.0066, 0.014 , 0.0129],\n",
       "        [0.0143, 0.0178, 0.0147, 0.0088, 0.0134],\n",
       "        [0.0153, 0.0107, 0.0082, 0.0115, 0.015 ],\n",
       "        [0.0104, 0.0117, 0.0111, 0.0066, 0.0091],\n",
       "        [0.0114, 0.0117, 0.011 , 0.0084, 0.0161],\n",
       "        [0.0076, 0.0141, 0.0118, 0.0099, 0.0088],\n",
       "        [0.008 , 0.0095, 0.0105, 0.0142, 0.0087],\n",
       "        [0.0157, 0.0138, 0.0133, 0.0136, 0.0182],\n",
       "        [0.0087, 0.0191, 0.0108, 0.0179, 0.0105],\n",
       "        [0.0088, 0.0171, 0.0097, 0.0076, 0.0156],\n",
       "        [0.0089, 0.0151, 0.0136, 0.0157, 0.0116],\n",
       "        [0.0104, 0.013 , 0.0145, 0.0106, 0.0148],\n",
       "        [0.0101, 0.0172, 0.0098, 0.0086, 0.0147],\n",
       "        [0.0085, 0.0163, 0.0114, 0.0103, 0.0088],\n",
       "        [0.0096, 0.024 , 0.0146, 0.0101, 0.0099],\n",
       "        [0.0089, 0.01  , 0.0106, 0.0105, 0.0135],\n",
       "        [0.0073, 0.0101, 0.0106, 0.0105, 0.0119],\n",
       "        [0.0198, 0.0116, 0.0241, 0.0084, 0.0148],\n",
       "        [0.0091, 0.0087, 0.0103, 0.0091, 0.011 ],\n",
       "        [0.013 , 0.015 , 0.0141, 0.0085, 0.009 ],\n",
       "        [0.0083, 0.0199, 0.0168, 0.0148, 0.0062],\n",
       "        [0.0133, 0.01  , 0.0092, 0.0196, 0.0093],\n",
       "        [0.0087, 0.0091, 0.0123, 0.0074, 0.0115],\n",
       "        [0.0192, 0.0112, 0.0125, 0.0134, 0.0171],\n",
       "        [0.0084, 0.0122, 0.0149, 0.0127, 0.0071],\n",
       "        [0.0198, 0.0085, 0.0119, 0.0128, 0.0113],\n",
       "        [0.0079, 0.0112, 0.0147, 0.0159, 0.0121],\n",
       "        [0.0152, 0.0095, 0.0152, 0.007 , 0.01  ],\n",
       "        [0.0079, 0.014 , 0.0181, 0.0097, 0.0076],\n",
       "        [0.0122, 0.0158, 0.0104, 0.0119, 0.0071],\n",
       "        [0.0122, 0.017 , 0.0087, 0.0079, 0.0091],\n",
       "        [0.0157, 0.0092, 0.0127, 0.0128, 0.0138],\n",
       "        [0.0143, 0.0089, 0.0102, 0.0134, 0.0113],\n",
       "        [0.0154, 0.0076, 0.013 , 0.0116, 0.0089],\n",
       "        [0.0068, 0.0111, 0.0125, 0.0117, 0.0182],\n",
       "        [0.0093, 0.0098, 0.0156, 0.0092, 0.0095],\n",
       "        [0.0114, 0.0143, 0.0146, 0.0107, 0.0142],\n",
       "        [0.0142, 0.0091, 0.0125, 0.01  , 0.0149],\n",
       "        [0.0103, 0.0123, 0.0087, 0.0054, 0.0108],\n",
       "        [0.0093, 0.0152, 0.0084, 0.0137, 0.0079],\n",
       "        [0.0093, 0.0147, 0.012 , 0.0178, 0.0111],\n",
       "        [0.0209, 0.0087, 0.0138, 0.0147, 0.0134],\n",
       "        [0.0094, 0.0082, 0.0143, 0.0157, 0.0107],\n",
       "        [0.0124, 0.0145, 0.0191, 0.008 , 0.0073],\n",
       "        [0.0139, 0.0115, 0.0164, 0.0078, 0.0087],\n",
       "        [0.0125, 0.0109, 0.0094, 0.0165, 0.0089],\n",
       "        [0.018 , 0.0138, 0.0097, 0.0087, 0.0082],\n",
       "        [0.012 , 0.0095, 0.0171, 0.009 , 0.0066]]),\n",
       " 'statistic_means': array([0.01218, 0.011  , 0.01126, 0.01392, 0.01198, 0.01342, 0.0119 ,\n",
       "        0.01258, 0.01112, 0.01396, 0.0116 , 0.01108, 0.0128 , 0.0122 ,\n",
       "        0.0141 , 0.01426, 0.01546, 0.01032, 0.01358, 0.01296, 0.01152,\n",
       "        0.01194, 0.01478, 0.01344, 0.01246, 0.00996, 0.0112 , 0.01536,\n",
       "        0.01122, 0.01296, 0.01366, 0.01218, 0.01318, 0.01194, 0.01196,\n",
       "        0.01066, 0.01236, 0.0122 , 0.01504, 0.01206, 0.01274, 0.0111 ,\n",
       "        0.0081 , 0.0116 , 0.0104 , 0.01196, 0.01244, 0.01494, 0.01424,\n",
       "        0.01418, 0.01264, 0.01284, 0.01038, 0.0138 , 0.01214, 0.00978,\n",
       "        0.01172, 0.01044, 0.01018, 0.01492, 0.0134 , 0.01176, 0.01298,\n",
       "        0.01266, 0.01208, 0.01106, 0.01364, 0.0107 , 0.01008, 0.01574,\n",
       "        0.00964, 0.01192, 0.0132 , 0.01228, 0.0098 , 0.01468, 0.01106,\n",
       "        0.01286, 0.01236, 0.01138, 0.01146, 0.01148, 0.01098, 0.01284,\n",
       "        0.01162, 0.0113 , 0.01206, 0.01068, 0.01304, 0.01214, 0.0095 ,\n",
       "        0.0109 , 0.01298, 0.0143 , 0.01166, 0.01226, 0.01166, 0.01164,\n",
       "        0.01168, 0.01084]),\n",
       " 'statistic_stds': array([0.00312115, 0.00308739, 0.00311423, 0.00358463, 0.00284211,\n",
       "        0.00405828, 0.00385798, 0.00211603, 0.00169399, 0.00444909,\n",
       "        0.00207846, 0.001828  , 0.00369919, 0.0036524 , 0.0040802 ,\n",
       "        0.00367347, 0.00147729, 0.00351818, 0.00568204, 0.00380137,\n",
       "        0.00220853, 0.00281397, 0.00404495, 0.0053597 , 0.00500743,\n",
       "        0.00301569, 0.00108074, 0.00667011, 0.00168926, 0.00192935,\n",
       "        0.00154997, 0.00136294, 0.00365809, 0.00244344, 0.00293503,\n",
       "        0.00280186, 0.00338857, 0.00475689, 0.00604271, 0.00253109,\n",
       "        0.00355449, 0.00267432, 0.00104115, 0.00148862, 0.00318182,\n",
       "        0.0012753 , 0.00109654, 0.0057053 , 0.00288486, 0.00123191,\n",
       "        0.00557803, 0.0039983 , 0.00286454, 0.00290586, 0.00268968,\n",
       "        0.00181041, 0.00248306, 0.00229312, 0.00217568, 0.00184326,\n",
       "        0.00424264, 0.00383594, 0.00248306, 0.00186719, 0.00329569,\n",
       "        0.00282177, 0.00549713, 0.00152447, 0.00151578, 0.00562622,\n",
       "        0.00086626, 0.00266938, 0.00516566, 0.00395444, 0.00182209,\n",
       "        0.00299292, 0.00288069, 0.00375585, 0.002804  , 0.00328049,\n",
       "        0.00403019, 0.00281808, 0.00334509, 0.00211528, 0.00199339,\n",
       "        0.00280143, 0.00364999, 0.00246852, 0.00164511, 0.00227209,\n",
       "        0.00235032, 0.0029712 , 0.00297416, 0.00390231, 0.00287374,\n",
       "        0.00434907, 0.00319912, 0.00273613, 0.00372419, 0.00356909]),\n",
       " 'pvalue_lists': array([[4.56871769e-01, 7.46165906e-01, 3.39363381e-01, 8.62926620e-01,\n",
       "         9.68523511e-02],\n",
       "        [6.51819354e-01, 9.21279017e-01, 7.22940138e-01, 6.87548734e-01,\n",
       "         1.14964061e-01],\n",
       "        [2.88817673e-01, 9.52653436e-01, 9.34921368e-01, 3.13387623e-01,\n",
       "         2.88817673e-01],\n",
       "        [3.11625829e-02, 7.57624985e-01, 3.05041411e-01, 4.35852754e-01,\n",
       "         3.05041411e-01],\n",
       "        [3.76166179e-01, 7.91205935e-01, 8.62926620e-01, 1.40284518e-01,\n",
       "         3.66735684e-01],\n",
       "        [3.51887696e-02, 7.57624985e-01, 3.30548848e-01, 2.04334938e-01,\n",
       "         8.12774915e-01],\n",
       "        [8.62926620e-01, 6.27978203e-01, 1.14964061e-01, 9.41199497e-01,\n",
       "         1.54541046e-01],\n",
       "        [2.16924834e-01, 2.50973267e-01, 4.46295616e-01, 4.15380426e-01,\n",
       "         8.23267045e-01],\n",
       "        [6.99400946e-01, 6.87548734e-01, 7.91205935e-01, 3.76166179e-01,\n",
       "         3.30548848e-01],\n",
       "        [5.22888339e-01, 7.91205935e-01, 3.13387623e-01, 3.48333221e-01,\n",
       "         1.38438153e-02],\n",
       "        [4.78408339e-01, 8.12774915e-01, 1.92315505e-01, 6.16085376e-01,\n",
       "         5.68936648e-01],\n",
       "        [7.68961567e-01, 8.12774915e-01, 6.16085376e-01, 2.96851490e-01,\n",
       "         4.15380426e-01],\n",
       "        [3.76166179e-01, 1.59543157e-01, 8.12774915e-01, 8.41347139e-02,\n",
       "         8.72189868e-01],\n",
       "        [2.73216834e-01, 9.67081996e-01, 4.25546646e-01, 8.71745864e-02,\n",
       "         7.22940138e-01],\n",
       "        [5.57301114e-01, 8.41347139e-02, 3.37987617e-02, 6.51819354e-01,\n",
       "         5.92407362e-01],\n",
       "        [4.46270651e-02, 1.27110543e-01, 2.23437596e-01, 7.68961567e-01,\n",
       "         5.80641554e-01],\n",
       "        [2.58234470e-01, 1.35775611e-01, 1.03789513e-01, 3.48333221e-01,\n",
       "         1.44913717e-01],\n",
       "        [7.34599371e-01, 3.57457639e-01, 9.99633883e-01, 8.43588934e-01,\n",
       "         2.04334938e-01],\n",
       "        [9.06228452e-01, 9.62722044e-03, 2.04334938e-01, 2.65648702e-01,\n",
       "         9.41199497e-01],\n",
       "        [9.03061450e-02, 3.30548848e-01, 1.31384967e-01, 7.80160372e-01,\n",
       "         9.06228452e-01],\n",
       "        [8.89836809e-01, 3.05041411e-01, 3.95478594e-01, 3.30548848e-01,\n",
       "         7.46165906e-01],\n",
       "        [1.49665226e-01, 7.46165906e-01, 4.46295616e-01, 8.89836809e-01,\n",
       "         3.13387623e-01],\n",
       "        [2.33055870e-02, 3.95478594e-01, 2.30097506e-01, 8.23267045e-01,\n",
       "         1.31384967e-01],\n",
       "        [8.62926620e-01, 4.78408339e-01, 4.15380426e-01, 6.93271028e-03,\n",
       "         6.39893169e-01],\n",
       "        [8.81164266e-01, 6.27978203e-01, 8.89836809e-01, 3.21890152e-01,\n",
       "         1.80269451e-02],\n",
       "        [9.28279584e-01, 6.99400946e-01, 9.88776732e-01, 2.04334938e-01,\n",
       "         6.16085376e-01],\n",
       "        [4.78408339e-01, 4.56871769e-01, 5.34269665e-01, 5.22888339e-01,\n",
       "         8.02082666e-01],\n",
       "        [2.43864113e-01, 3.57457639e-01, 4.67577401e-01, 7.03171739e-04,\n",
       "         8.12774915e-01],\n",
       "        [8.02082666e-01, 4.56871769e-01, 7.80160372e-01, 3.48333221e-01,\n",
       "         4.25546646e-01],\n",
       "        [3.05041411e-01, 4.35852754e-01, 1.44913717e-01, 6.51819354e-01,\n",
       "         4.46295616e-01],\n",
       "        [4.05356906e-01, 4.35852754e-01, 1.86515593e-01, 1.69934057e-01,\n",
       "         4.35852754e-01],\n",
       "        [2.50973267e-01, 4.25546646e-01, 5.92407362e-01, 6.27978203e-01,\n",
       "         4.05356906e-01],\n",
       "        [3.81197370e-02, 6.04225117e-01, 3.95478594e-01, 3.39363381e-01,\n",
       "         7.91205935e-01],\n",
       "        [9.41199497e-01, 5.34269665e-01, 2.88817673e-01, 4.05356906e-01,\n",
       "         2.58234470e-01],\n",
       "        [4.15380426e-01, 1.40284518e-01, 5.68936648e-01, 3.95478594e-01,\n",
       "         9.57827887e-01],\n",
       "        [3.85747706e-01, 9.84144892e-01, 4.56871769e-01, 8.89836809e-01,\n",
       "         3.05041411e-01],\n",
       "        [9.34921368e-01, 1.86515593e-01, 8.23267045e-01, 1.98254723e-01,\n",
       "         2.30097506e-01],\n",
       "        [9.47110709e-01, 4.89360038e-01, 2.99136497e-02, 3.21890152e-01,\n",
       "         9.21279017e-01],\n",
       "        [4.12617829e-02, 4.89360038e-01, 8.77391015e-03, 2.50973267e-01,\n",
       "         9.93769662e-01],\n",
       "        [2.43864113e-01, 5.45742945e-01, 9.13926047e-01, 2.16924834e-01,\n",
       "         5.00427563e-01],\n",
       "        [1.14964061e-01, 8.72189868e-01, 8.43588934e-01, 2.88817673e-01,\n",
       "         1.64673517e-01],\n",
       "        [6.87548734e-01, 8.81164266e-01, 1.59543157e-01, 7.80160372e-01,\n",
       "         4.78408339e-01],\n",
       "        [9.06228452e-01, 8.98195296e-01, 6.99400946e-01, 9.71171373e-01,\n",
       "         9.41199497e-01],\n",
       "        [7.91205935e-01, 5.00427563e-01, 5.92407362e-01, 3.21890152e-01,\n",
       "         3.95478594e-01],\n",
       "        [7.34599371e-01, 9.06228452e-01, 1.27110543e-01, 7.46165906e-01,\n",
       "         8.98195296e-01],\n",
       "        [2.80939617e-01, 6.16085376e-01, 5.80641554e-01, 5.57301114e-01,\n",
       "         3.76166179e-01],\n",
       "        [6.39893169e-01, 3.48333221e-01, 4.05356906e-01, 3.05041411e-01,\n",
       "         4.46295616e-01],\n",
       "        [9.68523511e-02, 9.81386502e-01, 2.16924834e-01, 6.93271028e-03,\n",
       "         4.67577401e-01],\n",
       "        [7.55453845e-02, 4.05356906e-01, 4.46295616e-01, 1.00271044e-01,\n",
       "         5.80641554e-01],\n",
       "        [4.89360038e-01, 2.58234470e-01, 1.92315505e-01, 2.30097506e-01,\n",
       "         2.23437596e-01],\n",
       "        [8.53388218e-01, 6.63745348e-01, 9.90683458e-01, 1.18902148e-01,\n",
       "         2.14105760e-02],\n",
       "        [7.55453845e-02, 3.13387623e-01, 9.96872927e-01, 3.13387623e-01,\n",
       "         3.48333221e-01],\n",
       "        [9.28279584e-01, 6.16085376e-01, 9.81386502e-01, 2.80939617e-01,\n",
       "         3.76166179e-01],\n",
       "        [2.58234470e-01, 8.41347139e-02, 2.30097506e-01, 8.33543509e-01,\n",
       "         3.30548848e-01],\n",
       "        [1.92315505e-01, 6.16085376e-01, 8.89836809e-01, 5.22888339e-01,\n",
       "         2.10557784e-01],\n",
       "        [6.51819354e-01, 5.00427563e-01, 5.68936648e-01, 9.81386502e-01,\n",
       "         8.02082666e-01],\n",
       "        [5.34269665e-01, 5.00427563e-01, 5.80641554e-01, 8.72189868e-01,\n",
       "         1.49665226e-01],\n",
       "        [9.34921368e-01, 2.73216834e-01, 4.89360038e-01, 7.11202640e-01,\n",
       "         8.33543509e-01],\n",
       "        [9.06228452e-01, 7.57624985e-01, 6.39893169e-01, 2.65648702e-01,\n",
       "         8.43588934e-01],\n",
       "        [1.69934057e-01, 2.96851490e-01, 3.39363381e-01, 3.13387623e-01,\n",
       "         7.28525092e-02],\n",
       "        [8.43588934e-01, 5.20781481e-02, 6.04225117e-01, 8.11845368e-02,\n",
       "         6.39893169e-01],\n",
       "        [8.33543509e-01, 1.07409802e-01, 7.34599371e-01, 9.34921368e-01,\n",
       "         1.75326678e-01],\n",
       "        [8.23267045e-01, 2.04334938e-01, 3.13387623e-01, 1.69934057e-01,\n",
       "         5.11605579e-01],\n",
       "        [6.51819354e-01, 3.66735684e-01, 2.43864113e-01, 6.27978203e-01,\n",
       "         2.23437596e-01],\n",
       "        [6.87548734e-01, 1.03789513e-01, 7.22940138e-01, 8.53388218e-01,\n",
       "         2.30097506e-01],\n",
       "        [8.62926620e-01, 1.40284518e-01, 5.34269665e-01, 6.63745348e-01,\n",
       "         8.33543509e-01],\n",
       "        [7.46165906e-01, 6.30055304e-03, 2.36905920e-01, 6.87548734e-01,\n",
       "         7.11202640e-01],\n",
       "        [8.23267045e-01, 6.99400946e-01, 6.27978203e-01, 6.39893169e-01,\n",
       "         3.21890152e-01],\n",
       "        [9.52653436e-01, 6.87548734e-01, 6.27978203e-01, 6.39893169e-01,\n",
       "         4.78408339e-01],\n",
       "        [3.96636256e-02, 5.11605579e-01, 6.00462826e-03, 8.72189868e-01,\n",
       "         2.23437596e-01],\n",
       "        [8.02082666e-01, 8.43588934e-01, 6.63745348e-01, 8.02082666e-01,\n",
       "         5.80641554e-01],\n",
       "        [3.66735684e-01, 2.10557784e-01, 2.73216834e-01, 8.62926620e-01,\n",
       "         8.12774915e-01],\n",
       "        [8.81164266e-01, 3.81197370e-02, 1.18902148e-01, 2.23437596e-01,\n",
       "         9.90683458e-01],\n",
       "        [3.39363381e-01, 6.99400946e-01, 7.91205935e-01, 4.29157425e-02,\n",
       "         7.80160372e-01],\n",
       "        [8.43588934e-01, 8.02082666e-01, 4.35852754e-01, 9.47110709e-01,\n",
       "         5.22888339e-01],\n",
       "        [5.01212257e-02, 5.57301114e-01, 4.15380426e-01, 3.30548848e-01,\n",
       "         1.07409802e-01],\n",
       "        [8.72189868e-01, 4.46295616e-01, 2.16924834e-01, 3.95478594e-01,\n",
       "         9.62636103e-01],\n",
       "        [3.96636256e-02, 8.62926620e-01, 4.78408339e-01, 3.85747706e-01,\n",
       "         5.45742945e-01],\n",
       "        [9.13926047e-01, 5.57301114e-01, 2.30097506e-01, 1.59543157e-01,\n",
       "         4.56871769e-01],\n",
       "        [1.98254723e-01, 7.57624985e-01, 1.98254723e-01, 9.67081996e-01,\n",
       "         6.99400946e-01],\n",
       "        [9.13926047e-01, 2.80939617e-01, 7.55453845e-02, 7.34599371e-01,\n",
       "         9.34921368e-01],\n",
       "        [4.46295616e-01, 1.64673517e-01, 6.51819354e-01, 4.78408339e-01,\n",
       "         9.62636103e-01],\n",
       "        [4.46295616e-01, 1.11133965e-01, 8.43588934e-01, 9.13926047e-01,\n",
       "         8.02082666e-01],\n",
       "        [1.69934057e-01, 7.91205935e-01, 3.95478594e-01, 3.85747706e-01,\n",
       "         2.96851490e-01],\n",
       "        [2.58234470e-01, 8.23267045e-01, 6.75659261e-01, 3.30548848e-01,\n",
       "         5.45742945e-01],\n",
       "        [1.86515593e-01, 9.34921368e-01, 3.66735684e-01, 5.11605579e-01,\n",
       "         8.23267045e-01],\n",
       "        [9.74911923e-01, 5.68936648e-01, 4.15380426e-01, 5.00427563e-01,\n",
       "         7.28525092e-02],\n",
       "        [7.80160372e-01, 7.22940138e-01, 1.75326678e-01, 7.91205935e-01,\n",
       "         7.57624985e-01],\n",
       "        [5.34269665e-01, 2.58234470e-01, 2.36905920e-01, 6.16085376e-01,\n",
       "         2.65648702e-01],\n",
       "        [2.65648702e-01, 8.02082666e-01, 4.15380426e-01, 6.99400946e-01,\n",
       "         2.16924834e-01],\n",
       "        [6.63745348e-01, 4.35852754e-01, 8.43588934e-01, 9.98613646e-01,\n",
       "         6.04225117e-01],\n",
       "        [7.80160372e-01, 1.98254723e-01, 8.72189868e-01, 3.05041411e-01,\n",
       "         9.13926047e-01],\n",
       "        [7.80160372e-01, 2.30097506e-01, 4.67577401e-01, 8.41347139e-02,\n",
       "         5.68936648e-01],\n",
       "        [2.53480250e-02, 8.43588934e-01, 2.96851490e-01, 2.30097506e-01,\n",
       "         3.30548848e-01],\n",
       "        [7.68961567e-01, 8.89836809e-01, 2.58234470e-01, 1.69934057e-01,\n",
       "         6.16085376e-01],\n",
       "        [4.25546646e-01, 2.43864113e-01, 5.20781481e-02, 9.06228452e-01,\n",
       "         9.52653436e-01],\n",
       "        [2.88817673e-01, 5.22888339e-01, 1.35775611e-01, 9.21279017e-01,\n",
       "         8.43588934e-01],\n",
       "        [4.15380426e-01, 5.92407362e-01, 7.68961567e-01, 1.31384967e-01,\n",
       "         8.23267045e-01],\n",
       "        [7.83220799e-02, 2.96851490e-01, 7.34599371e-01, 8.43588934e-01,\n",
       "         8.89836809e-01],\n",
       "        [4.67577401e-01, 7.57624985e-01, 1.07409802e-01, 8.12774915e-01,\n",
       "         9.81386502e-01]]),\n",
       " 'pvalue_means': array([0.50043601, 0.61971026, 0.55571955, 0.36694463, 0.50746379,\n",
       "        0.42809449, 0.54032189, 0.43056824, 0.57697413, 0.39793179,\n",
       "        0.53370416, 0.58201076, 0.46096177, 0.49519204, 0.38389226,\n",
       "        0.34895567, 0.19820931, 0.62792295, 0.46540776, 0.44772576,\n",
       "        0.53341431, 0.50907024, 0.32070674, 0.48070825, 0.54777928,\n",
       "        0.68737552, 0.55890416, 0.37647545, 0.56259893, 0.39678457,\n",
       "        0.32670241, 0.46045248, 0.43367855, 0.48557564, 0.49558161,\n",
       "        0.60432852, 0.47461125, 0.54191071, 0.35682773, 0.4841771 ,\n",
       "        0.45684681, 0.59736497, 0.88323911, 0.52028192, 0.68245991,\n",
       "        0.48222677, 0.42898406, 0.35393476, 0.3216221 , 0.27868902,\n",
       "        0.52962595, 0.40950536, 0.63657145, 0.34731181, 0.48633676,\n",
       "        0.70093055, 0.52743878, 0.64844888, 0.68259685, 0.23847781,\n",
       "        0.44419398, 0.55716015, 0.40450585, 0.42276699, 0.51955282,\n",
       "        0.60695393, 0.47762475, 0.6224859 , 0.67729638, 0.33058026,\n",
       "        0.73842823, 0.50524237, 0.45046144, 0.53060928, 0.71030468,\n",
       "        0.29215228, 0.578705  , 0.46249785, 0.46354792, 0.56412347,\n",
       "        0.58798636, 0.54076659, 0.62340545, 0.40784356, 0.52669051,\n",
       "        0.56460905, 0.50650181, 0.64545162, 0.38222883, 0.47988751,\n",
       "        0.70920516, 0.61391448, 0.42618133, 0.34528696, 0.54061046,\n",
       "        0.51607416, 0.54246991, 0.54628027, 0.56863974, 0.62535472]),\n",
       " 'pvalue_stds': array([0.27658801, 0.26907319, 0.31703265, 0.23570875, 0.27521901,\n",
       "        0.30676629, 0.3470494 , 0.2156795 , 0.18663311, 0.25589451,\n",
       "        0.20273743, 0.19922111, 0.32647301, 0.31469066, 0.26748987,\n",
       "        0.27844901, 0.09142614, 0.29954598, 0.38379663, 0.33534704,\n",
       "        0.23859383, 0.27298419, 0.27952027, 0.28290175, 0.33652465,\n",
       "        0.27836399, 0.12484388, 0.26751039, 0.19002989, 0.16785478,\n",
       "        0.12185466, 0.13683014, 0.25445366, 0.24770828, 0.26897637,\n",
       "        0.27744163, 0.33244707, 0.35253906, 0.36199125, 0.25215578,\n",
       "        0.3324341 , 0.25609683, 0.09554073, 0.16366506, 0.28698572,\n",
       "        0.13038798, 0.11593699, 0.34982391, 0.19959766, 0.10740103,\n",
       "        0.39047688, 0.30943471, 0.28238118, 0.25598375, 0.26210134,\n",
       "        0.17258218, 0.23029241, 0.23932108, 0.22681628, 0.10131816,\n",
       "        0.31904707, 0.3460197 , 0.24092577, 0.18409486, 0.29586436,\n",
       "        0.2619746 , 0.30027758, 0.1654811 , 0.15447612, 0.32482996,\n",
       "        0.09963605, 0.2765405 , 0.40220438, 0.29431173, 0.19632307,\n",
       "        0.18956381, 0.28827955, 0.26540741, 0.26780317, 0.31171727,\n",
       "        0.34784175, 0.26251321, 0.3028526 , 0.20809998, 0.21026294,\n",
       "        0.27890969, 0.28972327, 0.23621836, 0.15993097, 0.23289683,\n",
       "        0.19474353, 0.30084096, 0.24610511, 0.27073884, 0.28175767,\n",
       "        0.35788481, 0.30472681, 0.25207508, 0.32267243, 0.30742186])}"
      ]
     },
     "execution_count": 36,
     "metadata": {},
     "output_type": "execute_result"
    }
   ],
   "source": [
    "KSTest.Test_np()\n",
    "KSTest.Results[-1].result_value"
   ]
  },
  {
   "cell_type": "markdown",
   "metadata": {},
   "source": [
    "### LR Test"
   ]
  },
  {
   "cell_type": "code",
   "execution_count": 37,
   "metadata": {},
   "outputs": [
    {
     "name": "stdout",
     "output_type": "stream",
     "text": [
      "\n",
      "------------------------------------------\n",
      "Starting LR metric calculation...\n",
      "niter = 100\n",
      "batch_size = 10000\n"
     ]
    },
    {
     "name": "stderr",
     "output_type": "stream",
     "text": [
      "Iterations:   5%|▌         | 5/100 [00:00<00:01, 49.26it/s]"
     ]
    },
    {
     "name": "stdout",
     "output_type": "stream",
     "text": [
      "Running numpy LR calculation...\n"
     ]
    },
    {
     "name": "stderr",
     "output_type": "stream",
     "text": [
      "Iterations: 100%|██████████| 100/100 [00:01<00:00, 51.74it/s]"
     ]
    },
    {
     "name": "stdout",
     "output_type": "stream",
     "text": [
      "Two-sample test calculation completed in 1.9350585862994194 seconds.\n"
     ]
    },
    {
     "name": "stderr",
     "output_type": "stream",
     "text": [
      "\n"
     ]
    },
    {
     "data": {
      "text/plain": [
       "{'logprob_ref_ref_sum_list': array([-70901.18122667, -71109.03989312, -71015.39393609, -71006.03789414,\n",
       "        -70977.27687853, -70762.79690753, -70965.3560591 , -70865.13279837,\n",
       "        -70884.92874659, -71145.52676865, -70987.5782955 , -71113.34487102,\n",
       "        -71193.72648664, -70774.97096723, -70973.78528619, -71033.61086275,\n",
       "        -70971.42001784, -70914.240964  , -70904.00691703, -70919.32166653,\n",
       "        -70915.69524304, -71059.34569801, -70812.93957552, -71029.09805561,\n",
       "        -71110.16807105, -70852.56351934, -70948.04069935, -71026.79673571,\n",
       "        -70692.79964075, -71039.68992471, -70677.90889687, -71099.99126151,\n",
       "        -71177.13474741, -70960.89028719, -71112.47506746, -70996.15466963,\n",
       "        -70642.95805024, -71017.44961231, -70846.55178031, -70829.31878489,\n",
       "        -70919.32562499, -71133.57896337, -70973.45883497, -70700.19468083,\n",
       "        -70936.78314226, -71052.32182459, -71102.22501891, -71278.69191156,\n",
       "        -70879.63155939, -70687.01540179, -70735.05749641, -70960.7505121 ,\n",
       "        -70777.32974945, -70890.93487094, -70743.83206715, -70845.01546714,\n",
       "        -71064.78503311, -71112.8080217 , -71299.51396157, -70904.26221346,\n",
       "        -70870.80804825, -71094.32599336, -70827.22703341, -70983.50469963,\n",
       "        -70756.86656931, -71030.58476572, -70891.90840341, -70911.21510674,\n",
       "        -71003.24718679, -71145.79988564, -71039.54751327, -71231.541393  ,\n",
       "        -71252.73477202, -70830.88087667, -70963.75034084, -71060.43052238,\n",
       "        -70945.14542481, -70711.64591748, -70855.91196041, -70890.12877376,\n",
       "        -70956.30850046, -70656.54109552, -70890.6331464 , -71059.373805  ,\n",
       "        -71234.39610535, -71147.61033897, -70871.09688036, -70531.53683257,\n",
       "        -71242.57905713, -71136.16606257, -71038.79329522, -71033.67724851,\n",
       "        -71159.49567537, -70741.59058273, -70837.03700304, -70937.25862153,\n",
       "        -71150.01908424, -70866.64057346, -71112.29271485, -70840.80819645]),\n",
       " 'logprob_ref_alt_sum_list': array([-70907.61435419, -71064.00180802, -71006.03073633, -70969.56584709,\n",
       "        -71150.09265629, -71013.91228507, -71021.1609344 , -70894.92342114,\n",
       "        -70721.84189633, -71017.0180272 , -70974.04366487, -70988.566922  ,\n",
       "        -70777.61691056, -71091.06389669, -71295.24531551, -70876.84280464,\n",
       "        -70863.62980799, -71253.49762344, -70994.85795942, -71140.86175436,\n",
       "        -71095.84921638, -71156.7704901 , -71178.14466611, -71303.83936208,\n",
       "        -71028.52449137, -71132.86887748, -71063.42098864, -70742.30689288,\n",
       "        -71080.56660829, -70981.00039635, -71142.70906629, -71073.268427  ,\n",
       "        -70965.60436069, -71121.58023287, -71017.07463835, -71199.87434581,\n",
       "        -70977.58099217, -71166.77535535, -70924.98945433, -71030.38758022,\n",
       "        -70599.75960936, -70921.60137846, -71045.39603384, -70936.62793147,\n",
       "        -71513.50237232, -71115.11283877, -70987.08027107, -71215.81850023,\n",
       "        -70957.72402968, -71119.49048468, -70996.26790324, -71049.85070966,\n",
       "        -71227.5595995 , -71230.30334572, -71019.48355762, -71138.65967433,\n",
       "        -70862.73475758, -71137.47576292, -70795.29628499, -70913.78557224,\n",
       "        -71019.39634139, -71329.29911398, -71036.73859112, -70947.84923262,\n",
       "        -70961.48351134, -70869.65825655, -70900.68258954, -70769.91118892,\n",
       "        -70870.82123992, -71059.99264436, -71122.27222188, -71101.27311118,\n",
       "        -71215.46532985, -71020.69803906, -70989.0130029 , -71051.10675372,\n",
       "        -70954.27994949, -70828.11536492, -70974.35265709, -70971.43139486,\n",
       "        -70806.28275186, -70719.34377842, -71062.90289239, -70841.78022045,\n",
       "        -71015.05537445, -71131.71690836, -70960.55420013, -70892.86379404,\n",
       "        -71047.88009899, -71118.00461706, -70983.86023572, -71284.23030553,\n",
       "        -71449.82043593, -71057.55801105, -71176.8756643 , -70883.01613673,\n",
       "        -71157.59130403, -71154.43978902, -71067.0760035 , -71175.64790578]),\n",
       " 'logprob_alt_alt_sum_list': array([-70907.93022496, -71063.52660011, -71004.24020993, -70968.53715793,\n",
       "        -71150.75750645, -71012.87176579, -71020.70633656, -70894.83940911,\n",
       "        -70722.77889326, -71016.82768568, -70973.81374195, -70988.73285345,\n",
       "        -70778.57357981, -71090.19386689, -71293.31446456, -70876.88908566,\n",
       "        -70862.91860579, -71251.98123381, -70993.52341255, -71138.95390452,\n",
       "        -71094.65368096, -71155.96358733, -71176.86136909, -71302.77548941,\n",
       "        -71028.35241216, -71132.61957994, -71060.53202827, -70743.5605385 ,\n",
       "        -71077.89350682, -70980.44249523, -71141.50102814, -71072.77613764,\n",
       "        -70964.93268467, -71120.44910791, -71015.8549598 , -71199.0619924 ,\n",
       "        -70978.64157613, -71167.7102602 , -70924.87297539, -71029.18124123,\n",
       "        -70601.01288024, -70921.16159609, -71044.93395359, -70936.76317614,\n",
       "        -71510.55454771, -71115.15003329, -70986.78959337, -71214.57383299,\n",
       "        -70956.54617682, -71117.25051575, -70995.86155262, -71049.95275631,\n",
       "        -71226.21184668, -71229.49864527, -71018.85941093, -71139.36068763,\n",
       "        -70862.08506058, -71137.36494245, -70795.30822999, -70913.49323217,\n",
       "        -71019.26769573, -71327.57192886, -71036.52083579, -70946.71063241,\n",
       "        -70961.33074404, -70871.31714314, -70900.48347585, -70770.95329952,\n",
       "        -70869.708624  , -71058.66896458, -71121.17173032, -71100.54963843,\n",
       "        -71215.28380191, -71020.17264315, -70987.98350027, -71049.81390981,\n",
       "        -70953.80219561, -70828.14141036, -70973.39030688, -70971.37209176,\n",
       "        -70804.7241771 , -70718.83911512, -71062.69066684, -70840.90888873,\n",
       "        -71014.36529289, -71132.07807146, -70958.81212213, -70892.14324851,\n",
       "        -71048.86651769, -71118.69234392, -70985.00894743, -71281.67429705,\n",
       "        -71447.76683083, -71056.30338167, -71176.36990473, -70882.86103623,\n",
       "        -71157.47418843, -71154.40828229, -71066.22878692, -71174.41044785]),\n",
       " 'lik_ratio_list': array([-0.63174154,  0.95041581,  3.58105281,  2.05737832, -1.32970031,\n",
       "         2.08103858,  0.90919567,  0.16802406, -1.87399385,  0.38068306,\n",
       "         0.45984583, -0.3318629 , -1.91333851,  1.74005961,  3.8617019 ,\n",
       "        -0.09256203,  1.42240439,  3.03277927,  2.66909374,  3.81569968,\n",
       "         2.39107084,  1.61380554,  2.56659404,  2.12774535,  0.34415842,\n",
       "         0.49859509,  5.77792075, -2.50729125,  5.34620295,  1.11580224,\n",
       "         2.4160763 ,  0.98457873,  1.34335205,  2.26224992,  2.4393571 ,\n",
       "         1.62470682, -2.12116792, -1.8698097 ,  0.23295789,  2.41267798,\n",
       "        -2.50654174,  0.87956473,  0.9241605 , -0.27048935,  5.89564922,\n",
       "        -0.07438904,  0.58135541,  2.48933449,  2.35570571,  4.47993785,\n",
       "         0.81270124, -0.20409329,  2.69550563,  1.60940089,  1.24829339,\n",
       "        -1.40202661,  1.299394  ,  0.22164094, -0.02389   ,  0.58468013,\n",
       "         0.25729133,  3.45437025,  0.43551067,  2.27720041,  0.30553459,\n",
       "        -3.31777317,  0.39822738, -2.0842212 ,  2.22523183,  2.64735956,\n",
       "         2.20098311,  1.44694551,  0.36305589,  1.05079184,  2.05900525,\n",
       "         2.58568782,  0.95550776, -0.05209088,  1.92470041,  0.1186062 ,\n",
       "         3.11714953,  1.0093266 ,  0.4244511 ,  1.74266344,  1.38016312,\n",
       "        -0.72232619,  3.484156  ,  1.44109105, -1.9728374 , -1.37545372,\n",
       "        -2.29742342,  5.11201697,  4.1072102 ,  2.50925876,  1.01151914,\n",
       "         0.31020101,  0.23423119,  0.06301346,  1.69443317,  2.47491586]),\n",
       " 'lik_ratio_norm_list': array([-0.00631742,  0.00950416,  0.03581053,  0.02057378, -0.013297  ,\n",
       "         0.02081039,  0.00909196,  0.00168024, -0.01873994,  0.00380683,\n",
       "         0.00459846, -0.00331863, -0.01913339,  0.0174006 ,  0.03861702,\n",
       "        -0.00092562,  0.01422404,  0.03032779,  0.02669094,  0.038157  ,\n",
       "         0.02391071,  0.01613806,  0.02566594,  0.02127745,  0.00344158,\n",
       "         0.00498595,  0.05777921, -0.02507291,  0.05346203,  0.01115802,\n",
       "         0.02416076,  0.00984579,  0.01343352,  0.0226225 ,  0.02439357,\n",
       "         0.01624707, -0.02121168, -0.0186981 ,  0.00232958,  0.02412678,\n",
       "        -0.02506542,  0.00879565,  0.00924161, -0.00270489,  0.05895649,\n",
       "        -0.00074389,  0.00581355,  0.02489334,  0.02355706,  0.04479938,\n",
       "         0.00812701, -0.00204093,  0.02695506,  0.01609401,  0.01248293,\n",
       "        -0.01402027,  0.01299394,  0.00221641, -0.0002389 ,  0.0058468 ,\n",
       "         0.00257291,  0.0345437 ,  0.00435511,  0.022772  ,  0.00305535,\n",
       "        -0.03317773,  0.00398227, -0.02084221,  0.02225232,  0.0264736 ,\n",
       "         0.02200983,  0.01446946,  0.00363056,  0.01050792,  0.02059005,\n",
       "         0.02585688,  0.00955508, -0.00052091,  0.019247  ,  0.00118606,\n",
       "         0.0311715 ,  0.01009327,  0.00424451,  0.01742663,  0.01380163,\n",
       "        -0.00722326,  0.03484156,  0.01441091, -0.01972837, -0.01375454,\n",
       "        -0.02297423,  0.05112017,  0.0410721 ,  0.02509259,  0.01011519,\n",
       "         0.00310201,  0.00234231,  0.00063013,  0.01694433,  0.02474916])}"
      ]
     },
     "execution_count": 37,
     "metadata": {},
     "output_type": "execute_result"
    }
   ],
   "source": [
    "LRMetric.Test_np()\n",
    "LRMetric.Results[-1].result_value"
   ]
  },
  {
   "cell_type": "markdown",
   "metadata": {},
   "source": [
    "### MultiKS Test"
   ]
  },
  {
   "cell_type": "code",
   "execution_count": 38,
   "metadata": {},
   "outputs": [
    {
     "name": "stdout",
     "output_type": "stream",
     "text": [
      "\n",
      "------------------------------------------\n",
      "Starting MultiKS tests calculation...\n",
      "niter = 100\n",
      "batch_size = 10000\n"
     ]
    },
    {
     "name": "stderr",
     "output_type": "stream",
     "text": [
      "Iterations:   0%|          | 0/100 [00:00<?, ?it/s]"
     ]
    },
    {
     "name": "stdout",
     "output_type": "stream",
     "text": [
      "Running numpy MultiKS tests...\n"
     ]
    },
    {
     "name": "stderr",
     "output_type": "stream",
     "text": [
      "Iterations: 100%|██████████| 100/100 [20:38<00:00, 12.39s/it]"
     ]
    },
    {
     "name": "stdout",
     "output_type": "stream",
     "text": [
      "Two-sample test calculation completed in 1238.512193382252 seconds.\n"
     ]
    },
    {
     "name": "stderr",
     "output_type": "stream",
     "text": [
      "\n"
     ]
    },
    {
     "data": {
      "text/plain": [
       "{'metric_list': array([0.0205, 0.0178, 0.0328, 0.0149, 0.0208, 0.0161, 0.0165, 0.017 ,\n",
       "        0.0132, 0.0177, 0.0202, 0.0177, 0.0182, 0.0232, 0.0159, 0.0155,\n",
       "        0.0209, 0.0153, 0.02  , 0.0178, 0.0154, 0.0168, 0.0182, 0.0133,\n",
       "        0.0214, 0.0194, 0.0192, 0.0171, 0.0185, 0.0224, 0.0229, 0.0131,\n",
       "        0.0166, 0.0117, 0.0146, 0.0127, 0.0199, 0.0202, 0.0196, 0.0167,\n",
       "        0.0179, 0.0184, 0.0151, 0.0179, 0.0186, 0.016 , 0.0145, 0.0213,\n",
       "        0.0174, 0.0174, 0.0112, 0.0176, 0.0156, 0.0183, 0.0193, 0.0176,\n",
       "        0.0154, 0.0117, 0.0177, 0.0179, 0.0186, 0.0151, 0.0146, 0.0152,\n",
       "        0.0181, 0.022 , 0.0264, 0.0166, 0.0215, 0.017 , 0.0153, 0.018 ,\n",
       "        0.0141, 0.0158, 0.0218, 0.0128, 0.0176, 0.0145, 0.0141, 0.0157,\n",
       "        0.0152, 0.0191, 0.026 , 0.0159, 0.021 , 0.0156, 0.0229, 0.0133,\n",
       "        0.0152, 0.0163, 0.0203, 0.016 , 0.0156, 0.0218, 0.0188, 0.016 ,\n",
       "        0.022 , 0.0139, 0.0225, 0.015 ])}"
      ]
     },
     "execution_count": 38,
     "metadata": {},
     "output_type": "execute_result"
    }
   ],
   "source": [
    "MultiKSTest.Test_np()\n",
    "MultiKSTest.Results[-1].result_value"
   ]
  },
  {
   "cell_type": "markdown",
   "metadata": {},
   "source": [
    "### SKS Test"
   ]
  },
  {
   "cell_type": "code",
   "execution_count": 39,
   "metadata": {},
   "outputs": [
    {
     "name": "stdout",
     "output_type": "stream",
     "text": [
      "\n",
      "------------------------------------------\n",
      "Starting SKS metric calculation...\n",
      "niter = 100\n",
      "batch_size = 10000\n"
     ]
    },
    {
     "name": "stderr",
     "output_type": "stream",
     "text": [
      "Iterations:   0%|          | 0/100 [00:00<?, ?it/s]"
     ]
    },
    {
     "name": "stdout",
     "output_type": "stream",
     "text": [
      "Running numpy SKS calculation...\n"
     ]
    },
    {
     "name": "stderr",
     "output_type": "stream",
     "text": [
      "Iterations: 100%|██████████| 100/100 [00:57<00:00,  1.73it/s]"
     ]
    },
    {
     "name": "stdout",
     "output_type": "stream",
     "text": [
      "Two-sample test calculation completed in 57.66074709780514 seconds.\n"
     ]
    },
    {
     "name": "stderr",
     "output_type": "stream",
     "text": [
      "\n"
     ]
    },
    {
     "data": {
      "text/plain": [
       "{'metric_lists': array([[0.0222, 0.0136, 0.0115, ..., 0.0153, 0.0105, 0.0221],\n",
       "        [0.017 , 0.0136, 0.0124, ..., 0.0168, 0.0181, 0.0102],\n",
       "        [0.0131, 0.0139, 0.0097, ..., 0.0139, 0.0089, 0.0095],\n",
       "        ...,\n",
       "        [0.0191, 0.0134, 0.0107, ..., 0.0168, 0.0095, 0.0135],\n",
       "        [0.019 , 0.0116, 0.0107, ..., 0.012 , 0.0187, 0.0112],\n",
       "        [0.0152, 0.0066, 0.0149, ..., 0.0068, 0.015 , 0.011 ]]),\n",
       " 'metric_means': array([0.01509 , 0.013689, 0.011968, 0.01528 , 0.011242, 0.014593,\n",
       "        0.011454, 0.013672, 0.013098, 0.015856, 0.010627, 0.013476,\n",
       "        0.013035, 0.017424, 0.012916, 0.014021, 0.012512, 0.011   ,\n",
       "        0.014715, 0.015032, 0.01141 , 0.010429, 0.012383, 0.012854,\n",
       "        0.012092, 0.009489, 0.015767, 0.011053, 0.012471, 0.012221,\n",
       "        0.011641, 0.012558, 0.010192, 0.01232 , 0.013897, 0.013564,\n",
       "        0.010174, 0.011569, 0.013357, 0.011745, 0.013486, 0.010947,\n",
       "        0.011327, 0.011515, 0.01264 , 0.01265 , 0.011827, 0.013131,\n",
       "        0.011788, 0.012412, 0.014074, 0.011565, 0.010966, 0.015407,\n",
       "        0.010882, 0.013275, 0.011605, 0.012778, 0.010139, 0.011891,\n",
       "        0.013151, 0.01286 , 0.013565, 0.014563, 0.012237, 0.01494 ,\n",
       "        0.014448, 0.010218, 0.013132, 0.013578, 0.013476, 0.010711,\n",
       "        0.012262, 0.014587, 0.011599, 0.012908, 0.009467, 0.012868,\n",
       "        0.012319, 0.012367, 0.012123, 0.013857, 0.010461, 0.012073,\n",
       "        0.01151 , 0.013918, 0.014394, 0.011862, 0.010492, 0.010696,\n",
       "        0.015393, 0.012329, 0.013843, 0.013729, 0.012502, 0.010925,\n",
       "        0.010936, 0.012004, 0.012265, 0.012947]),\n",
       " 'metric_stds': array([0.00500091, 0.00448187, 0.00298904, 0.00558573, 0.00285048,\n",
       "        0.00438258, 0.00271339, 0.00384534, 0.00338035, 0.00503953,\n",
       "        0.00269929, 0.00462913, 0.00299434, 0.006578  , 0.00342983,\n",
       "        0.00340462, 0.00324093, 0.00308393, 0.00435377, 0.00494651,\n",
       "        0.00315672, 0.00264043, 0.00331804, 0.00305704, 0.00360374,\n",
       "        0.00223723, 0.00477592, 0.00248674, 0.00357439, 0.00391822,\n",
       "        0.00292479, 0.00339217, 0.00270628, 0.00280948, 0.00458632,\n",
       "        0.00368542, 0.00257315, 0.00361568, 0.00428489, 0.0026972 ,\n",
       "        0.00427348, 0.00226559, 0.00272356, 0.00273241, 0.00320562,\n",
       "        0.00400416, 0.00350511, 0.00384153, 0.00279518, 0.00333533,\n",
       "        0.00460601, 0.00293692, 0.00289714, 0.00558669, 0.00270852,\n",
       "        0.0035947 , 0.00333279, 0.00324002, 0.0021969 , 0.00296975,\n",
       "        0.00407224, 0.00360541, 0.00376001, 0.00451599, 0.003389  ,\n",
       "        0.0045002 , 0.0043488 , 0.0023119 , 0.00391257, 0.0039055 ,\n",
       "        0.00372299, 0.00259461, 0.00358192, 0.00367248, 0.00320863,\n",
       "        0.0036601 , 0.00212899, 0.00365981, 0.00336326, 0.00327994,\n",
       "        0.00308136, 0.00348822, 0.00283157, 0.00337943, 0.00299455,\n",
       "        0.0030624 , 0.00450319, 0.00318759, 0.00246587, 0.00239148,\n",
       "        0.00544616, 0.00327348, 0.00442191, 0.00295172, 0.00339697,\n",
       "        0.00273994, 0.00229519, 0.00329851, 0.00334459, 0.00406592])}"
      ]
     },
     "execution_count": 39,
     "metadata": {},
     "output_type": "execute_result"
    }
   ],
   "source": [
    "SKSTest.Test_np()\n",
    "SKSTest.Results[-1].result_value"
   ]
  },
  {
   "cell_type": "markdown",
   "metadata": {},
   "source": [
    "### SWD Test"
   ]
  },
  {
   "cell_type": "code",
   "execution_count": 40,
   "metadata": {},
   "outputs": [
    {
     "name": "stdout",
     "output_type": "stream",
     "text": [
      "\n",
      "------------------------------------------\n",
      "Starting SWD metric calculation...\n",
      "niter = 100\n",
      "batch_size = 10000\n"
     ]
    },
    {
     "name": "stderr",
     "output_type": "stream",
     "text": [
      "Iterations:   0%|          | 0/100 [00:00<?, ?it/s]"
     ]
    },
    {
     "name": "stdout",
     "output_type": "stream",
     "text": [
      "Running numpy SKS calculation...\n"
     ]
    },
    {
     "name": "stderr",
     "output_type": "stream",
     "text": [
      "Iterations: 100%|██████████| 100/100 [00:48<00:00,  2.05it/s]"
     ]
    },
    {
     "name": "stdout",
     "output_type": "stream",
     "text": [
      "Two-sample test calculation completed in 48.7373577458784 seconds.\n"
     ]
    },
    {
     "name": "stderr",
     "output_type": "stream",
     "text": [
      "\n"
     ]
    },
    {
     "data": {
      "text/plain": [
       "{'metric_lists': array([[0.01551104, 0.01703804, 0.01793974, ..., 0.01827304, 0.01798687,\n",
       "         0.01173993],\n",
       "        [0.01129375, 0.01945833, 0.01382552, ..., 0.01836048, 0.01047521,\n",
       "         0.0129584 ],\n",
       "        [0.01665323, 0.01572053, 0.01459958, ..., 0.01834031, 0.01270695,\n",
       "         0.02256029],\n",
       "        ...,\n",
       "        [0.01885165, 0.02079276, 0.01417125, ..., 0.02123326, 0.01640981,\n",
       "         0.01889142],\n",
       "        [0.02405715, 0.01386171, 0.01865998, ..., 0.01290193, 0.02300509,\n",
       "         0.01486745],\n",
       "        [0.01869487, 0.01531223, 0.015929  , ..., 0.01196951, 0.01026871,\n",
       "         0.01349175]]),\n",
       " 'metric_means': array([0.01538087, 0.01634466, 0.01602129, 0.02015763, 0.01737095,\n",
       "        0.01840783, 0.02313696, 0.02078689, 0.01830478, 0.01916848,\n",
       "        0.0158641 , 0.01464727, 0.01590042, 0.01592523, 0.01879493,\n",
       "        0.01685413, 0.01710226, 0.01818013, 0.02079662, 0.01502873,\n",
       "        0.02047189, 0.01970209, 0.02494443, 0.01689681, 0.01811323,\n",
       "        0.01591965, 0.01665864, 0.01750511, 0.01550751, 0.01962497,\n",
       "        0.01590913, 0.02160856, 0.01942859, 0.02144749, 0.01526788,\n",
       "        0.01334229, 0.0177088 , 0.01655779, 0.01544039, 0.01886093,\n",
       "        0.0157648 , 0.01897126, 0.01756214, 0.01414943, 0.01701582,\n",
       "        0.02006722, 0.01478355, 0.01721535, 0.01397512, 0.01746762,\n",
       "        0.01584948, 0.01464166, 0.01635942, 0.02321894, 0.01607558,\n",
       "        0.02245981, 0.01716611, 0.018782  , 0.01477558, 0.01946388,\n",
       "        0.01861944, 0.01651819, 0.01819565, 0.01661131, 0.01725706,\n",
       "        0.01571485, 0.01953723, 0.0203394 , 0.01713925, 0.01891965,\n",
       "        0.02088147, 0.01650863, 0.01432209, 0.01955176, 0.01893523,\n",
       "        0.01441912, 0.01664712, 0.01532312, 0.01525366, 0.01567758,\n",
       "        0.01746969, 0.01623726, 0.02418478, 0.01966808, 0.01632257,\n",
       "        0.01642367, 0.01878155, 0.01804138, 0.01829975, 0.01612229,\n",
       "        0.01960806, 0.01984337, 0.01811186, 0.01559969, 0.01655965,\n",
       "        0.01837701, 0.02104797, 0.01715073, 0.01813629, 0.01575871]),\n",
       " 'metric_stds': array([0.00311384, 0.0049437 , 0.00343233, 0.00755097, 0.0046996 ,\n",
       "        0.00577438, 0.00834625, 0.00788723, 0.00541159, 0.00488655,\n",
       "        0.00371734, 0.00323159, 0.00376853, 0.00396143, 0.00519678,\n",
       "        0.00571585, 0.00433808, 0.00491874, 0.0067721 , 0.00354884,\n",
       "        0.00636195, 0.00654636, 0.01010105, 0.00425997, 0.00532415,\n",
       "        0.00471781, 0.00440097, 0.00571746, 0.00398665, 0.00715197,\n",
       "        0.00336652, 0.00814657, 0.00626644, 0.00810579, 0.00365192,\n",
       "        0.00306845, 0.00467697, 0.00494179, 0.00371899, 0.00627543,\n",
       "        0.0038538 , 0.00503432, 0.00524779, 0.00313017, 0.00518835,\n",
       "        0.00601285, 0.00371696, 0.00485907, 0.00281751, 0.0050456 ,\n",
       "        0.00428273, 0.00397046, 0.00421957, 0.00989958, 0.00476231,\n",
       "        0.00784834, 0.00442634, 0.00633928, 0.00402222, 0.0071317 ,\n",
       "        0.00499615, 0.00404223, 0.00557299, 0.00412063, 0.00485052,\n",
       "        0.00408159, 0.00621375, 0.00505649, 0.00528327, 0.00604128,\n",
       "        0.00582168, 0.00519668, 0.00414718, 0.00633426, 0.00602187,\n",
       "        0.00323976, 0.00357878, 0.0038553 , 0.00368123, 0.0043438 ,\n",
       "        0.00469048, 0.0043136 , 0.0091476 , 0.00651241, 0.00467859,\n",
       "        0.00444447, 0.00578842, 0.0053205 , 0.00538116, 0.00397936,\n",
       "        0.00607978, 0.0057035 , 0.00570079, 0.00299834, 0.00488213,\n",
       "        0.00597076, 0.00788774, 0.0037152 , 0.00531555, 0.00333684])}"
      ]
     },
     "execution_count": 40,
     "metadata": {},
     "output_type": "execute_result"
    }
   ],
   "source": [
    "SWDMetric.Test_np()\n",
    "SWDMetric.Results[-1].result_value"
   ]
  },
  {
   "cell_type": "markdown",
   "metadata": {},
   "source": [
    "## TensorFlow backend - w/o MirroredStrategy"
   ]
  },
  {
   "cell_type": "code",
   "execution_count": 5,
   "metadata": {},
   "outputs": [
    {
     "name": "stdout",
     "output_type": "stream",
     "text": [
      "Parsing input distribution...\n",
      "Input distribution is a tfp.distributions.Distribution object.\n",
      "Parsing input distribution...\n",
      "Input distribution is a tfp.distributions.Distribution object.\n"
     ]
    },
    {
     "name": "stdout",
     "output_type": "stream",
     "text": [
      "Checking and setting numerical distributions.\n",
      "Resetting dist_num.\n",
      "Resetting dist_num.\n",
      "nsamples 10000000\n",
      "batch_size 100000\n",
      "niter 100\n",
      "niter * batch_size 10000000\n",
      "small_sample False\n"
     ]
    }
   ],
   "source": [
    "TwoSampleTestInputs = GMetrics.TwoSampleTestInputs(dist_1_input = dist_1,\n",
    "                                                   dist_2_input = dist_2,\n",
    "                                                   niter = 100,\n",
    "                                                   batch_size_test = 100_000,\n",
    "                                                   batch_size_gen = 100,\n",
    "                                                   small_sample_threshold = 1e6,\n",
    "                                                   dtype_input = tf.float64,\n",
    "                                                   seed_input = 0,\n",
    "                                                   use_tf = True,\n",
    "                                                   mirror_strategy = False,\n",
    "                                                   verbose = True)\n",
    "print(\"nsamples\",TwoSampleTestInputs.nsamples)\n",
    "print(\"batch_size\",TwoSampleTestInputs.batch_size_test)\n",
    "print(\"niter\",TwoSampleTestInputs.niter)\n",
    "print(\"niter * batch_size\",TwoSampleTestInputs.niter*TwoSampleTestInputs.batch_size_test)\n",
    "print(\"small_sample\",TwoSampleTestInputs.small_sample)"
   ]
  },
  {
   "cell_type": "code",
   "execution_count": 7,
   "metadata": {},
   "outputs": [
    {
     "data": {
      "text/plain": [
       "<tf.Tensor: shape=(1, 0), dtype=float64, numpy=array([], shape=(1, 0), dtype=float64)>"
      ]
     },
     "execution_count": 7,
     "metadata": {},
     "output_type": "execute_result"
    }
   ],
   "source": [
    "TwoSampleTestInputs.dist_1_num"
   ]
  },
  {
   "cell_type": "code",
   "execution_count": 8,
   "metadata": {},
   "outputs": [
    {
     "data": {
      "text/plain": [
       "<tf.Tensor: shape=(1, 0), dtype=float64, numpy=array([], shape=(1, 0), dtype=float64)>"
      ]
     },
     "execution_count": 8,
     "metadata": {},
     "output_type": "execute_result"
    }
   ],
   "source": [
    "TwoSampleTestInputs.dist_2_num"
   ]
  },
  {
   "cell_type": "code",
   "execution_count": 6,
   "metadata": {},
   "outputs": [
    {
     "name": "stdout",
     "output_type": "stream",
     "text": [
      "Generating random directions based on nslices, ndims, and seed_slicing.\n",
      "Generating random directions based on nslices, ndims, and seed_slicing.\n"
     ]
    }
   ],
   "source": [
    "FNMetric = GMetrics.FNMetric(TwoSampleTestInputs,\n",
    "                             progress_bar = True,\n",
    "                             verbose = True)\n",
    "KSTest = GMetrics.KSTest(TwoSampleTestInputs,\n",
    "                         progress_bar = True,\n",
    "                         verbose = True)\n",
    "LRMetric = GMetrics.LRMetric(TwoSampleTestInputs,\n",
    "                             progress_bar = True,\n",
    "                             verbose = True)\n",
    "MultiKSTest = GMetrics.MultiKSTest(TwoSampleTestInputs,\n",
    "                                   progress_bar = True,\n",
    "                                   verbose = True)\n",
    "SKSTest = GMetrics.SKSTest(TwoSampleTestInputs,\n",
    "                           nslices = 100,\n",
    "                           seed_slicing = 0,\n",
    "                           progress_bar = True,\n",
    "                           verbose = True)\n",
    "SWDMetric = GMetrics.SWDMetric(TwoSampleTestInputs,\n",
    "                               nslices = 100,\n",
    "                               seed_slicing = 0,\n",
    "                               progress_bar = True,\n",
    "                               verbose = True)"
   ]
  },
  {
   "cell_type": "markdown",
   "metadata": {},
   "source": [
    "### FN Test"
   ]
  },
  {
   "cell_type": "code",
   "execution_count": 19,
   "metadata": {},
   "outputs": [
    {
     "name": "stdout",
     "output_type": "stream",
     "text": [
      "\n",
      "------------------------------------------\n",
      "Starting FN metric calculation...\n",
      "Running TF FN calculation...\n",
      "niter = 100\n",
      "batch_size = 10000\n",
      "The dist_1_num tensor is empty. Batches will be generated 'on-the-fly' from dist_1_symb.\n",
      "The dist_2_num tensor is empty. Batches will be generated 'on-the-fly' from dist_2_symb.\n",
      "WARNING:tensorflow:Using a while_loop for converting StridedSlice\n",
      "WARNING:tensorflow:Using a while_loop for converting StridedSlice\n",
      "FN metric calculation completed in 6.2151684099808335 seconds.\n"
     ]
    },
    {
     "data": {
      "text/plain": [
       "{'metric_list': array([0.08844678, 0.06461692, 0.06138989, 0.0570237 , 0.05180524,\n",
       "        0.03899186, 0.0806584 , 0.05132419, 0.05959165, 0.0743582 ,\n",
       "        0.04163835, 0.06541973, 0.0836046 , 0.06609202, 0.07858423,\n",
       "        0.07299963, 0.08009843, 0.06226545, 0.07964515, 0.02545401,\n",
       "        0.06326744, 0.06652458, 0.06568475, 0.04437675, 0.04462649,\n",
       "        0.05019201, 0.04662913, 0.0695184 , 0.05447623, 0.07051035,\n",
       "        0.05697775, 0.09103571, 0.03763976, 0.06669034, 0.05780751,\n",
       "        0.06299498, 0.05586779, 0.08759443, 0.04460861, 0.0781111 ,\n",
       "        0.05357439, 0.07744134, 0.07074611, 0.07235557, 0.06637625,\n",
       "        0.07226581, 0.03865412, 0.05803577, 0.07475699, 0.05028286,\n",
       "        0.09106504, 0.0576629 , 0.04348506, 0.06311519, 0.06380644,\n",
       "        0.05714464, 0.0678285 , 0.0451138 , 0.03682507, 0.04246485,\n",
       "        0.06364599, 0.07168154, 0.06391398, 0.07486832, 0.08324359,\n",
       "        0.05073289, 0.06336298, 0.05440357, 0.06233026, 0.04763888,\n",
       "        0.07412372, 0.06897391, 0.05393197, 0.05761306, 0.04237517,\n",
       "        0.07054273, 0.04570094, 0.0422062 , 0.05195441, 0.08546418,\n",
       "        0.03788142, 0.06292757, 0.08409521, 0.06589078, 0.04611376,\n",
       "        0.07465379, 0.06122829, 0.06292047, 0.05204656, 0.0466738 ,\n",
       "        0.04987307, 0.06492695, 0.05770219, 0.06383269, 0.07611936,\n",
       "        0.0424439 , 0.07679763, 0.05099211, 0.05374644, 0.0589012 ])}"
      ]
     },
     "execution_count": 19,
     "metadata": {},
     "output_type": "execute_result"
    }
   ],
   "source": [
    "FNMetric.Test_tf(max_vectorize = 100)\n",
    "FNMetric.Results[-1].result_value"
   ]
  },
  {
   "cell_type": "code",
   "execution_count": 17,
   "metadata": {},
   "outputs": [
    {
     "name": "stdout",
     "output_type": "stream",
     "text": [
      "\n",
      "------------------------------------------\n",
      "Starting FN metric calculation...\n",
      "Running TF FN calculation...\n",
      "niter = 100\n",
      "batch_size = 10000\n",
      "The dist_1_num tensor is empty. Batches will be generated 'on-the-fly' from dist_1_symb.\n",
      "The dist_2_num tensor is empty. Batches will be generated 'on-the-fly' from dist_2_symb.\n",
      "nchunks = 5\n",
      "Iterating from 0 to 20 out of 100 .\n",
      "WARNING:tensorflow:5 out of the last 203 calls to <function generate_and_clean_data_simple_1 at 0x7fa524131b80> triggered tf.function retracing. Tracing is expensive and the excessive number of tracings could be due to (1) creating @tf.function repeatedly in a loop, (2) passing tensors with different shapes, (3) passing Python objects instead of tensors. For (1), please define your @tf.function outside of the loop. For (2), @tf.function has reduce_retracing=True option that can avoid unnecessary retracing. For (3), please refer to https://www.tensorflow.org/guide/function#controlling_retracing and https://www.tensorflow.org/api_docs/python/tf/function for  more details.\n",
      "WARNING:tensorflow:Using a while_loop for converting StridedSlice\n",
      "WARNING:tensorflow:Using a while_loop for converting StridedSlice\n",
      "Iterating from 20 to 40 out of 100 .\n",
      "WARNING:tensorflow:Using a while_loop for converting StridedSlice\n",
      "WARNING:tensorflow:Using a while_loop for converting StridedSlice\n",
      "WARNING:tensorflow:5 out of the last 5 calls to <function pfor.<locals>.f at 0x7fa40c03e1f0> triggered tf.function retracing. Tracing is expensive and the excessive number of tracings could be due to (1) creating @tf.function repeatedly in a loop, (2) passing tensors with different shapes, (3) passing Python objects instead of tensors. For (1), please define your @tf.function outside of the loop. For (2), @tf.function has reduce_retracing=True option that can avoid unnecessary retracing. For (3), please refer to https://www.tensorflow.org/guide/function#controlling_retracing and https://www.tensorflow.org/api_docs/python/tf/function for  more details.\n",
      "Iterating from 40 to 60 out of 100 .\n",
      "WARNING:tensorflow:Using a while_loop for converting StridedSlice\n",
      "WARNING:tensorflow:Using a while_loop for converting StridedSlice\n",
      "WARNING:tensorflow:6 out of the last 6 calls to <function pfor.<locals>.f at 0x7fa40c03e310> triggered tf.function retracing. Tracing is expensive and the excessive number of tracings could be due to (1) creating @tf.function repeatedly in a loop, (2) passing tensors with different shapes, (3) passing Python objects instead of tensors. For (1), please define your @tf.function outside of the loop. For (2), @tf.function has reduce_retracing=True option that can avoid unnecessary retracing. For (3), please refer to https://www.tensorflow.org/guide/function#controlling_retracing and https://www.tensorflow.org/api_docs/python/tf/function for  more details.\n",
      "Iterating from 60 to 80 out of 100 .\n",
      "WARNING:tensorflow:Using a while_loop for converting StridedSlice\n",
      "WARNING:tensorflow:Using a while_loop for converting StridedSlice\n",
      "Iterating from 80 to 100 out of 100 .\n",
      "WARNING:tensorflow:Using a while_loop for converting StridedSlice\n",
      "WARNING:tensorflow:Using a while_loop for converting StridedSlice\n",
      "FN metric calculation completed in 8.154968474060297 seconds.\n"
     ]
    },
    {
     "data": {
      "text/plain": [
       "{'metric_list': array([0.06589649, 0.05694527, 0.07066927, 0.05432756, 0.04851787,\n",
       "        0.05148932, 0.05831022, 0.06762085, 0.06135772, 0.05813442,\n",
       "        0.04395214, 0.07256788, 0.04990327, 0.07285298, 0.07490167,\n",
       "        0.07542354, 0.05599153, 0.0652228 , 0.0782739 , 0.06864965,\n",
       "        0.06071743, 0.07208004, 0.05251999, 0.05203989, 0.05447789,\n",
       "        0.06208448, 0.04080829, 0.06393315, 0.04100564, 0.05381943,\n",
       "        0.08149364, 0.06090667, 0.05081972, 0.06528786, 0.06153516,\n",
       "        0.07378813, 0.04698807, 0.05587642, 0.03221431, 0.05341343,\n",
       "        0.05793074, 0.06182036, 0.05764185, 0.07427764, 0.04222705,\n",
       "        0.04352648, 0.05651465, 0.06179742, 0.03603826, 0.06871026,\n",
       "        0.04996418, 0.05690464, 0.06886232, 0.08153194, 0.05562752,\n",
       "        0.03799642, 0.08106984, 0.05613789, 0.07105397, 0.03500809,\n",
       "        0.05062465, 0.06815482, 0.06846427, 0.07182132, 0.08157124,\n",
       "        0.07486225, 0.04875092, 0.03786518, 0.04123019, 0.05824449,\n",
       "        0.06169303, 0.07860587, 0.03688192, 0.05586045, 0.0488135 ,\n",
       "        0.05540902, 0.03985158, 0.07134512, 0.04609162, 0.04553582,\n",
       "        0.04370853, 0.02545166, 0.04760693, 0.05274343, 0.05753444,\n",
       "        0.07670364, 0.07569754, 0.06755429, 0.05647911, 0.05936379,\n",
       "        0.07706714, 0.07453689, 0.05550437, 0.0668113 , 0.05534672,\n",
       "        0.0676534 , 0.06533855, 0.05784317, 0.07076075, 0.04990004])}"
      ]
     },
     "execution_count": 17,
     "metadata": {},
     "output_type": "execute_result"
    }
   ],
   "source": [
    "FNMetric.Test_tf(max_vectorize = 20)\n",
    "FNMetric.Results[-1].result_value"
   ]
  },
  {
   "cell_type": "markdown",
   "metadata": {},
   "source": [
    "### KS Test"
   ]
  },
  {
   "cell_type": "code",
   "execution_count": 22,
   "metadata": {},
   "outputs": [
    {
     "name": "stdout",
     "output_type": "stream",
     "text": [
      "\n",
      "------------------------------------------\n",
      "Starting KS tests calculation...\n",
      "Running TF KS tests...\n",
      "niter = 100\n",
      "batch_size = 10000\n",
      "The dist_1_num tensor is empty. Batches will be generated 'on-the-fly' from dist_1_symb.\n",
      "The dist_2_num tensor is empty. Batches will be generated 'on-the-fly' from dist_2_symb.\n",
      "WARNING:tensorflow:Using a while_loop for converting StridedSlice\n",
      "WARNING:tensorflow:Using a while_loop for converting StridedSlice\n",
      "WARNING:tensorflow:Using a while_loop for converting TopKV2\n",
      "WARNING:tensorflow:Using a while_loop for converting TopKV2\n",
      "WARNING:tensorflow:Using a while_loop for converting StridedSlice\n",
      "WARNING:tensorflow:Using a while_loop for converting StridedSlice\n",
      "WARNING:tensorflow:Using a while_loop for converting StridedSlice\n",
      "WARNING:tensorflow:Using a while_loop for converting StridedSlice\n",
      "KS tests calculation completed in 7.201745927333832 seconds.\n"
     ]
    },
    {
     "data": {
      "text/plain": [
       "{'statistic_lists': array([[0.01539999, 0.01589996, 0.01350001, 0.0113    , 0.01520002],\n",
       "        [0.00949997, 0.0126    , 0.00929999, 0.0176    , 0.01010001],\n",
       "        [0.01010001, 0.009     , 0.01240003, 0.01090002, 0.01460004],\n",
       "        [0.00820005, 0.0108    , 0.01499999, 0.0114    , 0.01200002],\n",
       "        [0.01090002, 0.01160002, 0.00579999, 0.01109999, 0.0105    ],\n",
       "        [0.00940001, 0.01390004, 0.01010001, 0.01390004, 0.01230001],\n",
       "        [0.01550001, 0.00989997, 0.01100001, 0.01369998, 0.01019999],\n",
       "        [0.01459998, 0.01089996, 0.01010001, 0.0125    , 0.01490003],\n",
       "        [0.01660001, 0.01550001, 0.009     , 0.00649995, 0.0122    ],\n",
       "        [0.02420002, 0.00840002, 0.0057    , 0.0088    , 0.01109999],\n",
       "        [0.00960001, 0.0097    , 0.0151    , 0.01100001, 0.01199999],\n",
       "        [0.00819999, 0.00870001, 0.01419997, 0.01549999, 0.01390001],\n",
       "        [0.01710001, 0.0098    , 0.01609999, 0.0149    , 0.0106    ],\n",
       "        [0.0091    , 0.01620001, 0.01280004, 0.023     , 0.00989999],\n",
       "        [0.01500005, 0.01609999, 0.01109999, 0.0151    , 0.0147    ],\n",
       "        [0.01130003, 0.01140001, 0.00870001, 0.01109999, 0.01789999],\n",
       "        [0.00929999, 0.01159999, 0.01380002, 0.0113    , 0.01370001],\n",
       "        [0.0106    , 0.0088    , 0.01069999, 0.01460004, 0.01620001],\n",
       "        [0.00839999, 0.00660002, 0.00940001, 0.01389998, 0.01520002],\n",
       "        [0.0097    , 0.0108    , 0.00749999, 0.01210004, 0.0115    ],\n",
       "        [0.0106    , 0.01239997, 0.0138    , 0.01069999, 0.0124    ],\n",
       "        [0.00740004, 0.01620001, 0.01300001, 0.00890002, 0.01429999],\n",
       "        [0.00950003, 0.0122    , 0.01360001, 0.01060003, 0.0113    ],\n",
       "        [0.01670003, 0.01199999, 0.02090001, 0.02280003, 0.00940001],\n",
       "        [0.01289999, 0.00769997, 0.01919998, 0.01009995, 0.01730001],\n",
       "        [0.00749999, 0.00670001, 0.01470003, 0.01520002, 0.01210004],\n",
       "        [0.02079999, 0.00740004, 0.01520002, 0.01709998, 0.01160002],\n",
       "        [0.0104    , 0.0095    , 0.01770002, 0.00749999, 0.01480001],\n",
       "        [0.01609999, 0.01120001, 0.0086    , 0.00730002, 0.0203    ],\n",
       "        [0.00910002, 0.0122    , 0.00800002, 0.01409999, 0.01159999],\n",
       "        [0.01540002, 0.00700003, 0.01480001, 0.00739998, 0.00980002],\n",
       "        [0.00990003, 0.01429999, 0.00670001, 0.0124    , 0.0133    ],\n",
       "        [0.00879997, 0.0142    , 0.01499999, 0.00959998, 0.01530004],\n",
       "        [0.01290001, 0.02020001, 0.0139    , 0.00910001, 0.02019998],\n",
       "        [0.0174    , 0.0165    , 0.00920004, 0.0115    , 0.01340002],\n",
       "        [0.02919996, 0.0169    , 0.01569998, 0.00739998, 0.01409999],\n",
       "        [0.01660001, 0.00920004, 0.0167    , 0.01280001, 0.00980002],\n",
       "        [0.01640001, 0.0095    , 0.01160002, 0.01179999, 0.01780003],\n",
       "        [0.00759999, 0.00940001, 0.01360005, 0.01880002, 0.00840002],\n",
       "        [0.01710004, 0.01090002, 0.01090002, 0.0205    , 0.00910002],\n",
       "        [0.01070002, 0.0108    , 0.0107    , 0.00940001, 0.00989997],\n",
       "        [0.0115    , 0.01010001, 0.00989999, 0.00820005, 0.0122    ],\n",
       "        [0.00999999, 0.00729999, 0.01320001, 0.00830001, 0.01270002],\n",
       "        [0.00800002, 0.01440001, 0.0147    , 0.01209998, 0.0122    ],\n",
       "        [0.01479995, 0.01310003, 0.01180002, 0.00929999, 0.01340002],\n",
       "        [0.01280001, 0.00880003, 0.01550001, 0.00929999, 0.00840001],\n",
       "        [0.01670003, 0.01610002, 0.02579999, 0.01360005, 0.01289999],\n",
       "        [0.01029998, 0.01200002, 0.01250005, 0.0086    , 0.01319999],\n",
       "        [0.0115    , 0.00950003, 0.01100001, 0.01120001, 0.01429999],\n",
       "        [0.0133    , 0.00929999, 0.01500002, 0.00780004, 0.01230001],\n",
       "        [0.00740004, 0.0165    , 0.01339996, 0.0091    , 0.00800002],\n",
       "        [0.01139998, 0.01090002, 0.01590002, 0.0126    , 0.01100001],\n",
       "        [0.01130003, 0.00889999, 0.0108    , 0.0099    , 0.0115    ],\n",
       "        [0.00889999, 0.01789999, 0.01370001, 0.01420003, 0.01750001],\n",
       "        [0.00870001, 0.00840002, 0.01569998, 0.0072    , 0.00760001],\n",
       "        [0.00749999, 0.0169    , 0.0086    , 0.01130003, 0.0194    ],\n",
       "        [0.0126    , 0.01199999, 0.02139997, 0.0122    , 0.01370001],\n",
       "        [0.01170003, 0.00869998, 0.01109999, 0.00920001, 0.01200002],\n",
       "        [0.00870001, 0.01529998, 0.01589996, 0.0082    , 0.01210001],\n",
       "        [0.01539999, 0.01610002, 0.0108    , 0.00950003, 0.0126    ],\n",
       "        [0.0138    , 0.00920001, 0.01599997, 0.00880003, 0.01480001],\n",
       "        [0.01719999, 0.0108    , 0.01000005, 0.01179999, 0.02579999],\n",
       "        [0.0122    , 0.01029998, 0.01030001, 0.0183    , 0.01090001],\n",
       "        [0.00730002, 0.0141    , 0.02149999, 0.0141    , 0.01499999],\n",
       "        [0.01550001, 0.01600003, 0.00960004, 0.00800002, 0.009     ],\n",
       "        [0.01410002, 0.01489997, 0.01109999, 0.01770002, 0.01109999],\n",
       "        [0.01270002, 0.01029998, 0.01630002, 0.02109998, 0.01190001],\n",
       "        [0.00839996, 0.00740004, 0.01239997, 0.01040006, 0.01350003],\n",
       "        [0.01050001, 0.02410001, 0.01530004, 0.01270002, 0.01100001],\n",
       "        [0.00919998, 0.01249999, 0.0081    , 0.0121    , 0.01069999],\n",
       "        [0.01229995, 0.01830003, 0.01179999, 0.01350003, 0.01380002],\n",
       "        [0.00999999, 0.01520002, 0.01430002, 0.01289999, 0.01199996],\n",
       "        [0.01629996, 0.01370001, 0.01410002, 0.01090002, 0.01110002],\n",
       "        [0.0133    , 0.02129996, 0.01180005, 0.01020002, 0.0116    ],\n",
       "        [0.00940001, 0.01770002, 0.01160002, 0.01070005, 0.01270002],\n",
       "        [0.01789999, 0.00689998, 0.01250005, 0.00960001, 0.01120001],\n",
       "        [0.01430005, 0.00950003, 0.01990001, 0.01410002, 0.00530005],\n",
       "        [0.00740004, 0.00890005, 0.01560003, 0.0131    , 0.01050001],\n",
       "        [0.0158    , 0.01210004, 0.01180002, 0.0111    , 0.01520002],\n",
       "        [0.0068    , 0.01190001, 0.01230001, 0.00770003, 0.01350001],\n",
       "        [0.0097    , 0.01459998, 0.0097    , 0.01169997, 0.01030004],\n",
       "        [0.0174    , 0.01740003, 0.0176    , 0.01089996, 0.01099998],\n",
       "        [0.01089999, 0.01440001, 0.00919998, 0.01459998, 0.0099    ],\n",
       "        [0.01100001, 0.00800002, 0.01249999, 0.01249999, 0.01700002],\n",
       "        [0.01000005, 0.02020001, 0.01490003, 0.0077    , 0.0196    ],\n",
       "        [0.01160002, 0.01629996, 0.00920001, 0.01480001, 0.0089    ],\n",
       "        [0.01530001, 0.01010001, 0.00739998, 0.01070005, 0.0138    ],\n",
       "        [0.0178    , 0.01710001, 0.01380002, 0.0131    , 0.01140001],\n",
       "        [0.00880003, 0.01300004, 0.01209998, 0.01460004, 0.01770002],\n",
       "        [0.01230001, 0.00700003, 0.01090002, 0.01370001, 0.01169997],\n",
       "        [0.00809997, 0.01420003, 0.016     , 0.01120001, 0.0131    ],\n",
       "        [0.01609999, 0.01400003, 0.014     , 0.01070005, 0.01340002],\n",
       "        [0.01269996, 0.01560003, 0.01070005, 0.009     , 0.01120001],\n",
       "        [0.0097    , 0.00870001, 0.01480001, 0.00820002, 0.01440001],\n",
       "        [0.00929999, 0.01610002, 0.01709998, 0.0115    , 0.01270002],\n",
       "        [0.02250001, 0.01530001, 0.02000004, 0.01230001, 0.01460004],\n",
       "        [0.0124    , 0.008     , 0.02180004, 0.00730002, 0.00890005],\n",
       "        [0.01439999, 0.01490003, 0.01000001, 0.00779998, 0.01289999],\n",
       "        [0.01490003, 0.00830001, 0.00630003, 0.00840002, 0.01350001],\n",
       "        [0.00850001, 0.01029998, 0.01190001, 0.00959998, 0.01139998]]),\n",
       " 'statistic_means': array([0.01425999, 0.01181999, 0.01140002, 0.01148001, 0.00998001,\n",
       "        0.01192002, 0.01205999, 0.0126    , 0.01195999, 0.01164001,\n",
       "        0.01148   , 0.0121    , 0.0137    , 0.01420001, 0.01440001,\n",
       "        0.01208001, 0.01194   , 0.01218001, 0.01070001, 0.01032001,\n",
       "        0.01197999, 0.01196001, 0.01144001, 0.01636001, 0.01343998,\n",
       "        0.01124002, 0.01442001, 0.01198   , 0.0127    , 0.011     ,\n",
       "        0.01088001, 0.01132001, 0.01258   , 0.01526   , 0.01360001,\n",
       "        0.01665998, 0.01302001, 0.01342001, 0.01156002, 0.01370002,\n",
       "        0.0103    , 0.01038001, 0.0103    , 0.01228   , 0.01248   ,\n",
       "        0.01096001, 0.01702002, 0.01132001, 0.01150001, 0.01154001,\n",
       "        0.01088   , 0.01236001, 0.01048   , 0.01444001, 0.00952001,\n",
       "        0.01274   , 0.01438   , 0.01054001, 0.01203999, 0.01288001,\n",
       "        0.01252   , 0.01512001, 0.0124    , 0.0144    , 0.01162002,\n",
       "        0.01378   , 0.01446   , 0.01042001, 0.01472002, 0.01051999,\n",
       "        0.01394001, 0.01288   , 0.01322001, 0.01364001, 0.01242002,\n",
       "        0.01162001, 0.01262003, 0.01110002, 0.01320002, 0.01044001,\n",
       "        0.0112    , 0.01485999, 0.01179999, 0.0122    , 0.01448002,\n",
       "        0.01216   , 0.01146001, 0.01464001, 0.01324002, 0.01112001,\n",
       "        0.01252   , 0.01364002, 0.01184001, 0.01116001, 0.01334   ,\n",
       "        0.01694002, 0.01168002, 0.012     , 0.01028002, 0.01033999]),\n",
       " 'statistic_stds': array([0.00168593, 0.00312116, 0.00194629, 0.00218575, 0.00211982,\n",
       "        0.00187874, 0.00218046, 0.00192042, 0.00381295, 0.00650988,\n",
       "        0.00201534, 0.00303249, 0.00295229, 0.00505767, 0.00171581,\n",
       "        0.00307661, 0.00167643, 0.00276146, 0.00329484, 0.00162038,\n",
       "        0.00120067, 0.00330731, 0.00139513, 0.0050922 , 0.00430053,\n",
       "        0.00354943, 0.00459842, 0.00372527, 0.0048485 , 0.00219179,\n",
       "        0.00358129, 0.00273232, 0.00279458, 0.00433986, 0.00305482,\n",
       "        0.00707858, 0.00320524, 0.00314224, 0.00416923, 0.00435063,\n",
       "        0.00055498, 0.00138764, 0.00233496, 0.00239616, 0.00185407,\n",
       "        0.00275579, 0.00461969, 0.00166302, 0.00156076, 0.00263256,\n",
       "        0.00350735, 0.0018704 , 0.00096417, 0.00324445, 0.00313648,\n",
       "        0.00465472, 0.00355887, 0.00133957, 0.00320722, 0.00255139,\n",
       "        0.00295999, 0.00590402, 0.00303051, 0.00450243, 0.00341432,\n",
       "        0.00249352, 0.00385829, 0.00230686, 0.00498092, 0.00167619,\n",
       "        0.00230184, 0.00181484, 0.0020183 , 0.00395401, 0.00285335,\n",
       "        0.00365371, 0.004926  , 0.00293734, 0.0019152 , 0.00267253,\n",
       "        0.00185039, 0.00319351, 0.00227068, 0.00290861, 0.00500296,\n",
       "        0.00296012, 0.00279757, 0.0024336 , 0.00292616, 0.00225423,\n",
       "        0.00270364, 0.00173273, 0.00222045, 0.00285279, 0.00289385,\n",
       "        0.00374091, 0.00535515, 0.0027063 , 0.00331686, 0.00122409]),\n",
       " 'pvalue_lists': array([[1.86511159e-01, 1.59542084e-01, 3.21877480e-01, 5.45720696e-01,\n",
       "         1.98248148e-01],\n",
       "        [7.57601619e-01, 4.05339956e-01, 7.80133963e-01, 9.03065205e-02,\n",
       "         6.87521458e-01],\n",
       "        [6.87521458e-01, 8.12747955e-01, 4.25526023e-01, 5.92380762e-01,\n",
       "         2.36895680e-01],\n",
       "        [8.89809251e-01, 6.04200065e-01, 2.10552573e-01, 5.34247637e-01,\n",
       "         4.67555404e-01],\n",
       "        [5.92380762e-01, 5.11582375e-01, 9.96012151e-01, 5.68913937e-01,\n",
       "         6.39867783e-01],\n",
       "        [7.68933356e-01, 2.88803816e-01, 6.87521458e-01, 2.88803816e-01,\n",
       "         4.35833216e-01],\n",
       "        [1.80848241e-01, 7.11178899e-01, 5.80616832e-01, 3.05031776e-01,\n",
       "         6.75633490e-01],\n",
       "        [2.36899734e-01, 5.92387795e-01, 6.87521458e-01, 4.15363073e-01,\n",
       "         2.16916502e-01],\n",
       "        [1.27108455e-01, 1.80848241e-01, 8.12747955e-01, 9.84137535e-01,\n",
       "         4.46277380e-01],\n",
       "        [5.72299957e-03, 8.72163355e-01, 9.96869862e-01, 8.33517492e-01,\n",
       "         5.68913937e-01],\n",
       "        [7.46137142e-01, 7.34572291e-01, 2.04329014e-01, 5.80616832e-01,\n",
       "         4.67558622e-01],\n",
       "        [8.89814258e-01, 8.43561947e-01, 2.65641451e-01, 1.80849075e-01,\n",
       "         2.88806200e-01],\n",
       "        [1.07409120e-01, 7.22912908e-01, 1.49662971e-01, 2.16918468e-01,\n",
       "         6.27952933e-01],\n",
       "        [8.02056074e-01, 1.44910932e-01, 3.85728478e-01, 1.00835562e-02,\n",
       "         7.11177111e-01],\n",
       "        [2.10548878e-01, 1.49662971e-01, 5.68913937e-01, 2.04329014e-01,\n",
       "         2.30090618e-01],\n",
       "        [5.45717239e-01, 5.34245849e-01, 8.43561947e-01, 5.68913937e-01,\n",
       "         8.11856389e-02],\n",
       "        [7.80133963e-01, 5.11585712e-01, 2.96838522e-01, 5.45720696e-01,\n",
       "         3.05029333e-01],\n",
       "        [6.27952933e-01, 8.33517492e-01, 6.16061985e-01, 2.36895680e-01,\n",
       "         1.44910932e-01],\n",
       "        [8.72166097e-01, 9.81376171e-01, 7.68933356e-01, 2.88808584e-01,\n",
       "         1.98248148e-01],\n",
       "        [7.34572291e-01, 6.04200065e-01, 9.41181839e-01, 4.56848502e-01,\n",
       "         5.22866488e-01],\n",
       "        [6.27952933e-01, 4.25532103e-01, 2.96840966e-01, 6.16061985e-01,\n",
       "         4.25529003e-01],\n",
       "        [9.47091401e-01, 1.44910932e-01, 3.66719961e-01, 8.23238909e-01,\n",
       "         2.58226395e-01],\n",
       "        [7.57594824e-01, 4.46277380e-01, 3.13375294e-01, 6.27949297e-01,\n",
       "         5.45720696e-01],\n",
       "        [1.22947812e-01, 4.67558622e-01, 2.53504515e-02, 1.10507011e-02,\n",
       "         7.68933356e-01],\n",
       "        [3.76151621e-01, 9.28261995e-01, 5.01236916e-02, 6.87528431e-01,\n",
       "         1.00270629e-01],\n",
       "        [9.41181839e-01, 9.78302240e-01, 2.30088592e-01, 1.98248148e-01,\n",
       "         4.56848502e-01],\n",
       "        [2.64300704e-02, 9.47091401e-01, 1.98248148e-01, 1.07410252e-01,\n",
       "         5.11582375e-01],\n",
       "        [6.51793838e-01, 7.57598162e-01, 8.71746540e-02, 9.41181839e-01,\n",
       "         2.23429918e-01],\n",
       "        [1.49662971e-01, 5.57276845e-01, 8.53363216e-01, 9.52636003e-01,\n",
       "         3.24596763e-02],\n",
       "        [8.02053750e-01, 4.46277380e-01, 9.06205118e-01, 2.73208320e-01,\n",
       "         5.11585712e-01],\n",
       "        [1.86509490e-01, 9.67067301e-01, 2.23429918e-01, 9.47094798e-01,\n",
       "         7.22911119e-01],\n",
       "        [7.11171865e-01, 2.58226395e-01, 9.78302240e-01, 4.25529003e-01,\n",
       "         3.39349985e-01],\n",
       "        [8.33520412e-01, 2.65639365e-01, 2.10552573e-01, 7.46140540e-01,\n",
       "         1.92308307e-01],\n",
       "        [3.76150131e-01, 3.38010788e-02, 2.88806796e-01, 8.02055359e-01,\n",
       "         3.38014960e-02],\n",
       "        [9.68526602e-02, 1.31383419e-01, 7.91174948e-01, 5.22866488e-01,\n",
       "         3.30534577e-01],\n",
       "        [3.96370888e-04, 1.14963174e-01, 1.69931114e-01, 9.47094798e-01,\n",
       "         2.73208320e-01],\n",
       "        [1.27108455e-01, 7.91174948e-01, 1.22949064e-01, 3.85731399e-01,\n",
       "         7.22911119e-01],\n",
       "        [1.35773242e-01, 7.57598162e-01, 5.11582375e-01, 4.89340663e-01,\n",
       "         8.41343999e-02],\n",
       "        [9.34902668e-01, 7.68933356e-01, 3.13371420e-01, 5.83506823e-02,\n",
       "         8.72163355e-01],\n",
       "        [1.07407987e-01, 5.92380762e-01, 5.92380762e-01, 2.99161077e-02,\n",
       "         8.02053750e-01],\n",
       "        [6.16058469e-01, 6.04200065e-01, 6.16060138e-01, 7.68933356e-01,\n",
       "         7.11178899e-01],\n",
       "        [5.22866488e-01, 6.87521458e-01, 7.11177111e-01, 8.89809251e-01,\n",
       "         4.46277380e-01],\n",
       "        [6.99375391e-01, 9.52637732e-01, 3.48318279e-01, 8.81139696e-01,\n",
       "         3.95460486e-01],\n",
       "        [9.06205118e-01, 2.50964522e-01, 2.30090618e-01, 4.56854880e-01,\n",
       "         4.46277380e-01],\n",
       "        [2.23433852e-01, 3.57440948e-01, 4.89337444e-01, 7.80133963e-01,\n",
       "         3.30534577e-01],\n",
       "        [3.85731399e-01, 8.33514392e-01, 1.80848241e-01, 7.80133963e-01,\n",
       "         8.72164786e-01],\n",
       "        [1.22947812e-01, 1.49661660e-01, 2.57158279e-03, 3.13371420e-01,\n",
       "         3.76151621e-01],\n",
       "        [6.63721502e-01, 4.67555404e-01, 4.15358543e-01, 8.53363216e-01,\n",
       "         3.48320901e-01],\n",
       "        [5.22866488e-01, 7.57594824e-01, 5.80616832e-01, 5.57276845e-01,\n",
       "         2.58226395e-01],\n",
       "        [3.39349985e-01, 7.80133963e-01, 2.10550666e-01, 9.21255410e-01,\n",
       "         4.35833216e-01],\n",
       "        [9.47091401e-01, 1.31383419e-01, 3.30539823e-01, 8.02056074e-01,\n",
       "         9.06205118e-01],\n",
       "        [5.34249425e-01, 5.92380762e-01, 1.59538984e-01, 4.05339956e-01,\n",
       "         5.80616832e-01],\n",
       "        [5.45717239e-01, 8.23242128e-01, 6.04200065e-01, 7.11175382e-01,\n",
       "         5.22866488e-01],\n",
       "        [8.23242128e-01, 8.11856389e-02, 3.05029333e-01, 2.65637100e-01,\n",
       "         9.35312510e-02],\n",
       "        [8.43561947e-01, 8.72163355e-01, 1.69931114e-01, 9.57812369e-01,\n",
       "         9.34901714e-01],\n",
       "        [9.41181839e-01, 1.14963174e-01, 8.53363216e-01, 5.45717239e-01,\n",
       "         4.63995934e-02],\n",
       "        [4.05339956e-01, 4.67558622e-01, 2.05181837e-02, 4.46277380e-01,\n",
       "         3.05029333e-01],\n",
       "        [5.00402927e-01, 8.43564808e-01, 5.68913937e-01, 7.91178107e-01,\n",
       "         4.67555404e-01],\n",
       "        [8.43561947e-01, 1.92311823e-01, 1.59542084e-01, 8.89813662e-01,\n",
       "         4.56851661e-01],\n",
       "        [1.86511159e-01, 1.49661660e-01, 6.04200065e-01, 7.57594824e-01,\n",
       "         4.05339956e-01],\n",
       "        [2.96840966e-01, 7.91178107e-01, 1.54539466e-01, 8.33514392e-01,\n",
       "         2.23429918e-01],\n",
       "        [1.03789568e-01, 6.04200065e-01, 6.99368179e-01, 4.89340663e-01,\n",
       "         2.57158279e-03],\n",
       "        [4.46277380e-01, 6.63721502e-01, 6.63718045e-01, 7.02429414e-02,\n",
       "         5.92382491e-01],\n",
       "        [9.52636003e-01, 2.73207188e-01, 1.96564198e-02, 2.73207188e-01,\n",
       "         2.10552573e-01],\n",
       "        [1.80848241e-01, 1.54536486e-01, 7.46133804e-01, 9.06205118e-01,\n",
       "         8.12747955e-01],\n",
       "        [2.73205996e-01, 2.16920257e-01, 5.68913937e-01, 8.71746540e-02,\n",
       "         5.68913937e-01],\n",
       "        [3.95460486e-01, 6.63721502e-01, 1.40281260e-01, 2.33082771e-02,\n",
       "         4.78387713e-01],\n",
       "        [8.72168839e-01, 9.47091401e-01, 4.25532103e-01, 6.51786685e-01,\n",
       "         3.21874857e-01],\n",
       "        [6.39865935e-01, 6.00624084e-03, 1.92308307e-01, 3.95460486e-01,\n",
       "         5.80616832e-01],\n",
       "        [7.91181564e-01, 4.15364623e-01, 8.98172259e-01, 4.56853271e-01,\n",
       "         6.16061985e-01],\n",
       "        [4.35839534e-01, 7.02421665e-02, 4.89340663e-01, 3.21874857e-01,\n",
       "         2.96838522e-01],\n",
       "        [6.99375391e-01, 1.98248148e-01, 2.58224249e-01, 3.76151621e-01,\n",
       "         4.67561781e-01],\n",
       "        [1.40283942e-01, 3.05029333e-01, 2.73205996e-01, 5.92380762e-01,\n",
       "         5.68910360e-01],\n",
       "        [3.39349985e-01, 2.14134455e-02, 4.89334166e-01, 6.75630212e-01,\n",
       "         5.11584461e-01],\n",
       "        [7.68933356e-01, 8.71746540e-02, 5.11582375e-01, 6.16054893e-01,\n",
       "         3.95460486e-01],\n",
       "        [8.11856389e-02, 9.71159577e-01, 4.15358543e-01, 7.46137142e-01,\n",
       "         5.57276845e-01],\n",
       "        [2.58222103e-01, 7.57594824e-01, 3.81220579e-02, 2.73205996e-01,\n",
       "         9.98975396e-01],\n",
       "        [9.47091401e-01, 8.23235869e-01, 1.75321102e-01, 3.57443690e-01,\n",
       "         6.39865935e-01],\n",
       "        [1.64669991e-01, 4.56848502e-01, 4.89337444e-01, 5.68913102e-01,\n",
       "         1.98248148e-01],\n",
       "        [9.74900484e-01, 4.78387713e-01, 4.35833216e-01, 9.28258002e-01,\n",
       "         3.21877480e-01],\n",
       "        [7.34572291e-01, 2.36899734e-01, 7.34572291e-01, 5.00409603e-01,\n",
       "         6.63714528e-01],\n",
       "        [9.68526602e-02, 9.68515873e-02, 9.03065205e-02, 5.92387795e-01,\n",
       "         5.80620408e-01],\n",
       "        [5.92384160e-01, 2.50964522e-01, 7.91181564e-01, 2.36899734e-01,\n",
       "         7.11175382e-01],\n",
       "        [5.80616832e-01, 9.06205118e-01, 4.15364623e-01, 4.15364623e-01,\n",
       "         1.11132622e-01],\n",
       "        [6.99368179e-01, 3.38010788e-02, 2.16916502e-01, 9.28259969e-01,\n",
       "         4.29179668e-02],\n",
       "        [5.11582375e-01, 1.40283942e-01, 7.91178107e-01, 2.23429918e-01,\n",
       "         8.23240519e-01],\n",
       "        [1.92310095e-01, 6.87521458e-01, 9.47094798e-01, 6.16054893e-01,\n",
       "         2.96840966e-01],\n",
       "        [8.41352940e-02, 1.07409120e-01, 2.96838522e-01, 3.57443690e-01,\n",
       "         5.34245849e-01],\n",
       "        [8.33514392e-01, 3.66717219e-01, 4.56854880e-01, 2.36895680e-01,\n",
       "         8.71746540e-02],\n",
       "        [4.35833216e-01, 9.67067301e-01, 5.92380762e-01, 3.05029333e-01,\n",
       "         5.00409603e-01],\n",
       "        [8.98174763e-01, 2.65637100e-01, 1.54537916e-01, 5.57276845e-01,\n",
       "         3.57443690e-01],\n",
       "        [1.49662971e-01, 2.80927360e-01, 2.80929685e-01, 6.16054893e-01,\n",
       "         3.30534577e-01],\n",
       "        [3.95466328e-01, 1.75321102e-01, 6.16054893e-01, 8.12747955e-01,\n",
       "         5.57276845e-01],\n",
       "        [7.34572291e-01, 8.43561947e-01, 2.23429918e-01, 8.89811754e-01,\n",
       "         2.50964522e-01],\n",
       "        [7.80133963e-01, 1.49661660e-01, 1.07410252e-01, 5.22866488e-01,\n",
       "         3.95460486e-01],\n",
       "        [1.26594305e-02, 1.92310095e-01, 3.66304517e-02, 4.35833216e-01,\n",
       "         2.36895680e-01],\n",
       "        [4.25529003e-01, 9.06206250e-01, 1.72616243e-02, 9.52636003e-01,\n",
       "         8.23235869e-01],\n",
       "        [2.50965536e-01, 2.16916502e-01, 6.99373484e-01, 9.21259582e-01,\n",
       "         3.76151621e-01],\n",
       "        [2.16916502e-01, 8.81139696e-01, 9.88769054e-01, 8.72163355e-01,\n",
       "         3.21877480e-01],\n",
       "        [8.62900734e-01, 6.63721502e-01, 4.78387713e-01, 7.46140540e-01,\n",
       "         5.34249425e-01]]),\n",
       " 'pvalue_means': array([0.28237991, 0.5441807 , 0.55101438, 0.54127299, 0.6617514 ,\n",
       "        0.49397913, 0.49066185, 0.42981771, 0.51022391, 0.65543753,\n",
       "        0.54664278, 0.49373459, 0.36497128, 0.41079123, 0.27270908,\n",
       "        0.51472492, 0.48786165, 0.4918678 , 0.62190647, 0.65193384,\n",
       "        0.4783834 , 0.50803752, 0.5381835 , 0.27916819, 0.42846727,\n",
       "        0.56093386, 0.35815245, 0.53223568, 0.50907974, 0.58786606,\n",
       "        0.60940253, 0.5425159 , 0.44963224, 0.30692297, 0.37456242,\n",
       "        0.30111876, 0.429975  , 0.39568577, 0.5895443 , 0.42482787,\n",
       "        0.66328619, 0.65153034, 0.65538632, 0.4580785 , 0.43617616,\n",
       "        0.61047856, 0.19294082, 0.54966391, 0.53531628, 0.53742465,\n",
       "        0.62345517, 0.45442519, 0.64144026, 0.31372509, 0.7556741 ,\n",
       "        0.50032501, 0.32894469, 0.63432304, 0.50841624, 0.42066153,\n",
       "        0.45990057, 0.37985401, 0.48726847, 0.34585187, 0.56009432,\n",
       "        0.34302576, 0.34023185, 0.64369078, 0.36285156, 0.63552674,\n",
       "        0.32282715, 0.39991224, 0.37596208, 0.40746245, 0.47584115,\n",
       "        0.55422355, 0.46522408, 0.5885916 , 0.37560344, 0.62785138,\n",
       "        0.57403369, 0.29140379, 0.51652107, 0.48573676, 0.38425274,\n",
       "        0.49794297, 0.54796444, 0.27601449, 0.39623137, 0.56014404,\n",
       "        0.44661406, 0.3316219 , 0.51137342, 0.58846809, 0.39110657,\n",
       "        0.18286577, 0.62497375, 0.49293334, 0.65617322, 0.65707998]),\n",
       " 'pvalue_stds': array([0.14301506, 0.26345684, 0.20162723, 0.21922453, 0.17215746,\n",
       "        0.20031636, 0.21041729, 0.18739982, 0.33925503, 0.35351772,\n",
       "        0.19985132, 0.30697809, 0.25764205, 0.30828784, 0.15048835,\n",
       "        0.24509922, 0.1784663 , 0.25925189, 0.31746049, 0.17174906,\n",
       "        0.12638903, 0.3182318 , 0.15181667, 0.29532223, 0.33778729,\n",
       "        0.3378219 , 0.3373042 , 0.32427139, 0.36713576, 0.23327737,\n",
       "        0.34136717, 0.26613433, 0.280184  , 0.28265441, 0.25836303,\n",
       "        0.33477219, 0.28433344, 0.25211213, 0.34344271, 0.30171443,\n",
       "        0.06543235, 0.15512131, 0.24621545, 0.24324182, 0.19170381,\n",
       "        0.27644208, 0.13496835, 0.18469496, 0.16054654, 0.26930832,\n",
       "        0.33000613, 0.16167573, 0.1118252 , 0.27002059, 0.29576047,\n",
       "        0.3675876 , 0.16402187, 0.15388958, 0.31050949, 0.23482441,\n",
       "        0.29157651, 0.2767531 , 0.22311864, 0.31731715, 0.32451255,\n",
       "        0.19405573, 0.23117249, 0.24309603, 0.23733757, 0.18653983,\n",
       "        0.14489585, 0.1763877 , 0.17618203, 0.2205137 , 0.22994046,\n",
       "        0.30123883, 0.35567064, 0.28650688, 0.16300468, 0.26963591,\n",
       "        0.1890332 , 0.24098898, 0.23142699, 0.25924066, 0.3640244 ,\n",
       "        0.28116499, 0.27311921, 0.16672923, 0.25166114, 0.22393331,\n",
       "        0.26159733, 0.15437098, 0.21459616, 0.29133789, 0.24799242,\n",
       "        0.15320308, 0.35632973, 0.27366132, 0.32018175, 0.13953949])}"
      ]
     },
     "execution_count": 22,
     "metadata": {},
     "output_type": "execute_result"
    }
   ],
   "source": [
    "KSTest.Test_tf(max_vectorize=1000)\n",
    "KSTest.Results[-1].result_value"
   ]
  },
  {
   "cell_type": "code",
   "execution_count": 23,
   "metadata": {},
   "outputs": [
    {
     "name": "stdout",
     "output_type": "stream",
     "text": [
      "\n",
      "------------------------------------------\n",
      "Starting KS tests calculation...\n",
      "Running TF KS tests...\n",
      "niter = 100\n",
      "batch_size = 10000\n",
      "The dist_1_num tensor is empty. Batches will be generated 'on-the-fly' from dist_1_symb.\n",
      "The dist_2_num tensor is empty. Batches will be generated 'on-the-fly' from dist_2_symb.\n",
      "nchunks = 5\n",
      "Iterating from 0 to 20 out of 100 .\n",
      "WARNING:tensorflow:Using a while_loop for converting StridedSlice\n",
      "WARNING:tensorflow:Using a while_loop for converting StridedSlice\n",
      "WARNING:tensorflow:Using a while_loop for converting TopKV2\n",
      "WARNING:tensorflow:Using a while_loop for converting TopKV2\n",
      "WARNING:tensorflow:Using a while_loop for converting StridedSlice\n",
      "WARNING:tensorflow:Using a while_loop for converting StridedSlice\n",
      "WARNING:tensorflow:Using a while_loop for converting StridedSlice\n",
      "WARNING:tensorflow:Using a while_loop for converting StridedSlice\n",
      "Iterating from 20 to 40 out of 100 .\n",
      "WARNING:tensorflow:Using a while_loop for converting StridedSlice\n",
      "WARNING:tensorflow:Using a while_loop for converting StridedSlice\n",
      "WARNING:tensorflow:Using a while_loop for converting TopKV2\n",
      "WARNING:tensorflow:Using a while_loop for converting TopKV2\n",
      "WARNING:tensorflow:Using a while_loop for converting StridedSlice\n",
      "WARNING:tensorflow:Using a while_loop for converting StridedSlice\n",
      "WARNING:tensorflow:Using a while_loop for converting StridedSlice\n",
      "WARNING:tensorflow:Using a while_loop for converting StridedSlice\n",
      "Iterating from 40 to 60 out of 100 .\n",
      "WARNING:tensorflow:Using a while_loop for converting StridedSlice\n",
      "WARNING:tensorflow:Using a while_loop for converting StridedSlice\n",
      "WARNING:tensorflow:Using a while_loop for converting TopKV2\n",
      "WARNING:tensorflow:Using a while_loop for converting TopKV2\n",
      "WARNING:tensorflow:Using a while_loop for converting StridedSlice\n",
      "WARNING:tensorflow:Using a while_loop for converting StridedSlice\n",
      "WARNING:tensorflow:Using a while_loop for converting StridedSlice\n",
      "WARNING:tensorflow:Using a while_loop for converting StridedSlice\n",
      "Iterating from 60 to 80 out of 100 .\n",
      "WARNING:tensorflow:Using a while_loop for converting StridedSlice\n",
      "WARNING:tensorflow:Using a while_loop for converting StridedSlice\n",
      "WARNING:tensorflow:Using a while_loop for converting TopKV2\n",
      "WARNING:tensorflow:Using a while_loop for converting TopKV2\n",
      "WARNING:tensorflow:Using a while_loop for converting StridedSlice\n",
      "WARNING:tensorflow:Using a while_loop for converting StridedSlice\n",
      "WARNING:tensorflow:Using a while_loop for converting StridedSlice\n",
      "WARNING:tensorflow:Using a while_loop for converting StridedSlice\n",
      "Iterating from 80 to 100 out of 100 .\n",
      "WARNING:tensorflow:Using a while_loop for converting StridedSlice\n",
      "WARNING:tensorflow:Using a while_loop for converting StridedSlice\n",
      "WARNING:tensorflow:Using a while_loop for converting TopKV2\n",
      "WARNING:tensorflow:Using a while_loop for converting TopKV2\n",
      "WARNING:tensorflow:Using a while_loop for converting StridedSlice\n",
      "WARNING:tensorflow:Using a while_loop for converting StridedSlice\n",
      "WARNING:tensorflow:Using a while_loop for converting StridedSlice\n",
      "WARNING:tensorflow:Using a while_loop for converting StridedSlice\n",
      "KS tests calculation completed in 12.036879192106426 seconds.\n"
     ]
    },
    {
     "data": {
      "text/plain": [
       "{'statistic_lists': array([[0.01359999, 0.0134    , 0.00869998, 0.0086    , 0.01429999],\n",
       "        [0.01529998, 0.00940001, 0.01100004, 0.0059    , 0.01100001],\n",
       "        [0.01530004, 0.01320004, 0.009     , 0.00810003, 0.01950002],\n",
       "        [0.00850004, 0.013     , 0.01880002, 0.02599999, 0.01430005],\n",
       "        [0.01289999, 0.01119998, 0.00759999, 0.00929999, 0.0102    ],\n",
       "        [0.01199999, 0.0079    , 0.00879997, 0.01030001, 0.0088    ],\n",
       "        [0.02410001, 0.01199999, 0.01029998, 0.00919998, 0.01169997],\n",
       "        [0.01180005, 0.00600004, 0.00890002, 0.0122    , 0.0108    ],\n",
       "        [0.02320004, 0.016     , 0.0086    , 0.00979996, 0.01809999],\n",
       "        [0.01210004, 0.0079    , 0.0158    , 0.00740004, 0.0106    ],\n",
       "        [0.00980002, 0.0079    , 0.01770002, 0.00719994, 0.01390004],\n",
       "        [0.00730002, 0.01139998, 0.01540005, 0.0169    , 0.01539999],\n",
       "        [0.01800001, 0.0108    , 0.01880002, 0.01789999, 0.0116    ],\n",
       "        [0.01409999, 0.00820005, 0.0086    , 0.0156    , 0.0108    ],\n",
       "        [0.00670004, 0.0107    , 0.0122    , 0.01090002, 0.0114    ],\n",
       "        [0.0221    , 0.00849998, 0.01359999, 0.00980002, 0.01499999],\n",
       "        [0.01310003, 0.01090002, 0.00850001, 0.0187    , 0.01640001],\n",
       "        [0.01109999, 0.00700003, 0.0081    , 0.01240003, 0.0072    ],\n",
       "        [0.01050001, 0.00520003, 0.00909996, 0.01429999, 0.0099    ],\n",
       "        [0.00870001, 0.0178    , 0.01010001, 0.0106    , 0.01169997],\n",
       "        [0.0097    , 0.01929998, 0.01269996, 0.01769999, 0.00690001],\n",
       "        [0.01730001, 0.0149    , 0.01780003, 0.01249999, 0.0156    ],\n",
       "        [0.00820002, 0.00870001, 0.00709999, 0.01600003, 0.0113    ],\n",
       "        [0.00959998, 0.00870001, 0.01840001, 0.00979996, 0.01639998],\n",
       "        [0.0149    , 0.009     , 0.01680002, 0.0107    , 0.00680006],\n",
       "        [0.0115    , 0.01060003, 0.02380002, 0.00979996, 0.0097    ],\n",
       "        [0.00819999, 0.0192    , 0.01899999, 0.01210004, 0.01270002],\n",
       "        [0.00770003, 0.01410002, 0.01630001, 0.01440001, 0.00710002],\n",
       "        [0.01169997, 0.021     , 0.00979999, 0.0126    , 0.00979999],\n",
       "        [0.01570001, 0.0097    , 0.0115    , 0.0108    , 0.01320004],\n",
       "        [0.0151    , 0.0062    , 0.01430002, 0.01410002, 0.01550004],\n",
       "        [0.01530001, 0.01359999, 0.01910001, 0.0097    , 0.01660001],\n",
       "        [0.00770003, 0.00849998, 0.00990003, 0.00949997, 0.00659996],\n",
       "        [0.0086    , 0.00880003, 0.01020002, 0.01010001, 0.01109999],\n",
       "        [0.00819999, 0.016     , 0.01279999, 0.01250002, 0.01309997],\n",
       "        [0.01460001, 0.01160002, 0.01190001, 0.01289999, 0.0141    ],\n",
       "        [0.0169    , 0.00810003, 0.02689999, 0.014     , 0.01020002],\n",
       "        [0.01099998, 0.0178    , 0.01070002, 0.01130001, 0.01179999],\n",
       "        [0.0079    , 0.01090002, 0.01190001, 0.00739998, 0.00950001],\n",
       "        [0.01529998, 0.0133    , 0.01699999, 0.00980002, 0.0122    ],\n",
       "        [0.01670003, 0.01320001, 0.0108    , 0.01139998, 0.00980002],\n",
       "        [0.01540001, 0.02410001, 0.01929998, 0.01730001, 0.01019999],\n",
       "        [0.01089999, 0.01359999, 0.0086    , 0.0072    , 0.0117    ],\n",
       "        [0.01269996, 0.01060003, 0.01859999, 0.0072    , 0.0108    ],\n",
       "        [0.0088    , 0.02290004, 0.01030001, 0.0133    , 0.0138    ],\n",
       "        [0.0086    , 0.01639998, 0.00669998, 0.015     , 0.01450002],\n",
       "        [0.01070005, 0.00600001, 0.01029998, 0.01300001, 0.01410002],\n",
       "        [0.0106    , 0.0097    , 0.012     , 0.0122    , 0.0106    ],\n",
       "        [0.01859999, 0.0123    , 0.00769997, 0.00830001, 0.01060003],\n",
       "        [0.01609999, 0.01249999, 0.01700002, 0.01010001, 0.01630002],\n",
       "        [0.00950003, 0.01230001, 0.01270001, 0.01699999, 0.01230001],\n",
       "        [0.01199996, 0.0158    , 0.01109999, 0.01090001, 0.01800001],\n",
       "        [0.01410002, 0.01310003, 0.01839998, 0.0118    , 0.01050001],\n",
       "        [0.0108    , 0.01389998, 0.01339996, 0.01459998, 0.01010001],\n",
       "        [0.01499999, 0.02680001, 0.01339996, 0.00910002, 0.0117    ],\n",
       "        [0.01210001, 0.00779998, 0.01160002, 0.01190001, 0.01880002],\n",
       "        [0.01779997, 0.0133    , 0.01200002, 0.01209998, 0.0169    ],\n",
       "        [0.0115    , 0.01189995, 0.0193    , 0.0226    , 0.01390001],\n",
       "        [0.01440001, 0.0079    , 0.00919998, 0.01289999, 0.00960004],\n",
       "        [0.01210001, 0.0126    , 0.01029998, 0.01370001, 0.0115    ],\n",
       "        [0.01250005, 0.01539999, 0.01230001, 0.00960004, 0.00729996],\n",
       "        [0.01590002, 0.01810001, 0.00849998, 0.01269996, 0.00840001],\n",
       "        [0.0104    , 0.01189998, 0.01450002, 0.00979999, 0.00940001],\n",
       "        [0.00999999, 0.01129997, 0.01550001, 0.01640001, 0.00999999],\n",
       "        [0.01339996, 0.0131    , 0.01800001, 0.00850001, 0.00920004],\n",
       "        [0.01390001, 0.0088    , 0.01010001, 0.01530001, 0.01009999],\n",
       "        [0.01659998, 0.0115    , 0.02159998, 0.01550001, 0.01100001],\n",
       "        [0.01230001, 0.01309997, 0.01250002, 0.0107    , 0.01620001],\n",
       "        [0.01279998, 0.0112    , 0.01029998, 0.00890005, 0.0219    ],\n",
       "        [0.0138    , 0.0138    , 0.01050001, 0.0124    , 0.00850001],\n",
       "        [0.01149999, 0.0187    , 0.01639998, 0.00950003, 0.01269999],\n",
       "        [0.01599997, 0.0108    , 0.01120001, 0.01540002, 0.00880003],\n",
       "        [0.01140001, 0.0117    , 0.00740004, 0.0115    , 0.01609999],\n",
       "        [0.01650006, 0.01289999, 0.0095    , 0.00580001, 0.01040003],\n",
       "        [0.00880003, 0.01170003, 0.0068    , 0.01130003, 0.0131    ],\n",
       "        [0.01520002, 0.01670003, 0.01160002, 0.01249999, 0.0138    ],\n",
       "        [0.0152    , 0.0147    , 0.0183    , 0.00999999, 0.00760001],\n",
       "        [0.01820004, 0.0115    , 0.0117    , 0.0113    , 0.01279998],\n",
       "        [0.01179999, 0.0115    , 0.01389998, 0.00580001, 0.00879997],\n",
       "        [0.01719999, 0.00660002, 0.01019999, 0.01439998, 0.0115    ],\n",
       "        [0.01110005, 0.01520002, 0.0097    , 0.01100001, 0.0108    ],\n",
       "        [0.02310002, 0.0095    , 0.01499999, 0.0079    , 0.01570004],\n",
       "        [0.01350001, 0.01089999, 0.0142    , 0.014     , 0.0084    ],\n",
       "        [0.0115    , 0.0152    , 0.01169997, 0.0097    , 0.0156    ],\n",
       "        [0.00480002, 0.006     , 0.01650006, 0.00819999, 0.0099    ],\n",
       "        [0.01889998, 0.0064    , 0.00980002, 0.0081    , 0.01019996],\n",
       "        [0.01100001, 0.0126    , 0.01200002, 0.01370001, 0.01059997],\n",
       "        [0.00980002, 0.01160002, 0.0147    , 0.01010001, 0.02000004],\n",
       "        [0.00899999, 0.02490002, 0.00950003, 0.01729998, 0.00890005],\n",
       "        [0.00730002, 0.016     , 0.00840002, 0.01190001, 0.01350001],\n",
       "        [0.01870003, 0.01539999, 0.01550001, 0.01300001, 0.01410002],\n",
       "        [0.01710004, 0.01400003, 0.0116    , 0.01250005, 0.0089    ],\n",
       "        [0.00740004, 0.0131    , 0.01539999, 0.02129999, 0.01480001],\n",
       "        [0.01800001, 0.00870001, 0.00869995, 0.00950003, 0.01390001],\n",
       "        [0.0104    , 0.01010001, 0.01170003, 0.01050001, 0.01650001],\n",
       "        [0.01730001, 0.0108    , 0.00980002, 0.00909999, 0.00929999],\n",
       "        [0.01269996, 0.01589999, 0.01209998, 0.0158    , 0.00800002],\n",
       "        [0.0097    , 0.01109999, 0.0151    , 0.0095    , 0.01459998],\n",
       "        [0.01740003, 0.01410002, 0.0169    , 0.01360002, 0.01750001],\n",
       "        [0.01010001, 0.01269996, 0.0086    , 0.0072    , 0.01790002]]),\n",
       " 'statistic_means': array([0.01171999, 0.01052001, 0.01302003, 0.01612002, 0.01023999,\n",
       "        0.00955999, 0.01345999, 0.00994002, 0.01514   , 0.01076002,\n",
       "        0.0113    , 0.01328001, 0.01542   , 0.01146001, 0.01038001,\n",
       "        0.0138    , 0.01352001, 0.00916001, 0.0098    , 0.01178   ,\n",
       "        0.01325999, 0.01562001, 0.01026001, 0.01257999, 0.01164002,\n",
       "        0.01308   , 0.01424001, 0.01192001, 0.01297999, 0.01218001,\n",
       "        0.01304002, 0.01486   , 0.00843999, 0.00976001, 0.01251999,\n",
       "        0.01302001, 0.01522001, 0.01252   , 0.00952   , 0.01352   ,\n",
       "        0.01238001, 0.01726   , 0.0104    , 0.01198   , 0.01382001,\n",
       "        0.01224   , 0.01082001, 0.01102   , 0.0115    , 0.01440001,\n",
       "        0.01276001, 0.01355999, 0.01358001, 0.01255999, 0.0152    ,\n",
       "        0.01244001, 0.01442   , 0.01583999, 0.0108    , 0.01204   ,\n",
       "        0.01142001, 0.01271999, 0.0112    , 0.01263999, 0.01244   ,\n",
       "        0.01164   , 0.01524   , 0.01296   , 0.01302   , 0.0118    ,\n",
       "        0.01376   , 0.01244001, 0.01162001, 0.01102002, 0.01034002,\n",
       "        0.01396001, 0.01316   , 0.0131    , 0.01035999, 0.01198   ,\n",
       "        0.01156002, 0.01424001, 0.0122    , 0.01274   , 0.00908001,\n",
       "        0.01067999, 0.01198   , 0.01324002, 0.01392001, 0.01142001,\n",
       "        0.01534001, 0.01282002, 0.01440001, 0.01176   , 0.01184001,\n",
       "        0.01126   , 0.01289999, 0.01199999, 0.01590002, 0.0113    ]),\n",
       " 'statistic_stds': array([0.0025246 , 0.00303011, 0.0041854 , 0.00593139, 0.00178056,\n",
       "        0.00144305, 0.00541429, 0.00227648, 0.00539913, 0.00305588,\n",
       "        0.0039583 , 0.00350394, 0.00346895, 0.00294454, 0.00191142,\n",
       "        0.00478456, 0.00367064, 0.00218596, 0.00291203, 0.00316063,\n",
       "        0.00468255, 0.00188829, 0.0031841 , 0.0040032 , 0.0037022 ,\n",
       "        0.00539905, 0.00425892, 0.00377168, 0.00415519, 0.00209515,\n",
       "        0.0034581 , 0.00314363, 0.00119934, 0.00093509, 0.00249752,\n",
       "        0.00117881, 0.00658221, 0.00266488, 0.00171395, 0.00248627,\n",
       "        0.00242686, 0.00456623, 0.00226539, 0.00375467, 0.00490528,\n",
       "        0.00384635, 0.00279385, 0.00094319, 0.00391254, 0.00265933,\n",
       "        0.00240964, 0.00283874, 0.00269769, 0.0017783 , 0.00612046,\n",
       "        0.00355225, 0.00245226, 0.00437704, 0.00244049, 0.00113067,\n",
       "        0.00275928, 0.0038866 , 0.00185581, 0.00275871, 0.00341443,\n",
       "        0.00250248, 0.00385569, 0.00180399, 0.00461709, 0.00204645,\n",
       "        0.00333921, 0.00278968, 0.00275491, 0.00356394, 0.00224909,\n",
       "        0.00183151, 0.00384323, 0.00260232, 0.00279757, 0.00361794,\n",
       "        0.00188744, 0.00536419, 0.00223875, 0.00228438, 0.0041063 ,\n",
       "        0.00432545, 0.00111428, 0.00380032, 0.00633921, 0.00321334,\n",
       "        0.00191479, 0.00270807, 0.00446003, 0.00367021, 0.00239299,\n",
       "        0.00307676, 0.00290172, 0.00239666, 0.00169352, 0.00376988]),\n",
       " 'pvalue_lists': array([[0.31337655, 0.33053589, 0.84356481, 0.85336322, 0.25822639],\n",
       "        [0.19231182, 0.76893336, 0.58061337, 0.99498367, 0.58061683],\n",
       "        [0.19230831, 0.34831548, 0.81274796, 0.89816993, 0.0446291 ],\n",
       "        [0.86289787, 0.36672139, 0.05835068, 0.0023185 , 0.2582221 ],\n",
       "        [0.37615162, 0.5572803 , 0.93490267, 0.78013396, 0.67563295],\n",
       "        [0.46755862, 0.91390467, 0.83352041, 0.66371804, 0.83351749],\n",
       "        [0.00600624, 0.46755862, 0.6637215 , 0.79118156, 0.5004096 ],\n",
       "        [0.48933417, 0.9937644 , 0.82323891, 0.44627738, 0.60420007],\n",
       "        [0.00919342, 0.15453792, 0.85336322, 0.72291815, 0.07554674],\n",
       "        [0.4568485 , 0.91390467, 0.16466999, 0.9470914 , 0.62795293],\n",
       "        [0.72291112, 0.91390467, 0.08717465, 0.95781541, 0.28880382],\n",
       "        [0.952636  , 0.53424942, 0.18650782, 0.11496317, 0.18651116],\n",
       "        [0.07832295, 0.60420007, 0.05835068, 0.08118564, 0.51158392],\n",
       "        [0.27320832, 0.88980925, 0.85336322, 0.17532283, 0.60420007],\n",
       "        [0.97830129, 0.61606014, 0.44627738, 0.59238076, 0.53424764],\n",
       "        [0.01513183, 0.86290359, 0.31337655, 0.72291112, 0.21055257],\n",
       "        [0.35744095, 0.59238076, 0.86290073, 0.06058049, 0.13577324],\n",
       "        [0.56891394, 0.9670673 , 0.89817226, 0.42552602, 0.95781237],\n",
       "        [0.63986593, 0.99925756, 0.80206013, 0.25822639, 0.71117538],\n",
       "        [0.84356195, 0.08413529, 0.68752146, 0.62795293, 0.5004096 ],\n",
       "        [0.73457229, 0.04823065, 0.39546633, 0.08717555, 0.97115827],\n",
       "        [0.10027063, 0.21691847, 0.0841344 , 0.41536462, 0.17532283],\n",
       "        [0.88981175, 0.84356195, 0.96262228, 0.15453649, 0.5457207 ],\n",
       "        [0.74614054, 0.84356195, 0.06771171, 0.72291815, 0.13577455],\n",
       "        [0.21691847, 0.81274796, 0.11890054, 0.61606014, 0.97489822],\n",
       "        [0.52286649, 0.6279493 , 0.0069344 , 0.72291815, 0.73457229],\n",
       "        [0.88981426, 0.05012339, 0.05410278, 0.4568485 , 0.39546049],\n",
       "        [0.928258  , 0.273206  , 0.14028198, 0.25096452, 0.96262091],\n",
       "        [0.5004096 , 0.02431035, 0.7229147 , 0.40533996, 0.7229147 ],\n",
       "        [0.1699295 , 0.73457229, 0.52286649, 0.60420007, 0.34831548],\n",
       "        [0.20432901, 0.99067718, 0.25822425, 0.273206  , 0.18084657],\n",
       "        [0.19231009, 0.31337655, 0.05207998, 0.73457229, 0.12710845],\n",
       "        [0.928258  , 0.86290359, 0.71117187, 0.75760162, 0.98137796],\n",
       "        [0.85336322, 0.83351439, 0.67563021, 0.68752146, 0.56891394],\n",
       "        [0.88981426, 0.15453792, 0.38573277, 0.41536164, 0.35744643],\n",
       "        [0.23689765, 0.51158237, 0.47838771, 0.37615162, 0.27320719],\n",
       "        [0.11496317, 0.89816993, 0.00144029, 0.28092968, 0.67563021],\n",
       "        [0.58062041, 0.08413529, 0.61605847, 0.54571891, 0.48934066],\n",
       "        [0.91390467, 0.59238076, 0.47838771, 0.9470948 , 0.75759643],\n",
       "        [0.19231182, 0.33934999, 0.11113369, 0.72291112, 0.44627738],\n",
       "        [0.12294781, 0.34831828, 0.60420007, 0.53424942, 0.72291112],\n",
       "        [0.18651044, 0.00600624, 0.04823065, 0.10027063, 0.67563349],\n",
       "        [0.59238416, 0.31337655, 0.85336322, 0.95781237, 0.50040638],\n",
       "        [0.39546633, 0.6279493 , 0.06288302, 0.95781237, 0.60420007],\n",
       "        [0.83351749, 0.01055694, 0.66371804, 0.33934999, 0.29684097],\n",
       "        [0.85336322, 0.13577455, 0.97830319, 0.21055162, 0.24385464],\n",
       "        [0.61605489, 0.99376464, 0.6637215 , 0.36671996, 0.273206  ],\n",
       "        [0.62795293, 0.73457229, 0.46755779, 0.44627738, 0.62795293],\n",
       "        [0.06288302, 0.43583477, 0.928262  , 0.8811397 , 0.6279493 ],\n",
       "        [0.14966297, 0.41536462, 0.11113262, 0.68752146, 0.14028126],\n",
       "        [0.75759482, 0.43583322, 0.39546192, 0.11113369, 0.43583322],\n",
       "        [0.46756178, 0.16466999, 0.56891394, 0.59238249, 0.07832295],\n",
       "        [0.273206  , 0.35744095, 0.06771243, 0.48933995, 0.63986593],\n",
       "        [0.60420007, 0.28880858, 0.33053982, 0.23689973, 0.68752146],\n",
       "        [0.21055257, 0.00151968, 0.33053982, 0.80205375, 0.50040638],\n",
       "        [0.45685166, 0.92125958, 0.51158237, 0.47838771, 0.05835068],\n",
       "        [0.08413625, 0.33934999, 0.4675554 , 0.45685488, 0.11496317],\n",
       "        [0.52286649, 0.47839421, 0.04823035, 0.01210117, 0.2888062 ],\n",
       "        [0.25096452, 0.91390467, 0.79118156, 0.37615162, 0.7461338 ],\n",
       "        [0.45685166, 0.40533996, 0.6637215 , 0.30502933, 0.52286649],\n",
       "        [0.41535854, 0.18651116, 0.43583322, 0.7461338 , 0.95263916],\n",
       "        [0.15953898, 0.07554626, 0.86290359, 0.39546633, 0.87216479],\n",
       "        [0.65179384, 0.47839081, 0.24385464, 0.7229147 , 0.76893336],\n",
       "        [0.69937539, 0.54572397, 0.18084824, 0.13577324, 0.69937539],\n",
       "        [0.33053982, 0.35744369, 0.07832295, 0.86290073, 0.79117495],\n",
       "        [0.2888062 , 0.83351749, 0.68752146, 0.19231009, 0.68752313],\n",
       "        [0.12710977, 0.52286649, 0.01882732, 0.18084824, 0.58061683],\n",
       "        [0.43583322, 0.35744643, 0.41536164, 0.61606014, 0.14491093],\n",
       "        [0.3857342 , 0.55727863, 0.6637215 , 0.82323587, 0.01652384],\n",
       "        [0.29684097, 0.29684097, 0.63986593, 0.425529  , 0.86290073],\n",
       "        [0.52286816, 0.06058049, 0.13577455, 0.75759482, 0.39546341],\n",
       "        [0.15453947, 0.60420007, 0.55727684, 0.18650949, 0.83351439],\n",
       "        [0.53424585, 0.50040638, 0.9470914 , 0.52286649, 0.14966297],\n",
       "        [0.1313808 , 0.37615162, 0.7575978 , 0.99601197, 0.65179026],\n",
       "        [0.83351439, 0.50040293, 0.97490048, 0.54571724, 0.35744369],\n",
       "        [0.19824815, 0.12294781, 0.51158237, 0.41536462, 0.29684097],\n",
       "        [0.19824898, 0.23009062, 0.07024294, 0.69937539, 0.93490171],\n",
       "        [0.07285267, 0.52286649, 0.50040638, 0.5457207 , 0.3857342 ],\n",
       "        [0.48934066, 0.52286649, 0.28880858, 0.99601197, 0.83352041],\n",
       "        [0.10378957, 0.98137617, 0.67563349, 0.25096667, 0.52286649],\n",
       "        [0.5689069 , 0.19824815, 0.73457229, 0.58061683, 0.60420007],\n",
       "        [0.00962913, 0.75759816, 0.21055257, 0.91390467, 0.16992801],\n",
       "        [0.32187748, 0.59238416, 0.26563936, 0.28092968, 0.87216538],\n",
       "        [0.52286649, 0.19824898, 0.5004096 , 0.73457229, 0.17532283],\n",
       "        [0.99983495, 0.99376488, 0.1313808 , 0.88981426, 0.71117538],\n",
       "        [0.05619287, 0.98659486, 0.72291112, 0.89817226, 0.67563725],\n",
       "        [0.58061683, 0.40533996, 0.4675554 , 0.30502933, 0.62795639],\n",
       "        [0.72291112, 0.51158237, 0.23009062, 0.68752146, 0.03663045],\n",
       "        [0.81274962, 0.00405836, 0.75759482, 0.1002717 , 0.82323587],\n",
       "        [0.952636  , 0.15453792, 0.87216336, 0.47838771, 0.32187748],\n",
       "        [0.06057984, 0.18651116, 0.18084824, 0.36671996, 0.273206  ],\n",
       "        [0.10740799, 0.28092736, 0.51158392, 0.41535854, 0.82324052],\n",
       "        [0.9470914 , 0.35744369, 0.18651116, 0.02141321, 0.22342992],\n",
       "        [0.07832295, 0.84356195, 0.84356785, 0.75759482, 0.2888062 ],\n",
       "        [0.65179384, 0.68752146, 0.50040293, 0.63986593, 0.13138282],\n",
       "        [0.10027063, 0.60420007, 0.72291112, 0.80205697, 0.78013396],\n",
       "        [0.39546633, 0.15954053, 0.45685488, 0.16466999, 0.90620512],\n",
       "        [0.73457229, 0.56891394, 0.20432901, 0.75759816, 0.23689973],\n",
       "        [0.09685159, 0.273206  , 0.11496317, 0.31337404, 0.09353125],\n",
       "        [0.68752146, 0.39546633, 0.85336322, 0.95781237, 0.0811848 ]]),\n",
       " 'pvalue_means': array([0.51981337, 0.62349181, 0.45923415, 0.30970211, 0.6648203 ,\n",
       "        0.74244385, 0.48577551, 0.67136298, 0.36311189, 0.6220935 ,\n",
       "        0.59412193, 0.39497352, 0.26672865, 0.55918074, 0.63345344,\n",
       "        0.42497513, 0.40181524, 0.76349838, 0.68211708, 0.54871625,\n",
       "        0.44732062, 0.19840219, 0.67925063, 0.50322138, 0.54790506,\n",
       "        0.52304813, 0.36926988, 0.51106628, 0.47517786, 0.47597677,\n",
       "        0.3814566 , 0.28388947, 0.84826261, 0.72378864, 0.4405786 ,\n",
       "        0.37524531, 0.39422666, 0.46317475, 0.73787287, 0.3623968 ,\n",
       "        0.46652534, 0.20333029, 0.64346853, 0.52966222, 0.42879668,\n",
       "        0.48436944, 0.5826934 , 0.58086267, 0.58721375, 0.30079259,\n",
       "        0.42717137, 0.37437023, 0.36551305, 0.42959393, 0.36901444,\n",
       "        0.4852864 , 0.29257194, 0.27007968, 0.61566724, 0.47076179,\n",
       "        0.54729518, 0.47312399, 0.57317747, 0.45221925, 0.48407643,\n",
       "        0.53793567, 0.28605373, 0.39392247, 0.48929881, 0.50439552,\n",
       "        0.37445629, 0.46720805, 0.53085462, 0.58258649, 0.64239575,\n",
       "        0.30899678, 0.42657193, 0.40551609, 0.62610962, 0.50692648,\n",
       "        0.53730885, 0.41232251, 0.46659921, 0.42628404, 0.74519405,\n",
       "        0.66790167, 0.47729958, 0.4377472 , 0.49958208, 0.55592049,\n",
       "        0.21357304, 0.42770367, 0.34717788, 0.56237075, 0.5221934 ,\n",
       "        0.60191455, 0.41654737, 0.50046263, 0.17838521, 0.59506963]),\n",
       " 'pvalue_stds': array([0.26942174, 0.26410318, 0.33855172, 0.30646017, 0.19039595,\n",
       "        0.1598423 , 0.26670665, 0.20751764, 0.35249454, 0.29235386,\n",
       "        0.34679541, 0.3148668 , 0.23966032, 0.29223703, 0.18209129,\n",
       "        0.31841796, 0.29600798, 0.22334892, 0.24383489, 0.25715689,\n",
       "        0.36016262, 0.11885717, 0.2982579 , 0.33099666, 0.33187559,\n",
       "        0.26909781, 0.31000232, 0.35767638, 0.25750439, 0.19772397,\n",
       "        0.30648742, 0.24111707, 0.10133766, 0.10625444, 0.24256416,\n",
       "        0.10842401, 0.34007417, 0.1940804 , 0.18091464, 0.2142894 ,\n",
       "        0.21037727, 0.24370769, 0.23448025, 0.29476097, 0.28959437,\n",
       "        0.35622154, 0.2526203 , 0.10863962, 0.31692399, 0.22237847,\n",
       "        0.20504391, 0.21245209, 0.19384198, 0.18098464, 0.27071378,\n",
       "        0.27345725, 0.16418684, 0.2113844 , 0.25579217, 0.11990755,\n",
       "        0.26975422, 0.33870223, 0.19202092, 0.24685856, 0.29734242,\n",
       "        0.25045697, 0.22387007, 0.15159059, 0.27597112, 0.21874914,\n",
       "        0.2548527 , 0.25985106, 0.25280923, 0.3008457 , 0.2270648 ,\n",
       "        0.14098389, 0.33182149, 0.17520781, 0.25415895, 0.31043629,\n",
       "        0.17956808, 0.35564817, 0.23499284, 0.21205939, 0.32418156,\n",
       "        0.32614825, 0.11689491, 0.26577177, 0.36725708, 0.30960884,\n",
       "        0.10219613, 0.23990428, 0.31851267, 0.31792847, 0.20551603,\n",
       "        0.26004275, 0.27251735, 0.23781174, 0.09495604, 0.31961361])}"
      ]
     },
     "execution_count": 23,
     "metadata": {},
     "output_type": "execute_result"
    }
   ],
   "source": [
    "KSTest.Test_tf(max_vectorize=100)\n",
    "KSTest.Results[-1].result_value"
   ]
  },
  {
   "cell_type": "markdown",
   "metadata": {},
   "source": [
    "### LR Test"
   ]
  },
  {
   "cell_type": "code",
   "execution_count": 24,
   "metadata": {},
   "outputs": [
    {
     "name": "stdout",
     "output_type": "stream",
     "text": [
      "\n",
      "------------------------------------------\n",
      "Starting LR metric calculation...\n",
      "Running TF LR calculation...\n",
      "niter = 100\n",
      "batch_size = 10000\n",
      "The dist_1_num tensor is empty. Batches will be generated 'on-the-fly' from dist_1_symb.\n",
      "The dist_2_num tensor is empty. Batches will be generated 'on-the-fly' from dist_2_symb.\n",
      "LR metric calculation completed in 5.55027876701206 seconds.\n"
     ]
    },
    {
     "data": {
      "text/plain": [
       "{'logprob_ref_ref_sum_list': array([-71267.65991775, -71015.9538473 , -71260.45818174, -70692.02048531,\n",
       "        -71273.8043376 , -71011.10317567, -70738.7450337 , -71237.46886075,\n",
       "        -71131.19154768, -70861.07507269, -71023.39914442, -70788.25762199,\n",
       "        -71056.5066197 , -71238.97805322, -71022.1250929 , -70979.52058058,\n",
       "        -71021.5879943 , -70943.91075143, -71014.07676012, -71018.51654553,\n",
       "        -71031.15775373, -70624.50172146, -70745.20551332, -70899.51048067,\n",
       "        -70890.6922343 , -71102.44868384, -71124.82393212, -71120.6706772 ,\n",
       "        -71126.86352794, -70962.40294566, -71286.00158211, -71016.75517526,\n",
       "        -70986.71582069, -70778.38301096, -70838.44166557, -70698.22736843,\n",
       "        -70983.7670851 , -70909.87760942, -71030.3358148 , -71147.44525311,\n",
       "        -71078.9280889 , -71013.62444443, -70980.78376952, -70876.21199649,\n",
       "        -71004.08662644, -70813.82788588, -71108.00697788, -71060.63809415,\n",
       "        -71006.61535766, -70927.18594706, -70928.04708992, -71042.90313358,\n",
       "        -71227.31322684, -70670.97765036, -70949.62179238, -70853.18473851,\n",
       "        -71203.00623141, -71096.78561565, -71070.20047455, -71033.67942324,\n",
       "        -71192.65532128, -71056.30850358, -70855.90223243, -71132.16739688,\n",
       "        -70838.83611349, -70788.15515202, -71075.98370601, -70990.06156459,\n",
       "        -71301.97925736, -70799.18900591, -70981.43127039, -71069.75727571,\n",
       "        -70821.52584625, -70969.53521425, -71031.58875905, -70994.88922443,\n",
       "        -71050.74822213, -70813.65130575, -70787.71482882, -71208.44048739,\n",
       "        -70702.67757454, -71095.50136174, -70917.2364153 , -71005.43294719,\n",
       "        -71048.86493791, -70781.0292789 , -70998.47693879, -70669.16406044,\n",
       "        -70907.07826685, -70995.79982799, -70988.51972903, -70998.26456823,\n",
       "        -70963.08155237, -71342.60529511, -70999.99222854, -71093.94331122,\n",
       "        -70864.7151664 , -70830.34900204, -70724.23213049, -70853.24312514]),\n",
       " 'logprob_ref_alt_sum_list': array([-71275.48102059, -71132.02217318, -71063.50983506, -71132.53723635,\n",
       "        -71015.49112505, -70841.35525502, -70968.46116243, -71073.89962366,\n",
       "        -71072.31388476, -70979.56628662, -71021.17110651, -70791.45101729,\n",
       "        -71091.14052987, -71141.07704642, -71325.62743747, -71092.1680863 ,\n",
       "        -70764.3057353 , -71039.24487288, -70878.75817925, -71235.71790246,\n",
       "        -71231.52892585, -71107.96853553, -71017.47270198, -71023.4643296 ,\n",
       "        -70964.69022761, -71095.3354787 , -71041.33334298, -70749.42671064,\n",
       "        -70936.73224226, -71042.06954129, -71036.38896015, -71018.57108038,\n",
       "        -70841.77152682, -70767.51310633, -71015.61015599, -71061.434975  ,\n",
       "        -71084.87099662, -70776.78447001, -71117.64420765, -71148.14230805,\n",
       "        -70779.09915153, -71019.53984611, -71101.88945988, -71147.54335092,\n",
       "        -70854.38934   , -70931.22337561, -70942.10508156, -70657.19263001,\n",
       "        -71059.23857778, -70972.41006734, -70947.1037864 , -70917.81285145,\n",
       "        -70996.84366862, -71003.08680633, -70922.68679135, -70710.10994641,\n",
       "        -71222.31050565, -71137.68456913, -70598.17590935, -70925.70648663,\n",
       "        -70833.96454758, -71198.6616434 , -70944.42080483, -71230.43533955,\n",
       "        -71071.17104638, -71309.24203141, -70918.86033054, -71028.19927552,\n",
       "        -71079.13879518, -71138.77120646, -71200.54457391, -70809.52254677,\n",
       "        -70969.39514818, -71098.30928866, -71065.84278573, -71251.97266816,\n",
       "        -70786.14535059, -71045.35893329, -71039.39612755, -70793.35364514,\n",
       "        -71014.09130936, -70831.65410747, -71170.43434821, -70914.19097383,\n",
       "        -71064.27838851, -71028.29660123, -70973.37221113, -71098.88421139,\n",
       "        -70853.99070017, -70964.02532869, -71110.53083527, -70997.55151927,\n",
       "        -71124.67357316, -71025.4253424 , -71006.32900638, -70698.01855375,\n",
       "        -70972.8732006 , -70875.06259925, -71029.34817109, -71266.16996132]),\n",
       " 'logprob_alt_alt_sum_list': array([-71274.05971419, -71131.55316072, -71063.32775712, -71131.30072175,\n",
       "        -71014.80418486, -70840.52723153, -70967.01129272, -71074.22162046,\n",
       "        -71071.87870667, -70977.98318687, -71021.24107644, -70791.53578768,\n",
       "        -71089.69996438, -71139.76507237, -71325.02374748, -71091.80059273,\n",
       "        -70763.61274078, -71038.93774752, -70879.53197293, -71234.58225899,\n",
       "        -71230.08027268, -71107.11431545, -71016.69818721, -71022.72514323,\n",
       "        -70962.89276833, -71094.77853524, -71041.79345027, -70749.93260933,\n",
       "        -70937.77168823, -71041.64327324, -71035.31289705, -71018.46297902,\n",
       "        -70840.56185606, -70767.71748388, -71015.04297656, -71060.64813835,\n",
       "        -71085.13823955, -70776.19717966, -71114.935538  , -71146.97504061,\n",
       "        -70780.78421693, -71019.85076813, -71101.2119435 , -71146.98514288,\n",
       "        -70854.16959676, -70931.32125644, -70941.83666497, -70658.06347094,\n",
       "        -71057.86979867, -70971.82862957, -70946.98308998, -70916.71731428,\n",
       "        -70997.46869981, -71003.01260057, -70923.61691842, -70710.16945972,\n",
       "        -71222.95497307, -71136.92202374, -70599.27704847, -70925.36459136,\n",
       "        -70833.05371701, -71197.78294843, -70943.61545367, -71229.94606632,\n",
       "        -71071.50891639, -71307.574947  , -70918.1572882 , -71027.85686349,\n",
       "        -71078.52891179, -71137.6333783 , -71200.44749193, -70809.47221171,\n",
       "        -70968.6638522 , -71096.74410548, -71064.43399914, -71249.54820883,\n",
       "        -70786.46578164, -71045.17751899, -71038.27639879, -70793.85459916,\n",
       "        -71012.11456225, -70832.12491599, -71170.24348463, -70913.29643117,\n",
       "        -71064.36843772, -71028.5081792 , -70972.4439955 , -71097.38778863,\n",
       "        -70854.84979725, -70962.08400293, -71109.77937776, -70996.11747985,\n",
       "        -71125.03077997, -71023.82551244, -71006.23424827, -70699.11680096,\n",
       "        -70972.49239578, -70873.48904519, -71028.42904118, -71265.06004287]),\n",
       " 'lik_ratio_list': array([ 2.8426128 ,  0.93802493,  0.36415588,  2.47302919,  1.37388039,\n",
       "         1.65604698,  2.89973941, -0.6439936 ,  0.87035618,  3.1661995 ,\n",
       "        -0.13993986, -0.16954078,  2.88113098,  2.62394811,  1.20737998,\n",
       "         0.73498714,  1.38598904,  0.61425073, -1.54758736,  2.27128693,\n",
       "         2.89730634,  1.70844015,  1.54902955,  1.47837274,  3.59491857,\n",
       "         1.11388692, -0.92021458, -1.01179739, -2.07889194,  0.85253609,\n",
       "         2.15212619,  0.21620271,  2.41934152, -0.40875511,  1.13435886,\n",
       "         1.5736733 , -0.53448587,  1.17458069,  5.4173393 ,  2.33453489,\n",
       "        -3.3701308 , -0.62184402,  1.35503277,  1.11641608,  0.43948647,\n",
       "        -0.19576167,  0.53683317, -1.74168187,  2.73755823,  1.16287555,\n",
       "         0.24139284,  2.19107433, -1.25006238,  0.14841152, -1.86025414,\n",
       "        -0.11902662, -1.28893484,  1.52509079, -2.20227825,  0.68379054,\n",
       "         1.82166113,  1.75738994,  1.61070234,  0.97854647, -0.67574002,\n",
       "         3.33416883,  1.40608468,  0.68482406,  1.21976678,  2.27565631,\n",
       "         0.19416397,  0.10067013,  1.46259197,  3.13036637,  2.81757319,\n",
       "         4.84891866, -0.64086211,  0.3628286 ,  2.23945752, -1.00190805,\n",
       "         3.95349422, -0.94161703,  0.38172715,  1.78908532, -0.18009843,\n",
       "        -0.42315593,  1.85643125,  2.99284553, -1.71819414,  3.88265153,\n",
       "         1.50291503,  2.86807885, -0.71441362,  3.19965993,  0.18951622,\n",
       "        -2.19649444,  0.76160964,  3.14710811,  1.83825983,  2.21983691]),\n",
       " 'lik_ratio_norm_list': array([ 0.02842613,  0.00938025,  0.00364156,  0.02473029,  0.0137388 ,\n",
       "         0.01656047,  0.02899739, -0.00643994,  0.00870356,  0.031662  ,\n",
       "        -0.0013994 , -0.00169541,  0.02881131,  0.02623948,  0.0120738 ,\n",
       "         0.00734987,  0.01385989,  0.00614251, -0.01547587,  0.02271287,\n",
       "         0.02897306,  0.0170844 ,  0.0154903 ,  0.01478373,  0.03594919,\n",
       "         0.01113887, -0.00920215, -0.01011797, -0.02078892,  0.00852536,\n",
       "         0.02152126,  0.00216203,  0.02419342, -0.00408755,  0.01134359,\n",
       "         0.01573673, -0.00534486,  0.01174581,  0.05417339,  0.02334535,\n",
       "        -0.03370131, -0.00621844,  0.01355033,  0.01116416,  0.00439486,\n",
       "        -0.00195762,  0.00536833, -0.01741682,  0.02737558,  0.01162876,\n",
       "         0.00241393,  0.02191074, -0.01250062,  0.00148412, -0.01860254,\n",
       "        -0.00119027, -0.01288935,  0.01525091, -0.02202278,  0.00683791,\n",
       "         0.01821661,  0.0175739 ,  0.01610702,  0.00978546, -0.0067574 ,\n",
       "         0.03334169,  0.01406085,  0.00684824,  0.01219767,  0.02275656,\n",
       "         0.00194164,  0.0010067 ,  0.01462592,  0.03130366,  0.02817573,\n",
       "         0.04848919, -0.00640862,  0.00362829,  0.02239458, -0.01001908,\n",
       "         0.03953494, -0.00941617,  0.00381727,  0.01789085, -0.00180098,\n",
       "        -0.00423156,  0.01856431,  0.02992846, -0.01718194,  0.03882652,\n",
       "         0.01502915,  0.02868079, -0.00714414,  0.0319966 ,  0.00189516,\n",
       "        -0.02196494,  0.0076161 ,  0.03147108,  0.0183826 ,  0.02219837])}"
      ]
     },
     "execution_count": 24,
     "metadata": {},
     "output_type": "execute_result"
    }
   ],
   "source": [
    "LRMetric.Test_tf()\n",
    "LRMetric.Results[-1].result_value"
   ]
  },
  {
   "cell_type": "markdown",
   "metadata": {},
   "source": [
    "### MultiKS Test"
   ]
  },
  {
   "cell_type": "code",
   "execution_count": 7,
   "metadata": {},
   "outputs": [
    {
     "name": "stdout",
     "output_type": "stream",
     "text": [
      "\n",
      "------------------------------------------\n",
      "Starting MultiKS tests calculation...\n",
      "Running TF MultiKS tests...\n",
      "niter = 100\n",
      "batch_size = 100000\n",
      "The dist_1_num tensor is empty. Batches will be generated 'on-the-fly' from dist_1_symb.\n",
      "The dist_2_num tensor is empty. Batches will be generated 'on-the-fly' from dist_2_symb.\n"
     ]
    }
   ],
   "source": [
    "MultiKSTest.Test_tf()\n",
    "MultiKSTest.Results[-1].result_value"
   ]
  },
  {
   "cell_type": "markdown",
   "metadata": {},
   "source": [
    "### SKS Test"
   ]
  },
  {
   "cell_type": "code",
   "execution_count": 8,
   "metadata": {},
   "outputs": [
    {
     "name": "stdout",
     "output_type": "stream",
     "text": [
      "\n",
      "------------------------------------------\n",
      "Starting SKS metric calculation...\n",
      "Running TF SKS calculation...\n",
      "niter = 100\n",
      "batch_size = 10000\n",
      "The dist_1_num tensor is empty. Batches will be generated 'on-the-fly' from dist_1_symb.\n",
      "The dist_2_num tensor is empty. Batches will be generated 'on-the-fly' from dist_2_symb.\n",
      "WARNING:tensorflow:Using a while_loop for converting TopKV2\n",
      "WARNING:tensorflow:Using a while_loop for converting TopKV2\n",
      "WARNING:tensorflow:Using a while_loop for converting StridedSlice\n",
      "WARNING:tensorflow:Using a while_loop for converting StridedSlice\n",
      "WARNING:tensorflow:Using a while_loop for converting StridedSlice\n",
      "WARNING:tensorflow:Using a while_loop for converting StridedSlice\n",
      "WARNING:tensorflow:Using a while_loop for converting StridedSlice\n",
      "WARNING:tensorflow:Using a while_loop for converting StridedSlice\n",
      "WARNING:tensorflow:Using a while_loop for converting TopKV2\n",
      "WARNING:tensorflow:Using a while_loop for converting TopKV2\n",
      "WARNING:tensorflow:Using a while_loop for converting StridedSlice\n",
      "WARNING:tensorflow:Using a while_loop for converting StridedSlice\n",
      "WARNING:tensorflow:Using a while_loop for converting StridedSlice\n",
      "WARNING:tensorflow:Using a while_loop for converting StridedSlice\n",
      "SKS metric calculation completed in 21.715895311906934 seconds.\n"
     ]
    },
    {
     "data": {
      "text/plain": [
       "{'metric_lists': array([[0.01480001, 0.0081    , 0.02020001, ..., 0.00940001, 0.01130003,\n",
       "         0.01370001],\n",
       "        [0.01749998, 0.00820005, 0.01180001, ..., 0.00749999, 0.00980002,\n",
       "         0.01990002],\n",
       "        [0.0126    , 0.00770003, 0.00690001, ..., 0.00929999, 0.01050001,\n",
       "         0.00749999],\n",
       "        ...,\n",
       "        [0.01059997, 0.0104    , 0.01269996, ..., 0.008     , 0.00910002,\n",
       "         0.01250002],\n",
       "        [0.00620002, 0.01069999, 0.01090002, ..., 0.0117    , 0.0115    ,\n",
       "         0.0068    ],\n",
       "        [0.00850001, 0.00849999, 0.01350003, ..., 0.0104    , 0.00850004,\n",
       "         0.011     ]]),\n",
       " 'metric_means': array([0.013364  , 0.01318601, 0.010608  , 0.01182601, 0.010928  ,\n",
       "        0.01169   , 0.01253501, 0.010403  , 0.01191501, 0.01304801,\n",
       "        0.01092601, 0.01294501, 0.01307001, 0.01467801, 0.012637  ,\n",
       "        0.01331901, 0.011416  , 0.012247  , 0.01134401, 0.01031401,\n",
       "        0.01228901, 0.011523  , 0.012047  , 0.014114  , 0.01319401,\n",
       "        0.010371  , 0.01294501, 0.011111  , 0.011848  , 0.012937  ,\n",
       "        0.01237301, 0.011516  , 0.01130701, 0.01466101, 0.012284  ,\n",
       "        0.01366801, 0.014627  , 0.01389201, 0.01118501, 0.012847  ,\n",
       "        0.01087601, 0.011017  , 0.01067501, 0.012355  , 0.012615  ,\n",
       "        0.01201301, 0.014506  , 0.01113201, 0.01162301, 0.01115101,\n",
       "        0.010957  , 0.011916  , 0.010583  , 0.012405  , 0.01075401,\n",
       "        0.011721  , 0.01292701, 0.010926  , 0.01218301, 0.011772  ,\n",
       "        0.01352301, 0.01495701, 0.011019  , 0.013475  , 0.01219   ,\n",
       "        0.013462  , 0.013067  , 0.010401  , 0.01453101, 0.010656  ,\n",
       "        0.01303601, 0.012682  , 0.01329001, 0.013875  , 0.013413  ,\n",
       "        0.012801  , 0.01423601, 0.011682  , 0.01301001, 0.010547  ,\n",
       "        0.01289601, 0.013795  , 0.0125    , 0.01250001, 0.013196  ,\n",
       "        0.012521  , 0.01066901, 0.01185601, 0.01166401, 0.01103101,\n",
       "        0.011966  , 0.012547  , 0.01163201, 0.011531  , 0.01463301,\n",
       "        0.01618   , 0.01195101, 0.011039  , 0.009769  , 0.010261  ]),\n",
       " 'metric_stds': array([0.00398423, 0.00409575, 0.00218517, 0.00323885, 0.00239132,\n",
       "        0.00278117, 0.00405049, 0.0024672 , 0.00340374, 0.00409083,\n",
       "        0.002591  , 0.00382927, 0.00329719, 0.00486226, 0.00360016,\n",
       "        0.00366646, 0.00279756, 0.00286707, 0.00303323, 0.00258805,\n",
       "        0.00310921, 0.00259032, 0.00331274, 0.00445727, 0.00358934,\n",
       "        0.00238337, 0.00380532, 0.00284693, 0.00336293, 0.00317936,\n",
       "        0.0031508 , 0.00258181, 0.00305307, 0.00433378, 0.00343513,\n",
       "        0.00373944, 0.00464545, 0.00336541, 0.00301206, 0.00394275,\n",
       "        0.00260239, 0.00219418, 0.00264966, 0.00320379, 0.00352435,\n",
       "        0.00328407, 0.00505822, 0.00285898, 0.0025314 , 0.00247615,\n",
       "        0.00280753, 0.0036468 , 0.00241703, 0.00309175, 0.00275697,\n",
       "        0.00296716, 0.00328615, 0.00260675, 0.00360425, 0.00307194,\n",
       "        0.00332953, 0.00473986, 0.00268062, 0.0038806 , 0.00383185,\n",
       "        0.00446773, 0.00342628, 0.00264838, 0.00430553, 0.00251274,\n",
       "        0.00373983, 0.00382155, 0.00371593, 0.004452  , 0.00409015,\n",
       "        0.00373099, 0.00485665, 0.00280526, 0.00344449, 0.00234616,\n",
       "        0.00341165, 0.00403637, 0.00425248, 0.00310474, 0.00389751,\n",
       "        0.00357377, 0.00235698, 0.0033027 , 0.00311649, 0.00251339,\n",
       "        0.003384  , 0.00334268, 0.00265864, 0.00349324, 0.00451683,\n",
       "        0.00563407, 0.0036946 , 0.00269288, 0.00227348, 0.00241768])}"
      ]
     },
     "execution_count": 8,
     "metadata": {},
     "output_type": "execute_result"
    }
   ],
   "source": [
    "#tf.config.run_functions_eagerly(True)#\n",
    "SKSTest.Test_tf(max_vectorize=100)\n",
    "SKSTest.Results[-1].result_value"
   ]
  },
  {
   "cell_type": "code",
   "execution_count": 9,
   "metadata": {},
   "outputs": [
    {
     "name": "stdout",
     "output_type": "stream",
     "text": [
      "\n",
      "------------------------------------------\n",
      "Starting SKS metric calculation...\n",
      "Running TF SKS calculation...\n",
      "niter = 100\n",
      "batch_size = 10000\n",
      "The dist_1_num tensor is empty. Batches will be generated 'on-the-fly' from dist_1_symb.\n",
      "The dist_2_num tensor is empty. Batches will be generated 'on-the-fly' from dist_2_symb.\n",
      "nchunks = 5\n",
      "Iterating from 0 to 20 out of 100 .\n",
      "WARNING:tensorflow:Using a while_loop for converting StridedSlice\n",
      "WARNING:tensorflow:Using a while_loop for converting StridedSlice\n",
      "WARNING:tensorflow:Using a while_loop for converting TopKV2\n",
      "WARNING:tensorflow:Using a while_loop for converting TopKV2\n",
      "WARNING:tensorflow:Using a while_loop for converting StridedSlice\n",
      "WARNING:tensorflow:Using a while_loop for converting StridedSlice\n",
      "WARNING:tensorflow:Using a while_loop for converting StridedSlice\n",
      "WARNING:tensorflow:Using a while_loop for converting StridedSlice\n",
      "Iterating from 20 to 40 out of 100 .\n",
      "WARNING:tensorflow:Using a while_loop for converting StridedSlice\n",
      "WARNING:tensorflow:Using a while_loop for converting StridedSlice\n",
      "WARNING:tensorflow:Using a while_loop for converting TopKV2\n",
      "WARNING:tensorflow:Using a while_loop for converting TopKV2\n",
      "WARNING:tensorflow:Using a while_loop for converting StridedSlice\n",
      "WARNING:tensorflow:Using a while_loop for converting StridedSlice\n",
      "WARNING:tensorflow:Using a while_loop for converting StridedSlice\n",
      "WARNING:tensorflow:Using a while_loop for converting StridedSlice\n",
      "Iterating from 40 to 60 out of 100 .\n",
      "WARNING:tensorflow:Using a while_loop for converting StridedSlice\n",
      "WARNING:tensorflow:Using a while_loop for converting StridedSlice\n",
      "WARNING:tensorflow:Using a while_loop for converting TopKV2\n",
      "WARNING:tensorflow:Using a while_loop for converting TopKV2\n",
      "WARNING:tensorflow:Using a while_loop for converting StridedSlice\n",
      "WARNING:tensorflow:Using a while_loop for converting StridedSlice\n",
      "WARNING:tensorflow:Using a while_loop for converting StridedSlice\n",
      "WARNING:tensorflow:Using a while_loop for converting StridedSlice\n",
      "Iterating from 60 to 80 out of 100 .\n",
      "WARNING:tensorflow:Using a while_loop for converting StridedSlice\n",
      "WARNING:tensorflow:Using a while_loop for converting StridedSlice\n",
      "WARNING:tensorflow:Using a while_loop for converting TopKV2\n",
      "WARNING:tensorflow:Using a while_loop for converting TopKV2\n",
      "WARNING:tensorflow:Using a while_loop for converting StridedSlice\n",
      "WARNING:tensorflow:Using a while_loop for converting StridedSlice\n",
      "WARNING:tensorflow:Using a while_loop for converting StridedSlice\n",
      "WARNING:tensorflow:Using a while_loop for converting StridedSlice\n",
      "WARNING:tensorflow:5 out of the last 5 calls to <function pfor.<locals>.f at 0x7fd3ac10c700> triggered tf.function retracing. Tracing is expensive and the excessive number of tracings could be due to (1) creating @tf.function repeatedly in a loop, (2) passing tensors with different shapes, (3) passing Python objects instead of tensors. For (1), please define your @tf.function outside of the loop. For (2), @tf.function has reduce_retracing=True option that can avoid unnecessary retracing. For (3), please refer to https://www.tensorflow.org/guide/function#controlling_retracing and https://www.tensorflow.org/api_docs/python/tf/function for  more details.\n",
      "Iterating from 80 to 100 out of 100 .\n",
      "WARNING:tensorflow:Using a while_loop for converting StridedSlice\n",
      "WARNING:tensorflow:Using a while_loop for converting StridedSlice\n",
      "WARNING:tensorflow:Using a while_loop for converting TopKV2\n",
      "WARNING:tensorflow:Using a while_loop for converting TopKV2\n",
      "WARNING:tensorflow:Using a while_loop for converting StridedSlice\n",
      "WARNING:tensorflow:Using a while_loop for converting StridedSlice\n",
      "WARNING:tensorflow:Using a while_loop for converting StridedSlice\n",
      "WARNING:tensorflow:Using a while_loop for converting StridedSlice\n",
      "WARNING:tensorflow:6 out of the last 6 calls to <function pfor.<locals>.f at 0x7fd3ac10caf0> triggered tf.function retracing. Tracing is expensive and the excessive number of tracings could be due to (1) creating @tf.function repeatedly in a loop, (2) passing tensors with different shapes, (3) passing Python objects instead of tensors. For (1), please define your @tf.function outside of the loop. For (2), @tf.function has reduce_retracing=True option that can avoid unnecessary retracing. For (3), please refer to https://www.tensorflow.org/guide/function#controlling_retracing and https://www.tensorflow.org/api_docs/python/tf/function for  more details.\n",
      "SKS metric calculation completed in 37.79218263179064 seconds.\n"
     ]
    },
    {
     "data": {
      "text/plain": [
       "{'metric_lists': array([[0.01300001, 0.02380002, 0.01480001, ..., 0.01650003, 0.01320004,\n",
       "         0.01280001],\n",
       "        [0.01490003, 0.0147    , 0.00690001, ..., 0.014     , 0.00620002,\n",
       "         0.00929999],\n",
       "        [0.01560003, 0.02020001, 0.0133    , ..., 0.0147    , 0.01720001,\n",
       "         0.00909999],\n",
       "        ...,\n",
       "        [0.00920001, 0.0086    , 0.01780003, ..., 0.0134    , 0.0126    ,\n",
       "         0.0194    ],\n",
       "        [0.01020002, 0.01820004, 0.02340001, ..., 0.01450002, 0.01920001,\n",
       "         0.0108    ],\n",
       "        [0.00929999, 0.00979996, 0.0112    , ..., 0.00690001, 0.01749998,\n",
       "         0.0079    ]]),\n",
       " 'metric_means': array([0.01275901, 0.010881  , 0.01321701, 0.014297  , 0.011023  ,\n",
       "        0.01068801, 0.012679  , 0.01009201, 0.013536  , 0.011056  ,\n",
       "        0.01144001, 0.01325601, 0.01402801, 0.01183201, 0.01072601,\n",
       "        0.014323  , 0.013275  , 0.011977  , 0.01152601, 0.01221601,\n",
       "        0.01359301, 0.015167  , 0.01141901, 0.01151   , 0.011964  ,\n",
       "        0.01425701, 0.01252001, 0.011513  , 0.012054  , 0.012681  ,\n",
       "        0.012661  , 0.014152  , 0.00939   , 0.01138801, 0.010917  ,\n",
       "        0.012466  , 0.013801  , 0.013381  , 0.01053601, 0.013001  ,\n",
       "        0.01260101, 0.01628301, 0.011606  , 0.01236901, 0.013165  ,\n",
       "        0.013524  , 0.011236  , 0.01060401, 0.01057501, 0.013086  ,\n",
       "        0.01108001, 0.012224  , 0.01277601, 0.014034  , 0.01720801,\n",
       "        0.013685  , 0.01248601, 0.01546001, 0.01051701, 0.012468  ,\n",
       "        0.011611  , 0.012011  , 0.010916  , 0.012593  , 0.01372   ,\n",
       "        0.011492  , 0.014318  , 0.01191301, 0.01251801, 0.013471  ,\n",
       "        0.012832  , 0.011692  , 0.01115501, 0.01177001, 0.010191  ,\n",
       "        0.01201701, 0.01427501, 0.01201501, 0.01031501, 0.01227401,\n",
       "        0.01292001, 0.01389501, 0.01283401, 0.01080301, 0.011102  ,\n",
       "        0.012912  , 0.01188901, 0.011417  , 0.013987  , 0.01192101,\n",
       "        0.01381401, 0.012607  , 0.01350301, 0.012518  , 0.012084  ,\n",
       "        0.012793  , 0.013129  , 0.012566  , 0.01402801, 0.010459  ]),\n",
       " 'metric_stds': array([0.00308302, 0.00265461, 0.00405162, 0.00481806, 0.00260595,\n",
       "        0.00238287, 0.00386386, 0.00277765, 0.00395276, 0.00258098,\n",
       "        0.00335988, 0.00393229, 0.0046048 , 0.00372521, 0.00234476,\n",
       "        0.00456008, 0.00388068, 0.00337917, 0.00312418, 0.00290571,\n",
       "        0.00374036, 0.0052895 , 0.00263065, 0.00283434, 0.00323164,\n",
       "        0.0045313 , 0.0034829 , 0.00321063, 0.00347072, 0.00364081,\n",
       "        0.0035605 , 0.00426449, 0.00204619, 0.00285696, 0.00294061,\n",
       "        0.00410378, 0.0046427 , 0.00369464, 0.00247494, 0.00390511,\n",
       "        0.00364748, 0.00535451, 0.00317169, 0.00339177, 0.00395432,\n",
       "        0.0042507 , 0.00290005, 0.00247632, 0.00296673, 0.00448568,\n",
       "        0.00282606, 0.00334063, 0.0034322 , 0.00412097, 0.00650838,\n",
       "        0.00380072, 0.00345213, 0.00473875, 0.00240936, 0.00332174,\n",
       "        0.00304447, 0.00325613, 0.00262418, 0.00357279, 0.00352525,\n",
       "        0.00321094, 0.00543011, 0.00284997, 0.00369133, 0.00426292,\n",
       "        0.00296202, 0.00329984, 0.00269635, 0.00247486, 0.00218193,\n",
       "        0.0033824 , 0.0047989 , 0.00313112, 0.00257874, 0.00332044,\n",
       "        0.00364914, 0.00526842, 0.00451436, 0.00239643, 0.0030021 ,\n",
       "        0.00339391, 0.00286443, 0.00328412, 0.00423785, 0.00320797,\n",
       "        0.00409011, 0.00272695, 0.00417996, 0.00365079, 0.00362904,\n",
       "        0.00386922, 0.00326323, 0.00335548, 0.00439172, 0.00340468])}"
      ]
     },
     "execution_count": 9,
     "metadata": {},
     "output_type": "execute_result"
    }
   ],
   "source": [
    "#tf.config.run_functions_eagerly(True)#\n",
    "SKSTest.Test_tf(max_vectorize=20)\n",
    "SKSTest.Results[-1].result_value"
   ]
  },
  {
   "cell_type": "markdown",
   "metadata": {},
   "source": [
    "### SWD Test"
   ]
  },
  {
   "cell_type": "code",
   "execution_count": 10,
   "metadata": {},
   "outputs": [
    {
     "name": "stdout",
     "output_type": "stream",
     "text": [
      "\n",
      "------------------------------------------\n",
      "Starting SWD metric calculation...\n",
      "Running TF SWD calculation...\n",
      "niter = 100\n",
      "batch_size = 10000\n",
      "The dist_1_num tensor is empty. Batches will be generated 'on-the-fly' from dist_1_symb.\n",
      "The dist_2_num tensor is empty. Batches will be generated 'on-the-fly' from dist_2_symb.\n",
      "WARNING:tensorflow:Using a while_loop for converting TopKV2\n",
      "WARNING:tensorflow:Using a while_loop for converting TopKV2\n",
      "WARNING:tensorflow:Using a while_loop for converting StridedSlice\n",
      "WARNING:tensorflow:Using a while_loop for converting StridedSlice\n",
      "WARNING:tensorflow:Using a while_loop for converting TopKV2\n",
      "WARNING:tensorflow:Using a while_loop for converting TopKV2\n",
      "SWD metric calculation completed in 12.050446098670363 seconds.\n"
     ]
    },
    {
     "data": {
      "text/plain": [
       "{'metric_lists': array([[0.03162819, 0.01378654, 0.04088677, ..., 0.01345777, 0.0194596 ,\n",
       "         0.0216528 ],\n",
       "        [0.02483566, 0.00997102, 0.01615505, ..., 0.01193278, 0.01140177,\n",
       "         0.02853671],\n",
       "        [0.0173473 , 0.01196029, 0.00882089, ..., 0.00979251, 0.01519314,\n",
       "         0.01147516],\n",
       "        ...,\n",
       "        [0.01455991, 0.01299323, 0.01789068, ..., 0.01131896, 0.01421481,\n",
       "         0.02169172],\n",
       "        [0.00881808, 0.01586686, 0.01922807, ..., 0.01472376, 0.01762778,\n",
       "         0.01080257],\n",
       "        [0.01468322, 0.01230006, 0.01595806, ..., 0.01449617, 0.01777882,\n",
       "         0.02153003]]),\n",
       " 'metric_means': array([0.02305994, 0.01961933, 0.01494935, 0.0165957 , 0.01540153,\n",
       "        0.01630492, 0.01844658, 0.01457396, 0.01850644, 0.01928812,\n",
       "        0.01594006, 0.02060427, 0.02165779, 0.02243471, 0.01922148,\n",
       "        0.01927906, 0.01618883, 0.01797778, 0.01694674, 0.0133173 ,\n",
       "        0.01801064, 0.01667891, 0.01798509, 0.0216246 , 0.02078888,\n",
       "        0.01405203, 0.01992054, 0.01662078, 0.01706411, 0.01834784,\n",
       "        0.01787186, 0.01713515, 0.01617851, 0.022734  , 0.01846098,\n",
       "        0.02060091, 0.02292708, 0.02137609, 0.01580107, 0.01877998,\n",
       "        0.01524537, 0.01592309, 0.01579601, 0.0179929 , 0.0190593 ,\n",
       "        0.01808305, 0.02180968, 0.01582173, 0.01747413, 0.01600491,\n",
       "        0.01527698, 0.01781573, 0.01531454, 0.01882719, 0.01529326,\n",
       "        0.01640276, 0.02038875, 0.01561676, 0.01835168, 0.01602812,\n",
       "        0.02200146, 0.02383601, 0.01496166, 0.02142702, 0.01872058,\n",
       "        0.02054384, 0.01930544, 0.01477692, 0.0232915 , 0.0154562 ,\n",
       "        0.01909682, 0.01755304, 0.01872927, 0.02209511, 0.01903126,\n",
       "        0.01909357, 0.02249596, 0.017382  , 0.01855387, 0.01534199,\n",
       "        0.0185278 , 0.02072178, 0.01756247, 0.01888993, 0.01980069,\n",
       "        0.01826574, 0.01646102, 0.01743316, 0.01683188, 0.01610309,\n",
       "        0.01753039, 0.01764176, 0.01803107, 0.01630083, 0.02395228,\n",
       "        0.02660848, 0.01754645, 0.01531494, 0.01459603, 0.01500124]),\n",
       " 'metric_stds': array([0.00883338, 0.00651494, 0.00330143, 0.00505904, 0.00335219,\n",
       "        0.00400665, 0.00673885, 0.00339337, 0.00612398, 0.00719886,\n",
       "        0.00374815, 0.00801547, 0.00667756, 0.00799177, 0.00720865,\n",
       "        0.00621151, 0.00340841, 0.00423982, 0.00473269, 0.00289166,\n",
       "        0.00449361, 0.00357011, 0.00566842, 0.00792682, 0.00714902,\n",
       "        0.00297284, 0.00785918, 0.00467091, 0.00531607, 0.00473898,\n",
       "        0.00543425, 0.00430902, 0.00418635, 0.00744358, 0.00606241,\n",
       "        0.0067457 , 0.00760325, 0.00607196, 0.00438699, 0.00634352,\n",
       "        0.00344495, 0.00381064, 0.00524605, 0.00580289, 0.00548152,\n",
       "        0.00482477, 0.00772715, 0.00335109, 0.00389947, 0.00375201,\n",
       "        0.00403687, 0.00568161, 0.00303375, 0.0055329 , 0.00343703,\n",
       "        0.00402932, 0.00697293, 0.00368026, 0.00669149, 0.00469194,\n",
       "        0.00712013, 0.01061291, 0.00358996, 0.00804891, 0.00619058,\n",
       "        0.00735256, 0.0053046 , 0.0035603 , 0.00758654, 0.00395875,\n",
       "        0.00597394, 0.00552955, 0.0056484 , 0.00806465, 0.00536068,\n",
       "        0.0058394 , 0.00901163, 0.00454858, 0.00518957, 0.00339376,\n",
       "        0.00496316, 0.00641745, 0.00657528, 0.00569698, 0.006477  ,\n",
       "        0.0056518 , 0.00381265, 0.0049435 , 0.00489872, 0.0039631 ,\n",
       "        0.00521876, 0.00491585, 0.00438973, 0.00500422, 0.00958763,\n",
       "        0.01226347, 0.00572972, 0.00349081, 0.00351004, 0.00343092])}"
      ]
     },
     "execution_count": 10,
     "metadata": {},
     "output_type": "execute_result"
    }
   ],
   "source": [
    "SWDMetric.Test_tf(max_vectorize=100)\n",
    "SWDMetric.Results[-1].result_value"
   ]
  },
  {
   "cell_type": "code",
   "execution_count": 11,
   "metadata": {},
   "outputs": [
    {
     "name": "stdout",
     "output_type": "stream",
     "text": [
      "\n",
      "------------------------------------------\n",
      "Starting SWD metric calculation...\n",
      "Running TF SWD calculation...\n",
      "niter = 100\n",
      "batch_size = 10000\n",
      "The dist_1_num tensor is empty. Batches will be generated 'on-the-fly' from dist_1_symb.\n",
      "The dist_2_num tensor is empty. Batches will be generated 'on-the-fly' from dist_2_symb.\n",
      "nchunks = 5\n",
      "Iterating from 0 to 20 out of 100 .\n",
      "WARNING:tensorflow:5 out of the last 13 calls to <function generate_and_clean_data_simple_1 at 0x7fd4c0c1fb80> triggered tf.function retracing. Tracing is expensive and the excessive number of tracings could be due to (1) creating @tf.function repeatedly in a loop, (2) passing tensors with different shapes, (3) passing Python objects instead of tensors. For (1), please define your @tf.function outside of the loop. For (2), @tf.function has reduce_retracing=True option that can avoid unnecessary retracing. For (3), please refer to https://www.tensorflow.org/guide/function#controlling_retracing and https://www.tensorflow.org/api_docs/python/tf/function for  more details.\n",
      "WARNING:tensorflow:Using a while_loop for converting StridedSlice\n",
      "WARNING:tensorflow:Using a while_loop for converting StridedSlice\n",
      "WARNING:tensorflow:Using a while_loop for converting TopKV2\n",
      "WARNING:tensorflow:Using a while_loop for converting TopKV2\n",
      "Iterating from 20 to 40 out of 100 .\n",
      "WARNING:tensorflow:Using a while_loop for converting StridedSlice\n",
      "WARNING:tensorflow:Using a while_loop for converting StridedSlice\n",
      "WARNING:tensorflow:Using a while_loop for converting TopKV2\n",
      "WARNING:tensorflow:Using a while_loop for converting TopKV2\n",
      "Iterating from 40 to 60 out of 100 .\n",
      "WARNING:tensorflow:Using a while_loop for converting StridedSlice\n",
      "WARNING:tensorflow:Using a while_loop for converting StridedSlice\n",
      "WARNING:tensorflow:Using a while_loop for converting TopKV2\n",
      "WARNING:tensorflow:Using a while_loop for converting TopKV2\n",
      "Iterating from 60 to 80 out of 100 .\n",
      "WARNING:tensorflow:Using a while_loop for converting StridedSlice\n",
      "WARNING:tensorflow:Using a while_loop for converting StridedSlice\n",
      "WARNING:tensorflow:Using a while_loop for converting TopKV2\n",
      "WARNING:tensorflow:Using a while_loop for converting TopKV2\n",
      "Iterating from 80 to 100 out of 100 .\n",
      "WARNING:tensorflow:Using a while_loop for converting StridedSlice\n",
      "WARNING:tensorflow:Using a while_loop for converting StridedSlice\n",
      "WARNING:tensorflow:Using a while_loop for converting TopKV2\n",
      "WARNING:tensorflow:Using a while_loop for converting TopKV2\n",
      "SWD metric calculation completed in 16.791635151021183 seconds.\n"
     ]
    },
    {
     "data": {
      "text/plain": [
       "{'metric_lists': array([[0.01696587, 0.02975092, 0.02688201, ..., 0.02597215, 0.0236831 ,\n",
       "         0.02127402],\n",
       "        [0.02650608, 0.01575183, 0.01021158, ..., 0.01528896, 0.01000004,\n",
       "         0.01347874],\n",
       "        [0.0209232 , 0.03094118, 0.02536397, ..., 0.02210008, 0.03162633,\n",
       "         0.01020194],\n",
       "        ...,\n",
       "        [0.01723425, 0.01339058, 0.02342225, ..., 0.01498974, 0.01863742,\n",
       "         0.02494219],\n",
       "        [0.01238241, 0.03199633, 0.03446509, ..., 0.03018332, 0.02660104,\n",
       "         0.01802572],\n",
       "        [0.01440825, 0.0148892 , 0.02190768, ..., 0.01191863, 0.02190961,\n",
       "         0.01231276]]),\n",
       " 'metric_means': array([0.01950023, 0.01492762, 0.02101212, 0.02384391, 0.015534  ,\n",
       "        0.01536133, 0.01964435, 0.0141888 , 0.02125429, 0.01662639,\n",
       "        0.01604551, 0.01992048, 0.02194673, 0.01654004, 0.01568991,\n",
       "        0.02131496, 0.01978949, 0.01712843, 0.01735812, 0.01763901,\n",
       "        0.02116491, 0.02315418, 0.01630083, 0.0159796 , 0.0177388 ,\n",
       "        0.0212523 , 0.01761649, 0.01691869, 0.01770303, 0.01797443,\n",
       "        0.01842125, 0.02085412, 0.01383796, 0.01560213, 0.01528995,\n",
       "        0.02004502, 0.02286402, 0.02124587, 0.01491129, 0.01942291,\n",
       "        0.01920123, 0.02672663, 0.01587333, 0.01880981, 0.01909229,\n",
       "        0.02040528, 0.01713404, 0.01518317, 0.01636406, 0.01962305,\n",
       "        0.01698492, 0.01838916, 0.01970241, 0.02274118, 0.02782675,\n",
       "        0.01968343, 0.01831274, 0.0233959 , 0.01505837, 0.01760899,\n",
       "        0.0160776 , 0.01837381, 0.01578789, 0.01833299, 0.02241819,\n",
       "        0.01651901, 0.02329413, 0.01780683, 0.01863783, 0.02004249,\n",
       "        0.0178446 , 0.01752921, 0.01534226, 0.01731221, 0.01377555,\n",
       "        0.01798844, 0.02225234, 0.01826119, 0.01524395, 0.01752569,\n",
       "        0.0187409 , 0.0214601 , 0.01998769, 0.01584352, 0.01617757,\n",
       "        0.01971341, 0.01803454, 0.01679413, 0.02027314, 0.01826824,\n",
       "        0.02201832, 0.01817507, 0.01965619, 0.01943965, 0.01842214,\n",
       "        0.01910406, 0.02087621, 0.0178268 , 0.021904  , 0.01476553]),\n",
       " 'metric_stds': array([0.00519433, 0.00338607, 0.00780318, 0.00948699, 0.00345332,\n",
       "        0.00316395, 0.00706049, 0.00337655, 0.00704218, 0.00401366,\n",
       "        0.00446597, 0.00674263, 0.00827788, 0.0048718 , 0.00364364,\n",
       "        0.00773005, 0.00575778, 0.00456693, 0.00536735, 0.00454898,\n",
       "        0.00590557, 0.00939155, 0.00345303, 0.00408004, 0.00528137,\n",
       "        0.00829769, 0.00473933, 0.00479765, 0.00542141, 0.00595727,\n",
       "        0.00540993, 0.00651302, 0.00282534, 0.00343912, 0.00368078,\n",
       "        0.00802513, 0.00974154, 0.00624302, 0.0033495 , 0.006645  ,\n",
       "        0.0059694 , 0.01038327, 0.00410184, 0.00508598, 0.0052514 ,\n",
       "        0.00816567, 0.00524159, 0.00354963, 0.00500819, 0.00727407,\n",
       "        0.00456357, 0.00523826, 0.00594806, 0.00751803, 0.01189281,\n",
       "        0.00544533, 0.00478097, 0.00905355, 0.00360466, 0.00507564,\n",
       "        0.00418382, 0.00507571, 0.00348972, 0.00591834, 0.00769037,\n",
       "        0.00422636, 0.0109662 , 0.00454522, 0.00613195, 0.00678137,\n",
       "        0.00489692, 0.00464897, 0.00326447, 0.00397905, 0.00262197,\n",
       "        0.00556063, 0.00818646, 0.00540773, 0.00417705, 0.00565932,\n",
       "        0.00580401, 0.00906351, 0.0072276 , 0.00333742, 0.00457326,\n",
       "        0.00558499, 0.00443898, 0.00448336, 0.00643858, 0.00676554,\n",
       "        0.0070244 , 0.00437201, 0.00680502, 0.00772823, 0.00579763,\n",
       "        0.00682338, 0.00545895, 0.00463813, 0.0081049 , 0.00473124])}"
      ]
     },
     "execution_count": 11,
     "metadata": {},
     "output_type": "execute_result"
    }
   ],
   "source": [
    "SWDMetric.Test_tf(max_vectorize=20)\n",
    "SWDMetric.Results[-1].result_value"
   ]
  },
  {
   "cell_type": "markdown",
   "metadata": {},
   "source": [
    "## TensorFlow backend - w/ MirroredStrategy"
   ]
  },
  {
   "cell_type": "code",
   "execution_count": 12,
   "metadata": {},
   "outputs": [
    {
     "name": "stdout",
     "output_type": "stream",
     "text": [
      "Parsing input distribution...\n",
      "Input distribution is a tfp.distributions.Distribution object.\n",
      "Parsing input distribution...\n",
      "Input distribution is a tfp.distributions.Distribution object.\n",
      "Checking and setting numerical distributions.\n",
      "Resetting dist_num.\n",
      "Resetting dist_num.\n",
      "nsamples 1000000\n",
      "batch_size 10000\n",
      "niter 100\n",
      "niter * batch_size 1000000\n",
      "small_sample False\n"
     ]
    }
   ],
   "source": [
    "TwoSampleTestInputs = GMetrics.TwoSampleTestInputs(dist_1_input = dist_1,\n",
    "                                                   dist_2_input = dist_2,\n",
    "                                                   niter = 100,\n",
    "                                                   batch_size_test = 10_000,\n",
    "                                                   batch_size_gen = 100,\n",
    "                                                   small_sample_threshold = 1e6,\n",
    "                                                   dtype_input = tf.float64,\n",
    "                                                   seed_input = 0,\n",
    "                                                   use_tf = True,\n",
    "                                                   mirror_strategy = True,\n",
    "                                                   verbose = True)\n",
    "print(\"nsamples\",TwoSampleTestInputs.nsamples)\n",
    "print(\"batch_size\",TwoSampleTestInputs.batch_size_test)\n",
    "print(\"niter\",TwoSampleTestInputs.niter)\n",
    "print(\"niter * batch_size\",TwoSampleTestInputs.niter*TwoSampleTestInputs.batch_size_test)\n",
    "print(\"small_sample\",TwoSampleTestInputs.small_sample)"
   ]
  },
  {
   "cell_type": "code",
   "execution_count": 13,
   "metadata": {},
   "outputs": [
    {
     "data": {
      "text/plain": [
       "<tf.Tensor: shape=(1, 0), dtype=float64, numpy=array([], shape=(1, 0), dtype=float64)>"
      ]
     },
     "execution_count": 13,
     "metadata": {},
     "output_type": "execute_result"
    }
   ],
   "source": [
    "TwoSampleTestInputs.dist_1_num"
   ]
  },
  {
   "cell_type": "code",
   "execution_count": 14,
   "metadata": {},
   "outputs": [
    {
     "data": {
      "text/plain": [
       "<tf.Tensor: shape=(1, 0), dtype=float64, numpy=array([], shape=(1, 0), dtype=float64)>"
      ]
     },
     "execution_count": 14,
     "metadata": {},
     "output_type": "execute_result"
    }
   ],
   "source": [
    "TwoSampleTestInputs.dist_2_num"
   ]
  },
  {
   "cell_type": "code",
   "execution_count": 15,
   "metadata": {},
   "outputs": [
    {
     "name": "stdout",
     "output_type": "stream",
     "text": [
      "Generating random directions based on nslices, ndims, and seed_slicing.\n",
      "Generating random directions based on nslices, ndims, and seed_slicing.\n"
     ]
    }
   ],
   "source": [
    "FNMetric = GMetrics.FNMetric(TwoSampleTestInputs,\n",
    "                             progress_bar = True,\n",
    "                             verbose = True)\n",
    "KSTest = GMetrics.KSTest(TwoSampleTestInputs,\n",
    "                         progress_bar = True,\n",
    "                         verbose = True)\n",
    "LRMetric = GMetrics.LRMetric(TwoSampleTestInputs,\n",
    "                             progress_bar = True,\n",
    "                             verbose = True)\n",
    "MultiKSTest = GMetrics.MultiKSTest(TwoSampleTestInputs,\n",
    "                                   progress_bar = True,\n",
    "                                   verbose = True)\n",
    "SKSTest = GMetrics.SKSTest(TwoSampleTestInputs,\n",
    "                           nslices = 100,\n",
    "                           seed_slicing = 0,\n",
    "                           progress_bar = True,\n",
    "                           verbose = True)\n",
    "SWDMetric = GMetrics.SWDMetric(TwoSampleTestInputs,\n",
    "                               nslices = 100,\n",
    "                               seed_slicing = 0,\n",
    "                               progress_bar = True,\n",
    "                               verbose = True)"
   ]
  },
  {
   "cell_type": "markdown",
   "metadata": {},
   "source": [
    "### FN Test"
   ]
  },
  {
   "cell_type": "code",
   "execution_count": 16,
   "metadata": {},
   "outputs": [
    {
     "name": "stdout",
     "output_type": "stream",
     "text": [
      "\n",
      "------------------------------------------\n",
      "Starting FN metric calculation...\n",
      "Running TF FN calculation...\n",
      "niter = 100\n",
      "batch_size = 10000\n",
      "The dist_1_num tensor is empty. Batches will be generated 'on-the-fly' from dist_1_symb.\n",
      "The dist_2_num tensor is empty. Batches will be generated 'on-the-fly' from dist_2_symb.\n",
      "INFO:tensorflow:Using MirroredStrategy with devices ('/job:localhost/replica:0/task:0/device:GPU:0',)\n",
      "INFO:tensorflow:Using MirroredStrategy with devices ('/job:localhost/replica:0/task:0/device:GPU:0',)\n",
      "WARNING:tensorflow:Using a while_loop for converting StridedSlice\n",
      "WARNING:tensorflow:Using a while_loop for converting StridedSlice\n",
      "FN metric calculation completed in 21.112920443993062 seconds.\n"
     ]
    },
    {
     "data": {
      "text/plain": [
       "{'metric_list': array([0.05516948, 0.07523884, 0.05139113, 0.06802936, 0.04490469,\n",
       "        0.05978485, 0.0455044 , 0.07092618, 0.05965368, 0.07004246,\n",
       "        0.06199579, 0.074203  , 0.07081407, 0.06162242, 0.05763099,\n",
       "        0.04878653, 0.0440177 , 0.07121686, 0.05928487, 0.05353271,\n",
       "        0.05007546, 0.06046232, 0.06235922, 0.0537009 , 0.05698305,\n",
       "        0.04858227, 0.07860934, 0.08878225, 0.06568089, 0.08181209,\n",
       "        0.03826476, 0.04858537, 0.07847674, 0.09424529, 0.06727678,\n",
       "        0.0746056 , 0.07498207, 0.04279251, 0.06313507, 0.0536917 ,\n",
       "        0.06171695, 0.05284828, 0.06473213, 0.07048272, 0.064618  ,\n",
       "        0.05713674, 0.08083268, 0.03683843, 0.06893184, 0.08803626,\n",
       "        0.0492056 , 0.04397483, 0.05598315, 0.05087937, 0.08014898,\n",
       "        0.03877202, 0.0836444 , 0.04161174, 0.06967698, 0.06442132,\n",
       "        0.07953344, 0.0737494 , 0.08114015, 0.08533532, 0.06960615,\n",
       "        0.0676165 , 0.06053766, 0.05043386, 0.068296  , 0.05128079,\n",
       "        0.05139539, 0.05998076, 0.06316135, 0.045424  , 0.05998852,\n",
       "        0.09643925, 0.04923116, 0.08088672, 0.07624988, 0.06361967,\n",
       "        0.06116866, 0.04583384, 0.05813638, 0.06235454, 0.06157664,\n",
       "        0.05552075, 0.06621632, 0.07644619, 0.07149568, 0.05710282,\n",
       "        0.07427894, 0.06216998, 0.0843995 , 0.05940068, 0.05372449,\n",
       "        0.06506288, 0.05904256, 0.0707203 , 0.050781  , 0.05387319])}"
      ]
     },
     "execution_count": 16,
     "metadata": {},
     "output_type": "execute_result"
    }
   ],
   "source": [
    "FNMetric.Test_tf(max_vectorize = 100)\n",
    "FNMetric.Results[-1].result_value"
   ]
  },
  {
   "cell_type": "code",
   "execution_count": 17,
   "metadata": {},
   "outputs": [
    {
     "name": "stdout",
     "output_type": "stream",
     "text": [
      "\n",
      "------------------------------------------\n",
      "Starting FN metric calculation...\n",
      "Running TF FN calculation...\n",
      "niter = 100\n",
      "batch_size = 10000\n",
      "The dist_1_num tensor is empty. Batches will be generated 'on-the-fly' from dist_1_symb.\n",
      "The dist_2_num tensor is empty. Batches will be generated 'on-the-fly' from dist_2_symb.\n",
      "nchunks = 5\n",
      "Iterating from 0 to 20 out of 100 .\n",
      "INFO:tensorflow:Using MirroredStrategy with devices ('/job:localhost/replica:0/task:0/device:GPU:0',)\n",
      "INFO:tensorflow:Using MirroredStrategy with devices ('/job:localhost/replica:0/task:0/device:GPU:0',)\n",
      "WARNING:tensorflow:Using a while_loop for converting StridedSlice\n",
      "WARNING:tensorflow:Using a while_loop for converting StridedSlice\n",
      "Iterating from 20 to 40 out of 100 .\n",
      "WARNING:tensorflow:Using a while_loop for converting StridedSlice\n",
      "WARNING:tensorflow:Using a while_loop for converting StridedSlice\n",
      "Iterating from 40 to 60 out of 100 .\n",
      "WARNING:tensorflow:Using a while_loop for converting StridedSlice\n",
      "WARNING:tensorflow:Using a while_loop for converting StridedSlice\n",
      "Iterating from 60 to 80 out of 100 .\n",
      "WARNING:tensorflow:Using a while_loop for converting StridedSlice\n",
      "WARNING:tensorflow:Using a while_loop for converting StridedSlice\n",
      "Iterating from 80 to 100 out of 100 .\n",
      "WARNING:tensorflow:Using a while_loop for converting StridedSlice\n",
      "WARNING:tensorflow:Using a while_loop for converting StridedSlice\n",
      "FN metric calculation completed in 22.46244783513248 seconds.\n"
     ]
    },
    {
     "data": {
      "text/plain": [
       "{'metric_list': array([0.05452402, 0.05304218, 0.04884497, 0.05827171, 0.06813584,\n",
       "        0.0578599 , 0.0655281 , 0.05902291, 0.0758386 , 0.07137658,\n",
       "        0.06437424, 0.06101667, 0.05150613, 0.07834832, 0.04646586,\n",
       "        0.03409809, 0.06332212, 0.04656546, 0.05117588, 0.05383656,\n",
       "        0.07197195, 0.05900689, 0.09463766, 0.07333664, 0.06263213,\n",
       "        0.07135769, 0.073785  , 0.05501361, 0.06074989, 0.05249054,\n",
       "        0.07000258, 0.04532946, 0.05612702, 0.05117352, 0.06257506,\n",
       "        0.06356542, 0.09491339, 0.06699292, 0.04492981, 0.09103823,\n",
       "        0.04302169, 0.09187906, 0.0659404 , 0.07321564, 0.059644  ,\n",
       "        0.05031904, 0.07439416, 0.08166692, 0.08396725, 0.05272624,\n",
       "        0.06706975, 0.03746853, 0.06315798, 0.06965421, 0.06656968,\n",
       "        0.05518958, 0.07083439, 0.07465477, 0.03838982, 0.05963312,\n",
       "        0.04399156, 0.05031205, 0.05306584, 0.05351291, 0.07989406,\n",
       "        0.06935564, 0.04512011, 0.05883892, 0.06931485, 0.0589221 ,\n",
       "        0.0450616 , 0.05494645, 0.0904743 , 0.07190736, 0.07053587,\n",
       "        0.05498621, 0.0546066 , 0.06265998, 0.06794189, 0.07960213,\n",
       "        0.0665272 , 0.05773257, 0.05997309, 0.07948458, 0.05088024,\n",
       "        0.05664668, 0.06871792, 0.07260487, 0.06964101, 0.07664785,\n",
       "        0.06527913, 0.06962691, 0.07507132, 0.05270372, 0.05209254,\n",
       "        0.06982623, 0.03303069, 0.08498537, 0.06347269, 0.04759317])}"
      ]
     },
     "execution_count": 17,
     "metadata": {},
     "output_type": "execute_result"
    }
   ],
   "source": [
    "FNMetric.Test_tf(max_vectorize = 20)\n",
    "FNMetric.Results[-1].result_value"
   ]
  },
  {
   "cell_type": "markdown",
   "metadata": {},
   "source": [
    "### KS Test"
   ]
  },
  {
   "cell_type": "code",
   "execution_count": 18,
   "metadata": {},
   "outputs": [
    {
     "name": "stdout",
     "output_type": "stream",
     "text": [
      "\n",
      "------------------------------------------\n",
      "Starting KS tests calculation...\n",
      "Running TF KS tests...\n",
      "niter = 100\n",
      "batch_size = 10000\n",
      "The dist_1_num tensor is empty. Batches will be generated 'on-the-fly' from dist_1_symb.\n",
      "The dist_2_num tensor is empty. Batches will be generated 'on-the-fly' from dist_2_symb.\n",
      "INFO:tensorflow:Using MirroredStrategy with devices ('/job:localhost/replica:0/task:0/device:GPU:0',)\n",
      "INFO:tensorflow:Using MirroredStrategy with devices ('/job:localhost/replica:0/task:0/device:GPU:0',)\n",
      "WARNING:tensorflow:Using a while_loop for converting StridedSlice\n",
      "WARNING:tensorflow:Using a while_loop for converting StridedSlice\n",
      "WARNING:tensorflow:Using a while_loop for converting TopKV2\n",
      "WARNING:tensorflow:Using a while_loop for converting TopKV2\n",
      "WARNING:tensorflow:Using a while_loop for converting StridedSlice\n",
      "WARNING:tensorflow:Using a while_loop for converting StridedSlice\n",
      "WARNING:tensorflow:Using a while_loop for converting StridedSlice\n",
      "WARNING:tensorflow:Using a while_loop for converting StridedSlice\n",
      "KS tests calculation completed in 20.85198868997395 seconds.\n"
     ]
    },
    {
     "data": {
      "text/plain": [
       "{'statistic_lists': array([[0.01480001, 0.01210001, 0.01050001, 0.00950003, 0.00639999],\n",
       "        [0.00929999, 0.01410002, 0.01230001, 0.0107    , 0.0091    ],\n",
       "        [0.01199999, 0.02060002, 0.00950001, 0.01550001, 0.01269999],\n",
       "        [0.00570002, 0.01570001, 0.01210001, 0.01270001, 0.01709998],\n",
       "        [0.01339996, 0.00849999, 0.01600003, 0.01249999, 0.01370001],\n",
       "        [0.01159999, 0.0141    , 0.0086    , 0.01110002, 0.01109999],\n",
       "        [0.01100001, 0.00850001, 0.01370001, 0.01009999, 0.01010001],\n",
       "        [0.01090001, 0.01200002, 0.01090002, 0.01350001, 0.01020002],\n",
       "        [0.00860003, 0.00910002, 0.01750001, 0.00989999, 0.01100004],\n",
       "        [0.01300001, 0.01289999, 0.01389998, 0.00870001, 0.01350001],\n",
       "        [0.00890002, 0.01060003, 0.0097    , 0.01500005, 0.01420003],\n",
       "        [0.01440001, 0.0104    , 0.01340002, 0.0122    , 0.0113    ],\n",
       "        [0.00930002, 0.01639998, 0.01000005, 0.01530004, 0.00710005],\n",
       "        [0.01160002, 0.0088    , 0.01350003, 0.01449999, 0.0088    ],\n",
       "        [0.01390004, 0.01600003, 0.01180001, 0.01099998, 0.0096    ],\n",
       "        [0.01380002, 0.00910002, 0.01789999, 0.01340002, 0.01800001],\n",
       "        [0.01310001, 0.01380002, 0.01030004, 0.0106    , 0.01240003],\n",
       "        [0.01540001, 0.0068    , 0.01340002, 0.00770003, 0.01289999],\n",
       "        [0.0142    , 0.01529998, 0.01089999, 0.01100001, 0.01049995],\n",
       "        [0.01289999, 0.01359999, 0.0096    , 0.01749998, 0.00960001],\n",
       "        [0.01779997, 0.0072    , 0.00830001, 0.01069999, 0.0201    ],\n",
       "        [0.01929998, 0.01089996, 0.01370001, 0.0158    , 0.0108    ],\n",
       "        [0.01790005, 0.01239997, 0.0122    , 0.01459998, 0.01090002],\n",
       "        [0.01300001, 0.01539999, 0.01370001, 0.01489997, 0.00799999],\n",
       "        [0.0097    , 0.0091    , 0.01280001, 0.00920001, 0.01810002],\n",
       "        [0.0131    , 0.00829995, 0.00870001, 0.01449996, 0.02039999],\n",
       "        [0.00929999, 0.0078    , 0.0147    , 0.01269999, 0.01289999],\n",
       "        [0.0133    , 0.0108    , 0.01019999, 0.01370001, 0.01060003],\n",
       "        [0.0063    , 0.0126    , 0.01020002, 0.0105    , 0.00870001],\n",
       "        [0.00830001, 0.00740004, 0.0086    , 0.0093    , 0.01320004],\n",
       "        [0.01030004, 0.00780004, 0.00739999, 0.01650001, 0.0082    ],\n",
       "        [0.01719999, 0.01070005, 0.0079    , 0.0112    , 0.01050001],\n",
       "        [0.0098    , 0.0151    , 0.0079    , 0.02560002, 0.00830001],\n",
       "        [0.00880003, 0.00830001, 0.01050001, 0.0124    , 0.01500002],\n",
       "        [0.01409996, 0.01140001, 0.01209998, 0.01420003, 0.01310003],\n",
       "        [0.00750005, 0.01120001, 0.00929999, 0.00950003, 0.0079    ],\n",
       "        [0.01209998, 0.00929999, 0.009     , 0.0134    , 0.01300001],\n",
       "        [0.01060003, 0.0103    , 0.01629999, 0.0075    , 0.0124    ],\n",
       "        [0.01359999, 0.00880003, 0.0108    , 0.00840002, 0.00999999],\n",
       "        [0.0123    , 0.01230001, 0.01069999, 0.01709998, 0.01809999],\n",
       "        [0.0108    , 0.00950003, 0.01640001, 0.01170003, 0.01320004],\n",
       "        [0.0124    , 0.01180005, 0.01030001, 0.0115    , 0.00929999],\n",
       "        [0.0071    , 0.01449999, 0.01110001, 0.01550001, 0.0086    ],\n",
       "        [0.01030004, 0.0081    , 0.01230001, 0.01560003, 0.00889999],\n",
       "        [0.0079    , 0.01480001, 0.01700002, 0.01049995, 0.01449996],\n",
       "        [0.00870001, 0.00709999, 0.0075    , 0.02270001, 0.01419997],\n",
       "        [0.0147    , 0.01639998, 0.0115    , 0.01970002, 0.01670003],\n",
       "        [0.00890002, 0.01230001, 0.00680006, 0.01319999, 0.02450001],\n",
       "        [0.01429999, 0.0083    , 0.0169    , 0.01550001, 0.00930001],\n",
       "        [0.00910002, 0.016     , 0.00870001, 0.01980001, 0.0079    ],\n",
       "        [0.01160002, 0.01460001, 0.01009999, 0.0079    , 0.01530004],\n",
       "        [0.01820004, 0.00910002, 0.01139998, 0.01440001, 0.01519999],\n",
       "        [0.00959998, 0.00860003, 0.016     , 0.0126    , 0.01060003],\n",
       "        [0.0126    , 0.0126    , 0.01169997, 0.00729996, 0.01809996],\n",
       "        [0.02349997, 0.01190001, 0.0103    , 0.0124    , 0.01430002],\n",
       "        [0.01030001, 0.01079997, 0.00870001, 0.00550002, 0.0063    ],\n",
       "        [0.01280004, 0.0068    , 0.01180005, 0.0081    , 0.00770003],\n",
       "        [0.0169    , 0.0079    , 0.01010001, 0.0096    , 0.00760001],\n",
       "        [0.00749999, 0.01639998, 0.01240003, 0.00889999, 0.01859999],\n",
       "        [0.01239997, 0.01620001, 0.01639998, 0.01199996, 0.01179999],\n",
       "        [0.01109999, 0.01070002, 0.01170003, 0.0098    , 0.0086    ],\n",
       "        [0.0126    , 0.01820004, 0.00880003, 0.01159999, 0.01570004],\n",
       "        [0.00930001, 0.01440001, 0.0078    , 0.02429998, 0.00920001],\n",
       "        [0.01419997, 0.0151    , 0.01240003, 0.02419999, 0.01620001],\n",
       "        [0.01629999, 0.0117    , 0.0139    , 0.01000005, 0.00809997],\n",
       "        [0.00960001, 0.01379997, 0.01050001, 0.01      , 0.0097    ],\n",
       "        [0.0102    , 0.0133    , 0.0078    , 0.01490003, 0.01590002],\n",
       "        [0.01840001, 0.00779998, 0.00990003, 0.0097    , 0.0117    ],\n",
       "        [0.00830001, 0.0081    , 0.01740003, 0.01700002, 0.01130003],\n",
       "        [0.0156    , 0.01020002, 0.01190001, 0.00880003, 0.01300001],\n",
       "        [0.01169999, 0.0094    , 0.0125    , 0.01389998, 0.0158    ],\n",
       "        [0.01729999, 0.00839999, 0.00919998, 0.0165    , 0.01679999],\n",
       "        [0.02539998, 0.01370001, 0.01640004, 0.011     , 0.01650003],\n",
       "        [0.00750002, 0.0106    , 0.013     , 0.0117    , 0.01280001],\n",
       "        [0.01200002, 0.0142    , 0.00750005, 0.01350001, 0.01089996],\n",
       "        [0.02130002, 0.02470002, 0.01490003, 0.01390001, 0.00889999],\n",
       "        [0.009     , 0.01120001, 0.00920001, 0.01620001, 0.01310003],\n",
       "        [0.0099    , 0.0101    , 0.01369998, 0.01459998, 0.01390004],\n",
       "        [0.01240003, 0.01840001, 0.01289999, 0.00740001, 0.01340002],\n",
       "        [0.0169    , 0.01190001, 0.01000005, 0.01000005, 0.01840001],\n",
       "        [0.0193    , 0.00929999, 0.01280001, 0.01249999, 0.0118    ],\n",
       "        [0.01929998, 0.01660001, 0.00750005, 0.01630002, 0.00889999],\n",
       "        [0.01230001, 0.00820005, 0.01209998, 0.01590002, 0.0098    ],\n",
       "        [0.01179999, 0.00910002, 0.01050001, 0.01600003, 0.0086    ],\n",
       "        [0.00980002, 0.00880003, 0.00819999, 0.00769997, 0.0113    ],\n",
       "        [0.01300001, 0.01389998, 0.0108    , 0.00830001, 0.01209998],\n",
       "        [0.0088    , 0.02079999, 0.01440001, 0.0122    , 0.00590003],\n",
       "        [0.02430001, 0.01420003, 0.01440001, 0.01380002, 0.01280001],\n",
       "        [0.00950003, 0.01490003, 0.015     , 0.01119995, 0.01120001],\n",
       "        [0.0178    , 0.01570004, 0.01389998, 0.00840002, 0.00870001],\n",
       "        [0.01489997, 0.0081    , 0.00959998, 0.01590002, 0.0103    ],\n",
       "        [0.00930002, 0.00919998, 0.00979999, 0.02110001, 0.01010001],\n",
       "        [0.01430005, 0.01000005, 0.01010001, 0.01890001, 0.01670003],\n",
       "        [0.01230001, 0.01019999, 0.0119    , 0.00610003, 0.01140004],\n",
       "        [0.01029998, 0.01429999, 0.00690001, 0.01350003, 0.0131    ],\n",
       "        [0.0122    , 0.01329999, 0.00830001, 0.0104    , 0.00929999],\n",
       "        [0.01100001, 0.01730001, 0.00849998, 0.0122    , 0.01800001],\n",
       "        [0.00630003, 0.01740003, 0.00749999, 0.00690001, 0.00850004],\n",
       "        [0.01600003, 0.01660001, 0.0113    , 0.00819999, 0.01640004],\n",
       "        [0.0149    , 0.00890002, 0.0106    , 0.01059997, 0.0169    ]]),\n",
       " 'statistic_means': array([0.01066001, 0.0111    , 0.01406001, 0.01266001, 0.01282   ,\n",
       "        0.0113    , 0.01068   , 0.01150002, 0.01122002, 0.0124    ,\n",
       "        0.01168002, 0.01234   , 0.01162003, 0.01144001, 0.01246001,\n",
       "        0.01444001, 0.01204002, 0.01124001, 0.01237999, 0.01264   ,\n",
       "        0.01281999, 0.01409999, 0.0136    , 0.01299999, 0.01178001,\n",
       "        0.01299998, 0.01147999, 0.01172001, 0.00966001, 0.00936002,\n",
       "        0.01004002, 0.01150001, 0.01334001, 0.01100001, 0.01298   ,\n",
       "        0.00908002, 0.01136   , 0.01142001, 0.01032001, 0.01409999,\n",
       "        0.01232002, 0.01106001, 0.01136   , 0.01104001, 0.01293999,\n",
       "        0.01204   , 0.01580001, 0.01314002, 0.01286   , 0.01230001,\n",
       "        0.01190001, 0.01366001, 0.01148001, 0.01245998, 0.01448   ,\n",
       "        0.00832   , 0.00944002, 0.01042   , 0.01276   , 0.01375998,\n",
       "        0.01038001, 0.01338002, 0.013     , 0.01642   , 0.012     ,\n",
       "        0.01072   , 0.01242001, 0.01150001, 0.01242002, 0.01190001,\n",
       "        0.01265999, 0.01363999, 0.01660001, 0.01112001, 0.01162001,\n",
       "        0.01674001, 0.01174001, 0.01244   , 0.01290001, 0.01344002,\n",
       "        0.01314   , 0.01372001, 0.01166001, 0.01120001, 0.00916   ,\n",
       "        0.01162   , 0.01242   , 0.01590002, 0.01236   , 0.01290001,\n",
       "        0.01175999, 0.0119    , 0.01400003, 0.01038002, 0.01162   ,\n",
       "        0.0107    , 0.0134    , 0.00932002, 0.01370001, 0.01238   ]),\n",
       " 'statistic_stds': array([0.00278324, 0.00188892, 0.00378767, 0.00394237, 0.00244901,\n",
       "        0.00174929, 0.00171161, 0.00115412, 0.00324308, 0.00188467,\n",
       "        0.00245717, 0.00143053, 0.00360076, 0.00234828, 0.00225177,\n",
       "        0.00330611, 0.00137492, 0.00337556, 0.00197322, 0.0029357 ,\n",
       "        0.00518281, 0.00320063, 0.00245684, 0.00264045, 0.00343943,\n",
       "        0.00441815, 0.00253645, 0.0014716 , 0.00209055, 0.00201456,\n",
       "        0.00338148, 0.0030718 , 0.00664729, 0.00246333, 0.001098  ,\n",
       "        0.00131209, 0.00185537, 0.00290062, 0.00184866, 0.00293393,\n",
       "        0.0023693 , 0.00111464, 0.0032506 , 0.00268895, 0.00327818,\n",
       "        0.00590715, 0.00268627, 0.00613077, 0.00343022, 0.00474341,\n",
       "        0.00276334, 0.00314427, 0.0026187 , 0.00343663, 0.00468716,\n",
       "        0.0021094 , 0.00239384, 0.0033784 , 0.00424386, 0.00208385,\n",
       "        0.00108334, 0.00326706, 0.00607979, 0.00408431, 0.0028775 ,\n",
       "        0.00157148, 0.00301026, 0.00366443, 0.00406616, 0.00234093,\n",
       "        0.00214346, 0.00396818, 0.00484272, 0.00200339, 0.00235914,\n",
       "        0.00560486, 0.00268299, 0.00201554, 0.00349285, 0.00353868,\n",
       "        0.00331699, 0.00464774, 0.00260813, 0.00264803, 0.00127844,\n",
       "        0.00195079, 0.00509524, 0.00423603, 0.00220418, 0.00376138,\n",
       "        0.0030722 , 0.00461173, 0.00353836, 0.00225335, 0.00271765,\n",
       "        0.00183412, 0.00367642, 0.00410483, 0.00337641, 0.00300759]),\n",
       " 'pvalue_lists': array([[0.22342992, 0.45685166, 0.63986593, 0.75759482, 0.98659527],\n",
       "        [0.78013396, 0.273206  , 0.43583322, 0.61606014, 0.80205607],\n",
       "        [0.46755862, 0.02871132, 0.75759643, 0.18084824, 0.39546341],\n",
       "        [0.99686986, 0.1699295 , 0.45685166, 0.39546192, 0.10741025],\n",
       "        [0.33053982, 0.86290216, 0.15453649, 0.41536462, 0.30502933],\n",
       "        [0.51158571, 0.27320719, 0.85336322, 0.56891036, 0.56891394],\n",
       "        [0.58061683, 0.86290073, 0.30502933, 0.68752313, 0.68752146],\n",
       "        [0.59238249, 0.4675554 , 0.59238076, 0.32187748, 0.67563021],\n",
       "        [0.85336035, 0.80205375, 0.09353125, 0.71117711, 0.58061337],\n",
       "        [0.36671996, 0.37615162, 0.28880858, 0.84356195, 0.32187748],\n",
       "        [0.82323891, 0.6279493 , 0.73457229, 0.21054888, 0.2656371 ],\n",
       "        [0.25096452, 0.65179384, 0.33053458, 0.44627738, 0.5457207 ],\n",
       "        [0.78013074, 0.13577455, 0.69936818, 0.19230831, 0.9626196 ],\n",
       "        [0.51158237, 0.83351749, 0.32187486, 0.24385667, 0.83351749],\n",
       "        [0.28880382, 0.15453649, 0.48933911, 0.58062041, 0.74613893],\n",
       "        [0.29683852, 0.80205375, 0.08118564, 0.33053458, 0.07832295],\n",
       "        [0.35744226, 0.29683852, 0.66371453, 0.62795293, 0.42552602],\n",
       "        [0.18651044, 0.97490048, 0.33053458, 0.928258  , 0.37615162],\n",
       "        [0.26563936, 0.19231182, 0.59238416, 0.58061683, 0.63987303],\n",
       "        [0.37615162, 0.31337655, 0.74613893, 0.0935322 , 0.74613714],\n",
       "        [0.08413625, 0.95781237, 0.8811397 , 0.61606199, 0.03519124],\n",
       "        [0.04823065, 0.5923878 , 0.30502933, 0.16466999, 0.60420007],\n",
       "        [0.08118391, 0.4255321 , 0.44627738, 0.23689973, 0.59238076],\n",
       "        [0.36671996, 0.18651116, 0.30502933, 0.21692026, 0.90620738],\n",
       "        [0.73457229, 0.80205607, 0.3857314 , 0.79117811, 0.07554591],\n",
       "        [0.35744369, 0.88114512, 0.84356195, 0.24385881, 0.03116524],\n",
       "        [0.78013396, 0.92125863, 0.23009062, 0.39546341, 0.37615162],\n",
       "        [0.33934999, 0.60420007, 0.67563349, 0.30502933, 0.6279493 ],\n",
       "        [0.98876971, 0.40533996, 0.67563021, 0.63986778, 0.84356195],\n",
       "        [0.8811397 , 0.9470914 , 0.85336322, 0.78013319, 0.34831548],\n",
       "        [0.66371453, 0.92125541, 0.94709402, 0.13138282, 0.88981366],\n",
       "        [0.10378957, 0.61605489, 0.91390467, 0.55727863, 0.63986593],\n",
       "        [0.72291291, 0.20432901, 0.91390467, 0.00284994, 0.8811397 ],\n",
       "        [0.83351439, 0.8811397 , 0.63986593, 0.425529  , 0.21055067],\n",
       "        [0.27321053, 0.53424585, 0.45685488, 0.2656371 , 0.35744095],\n",
       "        [0.94117802, 0.55727684, 0.78013396, 0.75759482, 0.91390467],\n",
       "        [0.45685488, 0.78013396, 0.81274796, 0.33053589, 0.36671996],\n",
       "        [0.6279493 , 0.66371894, 0.14028257, 0.94118136, 0.425529  ],\n",
       "        [0.31337655, 0.83351439, 0.60420007, 0.87216336, 0.69937539],\n",
       "        [0.43583477, 0.43583322, 0.61606199, 0.10741025, 0.07554674],\n",
       "        [0.60420007, 0.75759482, 0.13577324, 0.50040293, 0.34831548],\n",
       "        [0.425529  , 0.48933417, 0.66371804, 0.52286649, 0.78013396],\n",
       "        [0.96262163, 0.24385667, 0.56891215, 0.18084824, 0.85336322],\n",
       "        [0.66371453, 0.89817226, 0.43583322, 0.1753211 , 0.82324213],\n",
       "        [0.91390467, 0.22342992, 0.11113262, 0.63987303, 0.24385881],\n",
       "        [0.84356195, 0.96262228, 0.94118136, 0.01156521, 0.26564145],\n",
       "        [0.23009062, 0.13577455, 0.52286649, 0.04126382, 0.12294781],\n",
       "        [0.82323891, 0.43583322, 0.97489822, 0.3483209 , 0.00494504],\n",
       "        [0.25822639, 0.88114041, 0.11496317, 0.18084824, 0.78013241],\n",
       "        [0.80205375, 0.15453792, 0.84356195, 0.03966588, 0.91390467],\n",
       "        [0.51158237, 0.23689765, 0.68752313, 0.91390467, 0.19230831],\n",
       "        [0.07285267, 0.80205375, 0.53424942, 0.25096452, 0.19824994],\n",
       "        [0.74614054, 0.85336035, 0.15453792, 0.40533996, 0.6279493 ],\n",
       "        [0.40533996, 0.40533996, 0.5004096 , 0.95263916, 0.07554746],\n",
       "        [0.00799179, 0.47838771, 0.66371977, 0.425529  , 0.25822425],\n",
       "        [0.66371804, 0.6042037 , 0.84356195, 0.9981513 , 0.98876971],\n",
       "        [0.38572848, 0.97490048, 0.48933417, 0.89817226, 0.928258  ],\n",
       "        [0.11496317, 0.91390467, 0.68752146, 0.74613893, 0.93490171],\n",
       "        [0.94118184, 0.13577455, 0.42552602, 0.82324213, 0.06288302],\n",
       "        [0.4255321 , 0.14491093, 0.13577455, 0.46756178, 0.48934066],\n",
       "        [0.56891394, 0.61605847, 0.50040293, 0.72291291, 0.85336322],\n",
       "        [0.40533996, 0.07285267, 0.83351439, 0.51158571, 0.16992801],\n",
       "        [0.78013241, 0.25096452, 0.92125863, 0.00545216, 0.79117811],\n",
       "        [0.26564145, 0.20432901, 0.42552602, 0.00572312, 0.14491093],\n",
       "        [0.14028257, 0.50040638, 0.2888068 , 0.69936818, 0.89817476],\n",
       "        [0.74613714, 0.29684341, 0.63986593, 0.6993745 , 0.73457229],\n",
       "        [0.67563295, 0.33934999, 0.92125863, 0.2169165 , 0.15953898],\n",
       "        [0.06771171, 0.92125958, 0.71117187, 0.73457229, 0.50040638],\n",
       "        [0.8811397 , 0.89817226, 0.09685159, 0.11113262, 0.54571724],\n",
       "        [0.17532283, 0.67563021, 0.47838771, 0.83351439, 0.36671996],\n",
       "        [0.50040793, 0.76893502, 0.41536307, 0.28880858, 0.16466999],\n",
       "        [0.10027122, 0.8721661 , 0.79118156, 0.13138342, 0.11890161],\n",
       "        [0.00315607, 0.30502933, 0.13577193, 0.58061767, 0.13138211],\n",
       "        [0.94118005, 0.62795293, 0.36672139, 0.50040638, 0.3857314 ],\n",
       "        [0.4675554 , 0.26563936, 0.94117802, 0.32187748, 0.5923878 ],\n",
       "        [0.02141291, 0.00448167, 0.2169165 , 0.2888062 , 0.82324213],\n",
       "        [0.81274796, 0.55727684, 0.79117811, 0.14491093, 0.35744095],\n",
       "        [0.71117538, 0.68752277, 0.30503178, 0.23689973, 0.28880382],\n",
       "        [0.42552602, 0.06771171, 0.37615162, 0.94709319, 0.33053458],\n",
       "        [0.11496317, 0.47838771, 0.69936818, 0.69936818, 0.06771171],\n",
       "        [0.04823035, 0.78013396, 0.3857314 , 0.41536462, 0.48933947],\n",
       "        [0.04823065, 0.12710845, 0.94117802, 0.14028126, 0.82324213],\n",
       "        [0.43583322, 0.88980925, 0.45685488, 0.15953898, 0.72291291],\n",
       "        [0.48934066, 0.80205375, 0.63986593, 0.15453649, 0.85336322],\n",
       "        [0.72291112, 0.83351439, 0.88981426, 0.928262  , 0.5457207 ],\n",
       "        [0.36671996, 0.28880858, 0.60420007, 0.8811397 , 0.45685488],\n",
       "        [0.83351749, 0.02643007, 0.25096452, 0.44627738, 0.99498343],\n",
       "        [0.00545204, 0.2656371 , 0.25096452, 0.29683852, 0.3857314 ],\n",
       "        [0.75759482, 0.2169165 , 0.21055162, 0.55728376, 0.55727684],\n",
       "        [0.08413529, 0.16992801, 0.28880858, 0.87216336, 0.84356195],\n",
       "        [0.21692026, 0.89817226, 0.74614054, 0.15953898, 0.66371977],\n",
       "        [0.78013074, 0.79118156, 0.7229147 , 0.02330798, 0.68752146],\n",
       "        [0.2582221 , 0.69936818, 0.68752146, 0.05619222, 0.12294781],\n",
       "        [0.43583322, 0.67563349, 0.47838849, 0.9923355 , 0.53424251],\n",
       "        [0.6637215 , 0.25822639, 0.97115827, 0.32187486, 0.35744369],\n",
       "        [0.44627738, 0.33935142, 0.8811397 , 0.65179384, 0.78013396],\n",
       "        [0.58061683, 0.10027063, 0.86290359, 0.44627738, 0.07832295],\n",
       "        [0.98876905, 0.09685159, 0.94118184, 0.97115827, 0.86289787],\n",
       "        [0.15453649, 0.12710845, 0.5457207 , 0.88981426, 0.13577193],\n",
       "        [0.21691847, 0.82323891, 0.62795293, 0.62795639, 0.11496317]]),\n",
       " 'pvalue_means': array([0.61286752, 0.58145788, 0.3660356 , 0.42530464, 0.41367449,\n",
       "        0.55519608, 0.6247183 , 0.52996527, 0.60814717, 0.43942392,\n",
       "        0.5323893 , 0.4450582 , 0.55404028, 0.54886978, 0.45188775,\n",
       "        0.31778709, 0.47429485, 0.55927103, 0.45416504, 0.45506729,\n",
       "        0.51486831, 0.34290357, 0.35645478, 0.39627762, 0.55781676,\n",
       "        0.47143496, 0.54061965, 0.51043243, 0.71063392, 0.7620086 ,\n",
       "        0.71065209, 0.56617874, 0.54502724, 0.59811994, 0.37747786,\n",
       "        0.79001766, 0.54939853, 0.55973223, 0.66452595, 0.33413739,\n",
       "        0.46925731, 0.57631633, 0.56192038, 0.59925665, 0.42643981,\n",
       "        0.60491445, 0.21058866, 0.51744726, 0.44306213, 0.55074483,\n",
       "        0.50844322, 0.37167406, 0.55746561, 0.46785523, 0.36677051,\n",
       "        0.81968094, 0.73527868, 0.67948599, 0.47772151, 0.33262401,\n",
       "        0.65233029, 0.39864415, 0.54979717, 0.20922611, 0.50540774,\n",
       "        0.62335865, 0.46253941, 0.58702437, 0.50660268, 0.50591502,\n",
       "        0.42763692, 0.40278078, 0.23119142, 0.56439843, 0.51772761,\n",
       "        0.27097188, 0.53271096, 0.4458867 , 0.42940342, 0.41195979,\n",
       "        0.42375996, 0.4160081 , 0.53298985, 0.58783201, 0.78404449,\n",
       "        0.51954464, 0.51043458, 0.24092472, 0.45992471, 0.45171944,\n",
       "        0.53689836, 0.60101129, 0.36485035, 0.62328664, 0.51448494,\n",
       "        0.61973926, 0.41367828, 0.77217172, 0.37059036, 0.48220598]),\n",
       " 'pvalue_stds': array([0.25974985, 0.20276037, 0.25002993, 0.31459368, 0.23986497,\n",
       "        0.18476986, 0.18372018, 0.12345477, 0.27347106, 0.20450865,\n",
       "        0.24873326, 0.14398754, 0.33014251, 0.24819294, 0.20955792,\n",
       "        0.26398442, 0.14629716, 0.32671173, 0.18638191, 0.2555214 ,\n",
       "        0.38889961, 0.22385354, 0.1780833 , 0.26283048, 0.28550006,\n",
       "        0.33614379, 0.26336343, 0.15579063, 0.19721404, 0.21366517,\n",
       "        0.30663119, 0.26180669, 0.37167646, 0.25189324, 0.1045547 ,\n",
       "        0.13675866, 0.20612055, 0.26642776, 0.19991497, 0.20901684,\n",
       "        0.21361492, 0.12832793, 0.31366536, 0.26461422, 0.30237169,\n",
       "        0.39119112, 0.16724039, 0.34661016, 0.32127815, 0.37388895,\n",
       "        0.27208702, 0.26290621, 0.25044473, 0.28206274, 0.22117608,\n",
       "        0.16233783, 0.24652302, 0.297786  , 0.35381437, 0.15835791,\n",
       "        0.12389673, 0.26846375, 0.35634678, 0.13823331, 0.27281641,\n",
       "        0.16739542, 0.29091156, 0.29191933, 0.35197363, 0.23045555,\n",
       "        0.20511245, 0.35126448, 0.19930762, 0.21028393, 0.24054413,\n",
       "        0.29716635, 0.25570996, 0.20830591, 0.28686214, 0.27434779,\n",
       "        0.2340266 , 0.38376856, 0.25222702, 0.25161513, 0.1378178 ,\n",
       "        0.20901772, 0.35912989, 0.12669192, 0.21391758, 0.33804677,\n",
       "        0.29501555, 0.2913191 , 0.27610689, 0.2014946 , 0.26767559,\n",
       "        0.20188636, 0.29712695, 0.34040064, 0.30376521, 0.26982719])}"
      ]
     },
     "execution_count": 18,
     "metadata": {},
     "output_type": "execute_result"
    }
   ],
   "source": [
    "KSTest.Test_tf(max_vectorize=1000)\n",
    "KSTest.Results[-1].result_value"
   ]
  },
  {
   "cell_type": "code",
   "execution_count": 19,
   "metadata": {},
   "outputs": [
    {
     "name": "stdout",
     "output_type": "stream",
     "text": [
      "\n",
      "------------------------------------------\n",
      "Starting KS tests calculation...\n",
      "Running TF KS tests...\n",
      "niter = 100\n",
      "batch_size = 10000\n",
      "The dist_1_num tensor is empty. Batches will be generated 'on-the-fly' from dist_1_symb.\n",
      "The dist_2_num tensor is empty. Batches will be generated 'on-the-fly' from dist_2_symb.\n",
      "nchunks = 5\n",
      "Iterating from 0 to 20 out of 100 .\n",
      "INFO:tensorflow:Using MirroredStrategy with devices ('/job:localhost/replica:0/task:0/device:GPU:0',)\n",
      "INFO:tensorflow:Using MirroredStrategy with devices ('/job:localhost/replica:0/task:0/device:GPU:0',)\n",
      "WARNING:tensorflow:5 out of the last 13 calls to <function generate_and_clean_data_mirror_1 at 0x7fd4c0c1fe50> triggered tf.function retracing. Tracing is expensive and the excessive number of tracings could be due to (1) creating @tf.function repeatedly in a loop, (2) passing tensors with different shapes, (3) passing Python objects instead of tensors. For (1), please define your @tf.function outside of the loop. For (2), @tf.function has reduce_retracing=True option that can avoid unnecessary retracing. For (3), please refer to https://www.tensorflow.org/guide/function#controlling_retracing and https://www.tensorflow.org/api_docs/python/tf/function for  more details.\n",
      "WARNING:tensorflow:Using a while_loop for converting StridedSlice\n",
      "WARNING:tensorflow:Using a while_loop for converting StridedSlice\n",
      "WARNING:tensorflow:Using a while_loop for converting TopKV2\n",
      "WARNING:tensorflow:Using a while_loop for converting TopKV2\n",
      "WARNING:tensorflow:Using a while_loop for converting StridedSlice\n",
      "WARNING:tensorflow:Using a while_loop for converting StridedSlice\n",
      "WARNING:tensorflow:Using a while_loop for converting StridedSlice\n",
      "WARNING:tensorflow:Using a while_loop for converting StridedSlice\n",
      "Iterating from 20 to 40 out of 100 .\n",
      "WARNING:tensorflow:Using a while_loop for converting StridedSlice\n",
      "WARNING:tensorflow:Using a while_loop for converting StridedSlice\n",
      "WARNING:tensorflow:Using a while_loop for converting TopKV2\n",
      "WARNING:tensorflow:Using a while_loop for converting TopKV2\n",
      "WARNING:tensorflow:Using a while_loop for converting StridedSlice\n",
      "WARNING:tensorflow:Using a while_loop for converting StridedSlice\n",
      "WARNING:tensorflow:Using a while_loop for converting StridedSlice\n",
      "WARNING:tensorflow:Using a while_loop for converting StridedSlice\n",
      "Iterating from 40 to 60 out of 100 .\n",
      "WARNING:tensorflow:Using a while_loop for converting StridedSlice\n",
      "WARNING:tensorflow:Using a while_loop for converting StridedSlice\n",
      "WARNING:tensorflow:Using a while_loop for converting TopKV2\n",
      "WARNING:tensorflow:Using a while_loop for converting TopKV2\n",
      "WARNING:tensorflow:Using a while_loop for converting StridedSlice\n",
      "WARNING:tensorflow:Using a while_loop for converting StridedSlice\n",
      "WARNING:tensorflow:Using a while_loop for converting StridedSlice\n",
      "WARNING:tensorflow:Using a while_loop for converting StridedSlice\n",
      "Iterating from 60 to 80 out of 100 .\n",
      "WARNING:tensorflow:Using a while_loop for converting StridedSlice\n",
      "WARNING:tensorflow:Using a while_loop for converting StridedSlice\n",
      "WARNING:tensorflow:Using a while_loop for converting TopKV2\n",
      "WARNING:tensorflow:Using a while_loop for converting TopKV2\n",
      "WARNING:tensorflow:Using a while_loop for converting StridedSlice\n",
      "WARNING:tensorflow:Using a while_loop for converting StridedSlice\n",
      "WARNING:tensorflow:Using a while_loop for converting StridedSlice\n",
      "WARNING:tensorflow:Using a while_loop for converting StridedSlice\n",
      "Iterating from 80 to 100 out of 100 .\n",
      "WARNING:tensorflow:Using a while_loop for converting StridedSlice\n",
      "WARNING:tensorflow:Using a while_loop for converting StridedSlice\n",
      "WARNING:tensorflow:Using a while_loop for converting TopKV2\n",
      "WARNING:tensorflow:Using a while_loop for converting TopKV2\n",
      "WARNING:tensorflow:Using a while_loop for converting StridedSlice\n",
      "WARNING:tensorflow:Using a while_loop for converting StridedSlice\n",
      "WARNING:tensorflow:Using a while_loop for converting StridedSlice\n",
      "WARNING:tensorflow:Using a while_loop for converting StridedSlice\n",
      "KS tests calculation completed in 26.09462933195755 seconds.\n"
     ]
    },
    {
     "data": {
      "text/plain": [
       "{'statistic_lists': array([[0.0087    , 0.02129999, 0.01590002, 0.01050001, 0.00800002],\n",
       "        [0.01720005, 0.00760001, 0.0122    , 0.00630003, 0.01280004],\n",
       "        [0.0158    , 0.01599997, 0.01480001, 0.01780003, 0.01309997],\n",
       "        [0.01029998, 0.0108    , 0.02240002, 0.01480001, 0.01189999],\n",
       "        [0.01109999, 0.01539999, 0.0108    , 0.01209998, 0.01499999],\n",
       "        [0.01189995, 0.00800002, 0.0138    , 0.01250002, 0.0244    ],\n",
       "        [0.0097    , 0.01230001, 0.00930002, 0.01960003, 0.01190001],\n",
       "        [0.01559997, 0.00729999, 0.00840002, 0.014     , 0.01160002],\n",
       "        [0.01240003, 0.01340002, 0.0148    , 0.01029998, 0.01470006],\n",
       "        [0.0106    , 0.01530001, 0.0196    , 0.01050001, 0.0133    ],\n",
       "        [0.01440001, 0.0114    , 0.0156    , 0.01000005, 0.01539999],\n",
       "        [0.01449996, 0.01210001, 0.02120003, 0.01400001, 0.00739998],\n",
       "        [0.00909999, 0.01170003, 0.01109999, 0.01100001, 0.01450002],\n",
       "        [0.01320001, 0.01120001, 0.01590002, 0.0088    , 0.0176    ],\n",
       "        [0.01470003, 0.01210004, 0.01250005, 0.01190001, 0.0065    ],\n",
       "        [0.0059    , 0.00760001, 0.02310002, 0.01530004, 0.01030004],\n",
       "        [0.0117    , 0.0097    , 0.01770002, 0.01700002, 0.00920004],\n",
       "        [0.0115    , 0.00940001, 0.00950003, 0.00930002, 0.01019999],\n",
       "        [0.01120001, 0.0081    , 0.01359999, 0.01340002, 0.016     ],\n",
       "        [0.01590002, 0.01040001, 0.0104    , 0.01429999, 0.01090001],\n",
       "        [0.01259997, 0.01090002, 0.0082    , 0.00860001, 0.0097    ],\n",
       "        [0.01139998, 0.0151    , 0.0112    , 0.01410002, 0.00950003],\n",
       "        [0.0101    , 0.0139    , 0.01120001, 0.00819999, 0.00700003],\n",
       "        [0.00729999, 0.01090002, 0.01210001, 0.01950002, 0.01050001],\n",
       "        [0.0126    , 0.01440004, 0.01959999, 0.0133    , 0.00989997],\n",
       "        [0.01280001, 0.01069999, 0.00910002, 0.01030004, 0.00710005],\n",
       "        [0.01200001, 0.01540002, 0.01050001, 0.0142    , 0.01659998],\n",
       "        [0.0108    , 0.01660001, 0.00779998, 0.00830001, 0.01680005],\n",
       "        [0.01160002, 0.01359999, 0.0178    , 0.01440001, 0.01389998],\n",
       "        [0.014     , 0.0151    , 0.01849997, 0.01780003, 0.01520002],\n",
       "        [0.00700003, 0.01719999, 0.0108    , 0.01200002, 0.00889999],\n",
       "        [0.02380002, 0.0159    , 0.01120001, 0.01089996, 0.00980002],\n",
       "        [0.00670004, 0.0072    , 0.0157    , 0.0117    , 0.00940001],\n",
       "        [0.0183    , 0.0148    , 0.0116    , 0.00929999, 0.01540002],\n",
       "        [0.00820002, 0.01370001, 0.00749999, 0.00779998, 0.01180002],\n",
       "        [0.0255    , 0.0158    , 0.0095    , 0.01460001, 0.00949997],\n",
       "        [0.01340002, 0.0126    , 0.00690001, 0.01550001, 0.01009995],\n",
       "        [0.02419999, 0.01190001, 0.01240003, 0.01109999, 0.01660001],\n",
       "        [0.01109999, 0.00990003, 0.01230001, 0.01359999, 0.00889999],\n",
       "        [0.0082    , 0.0104    , 0.0158    , 0.01410002, 0.01170003],\n",
       "        [0.01170003, 0.01100001, 0.01280004, 0.00809997, 0.01530004],\n",
       "        [0.01539999, 0.01750004, 0.01130003, 0.01340002, 0.01179999],\n",
       "        [0.01030001, 0.01370001, 0.0147    , 0.01359999, 0.0104    ],\n",
       "        [0.01620001, 0.01640001, 0.01310003, 0.01190001, 0.01200002],\n",
       "        [0.00999999, 0.01280004, 0.01430005, 0.01669997, 0.00889999],\n",
       "        [0.0183    , 0.00990003, 0.01360002, 0.01209998, 0.0109    ],\n",
       "        [0.0141    , 0.01130003, 0.01750004, 0.01379997, 0.01010001],\n",
       "        [0.0072    , 0.01570004, 0.0174    , 0.0081    , 0.0106    ],\n",
       "        [0.00919998, 0.0079    , 0.01680005, 0.00839999, 0.01530001],\n",
       "        [0.01400001, 0.01540001, 0.01010001, 0.0167    , 0.01020002],\n",
       "        [0.0104    , 0.01300001, 0.016     , 0.0138    , 0.01780003],\n",
       "        [0.01290002, 0.00830001, 0.0104    , 0.02240002, 0.0106    ],\n",
       "        [0.01710001, 0.01100001, 0.01249999, 0.01769999, 0.01700002],\n",
       "        [0.0108    , 0.0095    , 0.0165    , 0.01229998, 0.0072    ],\n",
       "        [0.01030001, 0.01550001, 0.01099999, 0.00770003, 0.00650001],\n",
       "        [0.00740004, 0.01090002, 0.00910002, 0.009     , 0.01880002],\n",
       "        [0.01199999, 0.0147    , 0.01010001, 0.01010001, 0.01249999],\n",
       "        [0.01740003, 0.01470006, 0.01070005, 0.01010001, 0.0059    ],\n",
       "        [0.01310003, 0.01190001, 0.01119998, 0.00819999, 0.01350003],\n",
       "        [0.01060003, 0.01680002, 0.01370001, 0.01320004, 0.0097    ],\n",
       "        [0.0119    , 0.01229998, 0.0151    , 0.01380002, 0.02020001],\n",
       "        [0.00919998, 0.01250005, 0.007     , 0.01430002, 0.01389998],\n",
       "        [0.00929999, 0.01660001, 0.01679999, 0.00820002, 0.01050001],\n",
       "        [0.00760001, 0.00899997, 0.00740004, 0.01319999, 0.01460001],\n",
       "        [0.01160002, 0.0098    , 0.01190001, 0.01000002, 0.01289999],\n",
       "        [0.01120001, 0.00730002, 0.0133    , 0.0147    , 0.0165    ],\n",
       "        [0.01010001, 0.014     , 0.00940001, 0.01890001, 0.0104    ],\n",
       "        [0.01160002, 0.01249999, 0.01269996, 0.00940001, 0.01730001],\n",
       "        [0.01620001, 0.0097    , 0.01340002, 0.00919998, 0.01380002],\n",
       "        [0.01130003, 0.0097    , 0.0176    , 0.00980002, 0.01049995],\n",
       "        [0.01109996, 0.00989997, 0.0122    , 0.01450001, 0.009     ],\n",
       "        [0.0136    , 0.00980002, 0.01269999, 0.01620001, 0.02540001],\n",
       "        [0.01289999, 0.0104    , 0.01710001, 0.01340002, 0.00889999],\n",
       "        [0.0158    , 0.01229995, 0.01130003, 0.0122    , 0.01849997],\n",
       "        [0.0237    , 0.01100001, 0.0072    , 0.01190001, 0.01710004],\n",
       "        [0.0086    , 0.01609999, 0.00889999, 0.01409999, 0.00779998],\n",
       "        [0.01040003, 0.01279998, 0.01309997, 0.00839999, 0.00950003],\n",
       "        [0.01040001, 0.01230001, 0.00870001, 0.0062    , 0.01860002],\n",
       "        [0.01030001, 0.0167    , 0.01199999, 0.0098    , 0.01370001],\n",
       "        [0.01279998, 0.00889999, 0.01139998, 0.0187    , 0.01880002],\n",
       "        [0.0098    , 0.01010001, 0.01169999, 0.01380002, 0.0088    ],\n",
       "        [0.00820005, 0.0151    , 0.01030004, 0.00910001, 0.0097    ],\n",
       "        [0.01499999, 0.0187    , 0.01300001, 0.02060002, 0.01460001],\n",
       "        [0.01270002, 0.01250002, 0.01449996, 0.01960003, 0.013     ],\n",
       "        [0.00879997, 0.0072    , 0.01710004, 0.01139998, 0.0108    ],\n",
       "        [0.00920004, 0.0124    , 0.0088    , 0.0113    , 0.01319999],\n",
       "        [0.01180005, 0.01460004, 0.01620001, 0.01069999, 0.01020002],\n",
       "        [0.02150002, 0.01430005, 0.0122    , 0.01710001, 0.016     ],\n",
       "        [0.00980002, 0.00920001, 0.01460001, 0.00780001, 0.01500005],\n",
       "        [0.01840001, 0.01170003, 0.0167    , 0.00740004, 0.0095    ],\n",
       "        [0.0123    , 0.01050001, 0.01069999, 0.01630002, 0.00940001],\n",
       "        [0.01140004, 0.01359999, 0.00929999, 0.01460001, 0.0151    ],\n",
       "        [0.01929998, 0.0133    , 0.01160002, 0.01349998, 0.0205    ],\n",
       "        [0.00910002, 0.00770003, 0.00929999, 0.0099    , 0.00819999],\n",
       "        [0.01179999, 0.01370001, 0.0097    , 0.01359999, 0.01140001],\n",
       "        [0.01309997, 0.0141    , 0.01310003, 0.00800002, 0.02020001],\n",
       "        [0.0108    , 0.0151    , 0.0104    , 0.0205    , 0.00709999],\n",
       "        [0.00999999, 0.01350001, 0.01279998, 0.01770002, 0.0079    ],\n",
       "        [0.00680006, 0.00940001, 0.01280004, 0.01109999, 0.0095    ],\n",
       "        [0.01440001, 0.00780001, 0.01370001, 0.00979996, 0.00810003]]),\n",
       " 'statistic_means': array([0.01288001, 0.01122003, 0.0155    , 0.01404   , 0.01287999,\n",
       "        0.01411999, 0.01256002, 0.01138   , 0.01312002, 0.01386001,\n",
       "        0.01336001, 0.01384   , 0.01148001, 0.01334001, 0.01154002,\n",
       "        0.01244002, 0.01306002, 0.00998001, 0.01246001, 0.01238   ,\n",
       "        0.01      , 0.01226   , 0.01008001, 0.01206001, 0.01396   ,\n",
       "        0.01000002, 0.01374001, 0.01206001, 0.01426   , 0.01612   ,\n",
       "        0.01118001, 0.01432   , 0.01014001, 0.01388   , 0.0098    ,\n",
       "        0.01497999, 0.0117    , 0.01524001, 0.01116   , 0.01204001,\n",
       "        0.01178002, 0.01388001, 0.01254   , 0.01392002, 0.01254001,\n",
       "        0.01296001, 0.01336001, 0.01180001, 0.01152   , 0.01328001,\n",
       "        0.01420001, 0.01292001, 0.01506   , 0.01126   , 0.01020001,\n",
       "        0.01104002, 0.01188   , 0.01176003, 0.01158001, 0.01280002,\n",
       "        0.01466001, 0.01138   , 0.01228001, 0.01036   , 0.01124001,\n",
       "        0.0126    , 0.01256   , 0.0127    , 0.01246001, 0.01178   ,\n",
       "        0.01133999, 0.01554001, 0.01254   , 0.01401999, 0.01418001,\n",
       "        0.01109999, 0.01084   , 0.01124001, 0.0125    , 0.01411999,\n",
       "        0.01084   , 0.01048002, 0.01638001, 0.01446001, 0.01106   ,\n",
       "        0.01098   , 0.01270002, 0.01622002, 0.01128002, 0.01274002,\n",
       "        0.01184001, 0.01280001, 0.01564   , 0.00884001, 0.01204   ,\n",
       "        0.01370001, 0.01278   , 0.01238   , 0.00992002, 0.01076   ]),\n",
       " 'statistic_stds': array([0.0050392 , 0.00391225, 0.00154144, 0.00446167, 0.00194669,\n",
       "        0.00549159, 0.0037114 , 0.0031701 , 0.00166543, 0.00338384,\n",
       "        0.00225351, 0.0044527 , 0.00174403, 0.00315949, 0.00271117,\n",
       "        0.00620633, 0.0036081 , 0.00082316, 0.00265752, 0.00228508,\n",
       "        0.00160374, 0.00204607, 0.00240283, 0.00404456, 0.0031866 ,\n",
       "        0.00187828, 0.00222134, 0.00392308, 0.00200957, 0.00172441,\n",
       "        0.00345623, 0.00518128, 0.00329763, 0.00312628, 0.0024924 ,\n",
       "        0.00585745, 0.00295771, 0.00486809, 0.00167045, 0.00268075,\n",
       "        0.00234898, 0.00230773, 0.00182931, 0.00198937, 0.0028345 ,\n",
       "        0.00294183, 0.00255938, 0.00407088, 0.00375203, 0.00269473,\n",
       "        0.0025393 , 0.0049588 , 0.00275434, 0.00310908, 0.00312025,\n",
       "        0.00403514, 0.00171394, 0.00396667, 0.0018798 , 0.00250679,\n",
       "        0.00299373, 0.00283084, 0.00368206, 0.00297563, 0.00117745,\n",
       "        0.00316732, 0.00354886, 0.0025807 , 0.00264243, 0.00296608,\n",
       "        0.00191479, 0.00533727, 0.00281042, 0.0027169 , 0.00571293,\n",
       "        0.00334604, 0.00183803, 0.00419171, 0.00250838, 0.00398167,\n",
       "        0.00174883, 0.00241196, 0.00281738, 0.00266429, 0.00336668,\n",
       "        0.00173019, 0.00232035, 0.00311603, 0.00294918, 0.00419074,\n",
       "        0.00241463, 0.0021624 , 0.00356067, 0.00078892, 0.00149211,\n",
       "        0.00388896, 0.0046223 , 0.00333071, 0.00199338, 0.00278036]),\n",
       " 'pvalue_lists': array([[0.84356338, 0.02141321, 0.15953898, 0.63986593, 0.90620512],\n",
       "        [0.10378742, 0.93490171, 0.44627738, 0.98876905, 0.38572848],\n",
       "        [0.16466999, 0.15453947, 0.22342992, 0.0841344 , 0.35744643],\n",
       "        [0.6637215 , 0.60420007, 0.01324069, 0.22342992, 0.47838926],\n",
       "        [0.56891394, 0.18651116, 0.60420007, 0.45685488, 0.21055257],\n",
       "        [0.47839421, 0.90620512, 0.29684097, 0.41536164, 0.005193  ],\n",
       "        [0.73457229, 0.43583322, 0.78013074, 0.04291743, 0.47838771],\n",
       "        [0.17532438, 0.95263773, 0.87216336, 0.28092968, 0.51158237],\n",
       "        [0.42552602, 0.33053458, 0.22343087, 0.6637215 , 0.23008645],\n",
       "        [0.62795293, 0.19231009, 0.04291797, 0.63986593, 0.33934999],\n",
       "        [0.25096452, 0.53424764, 0.17532283, 0.69936818, 0.18651116],\n",
       "        [0.24385881, 0.45685166, 0.02234244, 0.28092909, 0.9470948 ],\n",
       "        [0.80205697, 0.50040293, 0.56891394, 0.58061683, 0.24385464],\n",
       "        [0.34831828, 0.55727684, 0.15953898, 0.83351749, 0.09030652],\n",
       "        [0.23008859, 0.4568485 , 0.41535854, 0.47838771, 0.98413604],\n",
       "        [0.99498367, 0.93490171, 0.00962913, 0.19230831, 0.66371453],\n",
       "        [0.50040638, 0.73457229, 0.08717465, 0.11113262, 0.79117495],\n",
       "        [0.52286649, 0.76893336, 0.75759482, 0.78013074, 0.67563349],\n",
       "        [0.55727684, 0.89817226, 0.31337655, 0.33053458, 0.15453792],\n",
       "        [0.15953898, 0.65179205, 0.65179384, 0.25822639, 0.59238249],\n",
       "        [0.40534282, 0.59238076, 0.88981313, 0.85336179, 0.73457229],\n",
       "        [0.53424942, 0.20432901, 0.55727863, 0.273206  , 0.75759482],\n",
       "        [0.68752217, 0.28880739, 0.55727684, 0.88981426, 0.9670673 ],\n",
       "        [0.95263773, 0.59238076, 0.45685166, 0.0446291 , 0.63986593],\n",
       "        [0.40533996, 0.25096226, 0.04291821, 0.33934999, 0.7111789 ],\n",
       "        [0.3857314 , 0.61606199, 0.80205375, 0.66371453, 0.9626196 ],\n",
       "        [0.46755707, 0.18650949, 0.63986593, 0.26563936, 0.12710977],\n",
       "        [0.60420007, 0.12710845, 0.92125958, 0.8811397 , 0.11889929],\n",
       "        [0.51158237, 0.31337655, 0.08413529, 0.25096452, 0.28880858],\n",
       "        [0.28092968, 0.20432901, 0.06525993, 0.0841344 , 0.19824815],\n",
       "        [0.9670673 , 0.10378957, 0.60420007, 0.4675554 , 0.82324213],\n",
       "        [0.0069344 , 0.15953982, 0.55727684, 0.5923878 , 0.72291112],\n",
       "        [0.97830129, 0.95781237, 0.16993034, 0.50040704, 0.76893336],\n",
       "        [0.07024294, 0.22343087, 0.51158392, 0.78013396, 0.18650949],\n",
       "        [0.88981175, 0.30502933, 0.94118184, 0.92125958, 0.48933744],\n",
       "        [0.00299942, 0.16466999, 0.75759816, 0.23689765, 0.75760162],\n",
       "        [0.33053458, 0.40533996, 0.97115827, 0.18084824, 0.68752843],\n",
       "        [0.00572312, 0.47838771, 0.42552602, 0.56891394, 0.12710845],\n",
       "        [0.56891394, 0.71117187, 0.43583322, 0.31337655, 0.82324213],\n",
       "        [0.88981313, 0.65179384, 0.16466999, 0.273206  , 0.50040293],\n",
       "        [0.50040293, 0.58061683, 0.38572848, 0.89817476, 0.19230831],\n",
       "        [0.18651116, 0.0935303 , 0.54571724, 0.33053458, 0.48934066],\n",
       "        [0.66371804, 0.30502933, 0.23009062, 0.31337655, 0.65179384],\n",
       "        [0.14491093, 0.13577324, 0.35744095, 0.47838771, 0.4675554 ],\n",
       "        [0.69937539, 0.38572848, 0.2582221 , 0.1229502 , 0.82324213],\n",
       "        [0.07024294, 0.71117187, 0.31337404, 0.45685488, 0.59238327],\n",
       "        [0.27320719, 0.54571724, 0.0935303 , 0.29684341, 0.68752146],\n",
       "        [0.95781237, 0.16992801, 0.09685266, 0.89817226, 0.62795293],\n",
       "        [0.79118156, 0.91390467, 0.11889929, 0.8721661 , 0.19231009],\n",
       "        [0.28092861, 0.18651044, 0.68752146, 0.12294906, 0.67563021],\n",
       "        [0.65179384, 0.36671996, 0.15453792, 0.29684097, 0.0841344 ],\n",
       "        [0.3761487 , 0.8811397 , 0.65179384, 0.01324069, 0.62795293],\n",
       "        [0.10740912, 0.58061683, 0.41536462, 0.08717555, 0.11113262],\n",
       "        [0.60420007, 0.75759733, 0.13138342, 0.43583643, 0.95781237],\n",
       "        [0.66371804, 0.18084824, 0.58061862, 0.928258  , 0.98413593],\n",
       "        [0.9470914 , 0.59238076, 0.80205375, 0.81274796, 0.05835068],\n",
       "        [0.46755862, 0.23009062, 0.68752146, 0.68752146, 0.41536462],\n",
       "        [0.09685159, 0.23008645, 0.61605489, 0.68752146, 0.99498361],\n",
       "        [0.35744095, 0.47838771, 0.5572803 , 0.88981426, 0.32187486],\n",
       "        [0.6279493 , 0.11890054, 0.30502933, 0.34831548, 0.73457229],\n",
       "        [0.47838849, 0.43583643, 0.20432901, 0.29683852, 0.03380108],\n",
       "        [0.79118156, 0.41535854, 0.96706849, 0.25822425, 0.28880858],\n",
       "        [0.78013396, 0.12710845, 0.11890161, 0.88981175, 0.63986593],\n",
       "        [0.93490171, 0.81275117, 0.9470914 , 0.3483209 , 0.23689765],\n",
       "        [0.51158237, 0.72291291, 0.47838771, 0.69937181, 0.37615162],\n",
       "        [0.55727684, 0.952636  , 0.33934999, 0.23009062, 0.13138342],\n",
       "        [0.68752146, 0.28092968, 0.76893336, 0.05619222, 0.65179384],\n",
       "        [0.51158237, 0.41536462, 0.39546633, 0.76893336, 0.10027063],\n",
       "        [0.14491093, 0.73457229, 0.33053458, 0.79118156, 0.29683852],\n",
       "        [0.54571724, 0.73457229, 0.09030652, 0.72291112, 0.63987303],\n",
       "        [0.56891751, 0.7111789 , 0.44627738, 0.2438556 , 0.81274796],\n",
       "        [0.31337583, 0.72291112, 0.39546341, 0.14491093, 0.00315595],\n",
       "        [0.37615162, 0.65179384, 0.10740912, 0.33053458, 0.82324213],\n",
       "        [0.16466999, 0.43583953, 0.54571724, 0.44627738, 0.06525993],\n",
       "        [0.00727177, 0.58061683, 0.95781237, 0.47838771, 0.10740799],\n",
       "        [0.85336322, 0.14966297, 0.82324213, 0.27320832, 0.92125958],\n",
       "        [0.65179026, 0.3857342 , 0.35744643, 0.8721661 , 0.75759482],\n",
       "        [0.65179205, 0.43583322, 0.84356195, 0.99067718, 0.06288236],\n",
       "        [0.66371804, 0.12294906, 0.46755862, 0.72291291, 0.30502933],\n",
       "        [0.3857342 , 0.82324213, 0.53424942, 0.06058049, 0.05835068],\n",
       "        [0.72291291, 0.68752146, 0.50040793, 0.29683852, 0.83351749],\n",
       "        [0.88980925, 0.20432901, 0.66371453, 0.80205536, 0.73457229],\n",
       "        [0.21055257, 0.06058049, 0.36671996, 0.02871132, 0.23689765],\n",
       "        [0.39546049, 0.41536164, 0.24385881, 0.04291743, 0.36672139],\n",
       "        [0.83352041, 0.95781237, 0.10740799, 0.53424942, 0.60420007],\n",
       "        [0.79117495, 0.425529  , 0.83351749, 0.5457207 , 0.3483209 ],\n",
       "        [0.48933417, 0.23689568, 0.14491093, 0.61606199, 0.67563021],\n",
       "        [0.01965618, 0.2582221 , 0.44627738, 0.10740912, 0.15453792],\n",
       "        [0.72291112, 0.79117811, 0.23689765, 0.92125797, 0.21054888],\n",
       "        [0.06771171, 0.50040293, 0.12294906, 0.9470914 , 0.75759816],\n",
       "        [0.43583477, 0.63986593, 0.61606199, 0.14028126, 0.76893336],\n",
       "        [0.53424251, 0.31337655, 0.78013396, 0.23689765, 0.20432901],\n",
       "        [0.04823065, 0.33934999, 0.51158237, 0.32187998, 0.02991611],\n",
       "        [0.80205375, 0.928258  , 0.78013396, 0.71117538, 0.88981426],\n",
       "        [0.48934066, 0.30502933, 0.73457229, 0.31337655, 0.53424585],\n",
       "        [0.35744643, 0.27320719, 0.35744095, 0.90620512, 0.03380108],\n",
       "        [0.60420007, 0.20432901, 0.65179384, 0.02991611, 0.96262228],\n",
       "        [0.69937539, 0.32187748, 0.3857342 , 0.08717465, 0.91390443],\n",
       "        [0.97489822, 0.76893336, 0.38572848, 0.56891394, 0.75759816],\n",
       "        [0.25096452, 0.92125756, 0.30502933, 0.72291815, 0.89816993]]),\n",
       " 'pvalue_means': array([0.51411732, 0.57189281, 0.19684404, 0.39659629, 0.40540652,\n",
       "        0.42039899, 0.49436828, 0.55852751, 0.37465988, 0.36847938,\n",
       "        0.36928287, 0.39021536, 0.53916906, 0.39779162, 0.51296388,\n",
       "        0.55910747, 0.44489218, 0.70103178, 0.45077963, 0.46274675,\n",
       "        0.69509416, 0.46533158, 0.67809759, 0.53727304, 0.34994986,\n",
       "        0.68603625, 0.33733633, 0.53052142, 0.28977346, 0.16658024,\n",
       "        0.59317089, 0.40781   , 0.67507688, 0.35438024, 0.70932399,\n",
       "        0.38395337, 0.51508189, 0.32113185, 0.57050754, 0.49597718,\n",
       "        0.51144626, 0.32912679, 0.43280168, 0.31681365, 0.45790366,\n",
       "        0.4288054 , 0.37936392, 0.55014365, 0.57769234, 0.39070796,\n",
       "        0.31080542, 0.51005517, 0.26033975, 0.57736592, 0.66751577,\n",
       "        0.64252491, 0.49761136, 0.5250996 , 0.52095962, 0.42695339,\n",
       "        0.28983871, 0.54412829, 0.51116434, 0.65599257, 0.55768129,\n",
       "        0.44214737, 0.48907411, 0.43832346, 0.45960758, 0.54667604,\n",
       "        0.55659547, 0.31596345, 0.45782626, 0.33155282, 0.42629933,\n",
       "        0.60414724, 0.60494636, 0.59694935, 0.45643359, 0.37243139,\n",
       "        0.60823966, 0.65889609, 0.1806924 , 0.29286395, 0.60743805,\n",
       "        0.58885261, 0.4325666 , 0.19722054, 0.57655874, 0.47915065,\n",
       "        0.52019546, 0.41379594, 0.25019182, 0.82228707, 0.47531294,\n",
       "        0.38562015, 0.49057226, 0.48161323, 0.69121443, 0.6196679 ]),\n",
       " 'pvalue_stds': array([0.35960072, 0.33915198, 0.09168233, 0.24416937, 0.17594529,\n",
       "        0.29225298, 0.263381  , 0.3097739 , 0.16239626, 0.23615739,\n",
       "        0.21033065, 0.31088561, 0.1791235 , 0.27168054, 0.25135349,\n",
       "        0.39461883, 0.29875255, 0.09638941, 0.2579145 , 0.21073485,\n",
       "        0.17834154, 0.20181988, 0.24271826, 0.29504428, 0.21805221,\n",
       "        0.19263233, 0.19003473, 0.35020361, 0.13678481, 0.08070532,\n",
       "        0.29937477, 0.27496812, 0.30540989, 0.2576981 , 0.26195375,\n",
       "        0.31434374, 0.28126735, 0.21640298, 0.1832579 , 0.26030621,\n",
       "        0.23328928, 0.17229441, 0.18598916, 0.15020387, 0.26421832,\n",
       "        0.22323384, 0.21090957, 0.35872235, 0.34766125, 0.24278464,\n",
       "        0.1976835 , 0.29544848, 0.20112012, 0.28173531, 0.28727884,\n",
       "        0.31335604, 0.17399237, 0.32430659, 0.20276015, 0.22404227,\n",
       "        0.16111023, 0.28405093, 0.32669607, 0.3024581 , 0.13322409,\n",
       "        0.29187773, 0.27382151, 0.21508758, 0.25602128, 0.2380435 ,\n",
       "        0.19981906, 0.24455709, 0.25172138, 0.1836658 , 0.3424351 ,\n",
       "        0.32457601, 0.20308248, 0.32558656, 0.22281697, 0.29171563,\n",
       "        0.18909469, 0.23924749, 0.12343584, 0.13846402, 0.29300939,\n",
       "        0.19348679, 0.20832951, 0.14640184, 0.29517145, 0.34441684,\n",
       "        0.21763891, 0.21631661, 0.18478263, 0.07787405, 0.15881132,\n",
       "        0.28601044, 0.33342891, 0.2914056 , 0.1996009 , 0.28779157])}"
      ]
     },
     "execution_count": 19,
     "metadata": {},
     "output_type": "execute_result"
    }
   ],
   "source": [
    "KSTest.Test_tf(max_vectorize=100)\n",
    "KSTest.Results[-1].result_value"
   ]
  },
  {
   "cell_type": "markdown",
   "metadata": {},
   "source": [
    "### LR Test"
   ]
  },
  {
   "cell_type": "code",
   "execution_count": 20,
   "metadata": {},
   "outputs": [
    {
     "name": "stdout",
     "output_type": "stream",
     "text": [
      "\n",
      "------------------------------------------\n",
      "Starting LR metric calculation...\n",
      "Running TF LR calculation...\n",
      "niter = 100\n",
      "batch_size = 10000\n",
      "The dist_1_num tensor is empty. Batches will be generated 'on-the-fly' from dist_1_symb.\n",
      "The dist_2_num tensor is empty. Batches will be generated 'on-the-fly' from dist_2_symb.\n",
      "INFO:tensorflow:Using MirroredStrategy with devices ('/job:localhost/replica:0/task:0/device:GPU:0',)\n",
      "INFO:tensorflow:Using MirroredStrategy with devices ('/job:localhost/replica:0/task:0/device:GPU:0',)\n",
      "LR metric calculation completed in 16.49125451222062 seconds.\n"
     ]
    },
    {
     "data": {
      "text/plain": [
       "{'logprob_ref_ref_sum_list': array([-71122.35778678, -70997.08311632, -70945.30444864, -71212.53145864,\n",
       "        -71023.39321228, -70881.96161133, -70850.4958714 , -70833.69011229,\n",
       "        -71158.36375992, -70979.60110375, -70781.70154756, -70633.07070525,\n",
       "        -71171.07183999, -70964.73030259, -70993.16958503, -70966.18715412,\n",
       "        -70868.10813108, -71000.55827826, -71015.19665669, -70886.08186536,\n",
       "        -71068.44044019, -71133.5133569 , -71145.6357901 , -70999.88559598,\n",
       "        -71060.72781329, -70811.20784462, -70891.12994454, -70921.37040776,\n",
       "        -70944.9896813 , -70825.11917232, -70949.92511443, -71018.55673099,\n",
       "        -70832.88249438, -70779.90665855, -71007.33855508, -71147.37536696,\n",
       "        -70938.48282797, -70809.46691485, -71088.46522738, -71065.84795579,\n",
       "        -70740.43992664, -71274.98592255, -71025.25252887, -70668.13540263,\n",
       "        -70795.27884184, -71157.72379093, -70700.78734079, -70946.15733742,\n",
       "        -70866.95802175, -70937.8908087 , -70907.48809808, -70922.77297267,\n",
       "        -70594.62277834, -71127.92818809, -70653.30845655, -70956.4445636 ,\n",
       "        -70917.22600674, -71219.99332281, -71194.50569832, -70697.28909102,\n",
       "        -71295.3022751 , -71152.30606416, -70642.81209211, -70827.11011961,\n",
       "        -71031.19047229, -71155.18001245, -70977.99463446, -71071.03323743,\n",
       "        -71060.13028434, -71347.32180649, -71131.82945433, -70859.46367869,\n",
       "        -71118.66888863, -70841.91615951, -70982.31074552, -70916.7108538 ,\n",
       "        -71321.55886273, -71013.29416292, -70943.09311447, -71008.99490402,\n",
       "        -71019.96841102, -70723.0790666 , -71090.45675624, -70995.72692005,\n",
       "        -71114.35396265, -70986.12245481, -70707.45580638, -70734.1529212 ,\n",
       "        -71013.86979155, -70796.99320061, -70875.50873199, -71059.10689065,\n",
       "        -70889.76770488, -70885.07361123, -71051.20393063, -70887.28248943,\n",
       "        -71163.70144441, -70918.89319935, -71085.9777931 , -70946.12161834]),\n",
       " 'logprob_ref_alt_sum_list': array([-71243.0602118 , -71057.12995539, -71196.81154397, -71025.29075336,\n",
       "        -71094.30097809, -70989.29323142, -70978.20703479, -71097.62254839,\n",
       "        -71097.49199065, -70935.07342483, -71008.7598129 , -71076.09165265,\n",
       "        -70845.77660099, -71176.81666003, -70917.49913754, -71078.89706145,\n",
       "        -70986.79483966, -70991.18520108, -71062.18173638, -71037.2992344 ,\n",
       "        -70987.02353671, -71004.36242193, -70951.47284283, -71085.44466092,\n",
       "        -70951.99766255, -71166.35115155, -71225.83116266, -71087.70849346,\n",
       "        -71206.16650634, -71041.77777176, -71026.06957275, -71078.05908849,\n",
       "        -70889.06868119, -70910.15296515, -71191.47433934, -70941.25617993,\n",
       "        -71364.23754438, -71255.86909931, -70980.39082722, -70988.901445  ,\n",
       "        -70727.49955477, -71157.65005721, -70923.67137738, -71008.51743783,\n",
       "        -70916.64120102, -70888.81645526, -71078.77712981, -71078.96493217,\n",
       "        -71077.34858138, -71148.31989879, -71056.31094712, -71062.08365754,\n",
       "        -71333.48148042, -70895.11454524, -71005.64653145, -71381.00999072,\n",
       "        -71082.83527331, -71185.47376987, -70976.64591701, -70929.91328729,\n",
       "        -71006.2596742 , -71010.15848526, -71107.44870527, -71245.18263682,\n",
       "        -70759.80436363, -71051.09331682, -71045.6679035 , -70996.79262128,\n",
       "        -71216.58841302, -71088.74501455, -70798.57892956, -71189.33358208,\n",
       "        -70907.16100656, -70918.91707006, -70976.74025308, -71067.67023423,\n",
       "        -70805.94666294, -71018.45174766, -70852.51938264, -71074.0599287 ,\n",
       "        -71051.08087549, -71032.88661236, -71274.83275101, -71262.83487737,\n",
       "        -71024.49722901, -71202.73422073, -71241.21774945, -71269.11895876,\n",
       "        -71169.84649231, -71241.20456323, -71111.60766498, -71229.93057103,\n",
       "        -70911.13944189, -70975.92324766, -71012.60019442, -71226.35858756,\n",
       "        -71121.51595118, -71045.52487082, -70684.05156848, -70896.81594414]),\n",
       " 'logprob_alt_alt_sum_list': array([-71240.86458032, -71055.98231132, -71195.12475547, -71025.18362233,\n",
       "        -71093.95030768, -70988.18974385, -70978.24687584, -71096.85082889,\n",
       "        -71096.45209718, -70934.21069271, -71007.64324947, -71074.95276335,\n",
       "        -70846.81868693, -71176.08881377, -70918.26103001, -71078.77916282,\n",
       "        -70987.52714342, -70990.38280941, -71061.60844445, -71036.29479108,\n",
       "        -70987.63007102, -71003.28942032, -70950.56436879, -71083.93034028,\n",
       "        -70953.40004131, -71166.35934825, -71223.9149655 , -71087.07291299,\n",
       "        -71205.46670982, -71041.97314836, -71026.18209881, -71078.09655825,\n",
       "        -70889.47424165, -70909.66535587, -71188.73412857, -70940.26877991,\n",
       "        -71364.25206457, -71254.02275876, -70979.62635603, -70988.7546989 ,\n",
       "        -70726.36221304, -71155.98579736, -70922.80627315, -71008.90902236,\n",
       "        -70916.13855608, -70888.64547205, -71078.71243563, -71076.18955476,\n",
       "        -71076.83170609, -71148.19633211, -71057.32070036, -71062.72614023,\n",
       "        -71334.33092204, -70895.77555595, -71005.3472258 , -71380.04504804,\n",
       "        -71082.0973876 , -71184.1149105 , -70977.31423471, -70929.32589794,\n",
       "        -71006.48946435, -71008.41550051, -71106.7182686 , -71244.13440426,\n",
       "        -70762.0115391 , -71051.5293826 , -71044.80686301, -70996.00254373,\n",
       "        -71216.21946767, -71088.76240173, -70798.71941582, -71189.68539526,\n",
       "        -70904.94346575, -70918.29812735, -70976.19116497, -71067.37916919,\n",
       "        -70803.7387795 , -71018.40986892, -70853.2144878 , -71073.97338329,\n",
       "        -71050.98187027, -71031.92932108, -71272.51991465, -71260.52218207,\n",
       "        -71024.27509619, -71200.26700933, -71240.77755446, -71266.54580097,\n",
       "        -71169.64322608, -71239.97463013, -71110.8287129 , -71229.1428319 ,\n",
       "        -70910.97540515, -70976.02133594, -71012.27826881, -71226.32574232,\n",
       "        -71121.38332451, -71045.63875092, -70683.20386354, -70895.85095497]),\n",
       " 'lik_ratio_list': array([ 4.39126296,  2.29528816,  3.373577  ,  0.21426205,  0.7013408 ,\n",
       "         2.20697514, -0.07968208,  1.543439  ,  2.07978694,  1.72546423,\n",
       "         2.23312686,  2.2777786 , -2.08417187,  1.45569254, -1.52378493,\n",
       "         0.23579728, -1.46460752,  1.60478332,  1.14658388,  2.00888664,\n",
       "        -1.21306862,  2.14600322,  1.81694808,  3.02864128, -2.80475752,\n",
       "        -0.01639339,  3.83239431,  1.27116095,  1.39959303, -0.39075319,\n",
       "        -0.22505214, -0.07493953, -0.81112092,  0.97521856,  5.48042153,\n",
       "         1.97480003, -0.02904037,  3.69268111,  1.52894239,  0.2934922 ,\n",
       "         2.27468347,  3.32851969,  1.73020847, -0.78316907,  1.00528988,\n",
       "         0.34196643,  0.12938835,  5.55075482,  1.03375057,  0.24713335,\n",
       "        -2.01950648, -1.28496538, -1.69888323, -1.32202143,  0.59861129,\n",
       "         1.92988535,  1.47577142,  2.71771873, -1.33663541,  1.17477872,\n",
       "        -0.45958029,  3.48596949,  1.46087334,  2.09646512, -4.41435094,\n",
       "        -0.87213156,  1.72208099,  1.58015509,  0.73789069, -0.03477436,\n",
       "        -0.28097251, -0.70362636,  4.43508162,  1.23788544,  1.09817622,\n",
       "         0.58213008,  4.41576688,  0.08375749, -1.39021032,  0.17309082,\n",
       "         0.19801042,  1.91458257,  4.62567273,  4.6253906 ,  0.44426564,\n",
       "         4.93442279,  0.88039   ,  5.1463156 ,  0.40653247,  2.45986619,\n",
       "         1.55790416,  1.57547827,  0.32807347, -0.19617656,  0.64385123,\n",
       "         0.06569049,  0.26525334, -0.22776021,  1.69540987,  1.92997833]),\n",
       " 'lik_ratio_norm_list': array([ 0.04391263,  0.02295288,  0.03373577,  0.00214262,  0.00701341,\n",
       "         0.02206975, -0.00079682,  0.01543439,  0.02079787,  0.01725464,\n",
       "         0.02233127,  0.02277779, -0.02084172,  0.01455693, -0.01523785,\n",
       "         0.00235797, -0.01464608,  0.01604783,  0.01146584,  0.02008887,\n",
       "        -0.01213069,  0.02146003,  0.01816948,  0.03028641, -0.02804758,\n",
       "        -0.00016393,  0.03832394,  0.01271161,  0.01399593, -0.00390753,\n",
       "        -0.00225052, -0.0007494 , -0.00811121,  0.00975219,  0.05480422,\n",
       "         0.019748  , -0.0002904 ,  0.03692681,  0.01528942,  0.00293492,\n",
       "         0.02274683,  0.0332852 ,  0.01730208, -0.00783169,  0.0100529 ,\n",
       "         0.00341966,  0.00129388,  0.05550755,  0.01033751,  0.00247133,\n",
       "        -0.02019506, -0.01284965, -0.01698883, -0.01322021,  0.00598611,\n",
       "         0.01929885,  0.01475771,  0.02717719, -0.01336635,  0.01174779,\n",
       "        -0.0045958 ,  0.03485969,  0.01460873,  0.02096465, -0.04414351,\n",
       "        -0.00872132,  0.01722081,  0.01580155,  0.00737891, -0.00034774,\n",
       "        -0.00280973, -0.00703626,  0.04435082,  0.01237885,  0.01098176,\n",
       "         0.0058213 ,  0.04415767,  0.00083757, -0.0139021 ,  0.00173091,\n",
       "         0.0019801 ,  0.01914583,  0.04625673,  0.04625391,  0.00444266,\n",
       "         0.04934423,  0.0088039 ,  0.05146316,  0.00406532,  0.02459866,\n",
       "         0.01557904,  0.01575478,  0.00328073, -0.00196177,  0.00643851,\n",
       "         0.0006569 ,  0.00265253, -0.0022776 ,  0.0169541 ,  0.01929978])}"
      ]
     },
     "execution_count": 20,
     "metadata": {},
     "output_type": "execute_result"
    }
   ],
   "source": [
    "LRMetric.Test_tf()\n",
    "LRMetric.Results[-1].result_value"
   ]
  },
  {
   "cell_type": "markdown",
   "metadata": {},
   "source": [
    "### MultiKS Test"
   ]
  },
  {
   "cell_type": "code",
   "execution_count": 21,
   "metadata": {},
   "outputs": [
    {
     "name": "stdout",
     "output_type": "stream",
     "text": [
      "\n",
      "------------------------------------------\n",
      "Starting MultiKS tests calculation...\n",
      "Running TF MultiKS tests...\n",
      "niter = 100\n",
      "batch_size = 10000\n",
      "The dist_1_num tensor is empty. Batches will be generated 'on-the-fly' from dist_1_symb.\n",
      "The dist_2_num tensor is empty. Batches will be generated 'on-the-fly' from dist_2_symb.\n",
      "INFO:tensorflow:Using MirroredStrategy with devices ('/job:localhost/replica:0/task:0/device:GPU:0',)\n",
      "INFO:tensorflow:Using MirroredStrategy with devices ('/job:localhost/replica:0/task:0/device:GPU:0',)\n",
      "MultiKS tests calculation completed in 19.153131428174675 seconds.\n"
     ]
    },
    {
     "data": {
      "text/plain": [
       "{'metric_list': array([0.0141    , 0.0143    , 0.01449999, 0.01389998, 0.0149    ,\n",
       "        0.0176    , 0.0126    , 0.0176    , 0.01449999, 0.0131    ,\n",
       "        0.02429999, 0.02290004, 0.0167    , 0.01910001, 0.0187    ,\n",
       "        0.0202    , 0.01679999, 0.0156    , 0.01769999, 0.0124    ,\n",
       "        0.0149    , 0.0201    , 0.021     , 0.02200001, 0.01879999,\n",
       "        0.01970001, 0.0131    , 0.021     , 0.02069998, 0.01820001,\n",
       "        0.0141    , 0.01639998, 0.0161    , 0.01429999, 0.02180001,\n",
       "        0.01430002, 0.01860002, 0.01500002, 0.01930001, 0.01640001,\n",
       "        0.0192    , 0.01680002, 0.02000001, 0.01989999, 0.01980001,\n",
       "        0.01410002, 0.02219999, 0.0214    , 0.0223    , 0.01700002,\n",
       "        0.01800001, 0.01679999, 0.01699999, 0.0196    , 0.0123    ,\n",
       "        0.01429999, 0.02070004, 0.02590001, 0.0151    , 0.02219999,\n",
       "        0.01570001, 0.01800001, 0.01710001, 0.01659998, 0.02039999,\n",
       "        0.01990002, 0.0219    , 0.01530001, 0.01569999, 0.016     ,\n",
       "        0.0191    , 0.01609999, 0.0175    , 0.0184    , 0.01630001,\n",
       "        0.01450001, 0.02000001, 0.01920001, 0.01860002, 0.02489999,\n",
       "        0.0117    , 0.02219999, 0.01659998, 0.01660001, 0.01949999,\n",
       "        0.0177    , 0.02180001, 0.0223    , 0.01710001, 0.02180001,\n",
       "        0.01710001, 0.0149    , 0.02      , 0.0158    , 0.016     ,\n",
       "        0.01520002, 0.02849999, 0.01479998, 0.01589999, 0.0158    ])}"
      ]
     },
     "execution_count": 21,
     "metadata": {},
     "output_type": "execute_result"
    }
   ],
   "source": [
    "MultiKSTest.Test_tf()\n",
    "MultiKSTest.Results[-1].result_value"
   ]
  },
  {
   "cell_type": "markdown",
   "metadata": {},
   "source": [
    "### SKS Test"
   ]
  },
  {
   "cell_type": "code",
   "execution_count": 22,
   "metadata": {},
   "outputs": [
    {
     "name": "stdout",
     "output_type": "stream",
     "text": [
      "\n",
      "------------------------------------------\n",
      "Starting SKS metric calculation...\n",
      "Running TF SKS calculation...\n",
      "niter = 100\n",
      "batch_size = 10000\n",
      "The dist_1_num tensor is empty. Batches will be generated 'on-the-fly' from dist_1_symb.\n",
      "The dist_2_num tensor is empty. Batches will be generated 'on-the-fly' from dist_2_symb.\n",
      "INFO:tensorflow:Using MirroredStrategy with devices ('/job:localhost/replica:0/task:0/device:GPU:0',)\n",
      "INFO:tensorflow:Using MirroredStrategy with devices ('/job:localhost/replica:0/task:0/device:GPU:0',)\n",
      "WARNING:tensorflow:Using a while_loop for converting StridedSlice\n",
      "WARNING:tensorflow:Using a while_loop for converting StridedSlice\n",
      "WARNING:tensorflow:Using a while_loop for converting TopKV2\n",
      "WARNING:tensorflow:Using a while_loop for converting TopKV2\n",
      "WARNING:tensorflow:Using a while_loop for converting StridedSlice\n",
      "WARNING:tensorflow:Using a while_loop for converting StridedSlice\n",
      "WARNING:tensorflow:Using a while_loop for converting StridedSlice\n",
      "WARNING:tensorflow:Using a while_loop for converting StridedSlice\n",
      "SKS metric calculation completed in 31.295621445868164 seconds.\n"
     ]
    },
    {
     "data": {
      "text/plain": [
       "{'metric_lists': array([[0.01109999, 0.00939998, 0.0081    , ..., 0.01280004, 0.00680003,\n",
       "         0.0124    ],\n",
       "        [0.00840002, 0.00829998, 0.01440001, ..., 0.00710002, 0.01669997,\n",
       "         0.0079    ],\n",
       "        [0.0126    , 0.01319999, 0.009     , ..., 0.0072    , 0.02330005,\n",
       "         0.0131    ],\n",
       "        ...,\n",
       "        [0.01240003, 0.0094    , 0.0132    , ..., 0.00939998, 0.01429999,\n",
       "         0.00800002],\n",
       "        [0.0104    , 0.01369998, 0.0115    , ..., 0.0183    , 0.01210001,\n",
       "         0.01339999],\n",
       "        [0.00749999, 0.0115    , 0.00759998, ..., 0.01030004, 0.0122    ,\n",
       "         0.00739998]]),\n",
       " 'metric_means': array([0.01237401, 0.011442  , 0.01320601, 0.012035  , 0.01171801,\n",
       "        0.01117901, 0.011078  , 0.012075  , 0.011681  , 0.01228501,\n",
       "        0.012431  , 0.012968  , 0.01249601, 0.01034801, 0.01393901,\n",
       "        0.013564  , 0.009303  , 0.011152  , 0.01220001, 0.013155  ,\n",
       "        0.012076  , 0.013315  , 0.01191501, 0.01191401, 0.01241801,\n",
       "        0.01158601, 0.01299501, 0.011486  , 0.01033501, 0.01002901,\n",
       "        0.01053001, 0.01356201, 0.013649  , 0.010781  , 0.01185201,\n",
       "        0.011193  , 0.01113601, 0.01102401, 0.011154  , 0.011842  ,\n",
       "        0.01161701, 0.010556  , 0.011633  , 0.011481  , 0.01398701,\n",
       "        0.013345  , 0.01501401, 0.012465  , 0.01336501, 0.01241701,\n",
       "        0.01218301, 0.012517  , 0.011773  , 0.01118501, 0.01445301,\n",
       "        0.01009401, 0.010347  , 0.01084401, 0.013303  , 0.012463  ,\n",
       "        0.011148  , 0.01273101, 0.014877  , 0.01559701, 0.012429  ,\n",
       "        0.01148301, 0.011621  , 0.01232701, 0.012084  , 0.011214  ,\n",
       "        0.011851  , 0.01479201, 0.01472201, 0.01067101, 0.011065  ,\n",
       "        0.01549301, 0.01237401, 0.011445  , 0.01347701, 0.01314301,\n",
       "        0.014238  , 0.012721  , 0.01104501, 0.012061  , 0.011324  ,\n",
       "        0.010782  , 0.013123  , 0.01366001, 0.01174   , 0.01067101,\n",
       "        0.011934  , 0.01209801, 0.013973  , 0.01116101, 0.01193101,\n",
       "        0.011875  , 0.01187101, 0.01046101, 0.012415  , 0.011349  ]),\n",
       " 'metric_stds': array([0.00341158, 0.00289911, 0.00403692, 0.00338947, 0.00234186,\n",
       "        0.00279422, 0.00280519, 0.00328178, 0.00317499, 0.0041071 ,\n",
       "        0.00334038, 0.00303031, 0.00365746, 0.00231946, 0.00364576,\n",
       "        0.00428122, 0.00204467, 0.00268442, 0.0031644 , 0.00362947,\n",
       "        0.00330648, 0.00457824, 0.00302111, 0.00305172, 0.00370214,\n",
       "        0.00239879, 0.00385034, 0.00323537, 0.00236332, 0.00217441,\n",
       "        0.00273881, 0.0043289 , 0.00407496, 0.0024291 , 0.00312633,\n",
       "        0.00275076, 0.00282098, 0.00297268, 0.00221596, 0.00296315,\n",
       "        0.00288815, 0.00297977, 0.00333464, 0.00331517, 0.00425073,\n",
       "        0.00350732, 0.00383891, 0.00388601, 0.00397692, 0.00319108,\n",
       "        0.00334622, 0.00447468, 0.00351837, 0.00282437, 0.00490089,\n",
       "        0.00226922, 0.00238866, 0.00262169, 0.00323897, 0.00339107,\n",
       "        0.00283819, 0.00365625, 0.00474137, 0.00460609, 0.00281213,\n",
       "        0.00320194, 0.00308601, 0.0033747 , 0.00323087, 0.00304263,\n",
       "        0.00313772, 0.00507182, 0.00467927, 0.00240982, 0.00277609,\n",
       "        0.0056902 , 0.00357639, 0.00340374, 0.00381111, 0.00385137,\n",
       "        0.0040541 , 0.00353808, 0.00274625, 0.00310628, 0.00308798,\n",
       "        0.00268847, 0.0030811 , 0.00433017, 0.00284148, 0.00310594,\n",
       "        0.00331856, 0.00345957, 0.0038745 , 0.00222665, 0.0032708 ,\n",
       "        0.00321685, 0.00310928, 0.00266056, 0.0040911 , 0.00304629])}"
      ]
     },
     "execution_count": 22,
     "metadata": {},
     "output_type": "execute_result"
    }
   ],
   "source": [
    "#tf.config.run_functions_eagerly(True)#\n",
    "SKSTest.Test_tf(max_vectorize=100)\n",
    "SKSTest.Results[-1].result_value"
   ]
  },
  {
   "cell_type": "code",
   "execution_count": 23,
   "metadata": {},
   "outputs": [
    {
     "name": "stdout",
     "output_type": "stream",
     "text": [
      "\n",
      "------------------------------------------\n",
      "Starting SKS metric calculation...\n",
      "Running TF SKS calculation...\n",
      "niter = 100\n",
      "batch_size = 10000\n",
      "The dist_1_num tensor is empty. Batches will be generated 'on-the-fly' from dist_1_symb.\n",
      "The dist_2_num tensor is empty. Batches will be generated 'on-the-fly' from dist_2_symb.\n",
      "nchunks = 5\n",
      "Iterating from 0 to 20 out of 100 .\n",
      "INFO:tensorflow:Using MirroredStrategy with devices ('/job:localhost/replica:0/task:0/device:GPU:0',)\n",
      "INFO:tensorflow:Using MirroredStrategy with devices ('/job:localhost/replica:0/task:0/device:GPU:0',)\n",
      "WARNING:tensorflow:5 out of the last 203 calls to <function generate_and_clean_data_mirror_1 at 0x7fd4c0c1fe50> triggered tf.function retracing. Tracing is expensive and the excessive number of tracings could be due to (1) creating @tf.function repeatedly in a loop, (2) passing tensors with different shapes, (3) passing Python objects instead of tensors. For (1), please define your @tf.function outside of the loop. For (2), @tf.function has reduce_retracing=True option that can avoid unnecessary retracing. For (3), please refer to https://www.tensorflow.org/guide/function#controlling_retracing and https://www.tensorflow.org/api_docs/python/tf/function for  more details.\n",
      "WARNING:tensorflow:Using a while_loop for converting StridedSlice\n",
      "WARNING:tensorflow:Using a while_loop for converting StridedSlice\n",
      "WARNING:tensorflow:Using a while_loop for converting TopKV2\n",
      "WARNING:tensorflow:Using a while_loop for converting TopKV2\n",
      "WARNING:tensorflow:Using a while_loop for converting StridedSlice\n",
      "WARNING:tensorflow:Using a while_loop for converting StridedSlice\n",
      "WARNING:tensorflow:Using a while_loop for converting StridedSlice\n",
      "WARNING:tensorflow:Using a while_loop for converting StridedSlice\n",
      "Iterating from 20 to 40 out of 100 .\n",
      "WARNING:tensorflow:Using a while_loop for converting StridedSlice\n",
      "WARNING:tensorflow:Using a while_loop for converting StridedSlice\n",
      "WARNING:tensorflow:Using a while_loop for converting TopKV2\n",
      "WARNING:tensorflow:Using a while_loop for converting TopKV2\n",
      "WARNING:tensorflow:Using a while_loop for converting StridedSlice\n",
      "WARNING:tensorflow:Using a while_loop for converting StridedSlice\n",
      "WARNING:tensorflow:Using a while_loop for converting StridedSlice\n",
      "WARNING:tensorflow:Using a while_loop for converting StridedSlice\n",
      "Iterating from 40 to 60 out of 100 .\n",
      "WARNING:tensorflow:Using a while_loop for converting StridedSlice\n",
      "WARNING:tensorflow:Using a while_loop for converting StridedSlice\n",
      "WARNING:tensorflow:Using a while_loop for converting TopKV2\n",
      "WARNING:tensorflow:Using a while_loop for converting TopKV2\n",
      "WARNING:tensorflow:Using a while_loop for converting StridedSlice\n",
      "WARNING:tensorflow:Using a while_loop for converting StridedSlice\n",
      "WARNING:tensorflow:Using a while_loop for converting StridedSlice\n",
      "WARNING:tensorflow:Using a while_loop for converting StridedSlice\n",
      "Iterating from 60 to 80 out of 100 .\n",
      "WARNING:tensorflow:Using a while_loop for converting StridedSlice\n",
      "WARNING:tensorflow:Using a while_loop for converting StridedSlice\n",
      "WARNING:tensorflow:Using a while_loop for converting TopKV2\n",
      "WARNING:tensorflow:Using a while_loop for converting TopKV2\n",
      "WARNING:tensorflow:Using a while_loop for converting StridedSlice\n",
      "WARNING:tensorflow:Using a while_loop for converting StridedSlice\n",
      "WARNING:tensorflow:Using a while_loop for converting StridedSlice\n",
      "WARNING:tensorflow:Using a while_loop for converting StridedSlice\n",
      "Iterating from 80 to 100 out of 100 .\n",
      "WARNING:tensorflow:Using a while_loop for converting StridedSlice\n",
      "WARNING:tensorflow:Using a while_loop for converting StridedSlice\n",
      "WARNING:tensorflow:Using a while_loop for converting TopKV2\n",
      "WARNING:tensorflow:Using a while_loop for converting TopKV2\n",
      "WARNING:tensorflow:Using a while_loop for converting StridedSlice\n",
      "WARNING:tensorflow:Using a while_loop for converting StridedSlice\n",
      "WARNING:tensorflow:Using a while_loop for converting StridedSlice\n",
      "WARNING:tensorflow:Using a while_loop for converting StridedSlice\n",
      "SKS metric calculation completed in 51.64437641389668 seconds.\n"
     ]
    },
    {
     "data": {
      "text/plain": [
       "{'metric_lists': array([[0.0101    , 0.01069999, 0.01920003, ..., 0.01560003, 0.01090002,\n",
       "         0.01129997],\n",
       "        [0.01610005, 0.01209998, 0.00979999, ..., 0.0159    , 0.01470003,\n",
       "         0.009     ],\n",
       "        [0.01020002, 0.01109998, 0.0138    , ..., 0.0117    , 0.02350003,\n",
       "         0.01220001],\n",
       "        ...,\n",
       "        [0.01169997, 0.0122    , 0.01100001, ..., 0.0104    , 0.01090002,\n",
       "         0.00940001],\n",
       "        [0.00830001, 0.01410002, 0.0081    , ..., 0.00670004, 0.01319999,\n",
       "         0.0115    ],\n",
       "        [0.00889999, 0.0115    , 0.00569999, ..., 0.0122    , 0.00739998,\n",
       "         0.00910002]]),\n",
       " 'metric_means': array([0.01327   , 0.01190101, 0.01469301, 0.01079   , 0.01169101,\n",
       "        0.01345501, 0.01372101, 0.012122  , 0.01181   , 0.013218  ,\n",
       "        0.01265801, 0.01399501, 0.011882  , 0.01241601, 0.01292401,\n",
       "        0.01299501, 0.01189401, 0.009822  , 0.012706  , 0.011539  ,\n",
       "        0.01081501, 0.01235601, 0.01142301, 0.01133101, 0.01235301,\n",
       "        0.010625  , 0.01368801, 0.01231401, 0.012684  , 0.01263401,\n",
       "        0.01267   , 0.01422   , 0.01203901, 0.012227  , 0.01042601,\n",
       "        0.013536  , 0.01158601, 0.01323501, 0.011745  , 0.01253   ,\n",
       "        0.012166  , 0.01267601, 0.01226   , 0.01270101, 0.012185  ,\n",
       "        0.01281401, 0.012512  , 0.01409601, 0.01282201, 0.012804  ,\n",
       "        0.011705  , 0.01194501, 0.01474401, 0.012883  , 0.01180201,\n",
       "        0.011565  , 0.011627  , 0.01219101, 0.01085101, 0.01248901,\n",
       "        0.01264501, 0.01201   , 0.012811  , 0.01065   , 0.012336  ,\n",
       "        0.01179801, 0.01175201, 0.011675  , 0.01220201, 0.011107  ,\n",
       "        0.011353  , 0.01369101, 0.01392001, 0.011753  , 0.01474001,\n",
       "        0.01212501, 0.01059301, 0.011741  , 0.013351  , 0.01300701,\n",
       "        0.011517  , 0.01012401, 0.014978  , 0.013188  , 0.01161201,\n",
       "        0.01130301, 0.012454  , 0.01495301, 0.010934  , 0.010326  ,\n",
       "        0.01267001, 0.012572  , 0.014152  , 0.00988601, 0.012051  ,\n",
       "        0.013263  , 0.012609  , 0.012617  , 0.010676  , 0.01112   ]),\n",
       " 'metric_stds': array([0.00367452, 0.00387674, 0.00538476, 0.00234455, 0.00276696,\n",
       "        0.00386741, 0.00418391, 0.00312415, 0.00251752, 0.00351384,\n",
       "        0.00346405, 0.00448173, 0.0032277 , 0.00350464, 0.00402513,\n",
       "        0.00367887, 0.00288997, 0.00234574, 0.003369  , 0.00242714,\n",
       "        0.00263467, 0.00323021, 0.00280395, 0.00258784, 0.00395076,\n",
       "        0.00232905, 0.00469388, 0.00345653, 0.00381929, 0.00338772,\n",
       "        0.00410011, 0.00384427, 0.00352349, 0.00343764, 0.00280138,\n",
       "        0.0036667 , 0.00291596, 0.00418914, 0.00295615, 0.00321006,\n",
       "        0.00341854, 0.00336664, 0.00320858, 0.00392279, 0.00315637,\n",
       "        0.00362618, 0.00325719, 0.00435171, 0.00403012, 0.00415068,\n",
       "        0.0027906 , 0.00226475, 0.00524571, 0.00347494, 0.00320787,\n",
       "        0.00304996, 0.00284225, 0.00352925, 0.00284424, 0.00417614,\n",
       "        0.00381065, 0.00319445, 0.00417775, 0.00270505, 0.00334052,\n",
       "        0.00295154, 0.00333846, 0.0030265 , 0.00319227, 0.00299781,\n",
       "        0.00280237, 0.00456971, 0.00366966, 0.00266085, 0.00476527,\n",
       "        0.00322119, 0.00269979, 0.00366407, 0.00385156, 0.00366934,\n",
       "        0.00288007, 0.00216578, 0.00510941, 0.00358531, 0.00340415,\n",
       "        0.00276414, 0.00394876, 0.00482605, 0.00311952, 0.00250901,\n",
       "        0.0038596 , 0.00352469, 0.00454903, 0.00219276, 0.00308326,\n",
       "        0.00420418, 0.00392492, 0.00292257, 0.0028134 , 0.0031208 ])}"
      ]
     },
     "execution_count": 23,
     "metadata": {},
     "output_type": "execute_result"
    }
   ],
   "source": [
    "#tf.config.run_functions_eagerly(True)#\n",
    "SKSTest.Test_tf(max_vectorize=20)\n",
    "SKSTest.Results[-1].result_value"
   ]
  },
  {
   "cell_type": "markdown",
   "metadata": {},
   "source": [
    "### SWD Test"
   ]
  },
  {
   "cell_type": "code",
   "execution_count": 24,
   "metadata": {},
   "outputs": [
    {
     "name": "stdout",
     "output_type": "stream",
     "text": [
      "\n",
      "------------------------------------------\n",
      "Starting SWD metric calculation...\n",
      "Running TF SWD calculation...\n",
      "niter = 100\n",
      "batch_size = 10000\n",
      "The dist_1_num tensor is empty. Batches will be generated 'on-the-fly' from dist_1_symb.\n",
      "The dist_2_num tensor is empty. Batches will be generated 'on-the-fly' from dist_2_symb.\n",
      "INFO:tensorflow:Using MirroredStrategy with devices ('/job:localhost/replica:0/task:0/device:GPU:0',)\n",
      "INFO:tensorflow:Using MirroredStrategy with devices ('/job:localhost/replica:0/task:0/device:GPU:0',)\n",
      "WARNING:tensorflow:Using a while_loop for converting StridedSlice\n",
      "WARNING:tensorflow:Using a while_loop for converting StridedSlice\n",
      "WARNING:tensorflow:Using a while_loop for converting TopKV2\n",
      "WARNING:tensorflow:Using a while_loop for converting TopKV2\n",
      "SWD metric calculation completed in 25.397612144704908 seconds.\n"
     ]
    },
    {
     "data": {
      "text/plain": [
       "{'metric_lists': array([[0.02109074, 0.01611311, 0.01444374, ..., 0.01855509, 0.01239889,\n",
       "         0.01680351],\n",
       "        [0.01380003, 0.01042606, 0.02202222, ..., 0.00932223, 0.0177067 ,\n",
       "         0.01147555],\n",
       "        [0.02416267, 0.01218935, 0.01381469, ..., 0.01091553, 0.03472535,\n",
       "         0.01949777],\n",
       "        ...,\n",
       "        [0.01539123, 0.0146195 , 0.01641249, ..., 0.01569456, 0.01899798,\n",
       "         0.0104228 ],\n",
       "        [0.01658863, 0.02575276, 0.02136341, ..., 0.02866213, 0.01545548,\n",
       "         0.01932009],\n",
       "        [0.01099984, 0.01596476, 0.00999818, ..., 0.01277605, 0.02150151,\n",
       "         0.01020842]]),\n",
       " 'metric_means': array([0.019023  , 0.01716178, 0.02024052, 0.01634261, 0.01633826,\n",
       "        0.01629205, 0.01595578, 0.01786084, 0.01660539, 0.01775773,\n",
       "        0.01841084, 0.01978751, 0.01909857, 0.01492454, 0.02289222,\n",
       "        0.01946847, 0.01298747, 0.01661376, 0.01790238, 0.0195786 ,\n",
       "        0.018306  , 0.02129012, 0.01847467, 0.01808385, 0.01857158,\n",
       "        0.018253  , 0.02056439, 0.01724053, 0.01458455, 0.01447366,\n",
       "        0.01490069, 0.01967589, 0.02086751, 0.0166923 , 0.01656916,\n",
       "        0.0152742 , 0.01639933, 0.01623236, 0.01770254, 0.01690749,\n",
       "        0.01690468, 0.0144483 , 0.01750556, 0.01632851, 0.02210628,\n",
       "        0.02086134, 0.02387205, 0.01754919, 0.0195059 , 0.01988289,\n",
       "        0.01773568, 0.01829356, 0.01704542, 0.0163327 , 0.02299703,\n",
       "        0.01363956, 0.01478111, 0.01537166, 0.0201952 , 0.01763817,\n",
       "        0.0158864 , 0.01944189, 0.023428  , 0.02470485, 0.01905275,\n",
       "        0.01753281, 0.01785043, 0.01831943, 0.01756092, 0.01591624,\n",
       "        0.01754563, 0.02364321, 0.02342867, 0.0146992 , 0.0158809 ,\n",
       "        0.02457349, 0.01735408, 0.01694014, 0.02012951, 0.0210154 ,\n",
       "        0.020675  , 0.01823104, 0.01667555, 0.01757458, 0.0158112 ,\n",
       "        0.01502168, 0.02010523, 0.02302378, 0.01727078, 0.0148303 ,\n",
       "        0.0190746 , 0.0169745 , 0.02301196, 0.01623042, 0.01666485,\n",
       "        0.01652428, 0.0186171 , 0.01541659, 0.01861501, 0.01654119]),\n",
       " 'metric_stds': array([0.00561637, 0.00417975, 0.00690466, 0.00428709, 0.00322789,\n",
       "        0.00418223, 0.00404133, 0.00550085, 0.00464182, 0.0062333 ,\n",
       "        0.00509586, 0.00534319, 0.00576309, 0.00306752, 0.00755206,\n",
       "        0.00679906, 0.00311354, 0.00400813, 0.00546814, 0.00644586,\n",
       "        0.00508655, 0.00895089, 0.00456078, 0.00508881, 0.00570325,\n",
       "        0.00520067, 0.00711262, 0.00502696, 0.00320207, 0.00313153,\n",
       "        0.00355447, 0.00654664, 0.00683274, 0.00462138, 0.0044859 ,\n",
       "        0.00390646, 0.00397774, 0.00434308, 0.00374259, 0.00409564,\n",
       "        0.00382493, 0.00380042, 0.00456374, 0.00423833, 0.00770651,\n",
       "        0.00647861, 0.0069753 , 0.00581679, 0.0063885 , 0.00628362,\n",
       "        0.00505921, 0.00723651, 0.00453379, 0.00431836, 0.00913615,\n",
       "        0.00298717, 0.00287645, 0.00317526, 0.00561369, 0.00521703,\n",
       "        0.00367786, 0.00615384, 0.00912404, 0.00877385, 0.00563084,\n",
       "        0.00611356, 0.00544754, 0.0055135 , 0.00496766, 0.00402678,\n",
       "        0.0045599 , 0.00903736, 0.00902264, 0.00300428, 0.00428634,\n",
       "        0.00992984, 0.00467592, 0.00563577, 0.00616828, 0.00745802,\n",
       "        0.00593719, 0.00529691, 0.00413691, 0.00464551, 0.00388632,\n",
       "        0.0034488 , 0.00531759, 0.00958129, 0.00522753, 0.00347874,\n",
       "        0.0068453 , 0.00509016, 0.00674996, 0.00309851, 0.00431268,\n",
       "        0.00495632, 0.00564707, 0.00455746, 0.00695814, 0.00428866])}"
      ]
     },
     "execution_count": 24,
     "metadata": {},
     "output_type": "execute_result"
    }
   ],
   "source": [
    "SWDMetric.Test_tf(max_vectorize=100)\n",
    "SWDMetric.Results[-1].result_value"
   ]
  },
  {
   "cell_type": "code",
   "execution_count": 25,
   "metadata": {},
   "outputs": [
    {
     "name": "stdout",
     "output_type": "stream",
     "text": [
      "\n",
      "------------------------------------------\n",
      "Starting SWD metric calculation...\n",
      "Running TF SWD calculation...\n",
      "niter = 100\n",
      "batch_size = 10000\n",
      "The dist_1_num tensor is empty. Batches will be generated 'on-the-fly' from dist_1_symb.\n",
      "The dist_2_num tensor is empty. Batches will be generated 'on-the-fly' from dist_2_symb.\n",
      "nchunks = 5\n",
      "Iterating from 0 to 20 out of 100 .\n",
      "INFO:tensorflow:Using MirroredStrategy with devices ('/job:localhost/replica:0/task:0/device:GPU:0',)\n",
      "INFO:tensorflow:Using MirroredStrategy with devices ('/job:localhost/replica:0/task:0/device:GPU:0',)\n",
      "WARNING:tensorflow:Using a while_loop for converting StridedSlice\n",
      "WARNING:tensorflow:Using a while_loop for converting StridedSlice\n",
      "WARNING:tensorflow:Using a while_loop for converting TopKV2\n",
      "WARNING:tensorflow:Using a while_loop for converting TopKV2\n",
      "Iterating from 20 to 40 out of 100 .\n",
      "WARNING:tensorflow:Using a while_loop for converting StridedSlice\n",
      "WARNING:tensorflow:Using a while_loop for converting StridedSlice\n",
      "WARNING:tensorflow:Using a while_loop for converting TopKV2\n",
      "WARNING:tensorflow:Using a while_loop for converting TopKV2\n",
      "Iterating from 40 to 60 out of 100 .\n",
      "WARNING:tensorflow:Using a while_loop for converting StridedSlice\n",
      "WARNING:tensorflow:Using a while_loop for converting StridedSlice\n",
      "WARNING:tensorflow:Using a while_loop for converting TopKV2\n",
      "WARNING:tensorflow:Using a while_loop for converting TopKV2\n",
      "Iterating from 60 to 80 out of 100 .\n",
      "WARNING:tensorflow:Using a while_loop for converting StridedSlice\n",
      "WARNING:tensorflow:Using a while_loop for converting StridedSlice\n",
      "WARNING:tensorflow:Using a while_loop for converting TopKV2\n",
      "WARNING:tensorflow:Using a while_loop for converting TopKV2\n",
      "Iterating from 80 to 100 out of 100 .\n",
      "WARNING:tensorflow:Using a while_loop for converting StridedSlice\n",
      "WARNING:tensorflow:Using a while_loop for converting StridedSlice\n",
      "WARNING:tensorflow:Using a while_loop for converting TopKV2\n",
      "WARNING:tensorflow:Using a while_loop for converting TopKV2\n",
      "SWD metric calculation completed in 30.01362854614854 seconds.\n"
     ]
    },
    {
     "data": {
      "text/plain": [
       "{'metric_lists': array([[0.01942781, 0.02088098, 0.03387376, ..., 0.02185463, 0.01329031,\n",
       "         0.01644927],\n",
       "        [0.02353514, 0.01864871, 0.01136168, ..., 0.02218574, 0.02041629,\n",
       "         0.01441108],\n",
       "        [0.01553319, 0.01823029, 0.01724589, ..., 0.01905348, 0.03161396,\n",
       "         0.02151386],\n",
       "        ...,\n",
       "        [0.01868729, 0.02347051, 0.01940708, ..., 0.02067322, 0.01565038,\n",
       "         0.01445595],\n",
       "        [0.01290131, 0.01236447, 0.01458175, ..., 0.01160543, 0.01623518,\n",
       "         0.0159892 ],\n",
       "        [0.01354672, 0.02321601, 0.00816486, ..., 0.01915913, 0.01225124,\n",
       "         0.01167687]]),\n",
       " 'metric_means': array([0.01944555, 0.01752645, 0.02294285, 0.0151973 , 0.01745392,\n",
       "        0.02138766, 0.02141948, 0.01730466, 0.01667541, 0.02010209,\n",
       "        0.01861992, 0.02127924, 0.0175428 , 0.01989317, 0.01916358,\n",
       "        0.01824808, 0.01788354, 0.01365811, 0.0184432 , 0.01649976,\n",
       "        0.01548945, 0.01939683, 0.01750527, 0.01648026, 0.01919076,\n",
       "        0.01501218, 0.02102495, 0.01806018, 0.01876714, 0.02002635,\n",
       "        0.01900446, 0.02228712, 0.01868754, 0.01721467, 0.0149428 ,\n",
       "        0.02056413, 0.01670156, 0.01967589, 0.01785196, 0.01838521,\n",
       "        0.01821466, 0.01947281, 0.01766216, 0.01860204, 0.01762316,\n",
       "        0.01878711, 0.02022001, 0.02053091, 0.01901792, 0.01860373,\n",
       "        0.01841323, 0.01829804, 0.02387219, 0.01860098, 0.01713531,\n",
       "        0.01635751, 0.01744324, 0.01806247, 0.01507555, 0.01903595,\n",
       "        0.01979695, 0.01800291, 0.02033958, 0.01561887, 0.01937469,\n",
       "        0.01785173, 0.01664466, 0.01666219, 0.01849702, 0.01660748,\n",
       "        0.01645054, 0.02114149, 0.02106706, 0.01683771, 0.0226563 ,\n",
       "        0.01768429, 0.01477565, 0.01757272, 0.01966242, 0.01997964,\n",
       "        0.01681365, 0.01434987, 0.02385387, 0.02084549, 0.0164821 ,\n",
       "        0.01610922, 0.01804417, 0.02435764, 0.0157172 , 0.0150709 ,\n",
       "        0.01991772, 0.01863932, 0.02145534, 0.01360791, 0.01756542,\n",
       "        0.02052706, 0.01846117, 0.02048774, 0.01496428, 0.01677991]),\n",
       " 'metric_stds': array([0.00636483, 0.00532529, 0.00908029, 0.00304296, 0.00413922,\n",
       "        0.00737012, 0.00689457, 0.00489641, 0.00388896, 0.0063092 ,\n",
       "        0.00508898, 0.00744655, 0.00482661, 0.00738413, 0.005897  ,\n",
       "        0.00636171, 0.00527715, 0.00293894, 0.00542516, 0.00375336,\n",
       "        0.00425943, 0.00604118, 0.0048159 , 0.00403376, 0.00687899,\n",
       "        0.00310934, 0.00741976, 0.00581589, 0.00565208, 0.00625792,\n",
       "        0.00563858, 0.00663873, 0.00616662, 0.00450392, 0.00375731,\n",
       "        0.00709494, 0.00467653, 0.00727617, 0.00501487, 0.00425674,\n",
       "        0.00557563, 0.00601034, 0.00426793, 0.00554061, 0.00529154,\n",
       "        0.00574967, 0.00602544, 0.00628264, 0.00586191, 0.0064347 ,\n",
       "        0.00564459, 0.00333052, 0.00931166, 0.00492251, 0.00447894,\n",
       "        0.00404323, 0.00422636, 0.00577042, 0.00372183, 0.00726761,\n",
       "        0.00609924, 0.00589121, 0.00730979, 0.0040184 , 0.00547247,\n",
       "        0.00475995, 0.00468987, 0.00514541, 0.00542401, 0.00372236,\n",
       "        0.00390842, 0.00797016, 0.00614111, 0.00401724, 0.00830202,\n",
       "        0.00578877, 0.00369363, 0.00677682, 0.00612012, 0.00565341,\n",
       "        0.00378376, 0.0034542 , 0.00900166, 0.0065829 , 0.00456176,\n",
       "        0.0040882 , 0.0057122 , 0.01031766, 0.00400545, 0.00337235,\n",
       "        0.00720398, 0.00487014, 0.00642116, 0.00266527, 0.00422098,\n",
       "        0.0070575 , 0.00710541, 0.00571059, 0.00371732, 0.00474857])}"
      ]
     },
     "execution_count": 25,
     "metadata": {},
     "output_type": "execute_result"
    }
   ],
   "source": [
    "SWDMetric.Test_tf(max_vectorize=20)\n",
    "SWDMetric.Results[-1].result_value"
   ]
  },
  {
   "cell_type": "markdown",
   "metadata": {},
   "source": [
    "## Jetnet tests"
   ]
  },
  {
   "cell_type": "markdown",
   "metadata": {},
   "source": [
    "### FPD Test"
   ]
  },
  {
   "cell_type": "code",
   "execution_count": 3,
   "metadata": {},
   "outputs": [
    {
     "name": "stdout",
     "output_type": "stream",
     "text": [
      "Using numpy mode with TensorFlow inputs.\n",
      "Parsing input distribution...\n",
      "Input distribution is a tfp.distributions.Distribution object.\n",
      "Using numpy mode with TensorFlow inputs.\n",
      "Parsing input distribution...\n",
      "Input distribution is a tfp.distributions.Distribution object.\n"
     ]
    },
    {
     "name": "stdout",
     "output_type": "stream",
     "text": [
      "Generating dist_1_num and dist_2_num with tensorflow function.\n",
      "Checking and setting numerical distributions.\n",
      "Setting dist_num from dist_symb.\n",
      "Setting dist_num from dist_symb.\n",
      "nsamples 100000\n",
      "batch_size 10000\n",
      "niter 10\n",
      "niter * batch_size 100000\n",
      "small_sample True\n"
     ]
    }
   ],
   "source": [
    "TwoSampleTestInputs = GMetrics.TwoSampleTestInputs(dist_1_input = dist_1,\n",
    "                                                   dist_2_input = dist_2,\n",
    "                                                   niter = 10,\n",
    "                                                   batch_size_test = 10_000,\n",
    "                                                   batch_size_gen = 100,\n",
    "                                                   small_sample_threshold = 1e7,\n",
    "                                                   dtype_input = tf.float64,\n",
    "                                                   seed_input = 0,\n",
    "                                                   use_tf = False,\n",
    "                                                   mirror_strategy = False,\n",
    "                                                   verbose = True)\n",
    "print(\"nsamples\",TwoSampleTestInputs.nsamples)\n",
    "print(\"batch_size\",TwoSampleTestInputs.batch_size_test)\n",
    "print(\"niter\",TwoSampleTestInputs.niter)\n",
    "print(\"niter * batch_size\",TwoSampleTestInputs.niter*TwoSampleTestInputs.batch_size_test)\n",
    "print(\"small_sample\",TwoSampleTestInputs.small_sample)"
   ]
  },
  {
   "cell_type": "code",
   "execution_count": 11,
   "metadata": {},
   "outputs": [
    {
     "name": "stdout",
     "output_type": "stream",
     "text": [
      "------------------------------------------\n",
      "Starting FPD metric calculation...\n",
      "Running Jetnet FPD calculation...\n",
      "niter = 10\n",
      "batch_size = 10000\n"
     ]
    },
    {
     "name": "stderr",
     "output_type": "stream",
     "text": [
      "/local_data/scratch/rtorre/anaconda3/envs/tf2_9/lib/python3.8/site-packages/jetnet/evaluation/gen_metrics.py:698: RuntimeWarning: Recommended number of samples for FPD estimation is 50,000\n",
      "  warnings.warn(\"Recommended number of samples for FPD estimation is 50,000\", RuntimeWarning)\n"
     ]
    },
    {
     "name": "stdout",
     "output_type": "stream",
     "text": [
      "FPD metric calculation completed in 11.634189208038151 seconds.\n"
     ]
    }
   ],
   "source": [
    "d1 = np.array(TwoSampleTestInputs.dist_1_num).reshape(TwoSampleTestInputs.niter,TwoSampleTestInputs.batch_size_test,-1)\n",
    "d2 = np.array(TwoSampleTestInputs.dist_2_num).reshape(TwoSampleTestInputs.niter,TwoSampleTestInputs.batch_size_test,-1)\n",
    "print(\"------------------------------------------\")\n",
    "print(\"Starting FPD metric calculation...\")\n",
    "print(\"Running Jetnet FPD calculation...\")\n",
    "print(\"niter = 10\")\n",
    "print(\"batch_size = 10000\")\n",
    "start = timer()\n",
    "FPDResult = [JMetrics.fpd(s1,s2)[0] for s1,s2 in zip(d1,d2)]\n",
    "end = timer()\n",
    "print(f\"FPD metric calculation completed in {end-start} seconds.\")"
   ]
  },
  {
   "cell_type": "code",
   "execution_count": null,
   "metadata": {},
   "outputs": [
    {
     "data": {
      "text/plain": [
       "[0.00021711883420494262,\n",
       " 0.0003158271980843811,\n",
       " 0.00027361061888014936,\n",
       " 0.00023580432171927144,\n",
       " 0.00017307851172206515,\n",
       " 0.00019975293044208664,\n",
       " 0.000291297030758978,\n",
       " 0.00023017760328604512,\n",
       " 0.00018852383969245127,\n",
       " 0.00017794826133951485]"
      ]
     },
     "metadata": {},
     "output_type": "display_data"
    }
   ],
   "source": [
    "FPDResult"
   ]
  },
  {
   "cell_type": "markdown",
   "metadata": {},
   "source": [
    "### KPD Test"
   ]
  },
  {
   "cell_type": "code",
   "execution_count": 12,
   "metadata": {},
   "outputs": [
    {
     "name": "stdout",
     "output_type": "stream",
     "text": [
      "------------------------------------------\n",
      "Starting KPD metric calculation...\n",
      "Running Jetnet KPD calculation...\n",
      "niter = 10\n",
      "batch_size = 10000\n"
     ]
    },
    {
     "ename": "KeyboardInterrupt",
     "evalue": "",
     "output_type": "error",
     "traceback": [
      "\u001b[0;31m---------------------------------------------------------------------------\u001b[0m",
      "\u001b[0;31mKeyboardInterrupt\u001b[0m                         Traceback (most recent call last)",
      "\u001b[0;32m/tmp/ipykernel_49198/3997459068.py\u001b[0m in \u001b[0;36m<module>\u001b[0;34m\u001b[0m\n\u001b[1;32m      7\u001b[0m \u001b[0mprint\u001b[0m\u001b[0;34m(\u001b[0m\u001b[0;34m\"batch_size = 10000\"\u001b[0m\u001b[0;34m)\u001b[0m\u001b[0;34m\u001b[0m\u001b[0;34m\u001b[0m\u001b[0m\n\u001b[1;32m      8\u001b[0m \u001b[0mstart\u001b[0m \u001b[0;34m=\u001b[0m \u001b[0mtimer\u001b[0m\u001b[0;34m(\u001b[0m\u001b[0;34m)\u001b[0m\u001b[0;34m\u001b[0m\u001b[0;34m\u001b[0m\u001b[0m\n\u001b[0;32m----> 9\u001b[0;31m \u001b[0mKPDResult\u001b[0m \u001b[0;34m=\u001b[0m \u001b[0;34m[\u001b[0m\u001b[0mJMetrics\u001b[0m\u001b[0;34m.\u001b[0m\u001b[0mkpd\u001b[0m\u001b[0;34m(\u001b[0m\u001b[0ms1\u001b[0m\u001b[0;34m,\u001b[0m\u001b[0ms2\u001b[0m\u001b[0;34m)\u001b[0m\u001b[0;34m[\u001b[0m\u001b[0;36m0\u001b[0m\u001b[0;34m]\u001b[0m \u001b[0;32mfor\u001b[0m \u001b[0ms1\u001b[0m\u001b[0;34m,\u001b[0m\u001b[0ms2\u001b[0m \u001b[0;32min\u001b[0m \u001b[0mzip\u001b[0m\u001b[0;34m(\u001b[0m\u001b[0md1\u001b[0m\u001b[0;34m,\u001b[0m\u001b[0md2\u001b[0m\u001b[0;34m)\u001b[0m\u001b[0;34m]\u001b[0m\u001b[0;34m\u001b[0m\u001b[0;34m\u001b[0m\u001b[0m\n\u001b[0m\u001b[1;32m     10\u001b[0m \u001b[0mend\u001b[0m \u001b[0;34m=\u001b[0m \u001b[0mtimer\u001b[0m\u001b[0;34m(\u001b[0m\u001b[0;34m)\u001b[0m\u001b[0;34m\u001b[0m\u001b[0;34m\u001b[0m\u001b[0m\n\u001b[1;32m     11\u001b[0m \u001b[0mprint\u001b[0m\u001b[0;34m(\u001b[0m\u001b[0;34mf\"KPD metric calculation completed in {end-start} seconds.\"\u001b[0m\u001b[0;34m)\u001b[0m\u001b[0;34m\u001b[0m\u001b[0;34m\u001b[0m\u001b[0m\n",
      "\u001b[0;32m/tmp/ipykernel_49198/3997459068.py\u001b[0m in \u001b[0;36m<listcomp>\u001b[0;34m(.0)\u001b[0m\n\u001b[1;32m      7\u001b[0m \u001b[0mprint\u001b[0m\u001b[0;34m(\u001b[0m\u001b[0;34m\"batch_size = 10000\"\u001b[0m\u001b[0;34m)\u001b[0m\u001b[0;34m\u001b[0m\u001b[0;34m\u001b[0m\u001b[0m\n\u001b[1;32m      8\u001b[0m \u001b[0mstart\u001b[0m \u001b[0;34m=\u001b[0m \u001b[0mtimer\u001b[0m\u001b[0;34m(\u001b[0m\u001b[0;34m)\u001b[0m\u001b[0;34m\u001b[0m\u001b[0;34m\u001b[0m\u001b[0m\n\u001b[0;32m----> 9\u001b[0;31m \u001b[0mKPDResult\u001b[0m \u001b[0;34m=\u001b[0m \u001b[0;34m[\u001b[0m\u001b[0mJMetrics\u001b[0m\u001b[0;34m.\u001b[0m\u001b[0mkpd\u001b[0m\u001b[0;34m(\u001b[0m\u001b[0ms1\u001b[0m\u001b[0;34m,\u001b[0m\u001b[0ms2\u001b[0m\u001b[0;34m)\u001b[0m\u001b[0;34m[\u001b[0m\u001b[0;36m0\u001b[0m\u001b[0;34m]\u001b[0m \u001b[0;32mfor\u001b[0m \u001b[0ms1\u001b[0m\u001b[0;34m,\u001b[0m\u001b[0ms2\u001b[0m \u001b[0;32min\u001b[0m \u001b[0mzip\u001b[0m\u001b[0;34m(\u001b[0m\u001b[0md1\u001b[0m\u001b[0;34m,\u001b[0m\u001b[0md2\u001b[0m\u001b[0;34m)\u001b[0m\u001b[0;34m]\u001b[0m\u001b[0;34m\u001b[0m\u001b[0;34m\u001b[0m\u001b[0m\n\u001b[0m\u001b[1;32m     10\u001b[0m \u001b[0mend\u001b[0m \u001b[0;34m=\u001b[0m \u001b[0mtimer\u001b[0m\u001b[0;34m(\u001b[0m\u001b[0;34m)\u001b[0m\u001b[0;34m\u001b[0m\u001b[0;34m\u001b[0m\u001b[0m\n\u001b[1;32m     11\u001b[0m \u001b[0mprint\u001b[0m\u001b[0;34m(\u001b[0m\u001b[0;34mf\"KPD metric calculation completed in {end-start} seconds.\"\u001b[0m\u001b[0;34m)\u001b[0m\u001b[0;34m\u001b[0m\u001b[0;34m\u001b[0m\u001b[0m\n",
      "\u001b[0;32m/local_data/scratch/rtorre/anaconda3/envs/tf2_9/lib/python3.8/site-packages/jetnet/evaluation/gen_metrics.py\u001b[0m in \u001b[0;36mkpd\u001b[0;34m(real_features, gen_features, num_batches, batch_size, normalise, seed, num_threads)\u001b[0m\n\u001b[1;32m    833\u001b[0m \u001b[0;34m\u001b[0m\u001b[0m\n\u001b[1;32m    834\u001b[0m     \u001b[0;32mif\u001b[0m \u001b[0mnum_threads\u001b[0m \u001b[0;32mis\u001b[0m \u001b[0;32mNone\u001b[0m\u001b[0;34m:\u001b[0m\u001b[0;34m\u001b[0m\u001b[0;34m\u001b[0m\u001b[0m\n\u001b[0;32m--> 835\u001b[0;31m         \u001b[0mvals_point\u001b[0m \u001b[0;34m=\u001b[0m \u001b[0m_kpd_batches\u001b[0m\u001b[0;34m(\u001b[0m\u001b[0mX\u001b[0m\u001b[0;34m,\u001b[0m \u001b[0mY\u001b[0m\u001b[0;34m,\u001b[0m \u001b[0mnum_batches\u001b[0m\u001b[0;34m,\u001b[0m \u001b[0mbatch_size\u001b[0m\u001b[0;34m,\u001b[0m \u001b[0mseed\u001b[0m\u001b[0;34m)\u001b[0m\u001b[0;34m\u001b[0m\u001b[0;34m\u001b[0m\u001b[0m\n\u001b[0m\u001b[1;32m    836\u001b[0m     \u001b[0;32melse\u001b[0m\u001b[0;34m:\u001b[0m\u001b[0;34m\u001b[0m\u001b[0;34m\u001b[0m\u001b[0m\n\u001b[1;32m    837\u001b[0m         \u001b[0;32mif\u001b[0m \u001b[0mnum_threads\u001b[0m \u001b[0;34m>\u001b[0m \u001b[0;36m0\u001b[0m\u001b[0;34m:\u001b[0m\u001b[0;34m\u001b[0m\u001b[0;34m\u001b[0m\u001b[0m\n",
      "\u001b[0;32m/local_data/scratch/rtorre/anaconda3/envs/tf2_9/lib/python3.8/site-packages/jetnet/evaluation/gen_metrics.py\u001b[0m in \u001b[0;36m_kpd_batches\u001b[0;34m(X, Y, num_batches, batch_size, seed)\u001b[0m\n\u001b[1;32m    786\u001b[0m         \u001b[0mrand_sample2\u001b[0m \u001b[0;34m=\u001b[0m \u001b[0mY\u001b[0m\u001b[0;34m[\u001b[0m\u001b[0mrand2\u001b[0m\u001b[0;34m]\u001b[0m\u001b[0;34m\u001b[0m\u001b[0;34m\u001b[0m\u001b[0m\n\u001b[1;32m    787\u001b[0m \u001b[0;34m\u001b[0m\u001b[0m\n\u001b[0;32m--> 788\u001b[0;31m         \u001b[0mval\u001b[0m \u001b[0;34m=\u001b[0m \u001b[0m_mmd_poly_quadratic_unbiased\u001b[0m\u001b[0;34m(\u001b[0m\u001b[0mrand_sample1\u001b[0m\u001b[0;34m,\u001b[0m \u001b[0mrand_sample2\u001b[0m\u001b[0;34m)\u001b[0m\u001b[0;34m\u001b[0m\u001b[0;34m\u001b[0m\u001b[0m\n\u001b[0m\u001b[1;32m    789\u001b[0m         \u001b[0mvals_point\u001b[0m\u001b[0;34m.\u001b[0m\u001b[0mappend\u001b[0m\u001b[0;34m(\u001b[0m\u001b[0mval\u001b[0m\u001b[0;34m)\u001b[0m\u001b[0;34m\u001b[0m\u001b[0;34m\u001b[0m\u001b[0m\n\u001b[1;32m    790\u001b[0m \u001b[0;34m\u001b[0m\u001b[0m\n",
      "\u001b[0;31mKeyboardInterrupt\u001b[0m: "
     ]
    }
   ],
   "source": [
    "d1 = np.array(TwoSampleTestInputs.dist_1_num).reshape(TwoSampleTestInputs.niter,TwoSampleTestInputs.batch_size_test,-1)\n",
    "d2 = np.array(TwoSampleTestInputs.dist_2_num).reshape(TwoSampleTestInputs.niter,TwoSampleTestInputs.batch_size_test,-1)\n",
    "print(\"------------------------------------------\")\n",
    "print(\"Starting KPD metric calculation...\")\n",
    "print(\"Running Jetnet KPD calculation...\")\n",
    "print(\"niter = 10\")\n",
    "print(\"batch_size = 10000\")\n",
    "start = timer()\n",
    "KPDResult = [JMetrics.kpd(s1,s2)[0] for s1,s2 in zip(d1,d2)]\n",
    "end = timer()\n",
    "print(f\"KPD metric calculation completed in {end-start} seconds.\")"
   ]
  },
  {
   "cell_type": "code",
   "execution_count": null,
   "metadata": {},
   "outputs": [
    {
     "data": {
      "text/plain": [
       "[0.10191366092886689,\n",
       " 0.0799296299077179,\n",
       " 0.11171410289918526,\n",
       " 0.1536952109961831,\n",
       " -0.17934906441234943,\n",
       " -0.1042554083730014,\n",
       " 0.09455262272575826,\n",
       " -0.12348942207734659,\n",
       " 0.19918233408035757,\n",
       " 0.15004449810881493]"
      ]
     },
     "metadata": {},
     "output_type": "display_data"
    }
   ],
   "source": [
    "KPDResult"
   ]
  },
  {
   "cell_type": "code",
   "execution_count": 4,
   "metadata": {},
   "outputs": [],
   "source": [
    "from numpy.typing import ArrayLike\n",
    "from numba import njit, prange, set_num_threads\n",
    "from scipy.stats import iqr\n",
    "\n",
    "X = np.array(TwoSampleTestInputs.dist_1_num)[:10_000]\n",
    "Y = np.array(TwoSampleTestInputs.dist_2_num)[:10_000]"
   ]
  },
  {
   "cell_type": "code",
   "execution_count": 5,
   "metadata": {},
   "outputs": [],
   "source": [
    "def _poly_kernel_pairwise(X: ArrayLike, Y: ArrayLike, degree: int) -> np.ndarray:\n",
    "    \"\"\"Pairwise polynomial kernel of degree ``degree`` between X and Y\"\"\"\n",
    "    gamma = 1.0 / X.shape[-1]\n",
    "    return (X @ Y.T * gamma + 1.0) ** degree\n",
    "\n",
    "@njit\n",
    "def _poly_kernel_pairwise_compiled(X: ArrayLike, Y: ArrayLike, degree: int) -> np.ndarray:\n",
    "    \"\"\"Pairwise polynomial kernel of degree ``degree`` between X and Y\"\"\"\n",
    "    gamma = 1.0 / X.shape[-1]\n",
    "    return (X @ Y.T * gamma + 1.0) ** degree\n",
    "\n",
    "@tf.function(jit_compile=True)\n",
    "def _poly_kernel_pairwise_tf(X, Y, degree):\n",
    "    gamma = tf.cast(1.0, X.dtype) / tf.cast(tf.shape(X)[-1], X.dtype)\n",
    "    return tf.pow(tf.linalg.matmul(X, Y, transpose_b=True) * gamma + 1.0, degree)"
   ]
  },
  {
   "cell_type": "code",
   "execution_count": 6,
   "metadata": {},
   "outputs": [
    {
     "name": "stdout",
     "output_type": "stream",
     "text": [
      "X[0] = [-0.23996704 -0.7940307   1.63931164  2.71145073 -0.90790552]\n",
      "Y[0] = [-0.5684531  -2.14725651  0.06054185 -0.85779686  1.25558408]\n"
     ]
    },
    {
     "name": "stdout",
     "output_type": "stream",
     "text": [
      "np result [ 0.23326452  0.69533543  2.23488768 ...  1.09307324 12.7527977\n",
      "  0.42137306] computed in 6.523499866016209 seconds.\n",
      "np njit result [3.23384368e+03 4.19824216e+00 2.74021659e+03 ... 8.30164874e+00\n",
      " 6.67361534e+05 6.36926289e+02] computed in 2.677459759172052 seconds.\n",
      "tf result [ 0.23326452  0.69533543  2.23488768 ...  1.09307324 12.7527977\n",
      "  0.42137306] computed in 5.172051236964762 seconds.\n"
     ]
    }
   ],
   "source": [
    "print(f\"X[0] = {X[0]}\")\n",
    "print(f\"Y[0] = {Y[0]}\")\n",
    "start = timer()\n",
    "res_np = _poly_kernel_pairwise(X, Y, 4)\n",
    "end = timer()\n",
    "print(f\"np result {res_np[0]} computed in {end-start} seconds.\")\n",
    "start = timer()\n",
    "res_np_njit = _poly_kernel_pairwise_compiled(X, Y, 4)\n",
    "end = timer()\n",
    "print(f\"np njit result {res_np_njit[0]} computed in {end-start} seconds.\")\n",
    "start = timer()\n",
    "res_tf = _poly_kernel_pairwise_tf(X, Y, 4)\n",
    "end = timer()\n",
    "print(f\"tf result {res_tf[0]} computed in {end-start} seconds.\")"
   ]
  },
  {
   "cell_type": "code",
   "execution_count": 7,
   "metadata": {},
   "outputs": [],
   "source": [
    "def _mmd_quadratic_unbiased(XX: ArrayLike, YY: ArrayLike, XY: ArrayLike):\n",
    "    \"\"\"Calculate quadratic estimate for MMD given pairwise distances between X and Y\"\"\"\n",
    "    m, n = XX.shape[0], YY.shape[0]\n",
    "    # subtract diagonal 1s\n",
    "    return (\n",
    "        (XX.sum() - np.trace(XX)) / (m * (m - 1))\n",
    "        + (YY.sum() - np.trace(YY)) / (n * (n - 1))\n",
    "        - 2 * np.mean(XY))\n",
    "    \n",
    "@njit\n",
    "def _mmd_quadratic_unbiased_compiled(XX: ArrayLike, YY: ArrayLike, XY: ArrayLike):\n",
    "    \"\"\"Calculate quadratic estimate for MMD given pairwise distances between X and Y\"\"\"\n",
    "    m, n = XX.shape[0], YY.shape[0]\n",
    "    # subtract diagonal 1s\n",
    "    return (\n",
    "        (XX.sum() - np.trace(XX)) / (m * (m - 1))\n",
    "        + (YY.sum() - np.trace(YY)) / (n * (n - 1))\n",
    "        - 2 * np.mean(XY))\n",
    "    \n",
    "@tf.function(jit_compile=True)\n",
    "def _mmd_quadratic_unbiased_tf(XX, YY, XY):\n",
    "    m = tf.cast(tf.shape(XX)[0], XX.dtype)\n",
    "    n = tf.cast(tf.shape(YY)[0], YY.dtype)\n",
    "    return (tf.reduce_sum(XX) - tf.linalg.trace(XX)) / (m * (m - 1)) \\\n",
    "           + (tf.reduce_sum(YY) - tf.linalg.trace(YY)) / (n * (n - 1)) \\\n",
    "           - 2 * tf.reduce_mean(XY)"
   ]
  },
  {
   "cell_type": "code",
   "execution_count": 8,
   "metadata": {},
   "outputs": [],
   "source": [
    "XX = _poly_kernel_pairwise(X, X, degree=2)\n",
    "YY = _poly_kernel_pairwise(Y, Y, degree=2)\n",
    "XY = _poly_kernel_pairwise(X, Y, degree=2)"
   ]
  },
  {
   "cell_type": "code",
   "execution_count": 9,
   "metadata": {},
   "outputs": [
    {
     "name": "stdout",
     "output_type": "stream",
     "text": [
      "XX[0] = [1.09583100e+01 7.55214912e-01 1.16980924e-01 ... 1.35095661e-03\n",
      " 2.50390433e-01 2.17284137e+00]\n",
      "YY[0] = [6.00232518 1.92340716 1.66960703 ... 0.41960837 0.30236371 1.77563552]\n",
      "XY[0] = [0.48297466 0.83386775 1.49495407 ... 1.04550143 3.57110595 0.64913254]\n",
      "np result 0.00015766864370458933 computed in 0.2746531367301941 seconds.\n",
      "np njit result 0.00015766864560129434 computed in 0.7537028132937849 seconds.\n",
      "tf result 0.00015766864371880018 computed in 3.885398516897112 seconds.\n"
     ]
    }
   ],
   "source": [
    "print(f\"XX[0] = {XX[0]}\")\n",
    "print(f\"YY[0] = {YY[0]}\")\n",
    "print(f\"XY[0] = {XY[0]}\")\n",
    "start = timer()\n",
    "res_np = _mmd_quadratic_unbiased(XX, YY, XY)\n",
    "end = timer()\n",
    "print(f\"np result {res_np} computed in {end-start} seconds.\")\n",
    "start = timer()\n",
    "res_np_njit = _mmd_quadratic_unbiased_compiled(XX, YY, XY)\n",
    "end = timer()\n",
    "print(f\"np njit result {res_np_njit} computed in {end-start} seconds.\")\n",
    "start = timer()\n",
    "res_tf = _mmd_quadratic_unbiased_tf(XX, YY, XY)\n",
    "end = timer()\n",
    "print(f\"tf result {res_tf} computed in {end-start} seconds.\")"
   ]
  },
  {
   "cell_type": "code",
   "execution_count": 10,
   "metadata": {},
   "outputs": [],
   "source": [
    "def _mmd_poly_quadratic_unbiased(X: ArrayLike, Y: ArrayLike, degree: int = 4) -> float:\n",
    "    \"\"\"Calculate quadratic estimate for MMD with a polynomial kernel of degree ``degree``\"\"\"\n",
    "    XX = _poly_kernel_pairwise(X, X, degree=degree)\n",
    "    YY = _poly_kernel_pairwise(Y, Y, degree=degree)\n",
    "    XY = _poly_kernel_pairwise(X, Y, degree=degree)\n",
    "    return _mmd_quadratic_unbiased(XX, YY, XY)\n",
    "\n",
    "@njit\n",
    "def _mmd_poly_quadratic_unbiased_compiled(X: ArrayLike, Y: ArrayLike, degree: int = 4) -> float:\n",
    "    \"\"\"Calculate quadratic estimate for MMD with a polynomial kernel of degree ``degree``\"\"\"\n",
    "    XX = _poly_kernel_pairwise_compiled(X, X, degree=degree)\n",
    "    YY = _poly_kernel_pairwise_compiled(Y, Y, degree=degree)\n",
    "    XY = _poly_kernel_pairwise_compiled(X, Y, degree=degree)\n",
    "    return _mmd_quadratic_unbiased_compiled(XX, YY, XY)\n",
    "\n",
    "@tf.function(jit_compile=True)\n",
    "def _mmd_poly_quadratic_unbiased_tf(X, Y, degree=4):\n",
    "    XX = _poly_kernel_pairwise_tf(X, X, degree=degree)\n",
    "    YY = _poly_kernel_pairwise_tf(Y, Y, degree=degree)\n",
    "    XY = _poly_kernel_pairwise_tf(X, Y, degree=degree)\n",
    "    return _mmd_quadratic_unbiased_tf(XX, YY, XY)"
   ]
  },
  {
   "cell_type": "code",
   "execution_count": 11,
   "metadata": {},
   "outputs": [
    {
     "name": "stdout",
     "output_type": "stream",
     "text": [
      "X[0] = [-0.23996704 -0.7940307   1.63931164  2.71145073 -0.90790552]\n",
      "Y[0] = [-0.5684531  -2.14725651  0.06054185 -0.85779686  1.25558408]\n"
     ]
    },
    {
     "name": "stdout",
     "output_type": "stream",
     "text": [
      "np result 0.0008545656248477584 computed in 20.508854711893946 seconds.\n",
      "np njit result -1301.0829068376916 computed in 7.2376785962842405 seconds.\n",
      "tf result 0.0008545656248424294 computed in 1.020201823208481 seconds.\n"
     ]
    }
   ],
   "source": [
    "print(f\"X[0] = {X[0]}\")\n",
    "print(f\"Y[0] = {Y[0]}\")\n",
    "start = timer()\n",
    "res_np = _mmd_poly_quadratic_unbiased(X, Y, degree=4)\n",
    "end = timer()\n",
    "print(f\"np result {res_np} computed in {end-start} seconds.\")\n",
    "start = timer() \n",
    "res_np_njit = _mmd_poly_quadratic_unbiased_compiled(X, Y, degree=4)\n",
    "end = timer()\n",
    "print(f\"np njit result {res_np_njit} computed in {end-start} seconds.\")\n",
    "start = timer()\n",
    "res_tf = _mmd_poly_quadratic_unbiased_tf(X, Y, degree=4)\n",
    "end = timer()\n",
    "print(f\"tf result {res_tf} computed in {end-start} seconds.\")"
   ]
  },
  {
   "cell_type": "code",
   "execution_count": 12,
   "metadata": {},
   "outputs": [],
   "source": [
    "def _kpd_batches(X, Y, num_batches, batch_size, seed):\n",
    "    vals_point = []\n",
    "    for i in range(num_batches):\n",
    "        np.random.seed(seed + i * 1_000)\n",
    "        rand1 = np.random.choice(len(X), size=batch_size)\n",
    "        rand2 = np.random.choice(len(Y), size=batch_size)\n",
    "\n",
    "        rand_sample1 = X[rand1]\n",
    "        rand_sample2 = Y[rand2]\n",
    "\n",
    "        val = _mmd_poly_quadratic_unbiased(rand_sample1, rand_sample2)\n",
    "        vals_point.append(val)\n",
    "\n",
    "    return vals_point\n",
    "\n",
    "@njit(parallel=True)\n",
    "def _kpd_batches_parallel(X, Y, num_batches, batch_size, seed):\n",
    "    vals_point = np.zeros(num_batches, dtype=np.float64)\n",
    "    for i in prange(num_batches):\n",
    "        np.random.seed(seed + i * 1000)  # in case of multi-threading\n",
    "        rand1 = np.random.choice(len(X), size=batch_size)\n",
    "        rand2 = np.random.choice(len(Y), size=batch_size)\n",
    "\n",
    "        rand_sample1 = X[rand1]\n",
    "        rand_sample2 = Y[rand2]\n",
    "\n",
    "        val = _mmd_poly_quadratic_unbiased_compiled(rand_sample1, rand_sample2, degree=4)\n",
    "        vals_point[i] = val\n",
    "\n",
    "    return vals_point\n",
    "\n",
    "@tf.function(jit_compile=True)\n",
    "def _kpd_batches_tf(X, Y, num_batches, batch_size, seed):\n",
    "    vals_point = []\n",
    "    for i in range(num_batches):\n",
    "        tf.random.set_seed(seed + i * 1000)\n",
    "        rand1 = tf.random.uniform(shape=(batch_size,), minval=0, maxval=len(X), dtype=tf.int32)\n",
    "        rand2 = tf.random.uniform(shape=(batch_size,), minval=0, maxval=len(Y), dtype=tf.int32)\n",
    "        \n",
    "        rand_sample1 = tf.gather(X, rand1)\n",
    "        rand_sample2 = tf.gather(Y, rand2)\n",
    "\n",
    "        val = _mmd_poly_quadratic_unbiased_tf(rand_sample1, rand_sample2)\n",
    "        vals_point.append(val)\n",
    "    vals_point = tf.stack(vals_point)\n",
    "    return vals_point"
   ]
  },
  {
   "cell_type": "code",
   "execution_count": 23,
   "metadata": {},
   "outputs": [
    {
     "name": "stdout",
     "output_type": "stream",
     "text": [
      "X[0] = [-0.23996704 -0.7940307   1.63931164  2.71145073 -0.90790552]\n",
      "Y[0] = [-0.5684531  -2.14725651  0.06054185 -0.85779686  1.25558408]\n",
      "np result [-0.1254091521238685, 0.195738473673722, -0.027293622979322585, -0.07839786111071412, -0.06219736021454203, 0.11355592943788917, -0.11691377842527562, -0.18494873290895963, -0.16447388822740194, 0.010497979757301046] computed in 0.018750227987766266 seconds.\n"
     ]
    },
    {
     "name": "stdout",
     "output_type": "stream",
     "text": [
      "np njit result [-0.12540915  0.19573847 -0.02729362 -0.07839786 -0.06219736  0.11355593\n",
      " -0.11691378 -0.18494873 -0.16447389  0.01049798] computed in 3.244482960086316 seconds.\n",
      "tf result [ 0.10614752 -0.14000339  0.10036664 -0.03384948  0.11692506 -0.0754364\n",
      " -0.10301249 -0.01171646 -0.02066491 -0.08897503] computed in 6.007333888672292 seconds.\n"
     ]
    }
   ],
   "source": [
    "print(f\"X[0] = {X[0]}\")\n",
    "print(f\"Y[0] = {Y[0]}\")\n",
    "start = timer()\n",
    "res_np = _kpd_batches(X, Y, num_batches=10, batch_size=100, seed=0)\n",
    "end = timer()\n",
    "print(f\"np result {res_np} computed in {end-start} seconds.\")\n",
    "start = timer()\n",
    "res_np_njit = _kpd_batches_parallel(X, Y, num_batches=10, batch_size=100, seed=0)\n",
    "end = timer()\n",
    "print(f\"np njit result {res_np_njit} computed in {end-start} seconds.\")\n",
    "start = timer()\n",
    "res_tf = _kpd_batches_tf(X, Y, num_batches=10, batch_size=100, seed=0)\n",
    "end = timer()\n",
    "print(f\"tf result {res_tf} computed in {end-start} seconds.\")"
   ]
  },
  {
   "cell_type": "code",
   "execution_count": null,
   "metadata": {},
   "outputs": [],
   "source": []
  },
  {
   "cell_type": "code",
   "execution_count": 24,
   "metadata": {},
   "outputs": [],
   "source": [
    "def kpd(\n",
    "    X_input: np.ndarray,\n",
    "    Y_input: np.ndarray,\n",
    "    num_batches: int = 10,\n",
    "    batch_size: int = 5000,\n",
    "    normalise: bool = True,\n",
    "    seed: int = 42,\n",
    "    num_threads: int = None,\n",
    "    ) -> Tuple[float, float]:\n",
    "    \"\"\"Calculates the median and error of the kernel physics distance (KPD) between a set of real\n",
    "    and generated features, as defined in https://arxiv.org/abs/2211.10295.\n",
    "\n",
    "    It is recommended to use input sample sizes of at least 50,000, and the default values for other\n",
    "    input parameters for consistency with other measurements.\n",
    "\n",
    "    Similarly, for jets, it is recommended to use the set of EFPs as provided by the\n",
    "    ``get_fpd_kpd_jet_features`` method.\n",
    "\n",
    "    Args:\n",
    "        real_features (Union[Tensor, np.ndarray]): set of real features of shape\n",
    "          ``[num_samples, num_features]``.\n",
    "        gen_features (Union[Tensor, np.ndarray]): set of generated features of shape\n",
    "          ``[num_samples, num_features]``.\n",
    "        num_batches (int, optional): number of batches to average over. Defaults to 10.\n",
    "        batch_size (int, optional): size of each batch for which MMD is measured. Defaults to 5,000.\n",
    "        normalise (bool, optional): normalise the individual features over the full sample to have\n",
    "          the same scaling. Defaults to True.\n",
    "        seed (int, optional): random seed. Defaults to 42.\n",
    "        num_threads (int, optional): parallelize KPD through numba using this many threads. 0 means\n",
    "          numba's default number of threads, based on # of cores available. Defaults to None, i.e.\n",
    "          no parallelization.\n",
    "\n",
    "    Returns:\n",
    "        Tuple[float, float]: median and error of KPD.\n",
    "    \"\"\"\n",
    "    \n",
    "    if normalise:\n",
    "        X, Y = _normalise_features(X_input, Y_input) # type: ignore\n",
    "    else:\n",
    "        X, Y = X_input, Y_input\n",
    "    if num_threads is None:\n",
    "        vals_point = _kpd_batches(X, Y, num_batches, batch_size, seed)\n",
    "    else:\n",
    "        if num_threads > 0:\n",
    "            set_num_threads(num_threads)\n",
    "\n",
    "        vals_point = _kpd_batches_parallel(X, Y, num_batches, batch_size, seed)\n",
    "\n",
    "    # median, error = half of 16 - 84 IQR\n",
    "    return (np.median(vals_point), iqr(vals_point, rng=(16.275, 83.725)) / 2)\n",
    "\n",
    "\n",
    "def kpd_tf(\n",
    "    X_input: tf.Tensor,\n",
    "    Y_input: tf.Tensor,\n",
    "    num_batches: int = 10,\n",
    "    batch_size: int = 5000,\n",
    "    normalise: bool = True,\n",
    "    seed: int = 42,\n",
    "    num_threads: int = None,\n",
    "    ) -> (tf.Tensor, tf.Tensor):\n",
    "    \n",
    "    if normalise:\n",
    "        X, Y = _normalise_features_tf(X_input, Y_input)  # Assume this is a TF function\n",
    "    else:\n",
    "        X, Y = X_input, Y_input\n",
    "    \n",
    "    if num_threads is None:\n",
    "        vals_point = _kpd_batches_tf(X, Y, num_batches, batch_size, seed)  # Assume this is a TF function\n",
    "    else:\n",
    "        # TensorFlow handles multi-threading automatically, so we don't need to set threads manually.\n",
    "        vals_point = _kpd_batches_tf(X, Y, num_batches, batch_size, seed)  # Assume this is a TF function\n",
    "    \n",
    "    # Calculating median and IQR using TensorFlow\n",
    "    median = tfp.stats.percentile(vals_point, 50.0, axis=0)\n",
    "    iqr_value = iqr_tf(vals_point, rng=(16.275, 83.725)) / 2  # Assume this is a TF function\n",
    "    \n",
    "    return (median, iqr_value)\n"
   ]
  },
  {
   "cell_type": "code",
   "execution_count": 26,
   "metadata": {},
   "outputs": [
    {
     "name": "stdout",
     "output_type": "stream",
     "text": [
      "d1.shape = (10000, 5)\n",
      "np result (-0.012937978482451484, 0.2632910392839428) computed in 16.325843856669962 seconds.\n"
     ]
    },
    {
     "ename": "NameError",
     "evalue": "name '_normalise_features' is not defined",
     "output_type": "error",
     "traceback": [
      "\u001b[0;31m---------------------------------------------------------------------------\u001b[0m",
      "\u001b[0;31mNameError\u001b[0m                                 Traceback (most recent call last)",
      "\u001b[0;32m/tmp/ipykernel_49198/2035005060.py\u001b[0m in \u001b[0;36m<module>\u001b[0;34m\u001b[0m\n\u001b[1;32m      7\u001b[0m \u001b[0mprint\u001b[0m\u001b[0;34m(\u001b[0m\u001b[0;34mf\"np result {res_np_1} computed in {end-start} seconds.\"\u001b[0m\u001b[0;34m)\u001b[0m\u001b[0;34m\u001b[0m\u001b[0;34m\u001b[0m\u001b[0m\n\u001b[1;32m      8\u001b[0m \u001b[0mstart\u001b[0m \u001b[0;34m=\u001b[0m \u001b[0mtimer\u001b[0m\u001b[0;34m(\u001b[0m\u001b[0;34m)\u001b[0m\u001b[0;34m\u001b[0m\u001b[0;34m\u001b[0m\u001b[0m\n\u001b[0;32m----> 9\u001b[0;31m \u001b[0mres_np_2\u001b[0m \u001b[0;34m=\u001b[0m \u001b[0mkpd\u001b[0m\u001b[0;34m(\u001b[0m\u001b[0md1\u001b[0m\u001b[0;34m,\u001b[0m\u001b[0md2\u001b[0m\u001b[0;34m)\u001b[0m\u001b[0;34m\u001b[0m\u001b[0;34m\u001b[0m\u001b[0m\n\u001b[0m\u001b[1;32m     10\u001b[0m \u001b[0mend\u001b[0m \u001b[0;34m=\u001b[0m \u001b[0mtimer\u001b[0m\u001b[0;34m(\u001b[0m\u001b[0;34m)\u001b[0m\u001b[0;34m\u001b[0m\u001b[0;34m\u001b[0m\u001b[0m\n\u001b[1;32m     11\u001b[0m \u001b[0mprint\u001b[0m\u001b[0;34m(\u001b[0m\u001b[0;34mf\"np result {res_np_2} computed in {end-start} seconds.\"\u001b[0m\u001b[0;34m)\u001b[0m\u001b[0;34m\u001b[0m\u001b[0;34m\u001b[0m\u001b[0m\n",
      "\u001b[0;32m/tmp/ipykernel_49198/385140188.py\u001b[0m in \u001b[0;36mkpd\u001b[0;34m(X_input, Y_input, num_batches, batch_size, normalise, seed, num_threads)\u001b[0m\n\u001b[1;32m     36\u001b[0m \u001b[0;34m\u001b[0m\u001b[0m\n\u001b[1;32m     37\u001b[0m     \u001b[0;32mif\u001b[0m \u001b[0mnormalise\u001b[0m\u001b[0;34m:\u001b[0m\u001b[0;34m\u001b[0m\u001b[0;34m\u001b[0m\u001b[0m\n\u001b[0;32m---> 38\u001b[0;31m         \u001b[0mX\u001b[0m\u001b[0;34m,\u001b[0m \u001b[0mY\u001b[0m \u001b[0;34m=\u001b[0m \u001b[0m_normalise_features\u001b[0m\u001b[0;34m(\u001b[0m\u001b[0mX_input\u001b[0m\u001b[0;34m,\u001b[0m \u001b[0mY_input\u001b[0m\u001b[0;34m)\u001b[0m \u001b[0;31m# type: ignore\u001b[0m\u001b[0;34m\u001b[0m\u001b[0;34m\u001b[0m\u001b[0m\n\u001b[0m\u001b[1;32m     39\u001b[0m     \u001b[0;32melse\u001b[0m\u001b[0;34m:\u001b[0m\u001b[0;34m\u001b[0m\u001b[0;34m\u001b[0m\u001b[0m\n\u001b[1;32m     40\u001b[0m         \u001b[0mX\u001b[0m\u001b[0;34m,\u001b[0m \u001b[0mY\u001b[0m \u001b[0;34m=\u001b[0m \u001b[0mX_input\u001b[0m\u001b[0;34m,\u001b[0m \u001b[0mY_input\u001b[0m\u001b[0;34m\u001b[0m\u001b[0;34m\u001b[0m\u001b[0m\n",
      "\u001b[0;31mNameError\u001b[0m: name '_normalise_features' is not defined"
     ]
    }
   ],
   "source": [
    "d1 = np.array(TwoSampleTestInputs.dist_1_num)[:10_000]\n",
    "d2 = np.array(TwoSampleTestInputs.dist_2_num)[:10_000]\n",
    "print(f\"d1.shape = {d1.shape}\")\n",
    "start = timer()\n",
    "res_np_1 = JMetrics.kpd(d1,d2)\n",
    "end = timer()\n",
    "print(f\"np result {res_np_1} computed in {end-start} seconds.\")\n",
    "start = timer()\n",
    "res_np_2 = kpd(d1,d2)\n",
    "end = timer()\n",
    "print(f\"np result {res_np_2} computed in {end-start} seconds.\")\n",
    "start = timer()\n",
    "res_tf = kpd_tf(d1,d2)\n",
    "end = timer()\n",
    "print(f\"tf result {res_tf} computed in {end-start} seconds.\")"
   ]
  },
  {
   "cell_type": "code",
   "execution_count": null,
   "metadata": {},
   "outputs": [],
   "source": []
  }
 ],
 "metadata": {
  "kernelspec": {
   "display_name": "tf2_12",
   "language": "python",
   "name": "python3"
  },
  "language_info": {
   "codemirror_mode": {
    "name": "ipython",
    "version": 3
   },
   "file_extension": ".py",
   "mimetype": "text/x-python",
   "name": "python",
   "nbconvert_exporter": "python",
   "pygments_lexer": "ipython3",
   "version": "3.10.11"
  },
  "orig_nbformat": 4
 },
 "nbformat": 4,
 "nbformat_minor": 2
}
