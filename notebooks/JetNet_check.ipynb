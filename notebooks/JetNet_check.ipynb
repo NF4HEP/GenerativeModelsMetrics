{
 "cells": [
  {
   "cell_type": "code",
   "execution_count": 2,
   "metadata": {},
   "outputs": [],
   "source": [
    "import numpy as np\n",
    "from jetnet.evaluation import gen_metrics as JMetrics"
   ]
  },
  {
   "cell_type": "code",
   "execution_count": 21,
   "metadata": {},
   "outputs": [],
   "source": [
    "# Mean and covariance of the distribution\n",
    "mean = [0, 0]\n",
    "cov = [[1, 0.25], [0.25, 1]]\n",
    "\n",
    "# Number of samples to draw\n",
    "msamples = 50000\n",
    "\n",
    "# Generate random samples\n",
    "s1 = np.random.multivariate_normal(mean, cov, msamples)\n",
    "s2 = np.random.multivariate_normal(mean, cov, msamples)"
   ]
  },
  {
   "cell_type": "code",
   "execution_count": 23,
   "metadata": {},
   "outputs": [
    {
     "name": "stderr",
     "output_type": "stream",
     "text": [
      "/local_data/scratch/rtorre/anaconda3/envs/tf2_12/lib/python3.10/site-packages/jetnet/evaluation/gen_metrics.py:692: RuntimeWarning: Recommended number of samples for FPD estimation is 50,000\n",
      "  warnings.warn(\"Recommended number of samples for FPD estimation is 50,000\", RuntimeWarning)\n"
     ]
    },
    {
     "name": "stdout",
     "output_type": "stream",
     "text": [
      "nmax = 25000 -> fpd = (4.5737524846083104e-05, 9.696293930697564e-05)\n",
      "nmax = 30000 -> fpd = (4.447511883879187e-05, 5.654388665708205e-05)\n",
      "nmax = 35000 -> fpd = (4.500436265045074e-05, 4.0575427857685e-05)\n",
      "nmax = 40000 -> fpd = (4.356617704453224e-05, 3.546873980320875e-05)\n",
      "nmax = 45000 -> fpd = (4.389503344797669e-05, 3.055361017472189e-05)\n",
      "nmax = 50000 -> fpd = (4.047103116795065e-05, 3.0400836607069415e-05)\n"
     ]
    }
   ],
   "source": [
    "for nmax in [25_000,30_000,35_000,40_000,45_000,50_000]:\n",
    "    fpd = JMetrics.fpd(real_features = s1[:nmax],\n",
    "                       gen_features = s2[:nmax],\n",
    "                       min_samples = 20_000,\n",
    "                       max_samples = nmax,\n",
    "                       num_batches = 20,\n",
    "                       num_points = 10,\n",
    "                       normalise = True,\n",
    "                       seed = 42)\n",
    "    print(f\"nmax = {nmax} -> fpd = {fpd}\")"
   ]
  },
  {
   "cell_type": "code",
   "execution_count": 24,
   "metadata": {},
   "outputs": [
    {
     "name": "stdout",
     "output_type": "stream",
     "text": [
      "batch_size = 100 -> kpd = (-0.0003314945349970344, 0.003898837674629634)\n",
      "batch_size = 1000 -> kpd = (-1.5016390968014548e-05, 0.0002557974962456074)\n",
      "batch_size = 1500 -> kpd = (-0.00012330615918720866, 0.0001294481074076349)\n",
      "batch_size = 2000 -> kpd = (-0.00014640120071152118, 0.00012071482781164188)\n",
      "batch_size = 3000 -> kpd = (-4.3706202375703995e-05, 0.00010787633041999788)\n",
      "batch_size = 5000 -> kpd = (-1.61452025453368e-05, 6.35810219467201e-05)\n"
     ]
    }
   ],
   "source": [
    "for batch_size in [100,1_000,1_500,2_000,3_000,5_000]:\n",
    "    kpd = JMetrics.kpd(real_features = s1[:nmax],\n",
    "                       gen_features = s2[:nmax],\n",
    "                       num_batches = 10,\n",
    "                       batch_size = batch_size,\n",
    "                       normalise = True,\n",
    "                       seed = 42,\n",
    "                       num_threads = None)\n",
    "    print(f\"batch_size = {batch_size} -> kpd = {kpd}\")"
   ]
  },
  {
   "cell_type": "code",
   "execution_count": null,
   "metadata": {},
   "outputs": [],
   "source": []
  }
 ],
 "metadata": {
  "kernelspec": {
   "display_name": "tf2_12",
   "language": "python",
   "name": "python3"
  },
  "language_info": {
   "codemirror_mode": {
    "name": "ipython",
    "version": 3
   },
   "file_extension": ".py",
   "mimetype": "text/x-python",
   "name": "python",
   "nbconvert_exporter": "python",
   "pygments_lexer": "ipython3",
   "version": "3.10.11"
  }
 },
 "nbformat": 4,
 "nbformat_minor": 2
}
