{
 "cells": [
  {
   "cell_type": "markdown",
   "metadata": {},
   "source": [
    "https://arxiv.org/pdf/2211.10295.pdf"
   ]
  },
  {
   "attachments": {},
   "cell_type": "markdown",
   "metadata": {},
   "source": [
    "# 1 Initialize"
   ]
  },
  {
   "cell_type": "code",
   "execution_count": 1,
   "metadata": {},
   "outputs": [
    {
     "name": "stdout",
     "output_type": "stream",
     "text": [
      "2023-12-20 14:16:32.007861: Importing os...\n",
      "2023-12-20 14:16:32.008258: Importing sys...\n",
      "Visible devices: [0]\n",
      "2023-12-20 14:16:32.008892: Importing timer from timeit...\n",
      "2023-12-20 14:16:32.009038: Setting env variables for tf import (only device [0] will be available)...\n",
      "2023-12-20 14:16:32.009305: Importing numpy...\n",
      "2023-12-20 14:16:32.156978: Importing matplotlib...\n",
      "2023-12-20 14:16:32.518536: Importing h5py...\n",
      "2023-12-20 14:16:32.538907: Importing importlib.util...\n",
      "2023-12-20 14:16:32.539014: Importing json...\n",
      "2023-12-20 14:16:32.539078: Importing pandas...\n",
      "2023-12-20 14:16:32.818027: Importing random...\n",
      "2023-12-20 14:16:32.818187: Importing scipy utils...\n",
      "2023-12-20 14:16:33.145905: Importing subprocess...\n",
      "2023-12-20 14:16:33.146072: Importing tensorflow...\n",
      "Tensorflow version: 2.12.0\n",
      "2023-12-20 14:16:35.496525: Importing tensorflow_probability...\n",
      "Tensorflow probability version: 0.20.1\n",
      "2023-12-20 14:16:35.765915: Importing timeit...\n",
      "2023-12-20 14:16:35.766022: Importing tqdm...\n",
      "2023-12-20 14:16:35.769702: Importing typing...\n",
      "2023-12-20 14:16:35.769827: Setting tf configs...\n",
      "2023-12-20 14:16:36.017492: Importing GMetrics module...\n",
      "2023-12-20 14:16:38.879136: Importing jetnet.evaluation.gen_metrics module...\n",
      "Successfully loaded GPU model: NVIDIA A40\n",
      "2023-12-20 14:16:38.947891: All done.\n"
     ]
    }
   ],
   "source": [
    "visible_devices = [0]\n",
    "import datetime\n",
    "print(datetime.datetime.now().strftime(\"%Y-%m-%d %H:%M:%S.%f\")+\":\", \"Importing os...\")\n",
    "import os\n",
    "print(datetime.datetime.now().strftime(\"%Y-%m-%d %H:%M:%S.%f\")+\":\", \"Importing sys...\")\n",
    "import sys\n",
    "if not any(\"ipykernel\" in arg for arg in sys.argv):\n",
    "    print(datetime.datetime.now().strftime(\"%Y-%m-%d %H:%M:%S.%f\")+\":\", \"Importing and initializing argparse...\")\n",
    "    import argparse\n",
    "    parser = argparse.ArgumentParser()\n",
    "    parser.add_argument(\"-v\", \"--visible_devices\", help=\"Set visible devices\", nargs='*', type=list, default=visible_devices)\n",
    "    args = parser.parse_args()\n",
    "    visible_devices = args.visible_devices if args.visible_devices else visible_devices\n",
    "    if len(visible_devices) == 0:\n",
    "        visible_devices = int(visible_devices) # type: ignore\n",
    "    elif len(visible_devices) == 1:\n",
    "        if len(visible_devices[0]) == 0: # type: ignore\n",
    "            visible_devices = int(visible_devices[0])\n",
    "        else:\n",
    "            visible_devices = [int(i) for i in visible_devices[0]] # type: ignore\n",
    "    else:\n",
    "        visible_devices = [int(i) for i in visible_devices]\n",
    "print(\"Visible devices:\", visible_devices)\n",
    "print(datetime.datetime.now().strftime(\"%Y-%m-%d %H:%M:%S.%f\")+\":\", \"Importing timer from timeit...\")\n",
    "from timeit import default_timer as timer\n",
    "print(datetime.datetime.now().strftime(\"%Y-%m-%d %H:%M:%S.%f\")+\":\", \"Setting env variables for tf import (only device\", visible_devices, \"will be available)...\")\n",
    "os.environ[\"CUDA_VISIBLE_DEVICES\"] = ','.join([str(i) for i in visible_devices]) # type: ignore\n",
    "os.environ['TF_CPP_MIN_LOG_LEVEL'] = '2'\n",
    "#os.environ['TF_XLA_FLAGS'] = '--tf_xla_enable_xla_devices'\n",
    "#os.environ['TF_XLA_FLAGS'] = '--tf_xla_auto_jit=2'\n",
    "print(datetime.datetime.now().strftime(\"%Y-%m-%d %H:%M:%S.%f\")+\":\", \"Importing numpy...\")\n",
    "import numpy as np\n",
    "print(datetime.datetime.now().strftime(\"%Y-%m-%d %H:%M:%S.%f\")+\":\", \"Importing matplotlib...\")\n",
    "from matplotlib import pyplot as plt\n",
    "print(datetime.datetime.now().strftime(\"%Y-%m-%d %H:%M:%S.%f\")+\":\", \"Importing h5py...\")\n",
    "import h5py\n",
    "print(datetime.datetime.now().strftime(\"%Y-%m-%d %H:%M:%S.%f\")+\":\", \"Importing importlib.util...\")\n",
    "import importlib.util\n",
    "print(datetime.datetime.now().strftime(\"%Y-%m-%d %H:%M:%S.%f\")+\":\", \"Importing json...\")\n",
    "import json\n",
    "print(datetime.datetime.now().strftime(\"%Y-%m-%d %H:%M:%S.%f\")+\":\", \"Importing pandas...\")\n",
    "import pandas as pd\n",
    "print(datetime.datetime.now().strftime(\"%Y-%m-%d %H:%M:%S.%f\")+\":\", \"Importing random...\")\n",
    "import random\n",
    "print(datetime.datetime.now().strftime(\"%Y-%m-%d %H:%M:%S.%f\")+\":\", \"Importing scipy utils...\")\n",
    "from scipy.stats import norm, chi2, kstwo, kstwobign, ks_2samp, moment\n",
    "from scipy.special import kolmogorov\n",
    "from scipy.optimize import minimize, curve_fit, root, bisect\n",
    "print(datetime.datetime.now().strftime(\"%Y-%m-%d %H:%M:%S.%f\")+\":\", \"Importing subprocess...\")\n",
    "import subprocess\n",
    "print(datetime.datetime.now().strftime(\"%Y-%m-%d %H:%M:%S.%f\")+\":\", \"Importing tensorflow...\")\n",
    "import tensorflow as tf # type: ignore\n",
    "print(\"Tensorflow version:\", tf.__version__)\n",
    "print(datetime.datetime.now().strftime(\"%Y-%m-%d %H:%M:%S.%f\")+\":\", \"Importing tensorflow_probability...\")\n",
    "import tensorflow_probability as tfp # type: ignore\n",
    "tfd = tfp.distributions\n",
    "print(\"Tensorflow probability version:\", tfp.__version__)\n",
    "print(datetime.datetime.now().strftime(\"%Y-%m-%d %H:%M:%S.%f\")+\":\", \"Importing timeit...\")\n",
    "from timeit import default_timer as timer\n",
    "print(datetime.datetime.now().strftime(\"%Y-%m-%d %H:%M:%S.%f\")+\":\", \"Importing tqdm...\")\n",
    "from tqdm import tqdm\n",
    "print(datetime.datetime.now().strftime(\"%Y-%m-%d %H:%M:%S.%f\")+\":\", \"Importing typing...\")\n",
    "from typing import List, Tuple, Dict, Callable, Union, Optional, Any, Type\n",
    "print(datetime.datetime.now().strftime(\"%Y-%m-%d %H:%M:%S.%f\")+\":\", \"Setting tf configs...\")\n",
    "gpu_devices = tf.config.experimental.list_physical_devices('GPU')\n",
    "for gpu_device in gpu_devices:\n",
    "    tf.config.experimental.set_memory_growth(gpu_device, True)\n",
    "\n",
    "print(datetime.datetime.now().strftime(\"%Y-%m-%d %H:%M:%S.%f\")+\":\", \"Importing GMetrics module...\")\n",
    "\n",
    "sys.path.insert(0,'../utils_func/')\n",
    "import MixtureDistributions # type: ignore\n",
    "\n",
    "sys.path.insert(0,'../')\n",
    "import GMetrics # type: ignore\n",
    "from GMetrics.utils import se_mean, se_std # type: ignore\n",
    "\n",
    "print(datetime.datetime.now().strftime(\"%Y-%m-%d %H:%M:%S.%f\")+\":\", \"Importing jetnet.evaluation.gen_metrics module...\")\n",
    "from jetnet.evaluation import gen_metrics as JMetrics # type: ignore\n",
    "\n",
    "def get_gpu_info():\n",
    "    try:\n",
    "        gpu_info = subprocess.check_output([\"nvidia-smi\", \"--query-gpu=gpu_name\", \"--format=csv,noheader\"]).decode('utf-8')\n",
    "        return gpu_info.strip().split('\\n')\n",
    "    except Exception as e:\n",
    "        print(e)\n",
    "        return None\n",
    "gpu_models = get_gpu_info()\n",
    "if gpu_models:\n",
    "    training_device = gpu_models[eval(os.environ[\"CUDA_VISIBLE_DEVICES\"])]\n",
    "    print(\"Successfully loaded GPU model: {}\".format(training_device))\n",
    "else:\n",
    "    training_device = 'undetermined'\n",
    "    print(\"Failed to load GPU model. Defaulting to 'undetermined'.\")\n",
    "    \n",
    "results_dir = \"../results/\"\n",
    "null_hypotheses_dir = \"../results/null_hypotheses/\"\n",
    "if not os.path.exists(results_dir):\n",
    "    print(\"WARNING: Results directory does not exist\")\n",
    "if not os.path.exists(null_hypotheses_dir):\n",
    "    print(\"WARNING: Null hypotheses directory does not exist\")\n",
    "    \n",
    "print(datetime.datetime.now().strftime(\"%Y-%m-%d %H:%M:%S.%f\")+\":\", \"All done.\")"
   ]
  },
  {
   "cell_type": "code",
   "execution_count": 2,
   "metadata": {},
   "outputs": [],
   "source": [
    "#seed = 0\n",
    "#ndims = 5\n",
    "#epsilon = 0.005\n",
    "#GMetrics.utils.reset_random_seeds(seed)\n",
    "#loc1 = np.array(np.zeros(ndims,dtype=np.float64),dtype=np.float64)\n",
    "#scale1 = np.array(np.ones(ndims,dtype=np.float64),dtype=np.float64)\n",
    "#loc2 = np.array(np.random.uniform(-epsilon,epsilon,ndims),dtype=np.float64)\n",
    "#scale2 = np.array(np.random.uniform(1-epsilon,1+epsilon,ndims),dtype=np.float64)\n",
    "#dist_1 = tfd.Independent(tfp.distributions.Normal(loc=loc1, scale=scale1), reinterpreted_batch_ndims=1)\n",
    "#dist_2 = tfd.Independent(tfp.distributions.Normal(loc=loc2, scale=scale2), reinterpreted_batch_ndims=1)\n",
    "#print(dist_1.dtype, dist_2.dtype)\n",
    "#print('Types of distributions: ', type(dist_1), type(dist_2))\n",
    "#print('Dtypes of distributions: ', dist_1.dtype, dist_2.dtype)\n",
    "#print('Batch shapes of distributions: ', dist_1.batch_shape, dist_2.batch_shape)\n",
    "#print('Event shapes of distributions: ', dist_1.event_shape, dist_2.event_shape)"
   ]
  },
  {
   "cell_type": "markdown",
   "metadata": {},
   "source": [
    "# Null hypotheses"
   ]
  },
  {
   "cell_type": "code",
   "execution_count": 2,
   "metadata": {},
   "outputs": [
    {
     "name": "stdout",
     "output_type": "stream",
     "text": [
      "<dtype: 'float64'> <dtype: 'float64'>\n",
      "Types of distributions:  <class 'tensorflow_probability.python.distributions.mixture.Mixture'> <class 'tensorflow_probability.python.distributions.mixture.Mixture'>\n",
      "Dtypes of distributions:  <dtype: 'float64'> <dtype: 'float64'>\n",
      "Batch shapes of distributions:  () ()\n",
      "Event shapes of distributions:  (5,) (5,)\n"
     ]
    }
   ],
   "source": [
    "seed = 0\n",
    "ncomp = 3\n",
    "ndims = 5\n",
    "eps_loc = 0.\n",
    "eps_scale = 0.\n",
    "dist_1 = MixtureDistributions.MixtureGaussian(ncomp, ndims, 0., 0., seed)\n",
    "dist_2 = MixtureDistributions.MixtureGaussian(ncomp, ndims, eps_loc, eps_scale, seed)\n",
    "print(dist_1.dtype, dist_2.dtype)\n",
    "print('Types of distributions: ', type(dist_1), type(dist_2))\n",
    "print('Dtypes of distributions: ', dist_1.dtype, dist_2.dtype)\n",
    "print('Batch shapes of distributions: ', dist_1.batch_shape, dist_2.batch_shape)\n",
    "print('Event shapes of distributions: ', dist_1.event_shape, dist_2.event_shape)"
   ]
  },
  {
   "cell_type": "markdown",
   "metadata": {},
   "source": [
    "## TensorFlow backend - w/o MirroredStrategy"
   ]
  },
  {
   "cell_type": "code",
   "execution_count": 3,
   "metadata": {},
   "outputs": [
    {
     "name": "stdout",
     "output_type": "stream",
     "text": [
      "Parsing input distribution...\n",
      "Input distribution is a tfp.distributions.Distribution object.\n",
      "Parsing input distribution...\n",
      "Input distribution is a tfp.distributions.Distribution object.\n",
      "Checking and setting numerical distributions.\n",
      "Setting dist_num from dist_symb.\n"
     ]
    },
    {
     "name": "stdout",
     "output_type": "stream",
     "text": [
      "Setting dist_num from dist_symb.\n",
      "nsamples 1000000\n",
      "batch_size 1000\n",
      "niter 1000\n",
      "niter * batch_size 1000000\n",
      "small_sample True\n"
     ]
    }
   ],
   "source": [
    "TwoSampleTestInputs = GMetrics.TwoSampleTestInputs(dist_1_input = dist_1,\n",
    "                                                   dist_2_input = dist_2,\n",
    "                                                   niter = 1_000,\n",
    "                                                   batch_size_test = 1_000,\n",
    "                                                   batch_size_gen = 100,\n",
    "                                                   small_sample_threshold = 1e7,\n",
    "                                                   dtype_input = tf.float64,\n",
    "                                                   seed_input = 0,\n",
    "                                                   use_tf = True,\n",
    "                                                   mirror_strategy = False,\n",
    "                                                   verbose = True)\n",
    "print(\"nsamples\",TwoSampleTestInputs.nsamples)\n",
    "print(\"batch_size\",TwoSampleTestInputs.batch_size_test)\n",
    "print(\"niter\",TwoSampleTestInputs.niter)\n",
    "print(\"niter * batch_size\",TwoSampleTestInputs.niter*TwoSampleTestInputs.batch_size_test)\n",
    "print(\"small_sample\",TwoSampleTestInputs.small_sample)"
   ]
  },
  {
   "cell_type": "code",
   "execution_count": 4,
   "metadata": {},
   "outputs": [
    {
     "data": {
      "text/plain": [
       "<tf.Tensor: shape=(1000000, 5), dtype=float64, numpy=\n",
       "array([[7.93780036, 5.2883033 , 5.40672069, 9.25239429, 0.24086531],\n",
       "       [7.4011305 , 4.88859375, 6.013175  , 9.27004196, 0.4050128 ],\n",
       "       [5.4614173 , 7.60651261, 5.60241144, 6.73027841, 4.25540521],\n",
       "       ...,\n",
       "       [8.0528956 , 5.16582849, 5.15144044, 9.30221057, 0.07510648],\n",
       "       [7.49392413, 4.53781269, 4.81830219, 9.35116922, 0.30984722],\n",
       "       [7.49997731, 5.46368978, 6.59522302, 9.13654112, 0.53618542]])>"
      ]
     },
     "execution_count": 4,
     "metadata": {},
     "output_type": "execute_result"
    }
   ],
   "source": [
    "TwoSampleTestInputs.dist_1_num"
   ]
  },
  {
   "cell_type": "code",
   "execution_count": 5,
   "metadata": {},
   "outputs": [
    {
     "data": {
      "text/plain": [
       "<tf.Tensor: shape=(1000000, 5), dtype=float64, numpy=\n",
       "array([[7.77974542, 4.47318813, 6.09500167, 9.20695607, 1.13204106],\n",
       "       [7.82163375, 5.59761433, 5.10766478, 9.3401488 , 0.71227288],\n",
       "       [7.17048833, 5.04341612, 6.31938928, 9.14110786, 0.59308682],\n",
       "       ...,\n",
       "       [8.3175609 , 4.62827077, 6.75397305, 9.28815831, 0.90422719],\n",
       "       [5.27860525, 7.28721147, 6.32609749, 5.72608719, 4.21486657],\n",
       "       [7.55906324, 5.14813909, 6.5098864 , 9.29649959, 0.18815603]])>"
      ]
     },
     "execution_count": 5,
     "metadata": {},
     "output_type": "execute_result"
    }
   ],
   "source": [
    "TwoSampleTestInputs.dist_2_num"
   ]
  },
  {
   "cell_type": "code",
   "execution_count": 6,
   "metadata": {},
   "outputs": [
    {
     "name": "stdout",
     "output_type": "stream",
     "text": [
      "Generating random directions based on nslices, ndims, and seed_slicing.\n",
      "Generating random directions based on nslices, ndims, and seed_slicing.\n"
     ]
    }
   ],
   "source": [
    "FNMetric = GMetrics.FNMetric(TwoSampleTestInputs,\n",
    "                             progress_bar = True,\n",
    "                             verbose = True)\n",
    "KSTest = GMetrics.KSTest(TwoSampleTestInputs,\n",
    "                         progress_bar = True,\n",
    "                         verbose = True)\n",
    "LRMetric = GMetrics.LRMetric(TwoSampleTestInputs,\n",
    "                             progress_bar = True,\n",
    "                             verbose = True)\n",
    "MultiKSTest = GMetrics.MultiKSTest(TwoSampleTestInputs,\n",
    "                                   progress_bar = True,\n",
    "                                   verbose = True)\n",
    "SKSTest = GMetrics.SKSTest(TwoSampleTestInputs,\n",
    "                           nslices = 100,\n",
    "                           seed_slicing = 0,\n",
    "                           progress_bar = True,\n",
    "                           verbose = True)\n",
    "SWDMetric = GMetrics.SWDMetric(TwoSampleTestInputs,\n",
    "                               nslices = 100,\n",
    "                               seed_slicing = 0,\n",
    "                               progress_bar = True,\n",
    "                               verbose = True)"
   ]
  },
  {
   "cell_type": "code",
   "execution_count": 7,
   "metadata": {},
   "outputs": [],
   "source": [
    "#d1 = np.array(TwoSampleTestInputs.dist_1_num).reshape(TwoSampleTestInputs.niter,TwoSampleTestInputs.batch_size_test,-1)\n",
    "#d2 = np.array(TwoSampleTestInputs.dist_2_num).reshape(TwoSampleTestInputs.niter,TwoSampleTestInputs.batch_size_test,-1)\n",
    "#print(\"------------------------------------------\")\n",
    "#print(\"Starting FPD metric calculation...\")\n",
    "#print(\"Running Jetnet FPD calculation...\")\n",
    "#print(\"niter = 10\")\n",
    "#print(\"batch_size = 10000\")\n",
    "#start = timer()\n",
    "#FPDResult = [JMetrics.fpd(s1,s2)[0] for s1,s2 in zip(d1,d2)]\n",
    "#end = timer()\n",
    "#print(f\"FPD metric calculation completed in {end-start} seconds.\")"
   ]
  },
  {
   "cell_type": "markdown",
   "metadata": {},
   "source": [
    "### FN Test"
   ]
  },
  {
   "cell_type": "code",
   "execution_count": 8,
   "metadata": {},
   "outputs": [
    {
     "name": "stdout",
     "output_type": "stream",
     "text": [
      "\n",
      "------------------------------------------\n",
      "Starting FN metric calculation...\n",
      "Running TF FN calculation...\n",
      "niter = 1000\n",
      "batch_size = 1000\n"
     ]
    },
    {
     "name": "stdout",
     "output_type": "stream",
     "text": [
      "FN metric calculation completed in 2.0868686521425843 seconds.\n"
     ]
    },
    {
     "data": {
      "text/plain": [
       "{'metric_list': array([0.1682855 , 0.10076934, 0.1190859 , 0.06869552, 0.11684492,\n",
       "        0.19453185, 0.07018701, 0.19582546, 0.1867298 , 0.19524264,\n",
       "        0.08673309, 0.31916509, 0.1932054 , 0.16207104, 0.08489461,\n",
       "        0.20849135, 0.16236131, 0.13288188, 0.2465875 , 0.13380422,\n",
       "        0.23386796, 0.18897253, 0.1203966 , 0.06039686, 0.1240013 ,\n",
       "        0.19732355, 0.10442066, 0.13246313, 0.06252755, 0.11697539,\n",
       "        0.22632075, 0.42850097, 0.12362022, 0.12488526, 0.06189053,\n",
       "        0.05162337, 0.0721672 , 0.15161159, 0.07937267, 0.10917256,\n",
       "        0.12115145, 0.17654893, 0.10187409, 0.06218515, 0.06240963,\n",
       "        0.23892289, 0.28370093, 0.06560215, 0.0962477 , 0.13741022,\n",
       "        0.24440243, 0.08526237, 0.20834878, 0.08786466, 0.09698515,\n",
       "        0.20753827, 0.11122268, 0.14267099, 0.18935289, 0.08676362,\n",
       "        0.11083293, 0.12704092, 0.10935928, 0.12042234, 0.06026231,\n",
       "        0.10442894, 0.1272882 , 0.13221857, 0.26526602, 0.12789402,\n",
       "        0.09927253, 0.09633578, 0.20047434, 0.16993009, 0.37175148,\n",
       "        0.13941412, 0.14823871, 0.09240617, 0.11518623, 0.20953501,\n",
       "        0.32196634, 0.2127511 , 0.13640651, 0.2167111 , 0.15113224,\n",
       "        0.13462472, 0.16134593, 0.0845453 , 0.16804298, 0.11445153,\n",
       "        0.08804935, 0.121476  , 0.17035558, 0.30713369, 0.07447437,\n",
       "        0.14679885, 0.12144465, 0.25672323, 0.10425675, 0.17906178,\n",
       "        0.12385699, 0.1249591 , 0.26840351, 0.16610396, 0.09492262,\n",
       "        0.18497306, 0.17955541, 0.07319571, 0.08917145, 0.08694273,\n",
       "        0.15219032, 0.18462392, 0.1587877 , 0.13171237, 0.28742786,\n",
       "        0.04946726, 0.09784292, 0.09345959, 0.08442402, 0.06360262,\n",
       "        0.0839958 , 0.10463365, 0.12366577, 0.13047255, 0.09032199,\n",
       "        0.06792911, 0.24934317, 0.10604535, 0.16731477, 0.1225616 ,\n",
       "        0.2778472 , 0.13588253, 0.2639468 , 0.18617647, 0.23514589,\n",
       "        0.22021759, 0.20519361, 0.10494777, 0.08860103, 0.35371003,\n",
       "        0.22087779, 0.09921189, 0.20414575, 0.17312369, 0.09064735,\n",
       "        0.09869489, 0.07407391, 0.07626913, 0.10303553, 0.2011031 ,\n",
       "        0.22225779, 0.1984018 , 0.14562327, 0.28776196, 0.23645883,\n",
       "        0.08202151, 0.31114758, 0.1419769 , 0.09890897, 0.14614348,\n",
       "        0.07736654, 0.13567765, 0.15766118, 0.22623402, 0.09474855,\n",
       "        0.15906508, 0.18396567, 0.13141993, 0.26048682, 0.12776936,\n",
       "        0.09233144, 0.20218686, 0.11246451, 0.25756502, 0.14926332,\n",
       "        0.08327347, 0.11719981, 0.0562054 , 0.08520179, 0.13258869,\n",
       "        0.10748616, 0.08452355, 0.20329067, 0.06657814, 0.21677033,\n",
       "        0.05525996, 0.19531205, 0.12440596, 0.1034448 , 0.15523144,\n",
       "        0.05469437, 0.15512575, 0.21237119, 0.10247819, 0.20387948,\n",
       "        0.09366069, 0.17121469, 0.18405098, 0.14436419, 0.19302604,\n",
       "        0.22256312, 0.09418608, 0.18918153, 0.19800532, 0.25568272,\n",
       "        0.13918081, 0.28055414, 0.09972703, 0.16896949, 0.09631894,\n",
       "        0.0529538 , 0.12451858, 0.2715374 , 0.11230065, 0.22049653,\n",
       "        0.09943698, 0.14535693, 0.10532396, 0.15896398, 0.16287359,\n",
       "        0.13529084, 0.09121847, 0.05955987, 0.12095379, 0.05231128,\n",
       "        0.14125561, 0.16048522, 0.18031733, 0.12407487, 0.13080356,\n",
       "        0.1490887 , 0.26272273, 0.10614909, 0.0912843 , 0.21797728,\n",
       "        0.16048846, 0.08198465, 0.05991766, 0.14811897, 0.15876484,\n",
       "        0.1966323 , 0.13524678, 0.19951213, 0.09056153, 0.20118079,\n",
       "        0.25926708, 0.1471496 , 0.12498894, 0.18133428, 0.10752045,\n",
       "        0.07097811, 0.09740166, 0.10202024, 0.31548507, 0.26064722,\n",
       "        0.09767369, 0.16369196, 0.1344069 , 0.05952809, 0.10021102,\n",
       "        0.33705108, 0.15175617, 0.18428841, 0.10096678, 0.17804505,\n",
       "        0.20303468, 0.25629955, 0.1400101 , 0.09180059, 0.27935049,\n",
       "        0.18435386, 0.24048016, 0.16411696, 0.15618969, 0.09333543,\n",
       "        0.27254601, 0.19439677, 0.10730343, 0.16204514, 0.1206648 ,\n",
       "        0.15390524, 0.16792289, 0.19996154, 0.17046283, 0.14469511,\n",
       "        0.23930775, 0.23889765, 0.21879769, 0.09243399, 0.09898217,\n",
       "        0.1956393 , 0.17382887, 0.11357841, 0.09550558, 0.1499709 ,\n",
       "        0.07663835, 0.16996708, 0.07178928, 0.17185263, 0.13582031,\n",
       "        0.13209034, 0.09100742, 0.12298533, 0.12819531, 0.08886433,\n",
       "        0.21741681, 0.13199521, 0.16795889, 0.07059089, 0.10603455,\n",
       "        0.18759299, 0.1005    , 0.12855259, 0.17084211, 0.09118676,\n",
       "        0.0939208 , 0.10476306, 0.17848681, 0.11613031, 0.10902141,\n",
       "        0.09160668, 0.10811022, 0.10727378, 0.16951996, 0.10483047,\n",
       "        0.24478721, 0.03080215, 0.10821125, 0.10654342, 0.16956663,\n",
       "        0.15535115, 0.19280618, 0.08138612, 0.08676837, 0.22018195,\n",
       "        0.13449165, 0.06861646, 0.13827273, 0.19390509, 0.06086865,\n",
       "        0.14542435, 0.21854698, 0.16204533, 0.04465156, 0.07955291,\n",
       "        0.24086394, 0.19640617, 0.09560755, 0.23882422, 0.13168042,\n",
       "        0.14871844, 0.32802335, 0.13483022, 0.07768485, 0.13559061,\n",
       "        0.12435217, 0.16667403, 0.10848734, 0.19957409, 0.16449239,\n",
       "        0.11614489, 0.23159769, 0.10164793, 0.16716675, 0.25645024,\n",
       "        0.1893133 , 0.33088714, 0.24272082, 0.13877772, 0.11673409,\n",
       "        0.10179225, 0.18275557, 0.11629568, 0.06492203, 0.2258333 ,\n",
       "        0.1335558 , 0.34967088, 0.1076991 , 0.1264584 , 0.12897699,\n",
       "        0.07691227, 0.19462464, 0.09844593, 0.20675858, 0.11503373,\n",
       "        0.31152217, 0.12140571, 0.16082465, 0.21988261, 0.13038772,\n",
       "        0.04532391, 0.22246096, 0.17836785, 0.2484898 , 0.18234154,\n",
       "        0.18557072, 0.23945327, 0.07101601, 0.1164846 , 0.11314271,\n",
       "        0.09581535, 0.16411671, 0.04970501, 0.12886257, 0.16771736,\n",
       "        0.11546378, 0.1319683 , 0.16303612, 0.19480885, 0.1236301 ,\n",
       "        0.16773631, 0.14186785, 0.22137981, 0.10633607, 0.30414873,\n",
       "        0.14445052, 0.15959799, 0.08820179, 0.10655568, 0.13981855,\n",
       "        0.15545445, 0.09128936, 0.11511201, 0.10062338, 0.17985082,\n",
       "        0.14776532, 0.11785812, 0.16751988, 0.13875197, 0.21002005,\n",
       "        0.11204241, 0.20676733, 0.10668274, 0.08287787, 0.12133667,\n",
       "        0.11244706, 0.13238523, 0.19382002, 0.09691065, 0.09073093,\n",
       "        0.08394973, 0.09896638, 0.1163237 , 0.27630419, 0.0814544 ,\n",
       "        0.16872633, 0.16772874, 0.23528469, 0.13346142, 0.09330061,\n",
       "        0.20398711, 0.16285252, 0.18776427, 0.15727501, 0.14711917,\n",
       "        0.12290245, 0.30311964, 0.08383054, 0.09447808, 0.0636055 ,\n",
       "        0.17893671, 0.18627384, 0.17151484, 0.21449468, 0.19940445,\n",
       "        0.09012605, 0.30694474, 0.17640488, 0.12696267, 0.15582602,\n",
       "        0.07157978, 0.13542529, 0.14291852, 0.32911535, 0.08197768,\n",
       "        0.27485979, 0.05868931, 0.20592692, 0.09440658, 0.31173015,\n",
       "        0.15770592, 0.19865072, 0.10694581, 0.09814485, 0.13231014,\n",
       "        0.23970076, 0.141198  , 0.15403683, 0.06403984, 0.08258351,\n",
       "        0.19412817, 0.10868403, 0.10034303, 0.12935442, 0.13015772,\n",
       "        0.17971394, 0.1396858 , 0.29884397, 0.21131201, 0.10644577,\n",
       "        0.04844522, 0.11614106, 0.0896155 , 0.18119042, 0.0919939 ,\n",
       "        0.08175419, 0.08017938, 0.1549107 , 0.09014437, 0.031594  ,\n",
       "        0.12234085, 0.11636037, 0.05274517, 0.23682581, 0.22435133,\n",
       "        0.19907369, 0.03470463, 0.1909665 , 0.31500434, 0.19547168,\n",
       "        0.12371595, 0.13189345, 0.12767791, 0.17283365, 0.11881405,\n",
       "        0.17999415, 0.09206854, 0.14314901, 0.09906997, 0.24708273,\n",
       "        0.17416495, 0.0971761 , 0.15660012, 0.0565243 , 0.19186264,\n",
       "        0.14487179, 0.09072114, 0.08996364, 0.11561253, 0.09290318,\n",
       "        0.07695108, 0.12959428, 0.12416837, 0.10324284, 0.11895428,\n",
       "        0.33211584, 0.21386851, 0.17377025, 0.12454605, 0.37763263,\n",
       "        0.15216523, 0.20828947, 0.14865711, 0.06283936, 0.16563652,\n",
       "        0.14070091, 0.10354317, 0.12431262, 0.11404795, 0.11631164,\n",
       "        0.06166166, 0.14689958, 0.14708595, 0.28019814, 0.07484066,\n",
       "        0.08535494, 0.25767658, 0.29321179, 0.18431502, 0.09067541,\n",
       "        0.14601835, 0.12245502, 0.11352861, 0.11728474, 0.13850426,\n",
       "        0.07619548, 0.05869997, 0.36808968, 0.1528608 , 0.20346672,\n",
       "        0.07022304, 0.12431418, 0.12202702, 0.11413678, 0.11999872,\n",
       "        0.16909162, 0.19954113, 0.2735306 , 0.17611134, 0.1089632 ,\n",
       "        0.1721195 , 0.12305869, 0.12291835, 0.1119145 , 0.14278837,\n",
       "        0.13794289, 0.11669704, 0.10080463, 0.17601573, 0.21376328,\n",
       "        0.15767072, 0.17682005, 0.19181463, 0.10364313, 0.18333318,\n",
       "        0.1090688 , 0.20519789, 0.12164781, 0.12690097, 0.15078777,\n",
       "        0.13245185, 0.12651945, 0.05946744, 0.16726775, 0.0966175 ,\n",
       "        0.11039632, 0.07039202, 0.07521596, 0.12251309, 0.08739837,\n",
       "        0.16525555, 0.14054608, 0.12124704, 0.1436517 , 0.19989917,\n",
       "        0.08231461, 0.14506009, 0.13428686, 0.09402703, 0.0939907 ,\n",
       "        0.08836278, 0.20802686, 0.21127688, 0.11653824, 0.18148109,\n",
       "        0.18531535, 0.0601771 , 0.11930906, 0.17024625, 0.32722439,\n",
       "        0.39004385, 0.16730391, 0.14022431, 0.26703975, 0.15820643,\n",
       "        0.08556707, 0.10314821, 0.16628318, 0.13805409, 0.15610482,\n",
       "        0.10364677, 0.11109721, 0.16498228, 0.2005376 , 0.1266398 ,\n",
       "        0.05062773, 0.14560988, 0.11369562, 0.14518748, 0.06602486,\n",
       "        0.13417662, 0.15742832, 0.15956166, 0.09924917, 0.10144509,\n",
       "        0.19190102, 0.14823155, 0.09145339, 0.23966046, 0.09272539,\n",
       "        0.15816845, 0.07420151, 0.12893147, 0.13007012, 0.1645742 ,\n",
       "        0.09607511, 0.0753852 , 0.10128867, 0.09589424, 0.09584326,\n",
       "        0.10269766, 0.24548362, 0.09618835, 0.24134828, 0.16329076,\n",
       "        0.08320951, 0.11655644, 0.08601314, 0.13608004, 0.12565666,\n",
       "        0.11488135, 0.12400348, 0.14494996, 0.16055682, 0.18879801,\n",
       "        0.21835683, 0.30862054, 0.17713945, 0.35064034, 0.06835146,\n",
       "        0.07874421, 0.2046224 , 0.08009554, 0.13140527, 0.12570729,\n",
       "        0.15678153, 0.15860285, 0.1807176 , 0.05435996, 0.17070825,\n",
       "        0.05313915, 0.15555986, 0.20513576, 0.17727274, 0.21012288,\n",
       "        0.21125694, 0.07882167, 0.07266432, 0.12740293, 0.13355531,\n",
       "        0.04694885, 0.11876186, 0.10830126, 0.08182119, 0.23116318,\n",
       "        0.15669817, 0.07183613, 0.10085349, 0.13127296, 0.10065503,\n",
       "        0.12107164, 0.15369023, 0.13480877, 0.12723928, 0.0573638 ,\n",
       "        0.06678581, 0.09922196, 0.1073981 , 0.04980782, 0.13653487,\n",
       "        0.10888358, 0.24909198, 0.16845588, 0.07747047, 0.13195413,\n",
       "        0.08551182, 0.09907308, 0.08996344, 0.10513629, 0.19429694,\n",
       "        0.10480953, 0.09615536, 0.08964366, 0.11154569, 0.09511161,\n",
       "        0.14601844, 0.07178009, 0.32520301, 0.12349348, 0.09149238,\n",
       "        0.11168917, 0.15965612, 0.15943212, 0.13789023, 0.18360459,\n",
       "        0.21631969, 0.08246714, 0.13067938, 0.10041979, 0.31791894,\n",
       "        0.11937008, 0.10331473, 0.17016934, 0.12637277, 0.17556446,\n",
       "        0.16359595, 0.08280048, 0.11012251, 0.13946508, 0.1103179 ,\n",
       "        0.1494587 , 0.13292146, 0.10527811, 0.23581089, 0.22458721,\n",
       "        0.12076252, 0.2426005 , 0.11876163, 0.12306463, 0.12213544,\n",
       "        0.21550163, 0.0617627 , 0.08050126, 0.19983503, 0.15231555,\n",
       "        0.18227313, 0.13126585, 0.07971655, 0.08386511, 0.08031108,\n",
       "        0.20994756, 0.10523941, 0.26205795, 0.15814493, 0.28043954,\n",
       "        0.12394912, 0.11626087, 0.19306234, 0.23372092, 0.16979803,\n",
       "        0.07757141, 0.18621506, 0.08263786, 0.17287007, 0.0675295 ,\n",
       "        0.15707294, 0.04845859, 0.22084707, 0.17566109, 0.18310036,\n",
       "        0.12156297, 0.13985729, 0.06434494, 0.11014239, 0.06287946,\n",
       "        0.09591181, 0.10777252, 0.05529064, 0.11231421, 0.14728668,\n",
       "        0.33183779, 0.09101237, 0.08716562, 0.09901458, 0.14946856,\n",
       "        0.13574817, 0.1140924 , 0.20600243, 0.07206213, 0.18674249,\n",
       "        0.06431814, 0.08301459, 0.18250101, 0.1322555 , 0.08895564,\n",
       "        0.13146006, 0.07752375, 0.07802477, 0.09764293, 0.14765923,\n",
       "        0.28643306, 0.14112213, 0.23908583, 0.12257539, 0.27281551,\n",
       "        0.14066774, 0.14915168, 0.2411843 , 0.06940356, 0.14847119,\n",
       "        0.28315519, 0.11505359, 0.2618686 , 0.17124938, 0.19558127,\n",
       "        0.08454334, 0.11985216, 0.18427532, 0.09553267, 0.06199643,\n",
       "        0.16489582, 0.07102225, 0.09253452, 0.11917919, 0.24845009,\n",
       "        0.14954957, 0.09876613, 0.17721702, 0.11394168, 0.10342823,\n",
       "        0.08078298, 0.25537325, 0.13789245, 0.16501724, 0.17815232,\n",
       "        0.2253763 , 0.12025381, 0.25548584, 0.22888301, 0.2064097 ,\n",
       "        0.1715904 , 0.24356154, 0.10312105, 0.0957267 , 0.19564758,\n",
       "        0.25683436, 0.21795325, 0.0829645 , 0.29205187, 0.17764834,\n",
       "        0.14369112, 0.14368877, 0.34670627, 0.18115889, 0.08891825,\n",
       "        0.1186071 , 0.1285741 , 0.12316434, 0.13179795, 0.13914846,\n",
       "        0.11533315, 0.16832781, 0.18525925, 0.26571378, 0.06624212,\n",
       "        0.13850972, 0.20249099, 0.21086961, 0.25050369, 0.15493046,\n",
       "        0.22284964, 0.16602919, 0.14413451, 0.18196034, 0.10647544,\n",
       "        0.25803635, 0.27996634, 0.10378018, 0.11750303, 0.10371444,\n",
       "        0.07253176, 0.17319703, 0.18006009, 0.15308488, 0.09339147,\n",
       "        0.15690662, 0.12064197, 0.17018763, 0.19028024, 0.19697056,\n",
       "        0.12993113, 0.30106149, 0.09007481, 0.03843671, 0.08679911,\n",
       "        0.13346782, 0.08786827, 0.14590984, 0.32027901, 0.29622475,\n",
       "        0.15106115, 0.15500357, 0.18112112, 0.10834544, 0.12980408,\n",
       "        0.29203184, 0.16924342, 0.1636552 , 0.13140398, 0.25845006,\n",
       "        0.10367363, 0.03511524, 0.15580873, 0.14915969, 0.07334724,\n",
       "        0.07609931, 0.07242037, 0.18050393, 0.11646659, 0.11121089,\n",
       "        0.16100827, 0.08661523, 0.12938287, 0.1586813 , 0.10423519,\n",
       "        0.06277899, 0.04800417, 0.23887533, 0.1680871 , 0.25905406,\n",
       "        0.08516904, 0.08296569, 0.06413942, 0.05019835, 0.27945775,\n",
       "        0.11456435, 0.21795913, 0.1383881 , 0.17479559, 0.07945273,\n",
       "        0.18096315, 0.13119095, 0.14507662, 0.14254976, 0.08317835,\n",
       "        0.06570481, 0.14644902, 0.21454877, 0.07600185, 0.0809788 ])}"
      ]
     },
     "execution_count": 8,
     "metadata": {},
     "output_type": "execute_result"
    }
   ],
   "source": [
    "FNMetric.Test_tf(max_vectorize = 1000)\n",
    "FNMetric.Results[-1].result_value"
   ]
  },
  {
   "cell_type": "code",
   "execution_count": 9,
   "metadata": {},
   "outputs": [],
   "source": [
    "FNMetric.Results.save_to_json(null_hypotheses_dir+\"Null_5D_FN.json\")"
   ]
  },
  {
   "cell_type": "code",
   "execution_count": 26,
   "metadata": {},
   "outputs": [
    {
     "data": {
      "image/png": "[encoded data removed]",
      "text/plain": [
       "<Figure size 1600x600 with 2 Axes>"
      ]
     },
     "metadata": {},
     "output_type": "display_data"
    },
    {
     "name": "stdout",
     "output_type": "stream",
     "text": [
      "Time elapsed: 0.9171454086899757 seconds.\n"
     ]
    }
   ],
   "source": [
    "start = timer()\n",
    "\n",
    "nsamples = FNMetric.Inputs.batch_size_test\n",
    "niter = FNMetric.Inputs.niter\n",
    "\n",
    "scale = 'log'\n",
    "num_bins = 50  # number of bins|\n",
    "dist_null = np.array(FNMetric.Results[-1].result_value[\"metric_list\"])\n",
    "# Compute the mean and standard deviation of the sample and their standard errors\n",
    "mu, deltamu, sigma, deltasigma = (np.mean(dist_null), se_mean(dist_null), np.std(dist_null), se_std(dist_null))\n",
    "# Minimum and maximum x values\n",
    "min_x = min(dist_null) # lower limit of the binning\n",
    "max_x = max(dist_null) # upper limit of the binning\n",
    "# Create an array of values\n",
    "x = np.linspace(min_x, max_x, num_bins + 1)\n",
    "# Create histogram for values and normalize counts to sum to 1\n",
    "counts, bin_edges = np.histogram(dist_null, bins=x, density=True)\n",
    "cum_counts = np.cumsum(counts)/np.sum(counts)\n",
    "# Get the bin centers\n",
    "bin_centers = (bin_edges[:-1] + bin_edges[1:]) / 2\n",
    "# Calculate the theoretical PDF and CDF of the KS distribution for each x value\n",
    "#theoretical_pdf_ks = kstwobign.pdf(x)\n",
    "#theoretical_cdf_ks = kstwobign.cdf(x)\n",
    "\n",
    "# Empirical SKS Normal\n",
    "#empirical_pdf_norm = norm.pdf(x, loc=kstwobign.mean(), scale=0.155)\n",
    "#empirical_cdf_norm = norm.cdf(x, loc=kstwobign.mean(), scale=0.155)\n",
    "# Set up the figure and the two subplots\n",
    "fig, ax = plt.subplots(1, 2, figsize=(16, 6))\n",
    "# Draw the first plot\n",
    "ax[0].plot(bin_centers, counts, linestyle = '-', label='FN Null', drawstyle='steps-mid')\n",
    "#ax[0].plot(x, theoretical_pdf_ks, label='Theoretical distribution (KS)')\n",
    "#ax[0].plot(x, empirical_pdf_norm, label='SKS - Normal approximation $\\\\mu =$'+str(kstwobign.mean())+', $\\\\sigma =$'+str(0.155))\n",
    "ax[0].set_yscale(scale)\n",
    "ax[0].set_xlim(0.01, 0.2)\n",
    "ax[0].set_ylim(0.01, 40)\n",
    "ax[0].set_xlabel('Frobeinus Norm')\n",
    "ax[0].set_ylabel('Number of pseudo-experiments')\n",
    "ax[0].set_title('CMoG - ncop = '+str(ncomp)+' - ndims = '+str(ndims)+' - PDF with '+str(int(nsamples/1000))+'K test samples - '+str(int(niter/1000))+'K toys')\n",
    "ax[0].legend(loc='upper right')\n",
    "# Draw the second plot\n",
    "ax[1].plot(bin_centers, cum_counts, linestyle = '-', label='FN Null', drawstyle='steps-mid')\n",
    "#ax[1].plot(x, theoretical_cdf_ks, label='Theoretical distribution (KS)')\n",
    "#ax[1].plot(x, empirical_cdf_norm, label='SKS - Normal approximation $\\\\mu =$'+str(kstwobign.mean())+', $\\\\sigma =$'+str(0.155))\n",
    "ax[1].set_yscale(scale)\n",
    "ax[0].set_xlim(0.01, 0.2)\n",
    "ax[1].set_ylim(9e-4, 1.5)\n",
    "ax[1].set_xlabel('Frobeinus Norm')\n",
    "ax[1].set_title('CMoG - ncop = '+str(ncomp)+' - ndims = '+str(ndims)+' - CDF with '+str(int(nsamples/1000))+'K test samples - '+str(int(niter/1000))+'K toys')\n",
    "ax[1].legend(loc='lower right')\n",
    "## Draw the third plot\n",
    "#ax[2].plot(bin_centers, cum_counts, linestyle = '-', label='FN Null', drawstyle='steps-mid')\n",
    "##ax[2].plot(x, theoretical_cdf_ks, label='Theoretical distribution (KS)')\n",
    "##ax[2].plot(x, empirical_cdf_norm, label='SKS - Normal approximation $\\\\mu =$'+str(kstwobign.mean())+', $\\\\sigma =$'+str(0.155))\n",
    "#ax[2].set_yscale(scale)\n",
    "#ax[2].set_xlim(0.25, 2)\n",
    "#ax[2].set_ylim(0.8, 1)\n",
    "#ax[2].set_xlabel('KS vs SKS')\n",
    "#ax[2].set_title('CMoG - ncop = '+str(ncomp)+' - ndims = '+str(ndims)+' - CDF with '+str(int(nsamples/1000))+'K test samples - '+str(int(niter/1000))+'K toys')\n",
    "#ax[2].legend(loc='lower right')\n",
    "# Adjust the width space\n",
    "plt.subplots_adjust(wspace=0.1)  # Adjust this value to your liking\n",
    "# Display the figure with the two subplots\n",
    "plt.tight_layout()\n",
    "#plt.savefig(results_path+'SKS_nsamples_'+str(nsamples)+'_ndims_'+'_'+str(ndims)+'_niter_'+str(niter)+'.pdf')\n",
    "plt.show()\n",
    "plt.close()\n",
    "end = timer()\n",
    "print(\"Time elapsed:\", end-start, \"seconds.\")"
   ]
  },
  {
   "cell_type": "code",
   "execution_count": 43,
   "metadata": {},
   "outputs": [
    {
     "data": {
      "text/plain": [
       "[[0.68, [6800, 3199], 0.05076998904214842],\n",
       " [0.95, [9500, 500], 0.0849895503156179],\n",
       " [0.99, [9900, 100], 0.10813116088943704]]"
      ]
     },
     "execution_count": 43,
     "metadata": {},
     "output_type": "execute_result"
    }
   ],
   "source": [
    "cl_list = [0.68, 0.95, 0.99]\n",
    "[[cl, [int(cl*len(dist_null)), int((1-cl)*len(dist_null))], np.sort(dist_null)[int(len(dist_null)*cl)]] for cl in cl_list]"
   ]
  },
  {
   "cell_type": "markdown",
   "metadata": {},
   "source": [
    "### KS Test"
   ]
  },
  {
   "cell_type": "code",
   "execution_count": 44,
   "metadata": {},
   "outputs": [
    {
     "name": "stdout",
     "output_type": "stream",
     "text": [
      "\n",
      "------------------------------------------\n",
      "Starting KS tests calculation...\n",
      "Running TF KS tests...\n",
      "niter = 10000\n",
      "batch_size = 10000\n",
      "The dist_1_num tensor is empty. Batches will be generated 'on-the-fly' from dist_1_symb.\n",
      "The dist_2_num tensor is empty. Batches will be generated 'on-the-fly' from dist_2_symb.\n"
     ]
    },
    {
     "name": "stdout",
     "output_type": "stream",
     "text": [
      "nchunks = 50\n",
      "Iterating from 0 to 200 out of 10000 .\n",
      "Iterating from 200 to 400 out of 10000 .\n",
      "Iterating from 400 to 600 out of 10000 .\n",
      "Iterating from 600 to 800 out of 10000 .\n",
      "Iterating from 800 to 1000 out of 10000 .\n",
      "Iterating from 1000 to 1200 out of 10000 .\n",
      "Iterating from 1200 to 1400 out of 10000 .\n",
      "Iterating from 1400 to 1600 out of 10000 .\n",
      "Iterating from 1600 to 1800 out of 10000 .\n",
      "Iterating from 1800 to 2000 out of 10000 .\n",
      "Iterating from 2000 to 2200 out of 10000 .\n",
      "Iterating from 2200 to 2400 out of 10000 .\n",
      "Iterating from 2400 to 2600 out of 10000 .\n",
      "Iterating from 2600 to 2800 out of 10000 .\n",
      "Iterating from 2800 to 3000 out of 10000 .\n",
      "Iterating from 3000 to 3200 out of 10000 .\n",
      "Iterating from 3200 to 3400 out of 10000 .\n",
      "Iterating from 3400 to 3600 out of 10000 .\n",
      "Iterating from 3600 to 3800 out of 10000 .\n",
      "Iterating from 3800 to 4000 out of 10000 .\n",
      "Iterating from 4000 to 4200 out of 10000 .\n",
      "Iterating from 4200 to 4400 out of 10000 .\n",
      "Iterating from 4400 to 4600 out of 10000 .\n",
      "Iterating from 4600 to 4800 out of 10000 .\n",
      "Iterating from 4800 to 5000 out of 10000 .\n",
      "Iterating from 5000 to 5200 out of 10000 .\n",
      "Iterating from 5200 to 5400 out of 10000 .\n",
      "Iterating from 5400 to 5600 out of 10000 .\n",
      "Iterating from 5600 to 5800 out of 10000 .\n",
      "Iterating from 5800 to 6000 out of 10000 .\n",
      "Iterating from 6000 to 6200 out of 10000 .\n",
      "Iterating from 6200 to 6400 out of 10000 .\n",
      "Iterating from 6400 to 6600 out of 10000 .\n",
      "Iterating from 6600 to 6800 out of 10000 .\n",
      "Iterating from 6800 to 7000 out of 10000 .\n",
      "Iterating from 7000 to 7200 out of 10000 .\n",
      "Iterating from 7200 to 7400 out of 10000 .\n",
      "Iterating from 7400 to 7600 out of 10000 .\n",
      "Iterating from 7600 to 7800 out of 10000 .\n",
      "Iterating from 7800 to 8000 out of 10000 .\n",
      "Iterating from 8000 to 8200 out of 10000 .\n",
      "Iterating from 8200 to 8400 out of 10000 .\n",
      "Iterating from 8400 to 8600 out of 10000 .\n",
      "Iterating from 8600 to 8800 out of 10000 .\n",
      "Iterating from 8800 to 9000 out of 10000 .\n",
      "Iterating from 9000 to 9200 out of 10000 .\n",
      "Iterating from 9200 to 9400 out of 10000 .\n",
      "Iterating from 9400 to 9600 out of 10000 .\n",
      "Iterating from 9600 to 9800 out of 10000 .\n",
      "Iterating from 9800 to 10000 out of 10000 .\n",
      "KS tests calculation completed in 352.76285247597843 seconds.\n"
     ]
    },
    {
     "data": {
      "text/plain": [
       "{'statistic_lists': array([[0.01569998, 0.01290002, 0.01129997, 0.01810002, 0.01280004],\n",
       "        [0.00849998, 0.0117    , 0.01620001, 0.0174    , 0.01019999],\n",
       "        [0.01410002, 0.00629997, 0.00880003, 0.00960001, 0.00769997],\n",
       "        ...,\n",
       "        [0.00870001, 0.00739999, 0.0237    , 0.00830001, 0.0174    ],\n",
       "        [0.01319999, 0.01429999, 0.0124    , 0.01660001, 0.0149    ],\n",
       "        [0.0115    , 0.00950003, 0.01299998, 0.01109999, 0.01570004]]),\n",
       " 'statistic_means': array([0.01416001, 0.0128    , 0.0093    , ..., 0.0131    , 0.01428   ,\n",
       "        0.01216001]),\n",
       " 'statistic_stds': array([0.00242949, 0.00344035, 0.0026435 , ..., 0.00641467, 0.00144693,\n",
       "        0.00209151]),\n",
       " 'pvalue_lists': array([[0.16993111, 0.3761487 , 0.54572397, 0.07554591, 0.38572848],\n",
       "        [0.86290359, 0.50040638, 0.14491093, 0.09685266, 0.67563349],\n",
       "        [0.273206  , 0.98877037, 0.83351439, 0.74613714, 0.928262  ],\n",
       "        ...,\n",
       "        [0.84356195, 0.94709402, 0.00727177, 0.8811397 , 0.09685266],\n",
       "        [0.3483209 , 0.25822639, 0.425529  , 0.12710845, 0.21691847],\n",
       "        [0.52286649, 0.75759482, 0.36672282, 0.56891394, 0.16992801]]),\n",
       " 'pvalue_means': array([0.31061563, 0.45614141, 0.75397798, ..., 0.55518402, 0.27522064,\n",
       "        0.47720522]),\n",
       " 'pvalue_stds': array([0.16748872, 0.29716812, 0.25417773, ..., 0.41310479, 0.10350016,\n",
       "        0.19785824])}"
      ]
     },
     "execution_count": 44,
     "metadata": {},
     "output_type": "execute_result"
    }
   ],
   "source": [
    "KSTest.Test_tf(max_vectorize=1000)\n",
    "KSTest.Results[-1].result_value"
   ]
  },
  {
   "cell_type": "code",
   "execution_count": 1,
   "metadata": {},
   "outputs": [
    {
     "ename": "NameError",
     "evalue": "name 'timer' is not defined",
     "output_type": "error",
     "traceback": [
      "\u001b[0;31m---------------------------------------------------------------------------\u001b[0m",
      "\u001b[0;31mNameError\u001b[0m                                 Traceback (most recent call last)",
      "\u001b[1;32m/home/rtorre/teo_fs/cernbox/git/GitHub/NormalizingFlows/NF4HEP/GenerativeModelsMetrics/notebooks/Analysis.ipynb Cell 19\u001b[0m line \u001b[0;36m1\n\u001b[0;32m----> <a href='vscode-notebook-cell://ssh-remote%2Bteogpu02.ge.infn.it/home/rtorre/teo_fs/cernbox/git/GitHub/NormalizingFlows/NF4HEP/GenerativeModelsMetrics/notebooks/Analysis.ipynb#X54sdnNjb2RlLXJlbW90ZQ%3D%3D?line=0'>1</a>\u001b[0m start \u001b[39m=\u001b[39m timer()\n\u001b[1;32m      <a href='vscode-notebook-cell://ssh-remote%2Bteogpu02.ge.infn.it/home/rtorre/teo_fs/cernbox/git/GitHub/NormalizingFlows/NF4HEP/GenerativeModelsMetrics/notebooks/Analysis.ipynb#X54sdnNjb2RlLXJlbW90ZQ%3D%3D?line=2'>3</a>\u001b[0m nsamples \u001b[39m=\u001b[39m KSTest\u001b[39m.\u001b[39mInputs\u001b[39m.\u001b[39mbatch_size_test\n\u001b[1;32m      <a href='vscode-notebook-cell://ssh-remote%2Bteogpu02.ge.infn.it/home/rtorre/teo_fs/cernbox/git/GitHub/NormalizingFlows/NF4HEP/GenerativeModelsMetrics/notebooks/Analysis.ipynb#X54sdnNjb2RlLXJlbW90ZQ%3D%3D?line=3'>4</a>\u001b[0m niter \u001b[39m=\u001b[39m KSTest\u001b[39m.\u001b[39mInputs\u001b[39m.\u001b[39mniter\n",
      "\u001b[0;31mNameError\u001b[0m: name 'timer' is not defined"
     ]
    }
   ],
   "source": [
    "start = timer()\n",
    "\n",
    "nsamples = KSTest.Inputs.batch_size_test\n",
    "niter = KSTest.Inputs.niter\n",
    "\n",
    "scale = 'log'\n",
    "num_bins = 50  # number of bins|\n",
    "dist_null = np.array(KSTest.Results[-1].result_value[\"statistic_means\"])\n",
    "# Compute the mean and standard deviation of the sample and their standard errors\n",
    "mu, deltamu, sigma, deltasigma = (np.mean(dist_null), se_mean(dist_null), np.std(dist_null), se_std(dist_null))\n",
    "# Minimum and maximum x values\n",
    "min_x = min(dist_null) # lower limit of the binning\n",
    "max_x = max(dist_null) # upper limit of the binning\n",
    "# Create an array of values\n",
    "x = np.linspace(min_x, max_x, num_bins + 1)\n",
    "# Create histogram for values and normalize counts to sum to 1\n",
    "counts, bin_edges = np.histogram(dist_null, bins=x, density=True)\n",
    "cum_counts = np.cumsum(counts)/np.sum(counts)\n",
    "# Get the bin centers\n",
    "bin_centers = (bin_edges[:-1] + bin_edges[1:]) / 2\n",
    "# Calculate the theoretical PDF and CDF of the KS distribution for each x value\n",
    "#theoretical_pdf_ks = kstwobign.pdf(x)\n",
    "#theoretical_cdf_ks = kstwobign.cdf(x)\n",
    "\n",
    "# Empirical SKS Normal\n",
    "#empirical_pdf_norm = norm.pdf(x, loc=kstwobign.mean(), scale=0.155)\n",
    "#empirical_cdf_norm = norm.cdf(x, loc=kstwobign.mean(), scale=0.155)\n",
    "# Set up the figure and the two subplots\n",
    "fig, ax = plt.subplots(1, 2, figsize=(16, 6))\n",
    "# Draw the first plot\n",
    "ax[0].plot(bin_centers, counts, linestyle = '-', label='KS Null', drawstyle='steps-mid')\n",
    "#ax[0].plot(x, theoretical_pdf_ks, label='Theoretical distribution (KS)')\n",
    "#ax[0].plot(x, empirical_pdf_norm, label='SKS - Normal approximation $\\\\mu =$'+str(kstwobign.mean())+', $\\\\sigma =$'+str(0.155))\n",
    "ax[0].set_yscale(scale)\n",
    "ax[0].set_xlim(0.005, 0.025)\n",
    "ax[0].set_ylim(0.01, 400)\n",
    "ax[0].set_xlabel('KS mean')\n",
    "ax[0].set_ylabel('Number of pseudo-experiments')\n",
    "ax[0].set_title('CMoG - ncop = '+str(ncomp)+' - ndims = '+str(ndims)+' - PDF with '+str(int(nsamples/1000))+'K test samples - '+str(int(niter/1000))+'K toys')\n",
    "ax[0].legend(loc='upper right')\n",
    "# Draw the second plot\n",
    "ax[1].plot(bin_centers, cum_counts, linestyle = '-', label='KS Null', drawstyle='steps-mid')\n",
    "#ax[1].plot(x, theoretical_cdf_ks, label='Theoretical distribution (KS)')\n",
    "#ax[1].plot(x, empirical_cdf_norm, label='SKS - Normal approximation $\\\\mu =$'+str(kstwobign.mean())+', $\\\\sigma =$'+str(0.155))\n",
    "ax[1].set_yscale(scale)\n",
    "ax[0].set_xlim(0.005, 0.025)\n",
    "ax[1].set_ylim(9e-4, 1.5)\n",
    "ax[1].set_xlabel('KS mean')\n",
    "ax[1].set_title('CMoG - ncop = '+str(ncomp)+' - ndims = '+str(ndims)+' - CDF with '+str(int(nsamples/1000))+'K test samples - '+str(int(niter/1000))+'K toys')\n",
    "ax[1].legend(loc='lower right')\n",
    "## Draw the third plot\n",
    "#ax[2].plot(bin_centers, cum_counts, linestyle = '-', label='FN Null', drawstyle='steps-mid')\n",
    "##ax[2].plot(x, theoretical_cdf_ks, label='Theoretical distribution (KS)')\n",
    "##ax[2].plot(x, empirical_cdf_norm, label='SKS - Normal approximation $\\\\mu =$'+str(kstwobign.mean())+', $\\\\sigma =$'+str(0.155))\n",
    "#ax[2].set_yscale(scale)\n",
    "#ax[2].set_xlim(0.25, 2)\n",
    "#ax[2].set_ylim(0.8, 1)\n",
    "#ax[2].set_xlabel('KS vs SKS')\n",
    "#ax[2].set_title('CMoG - ncop = '+str(ncomp)+' - ndims = '+str(ndims)+' - CDF with '+str(int(nsamples/1000))+'K test samples - '+str(int(niter/1000))+'K toys')\n",
    "#ax[2].legend(loc='lower right')\n",
    "# Adjust the width space\n",
    "plt.subplots_adjust(wspace=0.1)  # Adjust this value to your liking\n",
    "# Display the figure with the two subplots\n",
    "plt.tight_layout()\n",
    "#plt.savefig(results_path+'SKS_nsamples_'+str(nsamples)+'_ndims_'+'_'+str(ndims)+'_niter_'+str(niter)+'.pdf')\n",
    "plt.show()\n",
    "plt.close()\n",
    "end = timer()\n",
    "print(\"Time elapsed:\", end-start, \"seconds.\")"
   ]
  },
  {
   "cell_type": "code",
   "execution_count": 51,
   "metadata": {},
   "outputs": [
    {
     "data": {
      "text/plain": [
       "[[0.68, [6800, 3199], 0.01294000744819641],\n",
       " [0.95, [9500, 500], 0.015999996662139894],\n",
       " [0.99, [9900, 100], 0.01818000674247742]]"
      ]
     },
     "execution_count": 51,
     "metadata": {},
     "output_type": "execute_result"
    }
   ],
   "source": [
    "cl_list = [0.68, 0.95, 0.99]\n",
    "[[cl, [int(cl*len(dist_null)), int((1-cl)*len(dist_null))], np.sort(dist_null)[int(len(dist_null)*cl)]] for cl in cl_list]"
   ]
  },
  {
   "cell_type": "markdown",
   "metadata": {},
   "source": [
    "### LR Test"
   ]
  },
  {
   "cell_type": "code",
   "execution_count": 45,
   "metadata": {},
   "outputs": [
    {
     "name": "stdout",
     "output_type": "stream",
     "text": [
      "\n",
      "------------------------------------------\n",
      "Starting LR metric calculation...\n",
      "Running TF LR calculation...\n",
      "niter = 10000\n",
      "batch_size = 10000\n",
      "The dist_1_num tensor is empty. Batches will be generated 'on-the-fly' from dist_1_symb.\n",
      "The dist_2_num tensor is empty. Batches will be generated 'on-the-fly' from dist_2_symb.\n"
     ]
    },
    {
     "ename": "InvalidArgumentError",
     "evalue": "{{function_node __wrapped__ConcatV2_N_5_device_/job:localhost/replica:0/task:0/device:GPU:0}} ConcatOp : Can't concatenate scalars (use tf.stack instead) [Op:ConcatV2] name: concat",
     "output_type": "error",
     "traceback": [
      "\u001b[0;31m---------------------------------------------------------------------------\u001b[0m",
      "\u001b[0;31mInvalidArgumentError\u001b[0m                      Traceback (most recent call last)",
      "\u001b[1;32m/home/rtorre/teo_fs/cernbox/git/GitHub/NormalizingFlows/NF4HEP/GenerativeModelsMetrics/notebooks/Analysis.ipynb Cell 22\u001b[0m line \u001b[0;36m1\n\u001b[0;32m----> <a href='vscode-notebook-cell://ssh-remote%2Bteogpu02.ge.infn.it/home/rtorre/teo_fs/cernbox/git/GitHub/NormalizingFlows/NF4HEP/GenerativeModelsMetrics/notebooks/Analysis.ipynb#X25sdnNjb2RlLXJlbW90ZQ%3D%3D?line=0'>1</a>\u001b[0m LRMetric\u001b[39m.\u001b[39;49mTest_tf()\n\u001b[1;32m      <a href='vscode-notebook-cell://ssh-remote%2Bteogpu02.ge.infn.it/home/rtorre/teo_fs/cernbox/git/GitHub/NormalizingFlows/NF4HEP/GenerativeModelsMetrics/notebooks/Analysis.ipynb#X25sdnNjb2RlLXJlbW90ZQ%3D%3D?line=1'>2</a>\u001b[0m LRMetric\u001b[39m.\u001b[39mResults[\u001b[39m-\u001b[39m\u001b[39m1\u001b[39m]\u001b[39m.\u001b[39mresult_value\n",
      "File \u001b[0;32m/mnt/project_mnt/teo_fs/rtorre/cernbox/git/GitHub/NormalizingFlows/NF4HEP/GenerativeModelsMetrics/notebooks/../../GenerativeModelsMetrics/lr_metrics.py:672\u001b[0m, in \u001b[0;36mLRMetric.Test_tf\u001b[0;34m(self)\u001b[0m\n\u001b[1;32m    670\u001b[0m lik_ratio_list: DataTypeTF\n\u001b[1;32m    671\u001b[0m lik_ratio_norm_list: DataTypeTF\n\u001b[0;32m--> 672\u001b[0m logprob_ref_ref_sum_list, logprob_ref_alt_sum_list, logprob_alt_alt_sum_list, lik_ratio_list, lik_ratio_norm_list \u001b[39m=\u001b[39m compute_test()\n\u001b[1;32m    674\u001b[0m end_calculation()\n\u001b[1;32m    676\u001b[0m timestamp: \u001b[39mstr\u001b[39m \u001b[39m=\u001b[39m datetime\u001b[39m.\u001b[39mnow()\u001b[39m.\u001b[39misoformat()\n",
      "File \u001b[0;32m/mnt/project_mnt/teo_fs/rtorre/cernbox/git/GitHub/NormalizingFlows/NF4HEP/GenerativeModelsMetrics/notebooks/../../GenerativeModelsMetrics/lr_metrics.py:645\u001b[0m, in \u001b[0;36mLRMetric.Test_tf.<locals>.compute_test\u001b[0;34m()\u001b[0m\n\u001b[1;32m    642\u001b[0m     res \u001b[39m=\u001b[39m res\u001b[39m.\u001b[39mwrite(i, result_value)\n\u001b[1;32m    643\u001b[0m     \u001b[39mreturn\u001b[39;00m i\u001b[39m+\u001b[39m\u001b[39m1\u001b[39m, res\n\u001b[0;32m--> 645\u001b[0m _, res \u001b[39m=\u001b[39m tf\u001b[39m.\u001b[39;49mwhile_loop(\u001b[39mlambda\u001b[39;49;00m i, _: i \u001b[39m<\u001b[39;49m niter, body, [\u001b[39m0\u001b[39;49m, res])\n\u001b[1;32m    647\u001b[0m \u001b[39mfor\u001b[39;00m i \u001b[39min\u001b[39;00m \u001b[39mrange\u001b[39m(niter):\n\u001b[1;32m    648\u001b[0m     res_i \u001b[39m=\u001b[39m res\u001b[39m.\u001b[39mread(i)\n",
      "File \u001b[0;32m/local_data/scratch/rtorre/anaconda3/envs/tf2_12/lib/python3.10/site-packages/tensorflow/python/util/deprecation.py:648\u001b[0m, in \u001b[0;36mdeprecated_arg_values.<locals>.deprecated_wrapper.<locals>.new_func\u001b[0;34m(*args, **kwargs)\u001b[0m\n\u001b[1;32m    640\u001b[0m           _PRINTED_WARNING[(func, arg_name)] \u001b[39m=\u001b[39m \u001b[39mTrue\u001b[39;00m\n\u001b[1;32m    641\u001b[0m         logging\u001b[39m.\u001b[39mwarning(\n\u001b[1;32m    642\u001b[0m             \u001b[39m'\u001b[39m\u001b[39mFrom \u001b[39m\u001b[39m%s\u001b[39;00m\u001b[39m: calling \u001b[39m\u001b[39m%s\u001b[39;00m\u001b[39m (from \u001b[39m\u001b[39m%s\u001b[39;00m\u001b[39m) with \u001b[39m\u001b[39m%s\u001b[39;00m\u001b[39m=\u001b[39m\u001b[39m%s\u001b[39;00m\u001b[39m is deprecated and \u001b[39m\u001b[39m'\u001b[39m\n\u001b[1;32m    643\u001b[0m             \u001b[39m'\u001b[39m\u001b[39mwill be removed \u001b[39m\u001b[39m%s\u001b[39;00m\u001b[39m.\u001b[39m\u001b[39m\\n\u001b[39;00m\u001b[39mInstructions for updating:\u001b[39m\u001b[39m\\n\u001b[39;00m\u001b[39m%s\u001b[39;00m\u001b[39m'\u001b[39m,\n\u001b[0;32m   (...)\u001b[0m\n\u001b[1;32m    646\u001b[0m             \u001b[39m'\u001b[39m\u001b[39min a future version\u001b[39m\u001b[39m'\u001b[39m \u001b[39mif\u001b[39;00m date \u001b[39mis\u001b[39;00m \u001b[39mNone\u001b[39;00m \u001b[39melse\u001b[39;00m\n\u001b[1;32m    647\u001b[0m             (\u001b[39m'\u001b[39m\u001b[39mafter \u001b[39m\u001b[39m%s\u001b[39;00m\u001b[39m'\u001b[39m \u001b[39m%\u001b[39m date), instructions)\n\u001b[0;32m--> 648\u001b[0m \u001b[39mreturn\u001b[39;00m func(\u001b[39m*\u001b[39;49margs, \u001b[39m*\u001b[39;49m\u001b[39m*\u001b[39;49mkwargs)\n",
      "File \u001b[0;32m/local_data/scratch/rtorre/anaconda3/envs/tf2_12/lib/python3.10/site-packages/tensorflow/python/ops/control_flow_ops.py:2574\u001b[0m, in \u001b[0;36mwhile_loop_v2\u001b[0;34m(cond, body, loop_vars, shape_invariants, parallel_iterations, back_prop, swap_memory, maximum_iterations, name)\u001b[0m\n\u001b[1;32m   2368\u001b[0m \u001b[39m@tf_export\u001b[39m(\u001b[39m\"\u001b[39m\u001b[39mwhile_loop\u001b[39m\u001b[39m\"\u001b[39m, v1\u001b[39m=\u001b[39m[])\n\u001b[1;32m   2369\u001b[0m \u001b[39m@deprecation\u001b[39m\u001b[39m.\u001b[39mdeprecated_arg_values(\n\u001b[1;32m   2370\u001b[0m     \u001b[39mNone\u001b[39;00m,\n\u001b[0;32m   (...)\u001b[0m\n\u001b[1;32m   2385\u001b[0m                   maximum_iterations\u001b[39m=\u001b[39m\u001b[39mNone\u001b[39;00m,\n\u001b[1;32m   2386\u001b[0m                   name\u001b[39m=\u001b[39m\u001b[39mNone\u001b[39;00m):\n\u001b[1;32m   2387\u001b[0m \u001b[39m  \u001b[39m\u001b[39m\"\"\"Repeat `body` while the condition `cond` is true.\u001b[39;00m\n\u001b[1;32m   2388\u001b[0m \n\u001b[1;32m   2389\u001b[0m \u001b[39m  Note: This op is automatically used in a `tf.function` to convert Python for-\u001b[39;00m\n\u001b[0;32m   (...)\u001b[0m\n\u001b[1;32m   2572\u001b[0m \n\u001b[1;32m   2573\u001b[0m \u001b[39m  \"\"\"\u001b[39;00m\n\u001b[0;32m-> 2574\u001b[0m   \u001b[39mreturn\u001b[39;00m while_loop(\n\u001b[1;32m   2575\u001b[0m       cond\u001b[39m=\u001b[39;49mcond,\n\u001b[1;32m   2576\u001b[0m       body\u001b[39m=\u001b[39;49mbody,\n\u001b[1;32m   2577\u001b[0m       loop_vars\u001b[39m=\u001b[39;49mloop_vars,\n\u001b[1;32m   2578\u001b[0m       shape_invariants\u001b[39m=\u001b[39;49mshape_invariants,\n\u001b[1;32m   2579\u001b[0m       parallel_iterations\u001b[39m=\u001b[39;49mparallel_iterations,\n\u001b[1;32m   2580\u001b[0m       back_prop\u001b[39m=\u001b[39;49mback_prop,\n\u001b[1;32m   2581\u001b[0m       swap_memory\u001b[39m=\u001b[39;49mswap_memory,\n\u001b[1;32m   2582\u001b[0m       name\u001b[39m=\u001b[39;49mname,\n\u001b[1;32m   2583\u001b[0m       maximum_iterations\u001b[39m=\u001b[39;49mmaximum_iterations,\n\u001b[1;32m   2584\u001b[0m       return_same_structure\u001b[39m=\u001b[39;49m\u001b[39mTrue\u001b[39;49;00m)\n",
      "File \u001b[0;32m/local_data/scratch/rtorre/anaconda3/envs/tf2_12/lib/python3.10/site-packages/tensorflow/python/ops/control_flow_ops.py:2823\u001b[0m, in \u001b[0;36mwhile_loop\u001b[0;34m(cond, body, loop_vars, shape_invariants, parallel_iterations, back_prop, swap_memory, name, maximum_iterations, return_same_structure)\u001b[0m\n\u001b[1;32m   2820\u001b[0m loop_var_structure \u001b[39m=\u001b[39m nest\u001b[39m.\u001b[39mmap_structure(type_spec\u001b[39m.\u001b[39mtype_spec_from_value,\n\u001b[1;32m   2821\u001b[0m                                         \u001b[39mlist\u001b[39m(loop_vars))\n\u001b[1;32m   2822\u001b[0m \u001b[39mwhile\u001b[39;00m cond(\u001b[39m*\u001b[39mloop_vars):\n\u001b[0;32m-> 2823\u001b[0m   loop_vars \u001b[39m=\u001b[39m body(\u001b[39m*\u001b[39;49mloop_vars)\n\u001b[1;32m   2824\u001b[0m   \u001b[39mif\u001b[39;00m try_to_pack \u001b[39mand\u001b[39;00m \u001b[39mnot\u001b[39;00m \u001b[39misinstance\u001b[39m(loop_vars, (\u001b[39mlist\u001b[39m, _basetuple)):\n\u001b[1;32m   2825\u001b[0m     packed \u001b[39m=\u001b[39m \u001b[39mTrue\u001b[39;00m\n",
      "File \u001b[0;32m/mnt/project_mnt/teo_fs/rtorre/cernbox/git/GitHub/NormalizingFlows/NF4HEP/GenerativeModelsMetrics/notebooks/../../GenerativeModelsMetrics/lr_metrics.py:640\u001b[0m, in \u001b[0;36mLRMetric.Test_tf.<locals>.compute_test.<locals>.body\u001b[0;34m(i, res)\u001b[0m\n\u001b[1;32m    636\u001b[0m lik_ratio_norm \u001b[39m=\u001b[39m tf\u001b[39m.\u001b[39mcast(lik_ratio_norm, dtype \u001b[39m=\u001b[39m dtype) \u001b[39m# type: ignore\u001b[39;00m\n\u001b[1;32m    638\u001b[0m \u001b[39m#result_value: DataTypeTF = tf.stack([logprob_ref_ref_sum, logprob_ref_alt_sum, logprob_alt_alt_sum, lik_ratio, lik_ratio_norm]) # type: ignore\u001b[39;00m\n\u001b[0;32m--> 640\u001b[0m result_value: DataTypeTF \u001b[39m=\u001b[39m tf\u001b[39m.\u001b[39;49mconcat([logprob_ref_ref_sum, logprob_ref_alt_sum, logprob_alt_alt_sum, lik_ratio, lik_ratio_norm], axis\u001b[39m=\u001b[39;49m\u001b[39m0\u001b[39;49m) \u001b[39m# type: ignore\u001b[39;00m\n\u001b[1;32m    642\u001b[0m res \u001b[39m=\u001b[39m res\u001b[39m.\u001b[39mwrite(i, result_value)\n\u001b[1;32m    643\u001b[0m \u001b[39mreturn\u001b[39;00m i\u001b[39m+\u001b[39m\u001b[39m1\u001b[39m, res\n",
      "File \u001b[0;32m/local_data/scratch/rtorre/anaconda3/envs/tf2_12/lib/python3.10/site-packages/tensorflow/python/util/traceback_utils.py:153\u001b[0m, in \u001b[0;36mfilter_traceback.<locals>.error_handler\u001b[0;34m(*args, **kwargs)\u001b[0m\n\u001b[1;32m    151\u001b[0m \u001b[39mexcept\u001b[39;00m \u001b[39mException\u001b[39;00m \u001b[39mas\u001b[39;00m e:\n\u001b[1;32m    152\u001b[0m   filtered_tb \u001b[39m=\u001b[39m _process_traceback_frames(e\u001b[39m.\u001b[39m__traceback__)\n\u001b[0;32m--> 153\u001b[0m   \u001b[39mraise\u001b[39;00m e\u001b[39m.\u001b[39mwith_traceback(filtered_tb) \u001b[39mfrom\u001b[39;00m \u001b[39mNone\u001b[39;00m\n\u001b[1;32m    154\u001b[0m \u001b[39mfinally\u001b[39;00m:\n\u001b[1;32m    155\u001b[0m   \u001b[39mdel\u001b[39;00m filtered_tb\n",
      "File \u001b[0;32m/local_data/scratch/rtorre/anaconda3/envs/tf2_12/lib/python3.10/site-packages/tensorflow/python/framework/ops.py:7262\u001b[0m, in \u001b[0;36mraise_from_not_ok_status\u001b[0;34m(e, name)\u001b[0m\n\u001b[1;32m   7260\u001b[0m \u001b[39mdef\u001b[39;00m \u001b[39mraise_from_not_ok_status\u001b[39m(e, name):\n\u001b[1;32m   7261\u001b[0m   e\u001b[39m.\u001b[39mmessage \u001b[39m+\u001b[39m\u001b[39m=\u001b[39m (\u001b[39m\"\u001b[39m\u001b[39m name: \u001b[39m\u001b[39m\"\u001b[39m \u001b[39m+\u001b[39m name \u001b[39mif\u001b[39;00m name \u001b[39mis\u001b[39;00m \u001b[39mnot\u001b[39;00m \u001b[39mNone\u001b[39;00m \u001b[39melse\u001b[39;00m \u001b[39m\"\u001b[39m\u001b[39m\"\u001b[39m)\n\u001b[0;32m-> 7262\u001b[0m   \u001b[39mraise\u001b[39;00m core\u001b[39m.\u001b[39m_status_to_exception(e) \u001b[39mfrom\u001b[39;00m \u001b[39mNone\u001b[39;00m\n",
      "\u001b[0;31mInvalidArgumentError\u001b[0m: {{function_node __wrapped__ConcatV2_N_5_device_/job:localhost/replica:0/task:0/device:GPU:0}} ConcatOp : Can't concatenate scalars (use tf.stack instead) [Op:ConcatV2] name: concat"
     ]
    }
   ],
   "source": [
    "LRMetric.Test_tf()\n",
    "LRMetric.Results[-1].result_value"
   ]
  },
  {
   "cell_type": "markdown",
   "metadata": {},
   "source": [
    "### MultiKS Test"
   ]
  },
  {
   "cell_type": "code",
   "execution_count": 52,
   "metadata": {},
   "outputs": [
    {
     "name": "stdout",
     "output_type": "stream",
     "text": [
      "\n",
      "------------------------------------------\n",
      "Starting MultiKS tests calculation...\n",
      "Running TF MultiKS tests...\n",
      "niter = 10000\n",
      "batch_size = 10000\n",
      "The dist_1_num tensor is empty. Batches will be generated 'on-the-fly' from dist_1_symb.\n",
      "The dist_2_num tensor is empty. Batches will be generated 'on-the-fly' from dist_2_symb.\n"
     ]
    },
    {
     "name": "stdout",
     "output_type": "stream",
     "text": [
      "MultiKS tests calculation completed in 455.2914827791974 seconds.\n"
     ]
    },
    {
     "data": {
      "text/plain": [
       "{'metric_list': array([0.01270001, 0.0169    , 0.01650003, ..., 0.01989999, 0.01179999,\n",
       "        0.0131    ])}"
      ]
     },
     "execution_count": 52,
     "metadata": {},
     "output_type": "execute_result"
    }
   ],
   "source": [
    "MultiKSTest.Test_tf()\n",
    "MultiKSTest.Results[-1].result_value"
   ]
  },
  {
   "cell_type": "code",
   "execution_count": null,
   "metadata": {},
   "outputs": [
    {
     "data": {
      "image/png": "[encoded data removed]",
      "text/plain": [
       "<Figure size 1600x600 with 2 Axes>"
      ]
     },
     "metadata": {},
     "output_type": "display_data"
    },
    {
     "name": "stdout",
     "output_type": "stream",
     "text": [
      "Time elapsed: 0.9266068339347839 seconds.\n"
     ]
    }
   ],
   "source": [
    "start = timer()\n",
    "\n",
    "nsamples = MultiKSTest.Inputs.batch_size_test\n",
    "niter = MultiKSTest.Inputs.niter\n",
    "\n",
    "scale = 'log'\n",
    "num_bins = 50  # number of bins|\n",
    "dist_null = np.array(MultiKSTest.Results[-1].result_value[\"metric_list\"])\n",
    "# Compute the mean and standard deviation of the sample and their standard errors\n",
    "mu, deltamu, sigma, deltasigma = (np.mean(dist_null), se_mean(dist_null), np.std(dist_null), se_std(dist_null))\n",
    "# Minimum and maximum x values\n",
    "min_x = min(dist_null) # lower limit of the binning\n",
    "max_x = max(dist_null) # upper limit of the binning\n",
    "# Create an array of values\n",
    "x = np.linspace(min_x, max_x, num_bins + 1)\n",
    "# Create histogram for values and normalize counts to sum to 1\n",
    "counts, bin_edges = np.histogram(dist_null, bins=x, density=True)\n",
    "cum_counts = np.cumsum(counts)/np.sum(counts)\n",
    "# Get the bin centers\n",
    "bin_centers = (bin_edges[:-1] + bin_edges[1:]) / 2\n",
    "# Calculate the theoretical PDF and CDF of the KS distribution for each x value\n",
    "#theoretical_pdf_ks = kstwobign.pdf(x)\n",
    "#theoretical_cdf_ks = kstwobign.cdf(x)\n",
    "\n",
    "# Empirical SKS Normal\n",
    "#empirical_pdf_norm = norm.pdf(x, loc=kstwobign.mean(), scale=0.155)\n",
    "#empirical_cdf_norm = norm.cdf(x, loc=kstwobign.mean(), scale=0.155)\n",
    "# Set up the figure and the two subplots\n",
    "fig, ax = plt.subplots(1, 2, figsize=(16, 6))\n",
    "# Draw the first plot\n",
    "ax[0].plot(bin_centers, counts, linestyle = '-', label='MultiKS Null', drawstyle='steps-mid')\n",
    "#ax[0].plot(x, theoretical_pdf_ks, label='Theoretical distribution (KS)')\n",
    "#ax[0].plot(x, empirical_pdf_norm, label='SKS - Normal approximation $\\\\mu =$'+str(kstwobign.mean())+', $\\\\sigma =$'+str(0.155))\n",
    "ax[0].set_yscale(scale)\n",
    "ax[0].set_xlim(0.005, 0.025)\n",
    "ax[0].set_ylim(0.01, 400)\n",
    "ax[0].set_xlabel('Multivariate KS')\n",
    "ax[0].set_ylabel('Number of pseudo-experiments')\n",
    "ax[0].set_title('CMoG - ncop = '+str(ncomp)+' - ndims = '+str(ndims)+' - PDF with '+str(int(nsamples/1000))+'K test samples - '+str(int(niter/1000))+'K toys')\n",
    "ax[0].legend(loc='upper right')\n",
    "# Draw the second plot\n",
    "ax[1].plot(bin_centers, cum_counts, linestyle = '-', label='MultiKS Null', drawstyle='steps-mid')\n",
    "#ax[1].plot(x, theoretical_cdf_ks, label='Theoretical distribution (KS)')\n",
    "#ax[1].plot(x, empirical_cdf_norm, label='SKS - Normal approximation $\\\\mu =$'+str(kstwobign.mean())+', $\\\\sigma =$'+str(0.155))\n",
    "ax[1].set_yscale(scale)\n",
    "ax[0].set_xlim(0.005, 0.025)\n",
    "ax[1].set_ylim(9e-4, 1.5)\n",
    "ax[1].set_xlabel('Multivariate KS')\n",
    "ax[1].set_title('CMoG - ncop = '+str(ncomp)+' - ndims = '+str(ndims)+' - CDF with '+str(int(nsamples/1000))+'K test samples - '+str(int(niter/1000))+'K toys')\n",
    "ax[1].legend(loc='lower right')\n",
    "## Draw the third plot\n",
    "#ax[2].plot(bin_centers, cum_counts, linestyle = '-', label='FN Null', drawstyle='steps-mid')\n",
    "##ax[2].plot(x, theoretical_cdf_ks, label='Theoretical distribution (KS)')\n",
    "##ax[2].plot(x, empirical_cdf_norm, label='SKS - Normal approximation $\\\\mu =$'+str(kstwobign.mean())+', $\\\\sigma =$'+str(0.155))\n",
    "#ax[2].set_yscale(scale)\n",
    "#ax[2].set_xlim(0.25, 2)\n",
    "#ax[2].set_ylim(0.8, 1)\n",
    "#ax[2].set_xlabel('KS vs SKS')\n",
    "#ax[2].set_title('CMoG - ncop = '+str(ncomp)+' - ndims = '+str(ndims)+' - CDF with '+str(int(nsamples/1000))+'K test samples - '+str(int(niter/1000))+'K toys')\n",
    "#ax[2].legend(loc='lower right')\n",
    "# Adjust the width space\n",
    "plt.subplots_adjust(wspace=0.1)  # Adjust this value to your liking\n",
    "# Display the figure with the two subplots\n",
    "plt.tight_layout()\n",
    "#plt.savefig(results_path+'SKS_nsamples_'+str(nsamples)+'_ndims_'+'_'+str(ndims)+'_niter_'+str(niter)+'.pdf')\n",
    "plt.show()\n",
    "plt.close()\n",
    "end = timer()\n",
    "print(\"Time elapsed:\", end-start, \"seconds.\")"
   ]
  },
  {
   "cell_type": "code",
   "execution_count": null,
   "metadata": {},
   "outputs": [
    {
     "data": {
      "text/plain": [
       "[[0.68, [6800, 3199], 0.01294000744819641],\n",
       " [0.95, [9500, 500], 0.015999996662139894],\n",
       " [0.99, [9900, 100], 0.01818000674247742]]"
      ]
     },
     "metadata": {},
     "output_type": "display_data"
    }
   ],
   "source": [
    "cl_list = [0.68, 0.95, 0.99]\n",
    "[[cl, [int(cl*len(dist_null)), int((1-cl)*len(dist_null))], np.sort(dist_null)[int(len(dist_null)*cl)]] for cl in cl_list]"
   ]
  },
  {
   "cell_type": "markdown",
   "metadata": {},
   "source": [
    "### SKS Test"
   ]
  },
  {
   "cell_type": "code",
   "execution_count": 54,
   "metadata": {},
   "outputs": [
    {
     "name": "stdout",
     "output_type": "stream",
     "text": [
      "\n",
      "------------------------------------------\n",
      "Starting SKS metric calculation...\n",
      "Running TF SKS calculation...\n",
      "niter = 10000\n",
      "batch_size = 10000\n"
     ]
    },
    {
     "name": "stdout",
     "output_type": "stream",
     "text": [
      "The dist_1_num tensor is empty. Batches will be generated 'on-the-fly' from dist_1_symb.\n",
      "The dist_2_num tensor is empty. Batches will be generated 'on-the-fly' from dist_2_symb.\n",
      "nchunks = 100\n",
      "Iterating from 0 to 100 out of 10000 .\n"
     ]
    },
    {
     "ename": "KeyboardInterrupt",
     "evalue": "",
     "output_type": "error",
     "traceback": [
      "\u001b[0;31m---------------------------------------------------------------------------\u001b[0m",
      "\u001b[0;31mKeyboardInterrupt\u001b[0m                         Traceback (most recent call last)",
      "\u001b[1;32m/home/rtorre/teo_fs/cernbox/git/GitHub/NormalizingFlows/NF4HEP/GenerativeModelsMetrics/notebooks/Analysis.ipynb Cell 28\u001b[0m line \u001b[0;36m2\n\u001b[1;32m      <a href='vscode-notebook-cell://ssh-remote%2Bteogpu02.ge.infn.it/home/rtorre/teo_fs/cernbox/git/GitHub/NormalizingFlows/NF4HEP/GenerativeModelsMetrics/notebooks/Analysis.ipynb#X32sdnNjb2RlLXJlbW90ZQ%3D%3D?line=0'>1</a>\u001b[0m \u001b[39m#tf.config.run_functions_eagerly(True)#\u001b[39;00m\n\u001b[0;32m----> <a href='vscode-notebook-cell://ssh-remote%2Bteogpu02.ge.infn.it/home/rtorre/teo_fs/cernbox/git/GitHub/NormalizingFlows/NF4HEP/GenerativeModelsMetrics/notebooks/Analysis.ipynb#X32sdnNjb2RlLXJlbW90ZQ%3D%3D?line=1'>2</a>\u001b[0m SKSTest\u001b[39m.\u001b[39;49mTest_tf(max_vectorize\u001b[39m=\u001b[39;49m\u001b[39m100\u001b[39;49m)\n\u001b[1;32m      <a href='vscode-notebook-cell://ssh-remote%2Bteogpu02.ge.infn.it/home/rtorre/teo_fs/cernbox/git/GitHub/NormalizingFlows/NF4HEP/GenerativeModelsMetrics/notebooks/Analysis.ipynb#X32sdnNjb2RlLXJlbW90ZQ%3D%3D?line=2'>3</a>\u001b[0m SKSTest\u001b[39m.\u001b[39mResults[\u001b[39m-\u001b[39m\u001b[39m1\u001b[39m]\u001b[39m.\u001b[39mresult_value\n",
      "File \u001b[0;32m/mnt/project_mnt/teo_fs/rtorre/cernbox/git/GitHub/NormalizingFlows/NF4HEP/GenerativeModelsMetrics/notebooks/../../GenerativeModelsMetrics/sks_metrics.py:549\u001b[0m, in \u001b[0;36mSKSTest.Test_tf\u001b[0;34m(self, max_vectorize)\u001b[0m\n\u001b[1;32m    547\u001b[0m sks_stds: DataTypeTF\n\u001b[1;32m    548\u001b[0m sks_lists: DataTypeTF\n\u001b[0;32m--> 549\u001b[0m sks_means, sks_stds, sks_lists \u001b[39m=\u001b[39m compute_test(max_vectorize \u001b[39m=\u001b[39;49m max_vectorize)\n\u001b[1;32m    551\u001b[0m end_calculation()\n\u001b[1;32m    553\u001b[0m timestamp: \u001b[39mstr\u001b[39m \u001b[39m=\u001b[39m datetime\u001b[39m.\u001b[39mnow()\u001b[39m.\u001b[39misoformat()\n",
      "File \u001b[0;32m/mnt/project_mnt/teo_fs/rtorre/cernbox/git/GitHub/NormalizingFlows/NF4HEP/GenerativeModelsMetrics/notebooks/../../GenerativeModelsMetrics/sks_metrics.py:528\u001b[0m, in \u001b[0;36mSKSTest.Test_tf.<locals>.compute_test\u001b[0;34m(max_vectorize)\u001b[0m\n\u001b[1;32m    525\u001b[0m \u001b[39mdef\u001b[39;00m \u001b[39mcond\u001b[39m(i, res):\n\u001b[1;32m    526\u001b[0m     \u001b[39mreturn\u001b[39;00m i \u001b[39m<\u001b[39m nchunks\n\u001b[0;32m--> 528\u001b[0m _, res \u001b[39m=\u001b[39m tf\u001b[39m.\u001b[39;49mwhile_loop(cond, body, [\u001b[39m0\u001b[39;49m, res])\n\u001b[1;32m    530\u001b[0m \u001b[39mfor\u001b[39;00m i \u001b[39min\u001b[39;00m \u001b[39mrange\u001b[39m(nchunks):\n\u001b[1;32m    531\u001b[0m     res_i \u001b[39m=\u001b[39m res\u001b[39m.\u001b[39mread(i)\n",
      "File \u001b[0;32m/local_data/scratch/rtorre/anaconda3/envs/tf2_12/lib/python3.10/site-packages/tensorflow/python/util/deprecation.py:648\u001b[0m, in \u001b[0;36mdeprecated_arg_values.<locals>.deprecated_wrapper.<locals>.new_func\u001b[0;34m(*args, **kwargs)\u001b[0m\n\u001b[1;32m    640\u001b[0m           _PRINTED_WARNING[(func, arg_name)] \u001b[39m=\u001b[39m \u001b[39mTrue\u001b[39;00m\n\u001b[1;32m    641\u001b[0m         logging\u001b[39m.\u001b[39mwarning(\n\u001b[1;32m    642\u001b[0m             \u001b[39m'\u001b[39m\u001b[39mFrom \u001b[39m\u001b[39m%s\u001b[39;00m\u001b[39m: calling \u001b[39m\u001b[39m%s\u001b[39;00m\u001b[39m (from \u001b[39m\u001b[39m%s\u001b[39;00m\u001b[39m) with \u001b[39m\u001b[39m%s\u001b[39;00m\u001b[39m=\u001b[39m\u001b[39m%s\u001b[39;00m\u001b[39m is deprecated and \u001b[39m\u001b[39m'\u001b[39m\n\u001b[1;32m    643\u001b[0m             \u001b[39m'\u001b[39m\u001b[39mwill be removed \u001b[39m\u001b[39m%s\u001b[39;00m\u001b[39m.\u001b[39m\u001b[39m\\n\u001b[39;00m\u001b[39mInstructions for updating:\u001b[39m\u001b[39m\\n\u001b[39;00m\u001b[39m%s\u001b[39;00m\u001b[39m'\u001b[39m,\n\u001b[0;32m   (...)\u001b[0m\n\u001b[1;32m    646\u001b[0m             \u001b[39m'\u001b[39m\u001b[39min a future version\u001b[39m\u001b[39m'\u001b[39m \u001b[39mif\u001b[39;00m date \u001b[39mis\u001b[39;00m \u001b[39mNone\u001b[39;00m \u001b[39melse\u001b[39;00m\n\u001b[1;32m    647\u001b[0m             (\u001b[39m'\u001b[39m\u001b[39mafter \u001b[39m\u001b[39m%s\u001b[39;00m\u001b[39m'\u001b[39m \u001b[39m%\u001b[39m date), instructions)\n\u001b[0;32m--> 648\u001b[0m \u001b[39mreturn\u001b[39;00m func(\u001b[39m*\u001b[39;49margs, \u001b[39m*\u001b[39;49m\u001b[39m*\u001b[39;49mkwargs)\n",
      "File \u001b[0;32m/local_data/scratch/rtorre/anaconda3/envs/tf2_12/lib/python3.10/site-packages/tensorflow/python/ops/control_flow_ops.py:2574\u001b[0m, in \u001b[0;36mwhile_loop_v2\u001b[0;34m(cond, body, loop_vars, shape_invariants, parallel_iterations, back_prop, swap_memory, maximum_iterations, name)\u001b[0m\n\u001b[1;32m   2368\u001b[0m \u001b[39m@tf_export\u001b[39m(\u001b[39m\"\u001b[39m\u001b[39mwhile_loop\u001b[39m\u001b[39m\"\u001b[39m, v1\u001b[39m=\u001b[39m[])\n\u001b[1;32m   2369\u001b[0m \u001b[39m@deprecation\u001b[39m\u001b[39m.\u001b[39mdeprecated_arg_values(\n\u001b[1;32m   2370\u001b[0m     \u001b[39mNone\u001b[39;00m,\n\u001b[0;32m   (...)\u001b[0m\n\u001b[1;32m   2385\u001b[0m                   maximum_iterations\u001b[39m=\u001b[39m\u001b[39mNone\u001b[39;00m,\n\u001b[1;32m   2386\u001b[0m                   name\u001b[39m=\u001b[39m\u001b[39mNone\u001b[39;00m):\n\u001b[1;32m   2387\u001b[0m \u001b[39m  \u001b[39m\u001b[39m\"\"\"Repeat `body` while the condition `cond` is true.\u001b[39;00m\n\u001b[1;32m   2388\u001b[0m \n\u001b[1;32m   2389\u001b[0m \u001b[39m  Note: This op is automatically used in a `tf.function` to convert Python for-\u001b[39;00m\n\u001b[0;32m   (...)\u001b[0m\n\u001b[1;32m   2572\u001b[0m \n\u001b[1;32m   2573\u001b[0m \u001b[39m  \"\"\"\u001b[39;00m\n\u001b[0;32m-> 2574\u001b[0m   \u001b[39mreturn\u001b[39;00m while_loop(\n\u001b[1;32m   2575\u001b[0m       cond\u001b[39m=\u001b[39;49mcond,\n\u001b[1;32m   2576\u001b[0m       body\u001b[39m=\u001b[39;49mbody,\n\u001b[1;32m   2577\u001b[0m       loop_vars\u001b[39m=\u001b[39;49mloop_vars,\n\u001b[1;32m   2578\u001b[0m       shape_invariants\u001b[39m=\u001b[39;49mshape_invariants,\n\u001b[1;32m   2579\u001b[0m       parallel_iterations\u001b[39m=\u001b[39;49mparallel_iterations,\n\u001b[1;32m   2580\u001b[0m       back_prop\u001b[39m=\u001b[39;49mback_prop,\n\u001b[1;32m   2581\u001b[0m       swap_memory\u001b[39m=\u001b[39;49mswap_memory,\n\u001b[1;32m   2582\u001b[0m       name\u001b[39m=\u001b[39;49mname,\n\u001b[1;32m   2583\u001b[0m       maximum_iterations\u001b[39m=\u001b[39;49mmaximum_iterations,\n\u001b[1;32m   2584\u001b[0m       return_same_structure\u001b[39m=\u001b[39;49m\u001b[39mTrue\u001b[39;49;00m)\n",
      "File \u001b[0;32m/local_data/scratch/rtorre/anaconda3/envs/tf2_12/lib/python3.10/site-packages/tensorflow/python/ops/control_flow_ops.py:2823\u001b[0m, in \u001b[0;36mwhile_loop\u001b[0;34m(cond, body, loop_vars, shape_invariants, parallel_iterations, back_prop, swap_memory, name, maximum_iterations, return_same_structure)\u001b[0m\n\u001b[1;32m   2820\u001b[0m loop_var_structure \u001b[39m=\u001b[39m nest\u001b[39m.\u001b[39mmap_structure(type_spec\u001b[39m.\u001b[39mtype_spec_from_value,\n\u001b[1;32m   2821\u001b[0m                                         \u001b[39mlist\u001b[39m(loop_vars))\n\u001b[1;32m   2822\u001b[0m \u001b[39mwhile\u001b[39;00m cond(\u001b[39m*\u001b[39mloop_vars):\n\u001b[0;32m-> 2823\u001b[0m   loop_vars \u001b[39m=\u001b[39m body(\u001b[39m*\u001b[39;49mloop_vars)\n\u001b[1;32m   2824\u001b[0m   \u001b[39mif\u001b[39;00m try_to_pack \u001b[39mand\u001b[39;00m \u001b[39mnot\u001b[39;00m \u001b[39misinstance\u001b[39m(loop_vars, (\u001b[39mlist\u001b[39m, _basetuple)):\n\u001b[1;32m   2825\u001b[0m     packed \u001b[39m=\u001b[39m \u001b[39mTrue\u001b[39;00m\n",
      "File \u001b[0;32m/mnt/project_mnt/teo_fs/rtorre/cernbox/git/GitHub/NormalizingFlows/NF4HEP/GenerativeModelsMetrics/notebooks/../../GenerativeModelsMetrics/sks_metrics.py:521\u001b[0m, in \u001b[0;36mSKSTest.Test_tf.<locals>.compute_test.<locals>.body\u001b[0;34m(i, res)\u001b[0m\n\u001b[1;32m    519\u001b[0m end \u001b[39m=\u001b[39m tf\u001b[39m.\u001b[39mminimum(start \u001b[39m+\u001b[39m max_iter_per_chunk, niter)\n\u001b[1;32m    520\u001b[0m conditional_tf_print(tf\u001b[39m.\u001b[39mlogical_and(tf\u001b[39m.\u001b[39mlogical_or(tf\u001b[39m.\u001b[39mmath\u001b[39m.\u001b[39mlogical_not(tf\u001b[39m.\u001b[39mequal(start,\u001b[39m0\u001b[39m)),tf\u001b[39m.\u001b[39mmath\u001b[39m.\u001b[39mlogical_not(tf\u001b[39m.\u001b[39mequal(end,niter))), \u001b[39mself\u001b[39m\u001b[39m.\u001b[39mverbose), \u001b[39m\"\u001b[39m\u001b[39mIterating from\u001b[39m\u001b[39m\"\u001b[39m, start, \u001b[39m\"\u001b[39m\u001b[39mto\u001b[39m\u001b[39m\"\u001b[39m, end, \u001b[39m\"\u001b[39m\u001b[39mout of\u001b[39m\u001b[39m\"\u001b[39m, niter, \u001b[39m\"\u001b[39m\u001b[39m.\u001b[39m\u001b[39m\"\u001b[39m) \u001b[39m# type: ignore\u001b[39;00m\n\u001b[0;32m--> 521\u001b[0m chunk_result \u001b[39m=\u001b[39m batched_test(start, end) \u001b[39m# type: ignore\u001b[39;00m\n\u001b[1;32m    522\u001b[0m res \u001b[39m=\u001b[39m res\u001b[39m.\u001b[39mwrite(i, chunk_result)\n\u001b[1;32m    523\u001b[0m \u001b[39mreturn\u001b[39;00m i\u001b[39m+\u001b[39m\u001b[39m1\u001b[39m, res\n",
      "File \u001b[0;32m/mnt/project_mnt/teo_fs/rtorre/cernbox/git/GitHub/NormalizingFlows/NF4HEP/GenerativeModelsMetrics/notebooks/../../GenerativeModelsMetrics/sks_metrics.py:467\u001b[0m, in \u001b[0;36mSKSTest.Test_tf.<locals>.batched_test\u001b[0;34m(start, end)\u001b[0m\n\u001b[1;32m    463\u001b[0m \u001b[39mdef\u001b[39;00m \u001b[39mbatched_test\u001b[39m(start: tf\u001b[39m.\u001b[39mTensor, \n\u001b[1;32m    464\u001b[0m                  end: tf\u001b[39m.\u001b[39mTensor\n\u001b[1;32m    465\u001b[0m                 ) \u001b[39m-\u001b[39m\u001b[39m>\u001b[39m DataTypeTF:\n\u001b[1;32m    466\u001b[0m     \u001b[39m# Define batched distributions\u001b[39;00m\n\u001b[0;32m--> 467\u001b[0m     dist_1_k: tf\u001b[39m.\u001b[39mTensor \u001b[39m=\u001b[39m tf\u001b[39m.\u001b[39;49mcond(tf\u001b[39m.\u001b[39;49mequal(tf\u001b[39m.\u001b[39;49mshape(dist_1_num[\u001b[39m0\u001b[39;49m])[\u001b[39m0\u001b[39;49m],\u001b[39m0\u001b[39;49m), \u001b[39m# type: ignore\u001b[39;49;00m\n\u001b[1;32m    468\u001b[0m                                        true_fn \u001b[39m=\u001b[39;49m \u001b[39mlambda\u001b[39;49;00m: set_dist_num_from_symb(dist_1_symb, nsamples \u001b[39m=\u001b[39;49m batch_size\u001b[39m*\u001b[39;49m(end\u001b[39m-\u001b[39;49mstart)),\n\u001b[1;32m    469\u001b[0m                                        false_fn \u001b[39m=\u001b[39;49m \u001b[39mlambda\u001b[39;49;00m: return_dist_num(dist_1_num[start\u001b[39m*\u001b[39;49mbatch_size:end\u001b[39m*\u001b[39;49mbatch_size, :])) \u001b[39m# type: ignore\u001b[39;00m\n\u001b[1;32m    470\u001b[0m     dist_2_k: tf\u001b[39m.\u001b[39mTensor \u001b[39m=\u001b[39m tf\u001b[39m.\u001b[39mcond(tf\u001b[39m.\u001b[39mequal(tf\u001b[39m.\u001b[39mshape(dist_1_num[\u001b[39m0\u001b[39m])[\u001b[39m0\u001b[39m],\u001b[39m0\u001b[39m), \u001b[39m# type: ignore\u001b[39;00m\n\u001b[1;32m    471\u001b[0m                                        true_fn \u001b[39m=\u001b[39m \u001b[39mlambda\u001b[39;00m: set_dist_num_from_symb(dist_2_symb, nsamples \u001b[39m=\u001b[39m batch_size\u001b[39m*\u001b[39m(end\u001b[39m-\u001b[39mstart)),\n\u001b[1;32m    472\u001b[0m                                        false_fn \u001b[39m=\u001b[39m \u001b[39mlambda\u001b[39;00m: return_dist_num(dist_2_num[start\u001b[39m*\u001b[39mbatch_size:end\u001b[39m*\u001b[39mbatch_size, :])) \u001b[39m# type: ignore\u001b[39;00m\n\u001b[1;32m    474\u001b[0m     dist_1_k \u001b[39m=\u001b[39m tf\u001b[39m.\u001b[39mreshape(dist_1_k, (end\u001b[39m-\u001b[39mstart, batch_size, ndims))\n",
      "File \u001b[0;32m/local_data/scratch/rtorre/anaconda3/envs/tf2_12/lib/python3.10/site-packages/tensorflow/python/util/traceback_utils.py:150\u001b[0m, in \u001b[0;36mfilter_traceback.<locals>.error_handler\u001b[0;34m(*args, **kwargs)\u001b[0m\n\u001b[1;32m    148\u001b[0m filtered_tb \u001b[39m=\u001b[39m \u001b[39mNone\u001b[39;00m\n\u001b[1;32m    149\u001b[0m \u001b[39mtry\u001b[39;00m:\n\u001b[0;32m--> 150\u001b[0m   \u001b[39mreturn\u001b[39;00m fn(\u001b[39m*\u001b[39;49margs, \u001b[39m*\u001b[39;49m\u001b[39m*\u001b[39;49mkwargs)\n\u001b[1;32m    151\u001b[0m \u001b[39mexcept\u001b[39;00m \u001b[39mException\u001b[39;00m \u001b[39mas\u001b[39;00m e:\n\u001b[1;32m    152\u001b[0m   filtered_tb \u001b[39m=\u001b[39m _process_traceback_frames(e\u001b[39m.\u001b[39m__traceback__)\n",
      "File \u001b[0;32m/local_data/scratch/rtorre/anaconda3/envs/tf2_12/lib/python3.10/site-packages/tensorflow/python/util/dispatch.py:1176\u001b[0m, in \u001b[0;36madd_dispatch_support.<locals>.decorator.<locals>.op_dispatch_handler\u001b[0;34m(*args, **kwargs)\u001b[0m\n\u001b[1;32m   1174\u001b[0m \u001b[39m# Fallback dispatch system (dispatch v1):\u001b[39;00m\n\u001b[1;32m   1175\u001b[0m \u001b[39mtry\u001b[39;00m:\n\u001b[0;32m-> 1176\u001b[0m   \u001b[39mreturn\u001b[39;00m dispatch_target(\u001b[39m*\u001b[39;49margs, \u001b[39m*\u001b[39;49m\u001b[39m*\u001b[39;49mkwargs)\n\u001b[1;32m   1177\u001b[0m \u001b[39mexcept\u001b[39;00m (\u001b[39mTypeError\u001b[39;00m, \u001b[39mValueError\u001b[39;00m):\n\u001b[1;32m   1178\u001b[0m   \u001b[39m# Note: convert_to_eager_tensor currently raises a ValueError, not a\u001b[39;00m\n\u001b[1;32m   1179\u001b[0m   \u001b[39m# TypeError, when given unexpected types.  So we need to catch both.\u001b[39;00m\n\u001b[1;32m   1180\u001b[0m   result \u001b[39m=\u001b[39m dispatch(op_dispatch_handler, args, kwargs)\n",
      "File \u001b[0;32m/local_data/scratch/rtorre/anaconda3/envs/tf2_12/lib/python3.10/site-packages/tensorflow/python/ops/control_flow_ops.py:1427\u001b[0m, in \u001b[0;36mcond_for_tf_v2\u001b[0;34m(pred, true_fn, false_fn, name)\u001b[0m\n\u001b[1;32m   1327\u001b[0m \u001b[39m@tf_export\u001b[39m(\u001b[39m\"\u001b[39m\u001b[39mcond\u001b[39m\u001b[39m\"\u001b[39m, v1\u001b[39m=\u001b[39m[])\n\u001b[1;32m   1328\u001b[0m \u001b[39m@dispatch\u001b[39m\u001b[39m.\u001b[39madd_dispatch_support\n\u001b[1;32m   1329\u001b[0m \u001b[39mdef\u001b[39;00m \u001b[39mcond_for_tf_v2\u001b[39m(pred, true_fn\u001b[39m=\u001b[39m\u001b[39mNone\u001b[39;00m, false_fn\u001b[39m=\u001b[39m\u001b[39mNone\u001b[39;00m, name\u001b[39m=\u001b[39m\u001b[39mNone\u001b[39;00m):\n\u001b[1;32m   1330\u001b[0m \u001b[39m  \u001b[39m\u001b[39m\"\"\"Return `true_fn()` if the predicate `pred` is true else `false_fn()`.\u001b[39;00m\n\u001b[1;32m   1331\u001b[0m \n\u001b[1;32m   1332\u001b[0m \u001b[39m  Note: This op is automatically used in a `tf.function` to convert Python\u001b[39;00m\n\u001b[0;32m   (...)\u001b[0m\n\u001b[1;32m   1425\u001b[0m \n\u001b[1;32m   1426\u001b[0m \u001b[39m  \"\"\"\u001b[39;00m\n\u001b[0;32m-> 1427\u001b[0m   \u001b[39mreturn\u001b[39;00m cond(pred, true_fn\u001b[39m=\u001b[39;49mtrue_fn, false_fn\u001b[39m=\u001b[39;49mfalse_fn, strict\u001b[39m=\u001b[39;49m\u001b[39mTrue\u001b[39;49;00m, name\u001b[39m=\u001b[39;49mname)\n",
      "File \u001b[0;32m/local_data/scratch/rtorre/anaconda3/envs/tf2_12/lib/python3.10/site-packages/tensorflow/python/util/traceback_utils.py:150\u001b[0m, in \u001b[0;36mfilter_traceback.<locals>.error_handler\u001b[0;34m(*args, **kwargs)\u001b[0m\n\u001b[1;32m    148\u001b[0m filtered_tb \u001b[39m=\u001b[39m \u001b[39mNone\u001b[39;00m\n\u001b[1;32m    149\u001b[0m \u001b[39mtry\u001b[39;00m:\n\u001b[0;32m--> 150\u001b[0m   \u001b[39mreturn\u001b[39;00m fn(\u001b[39m*\u001b[39;49margs, \u001b[39m*\u001b[39;49m\u001b[39m*\u001b[39;49mkwargs)\n\u001b[1;32m    151\u001b[0m \u001b[39mexcept\u001b[39;00m \u001b[39mException\u001b[39;00m \u001b[39mas\u001b[39;00m e:\n\u001b[1;32m    152\u001b[0m   filtered_tb \u001b[39m=\u001b[39m _process_traceback_frames(e\u001b[39m.\u001b[39m__traceback__)\n",
      "File \u001b[0;32m/local_data/scratch/rtorre/anaconda3/envs/tf2_12/lib/python3.10/site-packages/tensorflow/python/util/dispatch.py:1176\u001b[0m, in \u001b[0;36madd_dispatch_support.<locals>.decorator.<locals>.op_dispatch_handler\u001b[0;34m(*args, **kwargs)\u001b[0m\n\u001b[1;32m   1174\u001b[0m \u001b[39m# Fallback dispatch system (dispatch v1):\u001b[39;00m\n\u001b[1;32m   1175\u001b[0m \u001b[39mtry\u001b[39;00m:\n\u001b[0;32m-> 1176\u001b[0m   \u001b[39mreturn\u001b[39;00m dispatch_target(\u001b[39m*\u001b[39;49margs, \u001b[39m*\u001b[39;49m\u001b[39m*\u001b[39;49mkwargs)\n\u001b[1;32m   1177\u001b[0m \u001b[39mexcept\u001b[39;00m (\u001b[39mTypeError\u001b[39;00m, \u001b[39mValueError\u001b[39;00m):\n\u001b[1;32m   1178\u001b[0m   \u001b[39m# Note: convert_to_eager_tensor currently raises a ValueError, not a\u001b[39;00m\n\u001b[1;32m   1179\u001b[0m   \u001b[39m# TypeError, when given unexpected types.  So we need to catch both.\u001b[39;00m\n\u001b[1;32m   1180\u001b[0m   result \u001b[39m=\u001b[39m dispatch(op_dispatch_handler, args, kwargs)\n",
      "File \u001b[0;32m/local_data/scratch/rtorre/anaconda3/envs/tf2_12/lib/python3.10/site-packages/tensorflow/python/util/deprecation.py:576\u001b[0m, in \u001b[0;36mdeprecated_args.<locals>.deprecated_wrapper.<locals>.new_func\u001b[0;34m(*args, **kwargs)\u001b[0m\n\u001b[1;32m    568\u001b[0m         _PRINTED_WARNING[(func, arg_name)] \u001b[39m=\u001b[39m \u001b[39mTrue\u001b[39;00m\n\u001b[1;32m    569\u001b[0m       logging\u001b[39m.\u001b[39mwarning(\n\u001b[1;32m    570\u001b[0m           \u001b[39m'\u001b[39m\u001b[39mFrom \u001b[39m\u001b[39m%s\u001b[39;00m\u001b[39m: calling \u001b[39m\u001b[39m%s\u001b[39;00m\u001b[39m (from \u001b[39m\u001b[39m%s\u001b[39;00m\u001b[39m) with \u001b[39m\u001b[39m%s\u001b[39;00m\u001b[39m is deprecated and will \u001b[39m\u001b[39m'\u001b[39m\n\u001b[1;32m    571\u001b[0m           \u001b[39m'\u001b[39m\u001b[39mbe removed \u001b[39m\u001b[39m%s\u001b[39;00m\u001b[39m.\u001b[39m\u001b[39m\\n\u001b[39;00m\u001b[39mInstructions for updating:\u001b[39m\u001b[39m\\n\u001b[39;00m\u001b[39m%s\u001b[39;00m\u001b[39m'\u001b[39m,\n\u001b[0;32m   (...)\u001b[0m\n\u001b[1;32m    574\u001b[0m           \u001b[39m'\u001b[39m\u001b[39min a future version\u001b[39m\u001b[39m'\u001b[39m \u001b[39mif\u001b[39;00m date \u001b[39mis\u001b[39;00m \u001b[39mNone\u001b[39;00m \u001b[39melse\u001b[39;00m (\u001b[39m'\u001b[39m\u001b[39mafter \u001b[39m\u001b[39m%s\u001b[39;00m\u001b[39m'\u001b[39m \u001b[39m%\u001b[39m date),\n\u001b[1;32m    575\u001b[0m           instructions)\n\u001b[0;32m--> 576\u001b[0m \u001b[39mreturn\u001b[39;00m func(\u001b[39m*\u001b[39;49margs, \u001b[39m*\u001b[39;49m\u001b[39m*\u001b[39;49mkwargs)\n",
      "File \u001b[0;32m/local_data/scratch/rtorre/anaconda3/envs/tf2_12/lib/python3.10/site-packages/tensorflow/python/ops/control_flow_ops.py:1206\u001b[0m, in \u001b[0;36mcond\u001b[0;34m(pred, true_fn, false_fn, strict, name, fn1, fn2)\u001b[0m\n\u001b[1;32m   1203\u001b[0m   \u001b[39mraise\u001b[39;00m \u001b[39mTypeError\u001b[39;00m(\u001b[39m\"\u001b[39m\u001b[39m'\u001b[39m\u001b[39mfalse_fn\u001b[39m\u001b[39m'\u001b[39m\u001b[39m must be callable.\u001b[39m\u001b[39m\"\u001b[39m)\n\u001b[1;32m   1205\u001b[0m \u001b[39mif\u001b[39;00m context\u001b[39m.\u001b[39mexecuting_eagerly():\n\u001b[0;32m-> 1206\u001b[0m   \u001b[39mreturn\u001b[39;00m _eager_cond_implementation(pred, true_fn, false_fn, strict, name)\n\u001b[1;32m   1208\u001b[0m \u001b[39m# Always enable control flow v2 if building a function, regardless of toggle.\u001b[39;00m\n\u001b[1;32m   1209\u001b[0m \u001b[39mif\u001b[39;00m util\u001b[39m.\u001b[39mEnableControlFlowV2(ops\u001b[39m.\u001b[39mget_default_graph()):\n",
      "File \u001b[0;32m/local_data/scratch/rtorre/anaconda3/envs/tf2_12/lib/python3.10/site-packages/tensorflow/python/ops/control_flow_ops.py:1093\u001b[0m, in \u001b[0;36m_eager_cond_implementation\u001b[0;34m(pred, true_fn, false_fn, strict, name)\u001b[0m\n\u001b[1;32m   1091\u001b[0m \u001b[39mwith\u001b[39;00m ops\u001b[39m.\u001b[39mname_scope(name, \u001b[39m\"\u001b[39m\u001b[39mcond\u001b[39m\u001b[39m\"\u001b[39m, [pred]):\n\u001b[1;32m   1092\u001b[0m   \u001b[39mif\u001b[39;00m pred_constant_value:\n\u001b[0;32m-> 1093\u001b[0m     result \u001b[39m=\u001b[39m true_fn()\n\u001b[1;32m   1094\u001b[0m   \u001b[39melse\u001b[39;00m:\n\u001b[1;32m   1095\u001b[0m     result \u001b[39m=\u001b[39m false_fn()\n",
      "File \u001b[0;32m/mnt/project_mnt/teo_fs/rtorre/cernbox/git/GitHub/NormalizingFlows/NF4HEP/GenerativeModelsMetrics/notebooks/../../GenerativeModelsMetrics/sks_metrics.py:468\u001b[0m, in \u001b[0;36mSKSTest.Test_tf.<locals>.batched_test.<locals>.<lambda>\u001b[0;34m()\u001b[0m\n\u001b[1;32m    463\u001b[0m \u001b[39mdef\u001b[39;00m \u001b[39mbatched_test\u001b[39m(start: tf\u001b[39m.\u001b[39mTensor, \n\u001b[1;32m    464\u001b[0m                  end: tf\u001b[39m.\u001b[39mTensor\n\u001b[1;32m    465\u001b[0m                 ) \u001b[39m-\u001b[39m\u001b[39m>\u001b[39m DataTypeTF:\n\u001b[1;32m    466\u001b[0m     \u001b[39m# Define batched distributions\u001b[39;00m\n\u001b[1;32m    467\u001b[0m     dist_1_k: tf\u001b[39m.\u001b[39mTensor \u001b[39m=\u001b[39m tf\u001b[39m.\u001b[39mcond(tf\u001b[39m.\u001b[39mequal(tf\u001b[39m.\u001b[39mshape(dist_1_num[\u001b[39m0\u001b[39m])[\u001b[39m0\u001b[39m],\u001b[39m0\u001b[39m), \u001b[39m# type: ignore\u001b[39;00m\n\u001b[0;32m--> 468\u001b[0m                                        true_fn \u001b[39m=\u001b[39m \u001b[39mlambda\u001b[39;00m: set_dist_num_from_symb(dist_1_symb, nsamples \u001b[39m=\u001b[39;49m batch_size\u001b[39m*\u001b[39;49m(end\u001b[39m-\u001b[39;49mstart)),\n\u001b[1;32m    469\u001b[0m                                        false_fn \u001b[39m=\u001b[39m \u001b[39mlambda\u001b[39;00m: return_dist_num(dist_1_num[start\u001b[39m*\u001b[39mbatch_size:end\u001b[39m*\u001b[39mbatch_size, :])) \u001b[39m# type: ignore\u001b[39;00m\n\u001b[1;32m    470\u001b[0m     dist_2_k: tf\u001b[39m.\u001b[39mTensor \u001b[39m=\u001b[39m tf\u001b[39m.\u001b[39mcond(tf\u001b[39m.\u001b[39mequal(tf\u001b[39m.\u001b[39mshape(dist_1_num[\u001b[39m0\u001b[39m])[\u001b[39m0\u001b[39m],\u001b[39m0\u001b[39m), \u001b[39m# type: ignore\u001b[39;00m\n\u001b[1;32m    471\u001b[0m                                        true_fn \u001b[39m=\u001b[39m \u001b[39mlambda\u001b[39;00m: set_dist_num_from_symb(dist_2_symb, nsamples \u001b[39m=\u001b[39m batch_size\u001b[39m*\u001b[39m(end\u001b[39m-\u001b[39mstart)),\n\u001b[1;32m    472\u001b[0m                                        false_fn \u001b[39m=\u001b[39m \u001b[39mlambda\u001b[39;00m: return_dist_num(dist_2_num[start\u001b[39m*\u001b[39mbatch_size:end\u001b[39m*\u001b[39mbatch_size, :])) \u001b[39m# type: ignore\u001b[39;00m\n\u001b[1;32m    474\u001b[0m     dist_1_k \u001b[39m=\u001b[39m tf\u001b[39m.\u001b[39mreshape(dist_1_k, (end\u001b[39m-\u001b[39mstart, batch_size, ndims))\n",
      "File \u001b[0;32m/mnt/project_mnt/teo_fs/rtorre/cernbox/git/GitHub/NormalizingFlows/NF4HEP/GenerativeModelsMetrics/notebooks/../../GenerativeModelsMetrics/sks_metrics.py:456\u001b[0m, in \u001b[0;36mSKSTest.Test_tf.<locals>.set_dist_num_from_symb\u001b[0;34m(dist, nsamples)\u001b[0m\n\u001b[1;32m    453\u001b[0m \u001b[39mdef\u001b[39;00m \u001b[39mset_dist_num_from_symb\u001b[39m(dist: DistTypeTF,\n\u001b[1;32m    454\u001b[0m                            nsamples: \u001b[39mint\u001b[39m,\n\u001b[1;32m    455\u001b[0m                           ) \u001b[39m-\u001b[39m\u001b[39m>\u001b[39m tf\u001b[39m.\u001b[39mTensor:\n\u001b[0;32m--> 456\u001b[0m     dist_num: tf\u001b[39m.\u001b[39mTensor \u001b[39m=\u001b[39m generate_and_clean_data(dist, nsamples, \u001b[39mself\u001b[39;49m\u001b[39m.\u001b[39;49mInputs\u001b[39m.\u001b[39;49mbatch_size_gen, dtype \u001b[39m=\u001b[39;49m \u001b[39mself\u001b[39;49m\u001b[39m.\u001b[39;49mInputs\u001b[39m.\u001b[39;49mdtype, seed_generator \u001b[39m=\u001b[39;49m \u001b[39mself\u001b[39;49m\u001b[39m.\u001b[39;49mInputs\u001b[39m.\u001b[39;49mseed_generator, mirror_strategy \u001b[39m=\u001b[39;49m \u001b[39mself\u001b[39;49m\u001b[39m.\u001b[39;49mInputs\u001b[39m.\u001b[39;49mmirror_strategy) \u001b[39m# type: ignore\u001b[39;00m\n\u001b[1;32m    457\u001b[0m     \u001b[39mreturn\u001b[39;00m dist_num\n",
      "File \u001b[0;32m/mnt/project_mnt/teo_fs/rtorre/cernbox/git/GitHub/NormalizingFlows/NF4HEP/GenerativeModelsMetrics/notebooks/../../GenerativeModelsMetrics/utils.py:525\u001b[0m, in \u001b[0;36mgenerate_and_clean_data\u001b[0;34m(dist, n_samples, batch_size, dtype, seed_generator, mirror_strategy)\u001b[0m\n\u001b[1;32m    519\u001b[0m     \u001b[39mreturn\u001b[39;00m generate_and_clean_data_mirror(dist \u001b[39m=\u001b[39m dist, \n\u001b[1;32m    520\u001b[0m                                           n_samples \u001b[39m=\u001b[39m n_samples, \n\u001b[1;32m    521\u001b[0m                                           batch_size \u001b[39m=\u001b[39m batch_size, \n\u001b[1;32m    522\u001b[0m                                           dtype \u001b[39m=\u001b[39m dtype, \n\u001b[1;32m    523\u001b[0m                                           seed_generator \u001b[39m=\u001b[39m seed_generator)\n\u001b[1;32m    524\u001b[0m \u001b[39melse\u001b[39;00m:\n\u001b[0;32m--> 525\u001b[0m     \u001b[39mreturn\u001b[39;00m generate_and_clean_data_simple(dist \u001b[39m=\u001b[39;49m dist, \n\u001b[1;32m    526\u001b[0m                                           n_samples \u001b[39m=\u001b[39;49m n_samples, \n\u001b[1;32m    527\u001b[0m                                           batch_size \u001b[39m=\u001b[39;49m batch_size, \n\u001b[1;32m    528\u001b[0m                                           dtype \u001b[39m=\u001b[39;49m dtype, \n\u001b[1;32m    529\u001b[0m                                           seed_generator \u001b[39m=\u001b[39;49m seed_generator)\n",
      "File \u001b[0;32m/mnt/project_mnt/teo_fs/rtorre/cernbox/git/GitHub/NormalizingFlows/NF4HEP/GenerativeModelsMetrics/notebooks/../../GenerativeModelsMetrics/utils.py:397\u001b[0m, in \u001b[0;36mgenerate_and_clean_data_simple\u001b[0;34m(*args, **kwargs)\u001b[0m\n\u001b[1;32m    396\u001b[0m \u001b[39mdef\u001b[39;00m \u001b[39mgenerate_and_clean_data_simple\u001b[39m(\u001b[39m*\u001b[39margs, \u001b[39m*\u001b[39m\u001b[39m*\u001b[39mkwargs):\n\u001b[0;32m--> 397\u001b[0m     \u001b[39mreturn\u001b[39;00m generate_and_clean_data_simple_1(\u001b[39m*\u001b[39;49margs, \u001b[39m*\u001b[39;49m\u001b[39m*\u001b[39;49mkwargs)\n",
      "File \u001b[0;32m/local_data/scratch/rtorre/anaconda3/envs/tf2_12/lib/python3.10/site-packages/tensorflow/python/util/traceback_utils.py:150\u001b[0m, in \u001b[0;36mfilter_traceback.<locals>.error_handler\u001b[0;34m(*args, **kwargs)\u001b[0m\n\u001b[1;32m    148\u001b[0m filtered_tb \u001b[39m=\u001b[39m \u001b[39mNone\u001b[39;00m\n\u001b[1;32m    149\u001b[0m \u001b[39mtry\u001b[39;00m:\n\u001b[0;32m--> 150\u001b[0m   \u001b[39mreturn\u001b[39;00m fn(\u001b[39m*\u001b[39;49margs, \u001b[39m*\u001b[39;49m\u001b[39m*\u001b[39;49mkwargs)\n\u001b[1;32m    151\u001b[0m \u001b[39mexcept\u001b[39;00m \u001b[39mException\u001b[39;00m \u001b[39mas\u001b[39;00m e:\n\u001b[1;32m    152\u001b[0m   filtered_tb \u001b[39m=\u001b[39m _process_traceback_frames(e\u001b[39m.\u001b[39m__traceback__)\n",
      "File \u001b[0;32m/local_data/scratch/rtorre/anaconda3/envs/tf2_12/lib/python3.10/site-packages/tensorflow/python/eager/polymorphic_function/polymorphic_function.py:894\u001b[0m, in \u001b[0;36mFunction.__call__\u001b[0;34m(self, *args, **kwds)\u001b[0m\n\u001b[1;32m    891\u001b[0m compiler \u001b[39m=\u001b[39m \u001b[39m\"\u001b[39m\u001b[39mxla\u001b[39m\u001b[39m\"\u001b[39m \u001b[39mif\u001b[39;00m \u001b[39mself\u001b[39m\u001b[39m.\u001b[39m_jit_compile \u001b[39melse\u001b[39;00m \u001b[39m\"\u001b[39m\u001b[39mnonXla\u001b[39m\u001b[39m\"\u001b[39m\n\u001b[1;32m    893\u001b[0m \u001b[39mwith\u001b[39;00m OptionalXlaContext(\u001b[39mself\u001b[39m\u001b[39m.\u001b[39m_jit_compile):\n\u001b[0;32m--> 894\u001b[0m   result \u001b[39m=\u001b[39m \u001b[39mself\u001b[39;49m\u001b[39m.\u001b[39;49m_call(\u001b[39m*\u001b[39;49margs, \u001b[39m*\u001b[39;49m\u001b[39m*\u001b[39;49mkwds)\n\u001b[1;32m    896\u001b[0m new_tracing_count \u001b[39m=\u001b[39m \u001b[39mself\u001b[39m\u001b[39m.\u001b[39mexperimental_get_tracing_count()\n\u001b[1;32m    897\u001b[0m without_tracing \u001b[39m=\u001b[39m (tracing_count \u001b[39m==\u001b[39m new_tracing_count)\n",
      "File \u001b[0;32m/local_data/scratch/rtorre/anaconda3/envs/tf2_12/lib/python3.10/site-packages/tensorflow/python/eager/polymorphic_function/polymorphic_function.py:933\u001b[0m, in \u001b[0;36mFunction._call\u001b[0;34m(self, *args, **kwds)\u001b[0m\n\u001b[1;32m    930\u001b[0m \u001b[39mself\u001b[39m\u001b[39m.\u001b[39m_lock\u001b[39m.\u001b[39mrelease()\n\u001b[1;32m    931\u001b[0m \u001b[39m# In this case we have not created variables on the first call. So we can\u001b[39;00m\n\u001b[1;32m    932\u001b[0m \u001b[39m# run the first trace but we should fail if variables are created.\u001b[39;00m\n\u001b[0;32m--> 933\u001b[0m results \u001b[39m=\u001b[39m \u001b[39mself\u001b[39;49m\u001b[39m.\u001b[39;49m_variable_creation_fn(\u001b[39m*\u001b[39;49margs, \u001b[39m*\u001b[39;49m\u001b[39m*\u001b[39;49mkwds)\n\u001b[1;32m    934\u001b[0m \u001b[39mif\u001b[39;00m \u001b[39mself\u001b[39m\u001b[39m.\u001b[39m_created_variables \u001b[39mand\u001b[39;00m \u001b[39mnot\u001b[39;00m ALLOW_DYNAMIC_VARIABLE_CREATION:\n\u001b[1;32m    935\u001b[0m   \u001b[39mraise\u001b[39;00m \u001b[39mValueError\u001b[39;00m(\u001b[39m\"\u001b[39m\u001b[39mCreating variables on a non-first call to a function\u001b[39m\u001b[39m\"\u001b[39m\n\u001b[1;32m    936\u001b[0m                    \u001b[39m\"\u001b[39m\u001b[39m decorated with tf.function.\u001b[39m\u001b[39m\"\u001b[39m)\n",
      "File \u001b[0;32m/local_data/scratch/rtorre/anaconda3/envs/tf2_12/lib/python3.10/site-packages/tensorflow/python/eager/polymorphic_function/tracing_compiler.py:143\u001b[0m, in \u001b[0;36mTracingCompiler.__call__\u001b[0;34m(self, *args, **kwargs)\u001b[0m\n\u001b[1;32m    140\u001b[0m \u001b[39mwith\u001b[39;00m \u001b[39mself\u001b[39m\u001b[39m.\u001b[39m_lock:\n\u001b[1;32m    141\u001b[0m   (concrete_function,\n\u001b[1;32m    142\u001b[0m    filtered_flat_args) \u001b[39m=\u001b[39m \u001b[39mself\u001b[39m\u001b[39m.\u001b[39m_maybe_define_function(args, kwargs)\n\u001b[0;32m--> 143\u001b[0m \u001b[39mreturn\u001b[39;00m concrete_function\u001b[39m.\u001b[39;49m_call_flat(\n\u001b[1;32m    144\u001b[0m     filtered_flat_args, captured_inputs\u001b[39m=\u001b[39;49mconcrete_function\u001b[39m.\u001b[39;49mcaptured_inputs)\n",
      "File \u001b[0;32m/local_data/scratch/rtorre/anaconda3/envs/tf2_12/lib/python3.10/site-packages/tensorflow/python/eager/polymorphic_function/monomorphic_function.py:1757\u001b[0m, in \u001b[0;36mConcreteFunction._call_flat\u001b[0;34m(self, args, captured_inputs, cancellation_manager)\u001b[0m\n\u001b[1;32m   1753\u001b[0m possible_gradient_type \u001b[39m=\u001b[39m gradients_util\u001b[39m.\u001b[39mPossibleTapeGradientTypes(args)\n\u001b[1;32m   1754\u001b[0m \u001b[39mif\u001b[39;00m (possible_gradient_type \u001b[39m==\u001b[39m gradients_util\u001b[39m.\u001b[39mPOSSIBLE_GRADIENT_TYPES_NONE\n\u001b[1;32m   1755\u001b[0m     \u001b[39mand\u001b[39;00m executing_eagerly):\n\u001b[1;32m   1756\u001b[0m   \u001b[39m# No tape is watching; skip to running the function.\u001b[39;00m\n\u001b[0;32m-> 1757\u001b[0m   \u001b[39mreturn\u001b[39;00m \u001b[39mself\u001b[39m\u001b[39m.\u001b[39m_build_call_outputs(\u001b[39mself\u001b[39;49m\u001b[39m.\u001b[39;49m_inference_function\u001b[39m.\u001b[39;49mcall(\n\u001b[1;32m   1758\u001b[0m       ctx, args, cancellation_manager\u001b[39m=\u001b[39;49mcancellation_manager))\n\u001b[1;32m   1759\u001b[0m forward_backward \u001b[39m=\u001b[39m \u001b[39mself\u001b[39m\u001b[39m.\u001b[39m_select_forward_and_backward_functions(\n\u001b[1;32m   1760\u001b[0m     args,\n\u001b[1;32m   1761\u001b[0m     possible_gradient_type,\n\u001b[1;32m   1762\u001b[0m     executing_eagerly)\n\u001b[1;32m   1763\u001b[0m forward_function, args_with_tangents \u001b[39m=\u001b[39m forward_backward\u001b[39m.\u001b[39mforward()\n",
      "File \u001b[0;32m/local_data/scratch/rtorre/anaconda3/envs/tf2_12/lib/python3.10/site-packages/tensorflow/python/eager/polymorphic_function/monomorphic_function.py:381\u001b[0m, in \u001b[0;36m_EagerDefinedFunction.call\u001b[0;34m(self, ctx, args, cancellation_manager)\u001b[0m\n\u001b[1;32m    379\u001b[0m \u001b[39mwith\u001b[39;00m _InterpolateFunctionError(\u001b[39mself\u001b[39m):\n\u001b[1;32m    380\u001b[0m   \u001b[39mif\u001b[39;00m cancellation_manager \u001b[39mis\u001b[39;00m \u001b[39mNone\u001b[39;00m:\n\u001b[0;32m--> 381\u001b[0m     outputs \u001b[39m=\u001b[39m execute\u001b[39m.\u001b[39;49mexecute(\n\u001b[1;32m    382\u001b[0m         \u001b[39mstr\u001b[39;49m(\u001b[39mself\u001b[39;49m\u001b[39m.\u001b[39;49msignature\u001b[39m.\u001b[39;49mname),\n\u001b[1;32m    383\u001b[0m         num_outputs\u001b[39m=\u001b[39;49m\u001b[39mself\u001b[39;49m\u001b[39m.\u001b[39;49m_num_outputs,\n\u001b[1;32m    384\u001b[0m         inputs\u001b[39m=\u001b[39;49margs,\n\u001b[1;32m    385\u001b[0m         attrs\u001b[39m=\u001b[39;49mattrs,\n\u001b[1;32m    386\u001b[0m         ctx\u001b[39m=\u001b[39;49mctx)\n\u001b[1;32m    387\u001b[0m   \u001b[39melse\u001b[39;00m:\n\u001b[1;32m    388\u001b[0m     outputs \u001b[39m=\u001b[39m execute\u001b[39m.\u001b[39mexecute_with_cancellation(\n\u001b[1;32m    389\u001b[0m         \u001b[39mstr\u001b[39m(\u001b[39mself\u001b[39m\u001b[39m.\u001b[39msignature\u001b[39m.\u001b[39mname),\n\u001b[1;32m    390\u001b[0m         num_outputs\u001b[39m=\u001b[39m\u001b[39mself\u001b[39m\u001b[39m.\u001b[39m_num_outputs,\n\u001b[0;32m   (...)\u001b[0m\n\u001b[1;32m    393\u001b[0m         ctx\u001b[39m=\u001b[39mctx,\n\u001b[1;32m    394\u001b[0m         cancellation_manager\u001b[39m=\u001b[39mcancellation_manager)\n",
      "File \u001b[0;32m/local_data/scratch/rtorre/anaconda3/envs/tf2_12/lib/python3.10/site-packages/tensorflow/python/eager/execute.py:52\u001b[0m, in \u001b[0;36mquick_execute\u001b[0;34m(op_name, num_outputs, inputs, attrs, ctx, name)\u001b[0m\n\u001b[1;32m     50\u001b[0m \u001b[39mtry\u001b[39;00m:\n\u001b[1;32m     51\u001b[0m   ctx\u001b[39m.\u001b[39mensure_initialized()\n\u001b[0;32m---> 52\u001b[0m   tensors \u001b[39m=\u001b[39m pywrap_tfe\u001b[39m.\u001b[39;49mTFE_Py_Execute(ctx\u001b[39m.\u001b[39;49m_handle, device_name, op_name,\n\u001b[1;32m     53\u001b[0m                                       inputs, attrs, num_outputs)\n\u001b[1;32m     54\u001b[0m \u001b[39mexcept\u001b[39;00m core\u001b[39m.\u001b[39m_NotOkStatusException \u001b[39mas\u001b[39;00m e:\n\u001b[1;32m     55\u001b[0m   \u001b[39mif\u001b[39;00m name \u001b[39mis\u001b[39;00m \u001b[39mnot\u001b[39;00m \u001b[39mNone\u001b[39;00m:\n",
      "\u001b[0;31mKeyboardInterrupt\u001b[0m: "
     ]
    }
   ],
   "source": [
    "#tf.config.run_functions_eagerly(True)#\n",
    "SKSTest.Test_tf(max_vectorize=100)\n",
    "SKSTest.Results[-1].result_value"
   ]
  },
  {
   "cell_type": "markdown",
   "metadata": {},
   "source": [
    "### SWD Test"
   ]
  },
  {
   "cell_type": "code",
   "execution_count": null,
   "metadata": {},
   "outputs": [
    {
     "name": "stdout",
     "output_type": "stream",
     "text": [
      "\n",
      "------------------------------------------\n",
      "Starting SWD metric calculation...\n",
      "Running TF SWD calculation...\n",
      "niter = 100\n",
      "batch_size = 10000\n",
      "The dist_1_num tensor is empty. Batches will be generated 'on-the-fly' from dist_1_symb.\n",
      "The dist_2_num tensor is empty. Batches will be generated 'on-the-fly' from dist_2_symb.\n",
      "WARNING:tensorflow:Using a while_loop for converting TopKV2\n",
      "WARNING:tensorflow:Using a while_loop for converting TopKV2\n",
      "WARNING:tensorflow:Using a while_loop for converting StridedSlice\n",
      "WARNING:tensorflow:Using a while_loop for converting StridedSlice\n",
      "WARNING:tensorflow:Using a while_loop for converting TopKV2\n",
      "WARNING:tensorflow:Using a while_loop for converting TopKV2\n",
      "SWD metric calculation completed in 12.050446098670363 seconds.\n"
     ]
    },
    {
     "data": {
      "text/plain": [
       "{'metric_lists': array([[0.03162819, 0.01378654, 0.04088677, ..., 0.01345777, 0.0194596 ,\n",
       "         0.0216528 ],\n",
       "        [0.02483566, 0.00997102, 0.01615505, ..., 0.01193278, 0.01140177,\n",
       "         0.02853671],\n",
       "        [0.0173473 , 0.01196029, 0.00882089, ..., 0.00979251, 0.01519314,\n",
       "         0.01147516],\n",
       "        ...,\n",
       "        [0.01455991, 0.01299323, 0.01789068, ..., 0.01131896, 0.01421481,\n",
       "         0.02169172],\n",
       "        [0.00881808, 0.01586686, 0.01922807, ..., 0.01472376, 0.01762778,\n",
       "         0.01080257],\n",
       "        [0.01468322, 0.01230006, 0.01595806, ..., 0.01449617, 0.01777882,\n",
       "         0.02153003]]),\n",
       " 'metric_means': array([0.02305994, 0.01961933, 0.01494935, 0.0165957 , 0.01540153,\n",
       "        0.01630492, 0.01844658, 0.01457396, 0.01850644, 0.01928812,\n",
       "        0.01594006, 0.02060427, 0.02165779, 0.02243471, 0.01922148,\n",
       "        0.01927906, 0.01618883, 0.01797778, 0.01694674, 0.0133173 ,\n",
       "        0.01801064, 0.01667891, 0.01798509, 0.0216246 , 0.02078888,\n",
       "        0.01405203, 0.01992054, 0.01662078, 0.01706411, 0.01834784,\n",
       "        0.01787186, 0.01713515, 0.01617851, 0.022734  , 0.01846098,\n",
       "        0.02060091, 0.02292708, 0.02137609, 0.01580107, 0.01877998,\n",
       "        0.01524537, 0.01592309, 0.01579601, 0.0179929 , 0.0190593 ,\n",
       "        0.01808305, 0.02180968, 0.01582173, 0.01747413, 0.01600491,\n",
       "        0.01527698, 0.01781573, 0.01531454, 0.01882719, 0.01529326,\n",
       "        0.01640276, 0.02038875, 0.01561676, 0.01835168, 0.01602812,\n",
       "        0.02200146, 0.02383601, 0.01496166, 0.02142702, 0.01872058,\n",
       "        0.02054384, 0.01930544, 0.01477692, 0.0232915 , 0.0154562 ,\n",
       "        0.01909682, 0.01755304, 0.01872927, 0.02209511, 0.01903126,\n",
       "        0.01909357, 0.02249596, 0.017382  , 0.01855387, 0.01534199,\n",
       "        0.0185278 , 0.02072178, 0.01756247, 0.01888993, 0.01980069,\n",
       "        0.01826574, 0.01646102, 0.01743316, 0.01683188, 0.01610309,\n",
       "        0.01753039, 0.01764176, 0.01803107, 0.01630083, 0.02395228,\n",
       "        0.02660848, 0.01754645, 0.01531494, 0.01459603, 0.01500124]),\n",
       " 'metric_stds': array([0.00883338, 0.00651494, 0.00330143, 0.00505904, 0.00335219,\n",
       "        0.00400665, 0.00673885, 0.00339337, 0.00612398, 0.00719886,\n",
       "        0.00374815, 0.00801547, 0.00667756, 0.00799177, 0.00720865,\n",
       "        0.00621151, 0.00340841, 0.00423982, 0.00473269, 0.00289166,\n",
       "        0.00449361, 0.00357011, 0.00566842, 0.00792682, 0.00714902,\n",
       "        0.00297284, 0.00785918, 0.00467091, 0.00531607, 0.00473898,\n",
       "        0.00543425, 0.00430902, 0.00418635, 0.00744358, 0.00606241,\n",
       "        0.0067457 , 0.00760325, 0.00607196, 0.00438699, 0.00634352,\n",
       "        0.00344495, 0.00381064, 0.00524605, 0.00580289, 0.00548152,\n",
       "        0.00482477, 0.00772715, 0.00335109, 0.00389947, 0.00375201,\n",
       "        0.00403687, 0.00568161, 0.00303375, 0.0055329 , 0.00343703,\n",
       "        0.00402932, 0.00697293, 0.00368026, 0.00669149, 0.00469194,\n",
       "        0.00712013, 0.01061291, 0.00358996, 0.00804891, 0.00619058,\n",
       "        0.00735256, 0.0053046 , 0.0035603 , 0.00758654, 0.00395875,\n",
       "        0.00597394, 0.00552955, 0.0056484 , 0.00806465, 0.00536068,\n",
       "        0.0058394 , 0.00901163, 0.00454858, 0.00518957, 0.00339376,\n",
       "        0.00496316, 0.00641745, 0.00657528, 0.00569698, 0.006477  ,\n",
       "        0.0056518 , 0.00381265, 0.0049435 , 0.00489872, 0.0039631 ,\n",
       "        0.00521876, 0.00491585, 0.00438973, 0.00500422, 0.00958763,\n",
       "        0.01226347, 0.00572972, 0.00349081, 0.00351004, 0.00343092])}"
      ]
     },
     "metadata": {},
     "output_type": "display_data"
    }
   ],
   "source": [
    "SWDMetric.Test_tf(max_vectorize=1000)\n",
    "SWDMetric.Results[-1].result_value"
   ]
  },
  {
   "cell_type": "code",
   "execution_count": null,
   "metadata": {},
   "outputs": [],
   "source": []
  },
  {
   "cell_type": "markdown",
   "metadata": {},
   "source": [
    "# Backup"
   ]
  },
  {
   "cell_type": "code",
   "execution_count": null,
   "metadata": {},
   "outputs": [],
   "source": [
    "seed = 0\n",
    "for ncomp in [3]:\n",
    "    for nsamples in [1000, 10_000, 100000]:\n",
    "        for ndims in [4, 8, 16, 32, 64]:\n",
    "            start = timer()\n",
    "            result_dict = {}\n",
    "            seed = seed + 1\n",
    "            result_dict['ncomp'] = ncomp\n",
    "            result_dict['ndims'] = ndims\n",
    "            result_dict['seed'] = seed\n",
    "            result_dict['nsamples'] = nsamples\n",
    "            dist = MixtureGaussian(ncomp,ndims,seed)\n",
    "            niter = 10000\n",
    "            ns = nsamples**2 /(2*nsamples)\n",
    "            result_dict['niter'] = niter\n",
    "            result_dict['ns'] = ns\n",
    "            sks_means_10, sks_stds_10, sks_dists_10 = [], [], []\n",
    "            sks_means_100, sks_stds_100, sks_dists_100 = [], [], []\n",
    "            sks_means_300, sks_stds_300, sks_dists_300 = [], [], []\n",
    "            sks_means_1000, sks_stds_1000, sks_dists_1000 = [], [], []\n",
    "            data_mean_cov = []\n",
    "            s = dist.sample(2*nsamples)\n",
    "            s1, s2 = s[:nsamples], s[nsamples:]\n",
    "            _, _, _, sliced_data1_cov_10, _ = sks_2samp_tf(s1,s2, nslices = 10, cov = True) # type: ignore\n",
    "            _, _, _, sliced_data1_cov_100, _ = sks_2samp_tf(s1,s2, nslices = 100, cov = True) # type: ignore\n",
    "            _, _, _, sliced_data1_cov_300, _ = sks_2samp_tf(s1,s2, nslices = 300, cov = True) # type: ignore\n",
    "            _, _, _, sliced_data1_cov_1000, _ = sks_2samp_tf(s1,s2, nslices = 1000, cov = True) # type: ignore\n",
    "            for i in tqdm(range(niter)):\n",
    "                s = dist.sample(2*nsamples)\n",
    "                s1, s2 = s[:nsamples], s[nsamples:]\n",
    "                sks_mean_1000, sks_std_1000, sks_proj_1000, _, _ = sks_2samp_tf(s1,s2, nslices = 1000, cov = False) # type: ignore\n",
    "                sks_proj_10 = sks_proj_1000[:10]; sks_mean_10 = tf.reduce_mean(sks_proj_10); sks_std_10 = tf.math.reduce_std(sks_proj_10)\n",
    "                sks_proj_100 = sks_proj_1000[:100]; sks_mean_100 = tf.reduce_mean(sks_proj_100); sks_std_100 = tf.math.reduce_std(sks_proj_100)\n",
    "                sks_proj_300 = sks_proj_1000[:300]; sks_mean_300 = tf.reduce_mean(sks_proj_300); sks_std_300 = tf.math.reduce_std(sks_proj_300)\n",
    "                sks_means_10.append(sks_mean_10); sks_stds_10.append(sks_std_10); sks_dists_10.append(sks_proj_10)\n",
    "                sks_means_100.append(sks_mean_100); sks_stds_100.append(sks_std_100); sks_dists_100.append(sks_proj_100)\n",
    "                sks_means_300.append(sks_mean_300); sks_stds_300.append(sks_std_300); sks_dists_300.append(sks_proj_300)\n",
    "                sks_means_1000.append(sks_mean_1000); sks_stds_1000.append(sks_std_1000); sks_dists_1000.append(sks_proj_1000)\n",
    "            data_mean_cov = tf.sqrt(tf.reduce_mean(tfp.stats.covariance(s1, sample_axis=0, event_axis=-1))).numpy()\n",
    "            sliced_data_mean_cov_10 = tf.sqrt(tf.reduce_mean(sliced_data1_cov_10)).numpy()\n",
    "            sliced_data_mean_cov_100 = tf.sqrt(tf.reduce_mean(sliced_data1_cov_100)).numpy()\n",
    "            sliced_data_mean_cov_300 = tf.sqrt(tf.reduce_mean(sliced_data1_cov_300)).numpy()\n",
    "            sliced_data_mean_cov_1000 = tf.sqrt(tf.reduce_mean(sliced_data1_cov_1000)).numpy()\n",
    "            sks_means_10 = tf.stack(sks_means_10).numpy(); sks_stds_10 = tf.stack(sks_stds_10).numpy(); sks_dists_10 = tf.stack(sks_dists_10).numpy()\n",
    "            sks_means_100 = tf.stack(sks_means_100).numpy(); sks_stds_100 = tf.stack(sks_stds_100).numpy(); sks_dists_100 = tf.stack(sks_dists_100).numpy()\n",
    "            sks_means_300 = tf.stack(sks_means_300).numpy(); sks_stds_300 = tf.stack(sks_stds_300).numpy(); sks_dists_300 = tf.stack(sks_dists_300).numpy()\n",
    "            sks_means_1000 = tf.stack(sks_means_1000).numpy(); sks_stds_1000 = tf.stack(sks_stds_1000).numpy(); sks_dists_1000 = tf.stack(sks_dists_1000).numpy()\n",
    "            result_dict['10'] = {'sliced_data_mean_cov': sliced_data_mean_cov_10, 'sks_means': sks_means_10, 'sks_stds': sks_stds_10, 'mu': tf.math.reduce_mean(sks_means_10*np.sqrt(ns)).numpy(), 'sigma': tf.math.reduce_std(sks_means_10*np.sqrt(ns)).numpy()}\n",
    "            result_dict['100'] = {'sliced_data_mean_cov': sliced_data_mean_cov_100, 'sks_means': sks_means_100, 'sks_stds': sks_stds_100, 'mu': tf.math.reduce_mean(sks_means_100*np.sqrt(ns)).numpy(), 'sigma': tf.math.reduce_std(sks_means_100*np.sqrt(ns)).numpy()}\n",
    "            result_dict['300'] = {'sliced_data_mean_cov': sliced_data_mean_cov_300, 'sks_means': sks_means_300, 'sks_stds': sks_stds_300, 'mu': tf.math.reduce_mean(sks_means_300*np.sqrt(ns)).numpy(), 'sigma': tf.math.reduce_std(sks_means_300*np.sqrt(ns)).numpy()}\n",
    "            result_dict['1000'] = {'sliced_data_mean_cov': sliced_data_mean_cov_1000, 'sks_means': sks_means_1000, 'sks_stds': sks_stds_1000, 'mu': tf.math.reduce_mean(sks_means_1000*np.sqrt(ns)).numpy(), 'sigma': tf.math.reduce_std(sks_means_1000*np.sqrt(ns)).numpy()}\n",
    "            \n",
    "            dict_to_save = Utils.convert_types_dict(result_dict)\n",
    "            with codecs.open(results_path+'SKS_nsamples_'+str(nsamples)+'_ndims_'+'_'+str(ndims)+'_niter_'+str(niter)+'.json', \"w\", encoding=\"utf-8\") as f:\n",
    "                json.dump(dict_to_save, f, separators=(\",\", \":\"), indent=4)\n",
    "    \n",
    "            print(\"================== ncomp =\", ncomp, \"ndims =\", ndims, \"==================\")\n",
    "            print(f\"The square root of the mean covariance of the data is {data_mean_cov}\")\n",
    "            print(f\"The square root of the mean covariance of the sliced data (10 slices) is {tf.sqrt(tf.reduce_mean(sliced_data1_cov_10))}\")\n",
    "            print(f\"The square root of the mean covariance of the sliced data (100 slices) is {tf.sqrt(tf.reduce_mean(sliced_data1_cov_100))}\")\n",
    "            print(f\"The square root of the mean covariance of the sliced data (300 slices) is {tf.sqrt(tf.reduce_mean(sliced_data1_cov_300))}\")\n",
    "            print(f\"The square root of the mean covariance of the sliced data (1000 slices) is {tf.sqrt(tf.reduce_mean(sliced_data1_cov_1000))}\")\n",
    "            print(f\"The estimated mean and variance (10 slices) of the (scaled) SKS statistic are {tf.math.reduce_mean(sks_means_10*np.sqrt(ns))} and {tf.math.reduce_std(sks_means_10*np.sqrt(ns))}\")\n",
    "            print(f\"The estimated mean and variance (100 slices) of the (scaled) SKS statistic are {tf.math.reduce_mean(sks_means_100*np.sqrt(ns))} and {tf.math.reduce_std(sks_means_100*np.sqrt(ns))}\")\n",
    "            print(f\"The estimated mean and variance (300 slices) of the (scaled) SKS statistic are {tf.math.reduce_mean(sks_means_300*np.sqrt(ns))} and {tf.math.reduce_std(sks_means_300*np.sqrt(ns))}\")\n",
    "            print(f\"The estimated mean and variance (1000 slices) of the (scaled) SKS statistic are {tf.math.reduce_mean(sks_means_1000*np.sqrt(ns))} and {tf.math.reduce_std(sks_means_1000*np.sqrt(ns))}\")\n",
    "            print(f\"The ratio of the estimated variance (10 slices) of the (scaled) SKS statistic to the square root of the mean covariance of the sliced data is {tf.math.reduce_std(sks_means_10*np.sqrt(ns))/sliced_data_mean_cov_10}\")\n",
    "            print(f\"The ratio of the estimated variance (100 slices) of the (scaled) SKS statistic to the square root of the mean covariance of the sliced data is {tf.math.reduce_std(sks_means_100*np.sqrt(ns))/sliced_data_mean_cov_100}\")\n",
    "            print(f\"The ratio of the estimated variance (300 slices) of the (scaled) SKS statistic to the square root of the mean covariance of the sliced data is {tf.math.reduce_std(sks_means_300*np.sqrt(ns))/sliced_data_mean_cov_300}\")\n",
    "            print(f\"The ratio of the estimated variance (1000 slices) of the (scaled) SKS statistic to the square root of the mean covariance of the sliced data is {tf.math.reduce_std(sks_means_1000*np.sqrt(ns))/sliced_data_mean_cov_1000}\")\n",
    "\n",
    "            scale = 'log'\n",
    "            num_bins = 50  # number of bins|\n",
    "\n",
    "            d0 = sks_dists_100[:,0]*np.sqrt(ns)\n",
    "            d10 = np.mean(sks_dists_10,axis=1)*np.sqrt(ns)\n",
    "            d100 = np.mean(sks_dists_100,axis=1)*np.sqrt(ns)\n",
    "            d300 = np.mean(sks_dists_300,axis=1)*np.sqrt(ns)\n",
    "            d1000 = np.mean(sks_dists_1000,axis=1)*np.sqrt(ns)\n",
    "\n",
    "            # Compute the mean and standard deviation of the sample and their standard errors\n",
    "            mu0, deltamu0, sigma0, deltasigma0 = (np.mean(d0), se_mean(d0), np.std(d0), se_std(d0))\n",
    "            mu10, deltamu10, sigma10, deltasigma10 = (np.mean(d10), se_mean(d10), np.std(d10), se_std(d10))\n",
    "            mu100, deltamu100, sigma100, deltasigma100 = (np.mean(d100), se_mean(d100), np.std(d100), se_std(d100))\n",
    "            mu300, deltamu300, sigma300, deltasigma300 = (np.mean(d300), se_mean(d300), np.std(d300), se_std(d300))\n",
    "            mu1000, deltamu1000, sigma1000, deltasigma1000 = (np.mean(d1000), se_mean(d1000), np.std(d1000), se_std(d1000))\n",
    "\n",
    "            # Minimum and maximum x values\n",
    "            min_x = min(d0) # lower limit of the binning\n",
    "            max_x = max(d0) # upper limit of the binning\n",
    "\n",
    "            # Create an array of values\n",
    "            x = np.linspace(min_x, max_x, num_bins + 1)\n",
    "\n",
    "            # Create histogram for values and normalize counts to sum to 1\n",
    "            counts0, bin_edges0 = np.histogram(d0, bins=x, density=True); cum_counts0 = np.cumsum(counts0)/np.sum(counts0)\n",
    "            counts10, bin_edges10 = np.histogram(d10, bins=x, density=True); cum_counts10 = np.cumsum(counts10)/np.sum(counts10)\n",
    "            counts100, bin_edges100 = np.histogram(d100, bins=x, density=True); cum_counts100 = np.cumsum(counts100)/np.sum(counts100)\n",
    "            counts300, bin_edges300 = np.histogram(d300, bins=x, density=True); cum_counts300 = np.cumsum(counts300)/np.sum(counts300)\n",
    "            counts1000, bin_edges1000 = np.histogram(d1000, bins=x, density=True); cum_counts1000 = np.cumsum(counts1000)/np.sum(counts1000)\n",
    "\n",
    "            # Get the bin centers\n",
    "            bin_centers0 = (bin_edges0[:-1] + bin_edges0[1:]) / 2\n",
    "            bin_centers10 = (bin_edges10[:-1] + bin_edges10[1:]) / 2\n",
    "            bin_centers100 = (bin_edges100[:-1] + bin_edges100[1:]) / 2\n",
    "            bin_centers300 = (bin_edges300[:-1] + bin_edges300[1:]) / 2\n",
    "            bin_centers1000 = (bin_edges1000[:-1] + bin_edges1000[1:]) / 2\n",
    "\n",
    "            # Calculate the theoretical PDF and CDF of the KS distribution for each x value\n",
    "            theoretical_pdf_ks = kstwobign.pdf(x)\n",
    "            theoretical_cdf_ks = kstwobign.cdf(x)\n",
    "\n",
    "            ## Fit SKS to normal\n",
    "            #def normal_pdf(x, mu, sigma):\n",
    "            #    return norm.pdf(x, loc=mu, scale=sigma)\n",
    "            #params_norm, cov_norm = curve_fit(normal_pdf, bin_centers2, counts2, p0=[mu2, sigma2])\n",
    "            #loc_fit_norm, sigma_fit_norm = params_norm\n",
    "            #\n",
    "            ## Calculate the theoretical PDF and CDF of the Normal distribution for each x value\n",
    "            #empirical_pdf_norm_1 = norm.pdf(x, loc=loc_fit_norm, scale=sigma_fit_norm)\n",
    "            #empirical_cdf_norm_1 = norm.cdf(x, loc=loc_fit_norm, scale=sigma_fit_norm)\n",
    "            #\n",
    "            ## Fit SKS to log-normal\n",
    "            #def lognormal_pdf(x, scale, s):\n",
    "            #    return lognorm.pdf(x, scale=scale, s=s)\n",
    "            #params, cov = curve_fit(lognormal_pdf, bin_centers2, counts2, p0=[mu2, sigma2])\n",
    "            #scale_fit_lognorm, s_fit_lognorm = params\n",
    "            #\n",
    "            #empirical_pdf_lognorm_1 = lognorm.pdf(x, scale=scale_fit_lognorm, s=s_fit_lognorm)\n",
    "            #empirical_cdf_lognorm_1 = lognorm.cdf(x, scale=scale_fit_lognorm, s=s_fit_lognorm)\n",
    "            \n",
    "            # Empirical SKS Normal\n",
    "            empirical_pdf_norm = norm.pdf(x, loc=kstwobign.mean(), scale=0.155)\n",
    "            empirical_cdf_norm = norm.cdf(x, loc=kstwobign.mean(), scale=0.155)\n",
    "\n",
    "            # Set up the figure and the two subplots\n",
    "            fig, ax = plt.subplots(1, 3, figsize=(25, 6))\n",
    "\n",
    "            # Draw the first plot\n",
    "            ax[0].plot(bin_centers0, counts0, linestyle = '-', label='Expected KS', drawstyle='steps-mid')\n",
    "            ax[0].plot(bin_centers10, counts10, linestyle = '-', label='SKS (10 slices)', drawstyle='steps-mid')\n",
    "            ax[0].plot(bin_centers100, counts100, linestyle = '-', label='SKS (100 slices)', drawstyle='steps-mid')\n",
    "            ax[0].plot(bin_centers300, counts300, linestyle = '-', label='SKS (300 slices)', drawstyle='steps-mid')\n",
    "            ax[0].plot(bin_centers1000, counts1000, linestyle = '-', label='SKS (1000 slices)', drawstyle='steps-mid')\n",
    "            ax[0].plot(x, theoretical_pdf_ks, label='Theoretical distribution (KS)')\n",
    "            ax[0].plot(x, empirical_pdf_norm, label='SKS - Normal approximation $\\\\mu =$'+str(kstwobign.mean())+', $\\\\sigma =$'+str(0.155))\n",
    "            #ax[0].plot(x, empirical_pdf_lognorm_1, label='SKS - Log-Normal fit with scale='+str(round(scale_fit_lognorm,3))+', s='+str(round(s_fit_lognorm,3)))\n",
    "            ax[0].set_yscale(scale)\n",
    "            ax[0].set_xlim(0.25, 2)\n",
    "            ax[0].set_ylim(1e-1, 10)\n",
    "            ax[0].set_xlabel('KS vs SKS')\n",
    "            ax[0].set_ylabel('Number of pseudo-experiments')\n",
    "            ax[0].set_title('CMoG - ncop = '+str(ncomp)+' - ndims = '+str(ndims)+' - PDF with '+str(int(nsamples/1000))+'K test samples - '+str(int(niter/1000))+'K toys - 100 slices')\n",
    "            ax[0].legend(loc='upper right')\n",
    "\n",
    "            # Draw the second plot\n",
    "            ax[1].plot(bin_centers0, cum_counts0, linestyle = '-', label='Expected KS', drawstyle='steps-mid')\n",
    "            ax[1].plot(bin_centers10, cum_counts10, linestyle = '-', label='SKS (10 slices)', drawstyle='steps-mid')\n",
    "            ax[1].plot(bin_centers100, cum_counts100, linestyle = '-', label='SKS (100 slices)', drawstyle='steps-mid')\n",
    "            ax[1].plot(bin_centers300, cum_counts300, linestyle = '-', label='SKS (300 slices)', drawstyle='steps-mid')\n",
    "            ax[1].plot(bin_centers1000, cum_counts1000, linestyle = '-', label='SKS (1000 slices)', drawstyle='steps-mid')\n",
    "            ax[1].plot(x, theoretical_cdf_ks, label='Theoretical distribution (KS)')\n",
    "            ax[1].plot(x, empirical_cdf_norm, label='SKS - Normal approximation $\\\\mu =$'+str(kstwobign.mean())+', $\\\\sigma =$'+str(0.155))\n",
    "            ax[1].set_yscale(scale)\n",
    "            ax[1].set_xlim(0.25, 2)\n",
    "            ax[1].set_ylim(9e-4, 1.5)\n",
    "            ax[1].set_xlabel('KS vs SKS')\n",
    "            ax[1].set_title('CMoG - ncop = '+str(ncomp)+' - ndims = '+str(ndims)+' - CDF with '+str(int(nsamples/1000))+'K test samples - '+str(int(niter/1000))+'K toys - 100 slices')\n",
    "            ax[1].legend(loc='lower right')\n",
    "\n",
    "            # Draw the third plot\n",
    "            ax[2].plot(bin_centers0, cum_counts0, linestyle = '-', label='Expected KS', drawstyle='steps-mid')\n",
    "            ax[2].plot(bin_centers10, cum_counts10, linestyle = '-', label='SKS (10 slices)', drawstyle='steps-mid')\n",
    "            ax[2].plot(bin_centers100, cum_counts100, linestyle = '-', label='SKS (100 slices)', drawstyle='steps-mid')\n",
    "            ax[2].plot(bin_centers300, cum_counts300, linestyle = '-', label='SKS (300 slices)', drawstyle='steps-mid')\n",
    "            ax[2].plot(x, theoretical_cdf_ks, label='Theoretical distribution (KS)')\n",
    "            ax[2].plot(x, empirical_cdf_norm, label='SKS - Normal approximation $\\\\mu =$'+str(kstwobign.mean())+', $\\\\sigma =$'+str(0.155))\n",
    "            #ax[2].plot(x, empirical_cdf_lognorm_1, label='SKS - SKS - Log-Normal fit with scale='+str(round(scale_fit_lognorm,3))+', s='+str(round(s_fit_lognorm,3)))\n",
    "            ax[2].set_yscale(scale)\n",
    "            ax[2].set_xlim(0.25, 2)\n",
    "            ax[2].set_ylim(0.8, 1)\n",
    "            ax[2].set_xlabel('KS vs SKS')\n",
    "            ax[2].set_title('CMoG - ncop = '+str(ncomp)+' - ndims = '+str(ndims)+' - CDF with '+str(int(nsamples/1000))+'K test samples - '+str(int(niter/1000))+'K toys - 100 slices')\n",
    "            ax[2].legend(loc='lower right')\n",
    "\n",
    "            # Adjust the width space\n",
    "            plt.subplots_adjust(wspace=0.1)  # Adjust this value to your liking\n",
    "\n",
    "            # Display the figure with the two subplots\n",
    "            plt.tight_layout()\n",
    "            plt.savefig(results_path+'SKS_nsamples_'+str(nsamples)+'_ndims_'+'_'+str(ndims)+'_niter_'+str(niter)+'.pdf')\n",
    "            plt.show()\n",
    "            plt.close()\n",
    "            end = timer()\n",
    "            print(\"Time elapsed:\", end-start, \"seconds.\")"
   ]
  }
 ],
 "metadata": {
  "kernelspec": {
   "display_name": "tf2_12",
   "language": "python",
   "name": "python3"
  },
  "language_info": {
   "codemirror_mode": {
    "name": "ipython",
    "version": 3
   },
   "file_extension": ".py",
   "mimetype": "text/x-python",
   "name": "python",
   "nbconvert_exporter": "python",
   "pygments_lexer": "ipython3",
   "version": "3.10.11"
  },
  "orig_nbformat": 4
 },
 "nbformat": 4,
 "nbformat_minor": 2
}
